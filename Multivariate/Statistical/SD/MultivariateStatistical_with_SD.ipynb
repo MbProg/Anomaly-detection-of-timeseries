{
  "nbformat": 4,
  "nbformat_minor": 0,
  "metadata": {
    "colab": {
      "name": "MultivariateStatistical with SD.ipynb",
      "provenance": [],
      "collapsed_sections": [],
      "toc_visible": true
    },
    "kernelspec": {
      "name": "python3",
      "display_name": "Python 3"
    },
    "accelerator": "GPU"
  },
  "cells": [
    {
      "cell_type": "code",
      "metadata": {
        "id": "FfUOygbXYaAu",
        "colab_type": "code",
        "colab": {}
      },
      "source": [
        ""
      ],
      "execution_count": 0,
      "outputs": []
    },
    {
      "cell_type": "code",
      "metadata": {
        "id": "LHx3obt3YhLw",
        "colab_type": "code",
        "outputId": "fd806f5c-6c2b-445a-982d-3c90bd266ab1",
        "colab": {
          "base_uri": "https://localhost:8080/",
          "height": 122
        }
      },
      "source": [
        "from google.colab import drive\n",
        "drive.mount('/content/drive')"
      ],
      "execution_count": 0,
      "outputs": [
        {
          "output_type": "stream",
          "text": [
            "Go to this URL in a browser: https://accounts.google.com/o/oauth2/auth?client_id=947318989803-6bn6qk8qdgf4n4g3pfee6491hc0brc4i.apps.googleusercontent.com&redirect_uri=urn%3aietf%3awg%3aoauth%3a2.0%3aoob&response_type=code&scope=email%20https%3a%2f%2fwww.googleapis.com%2fauth%2fdocs.test%20https%3a%2f%2fwww.googleapis.com%2fauth%2fdrive%20https%3a%2f%2fwww.googleapis.com%2fauth%2fdrive.photos.readonly%20https%3a%2f%2fwww.googleapis.com%2fauth%2fpeopleapi.readonly\n",
            "\n",
            "Enter your authorization code:\n",
            "··········\n",
            "Mounted at /content/drive\n"
          ],
          "name": "stdout"
        }
      ]
    },
    {
      "cell_type": "code",
      "metadata": {
        "id": "Z2d9zfJoWqSt",
        "colab_type": "code",
        "colab": {}
      },
      "source": [
        ""
      ],
      "execution_count": 0,
      "outputs": []
    },
    {
      "cell_type": "markdown",
      "metadata": {
        "id": "BqQpclhYWrTS",
        "colab_type": "text"
      },
      "source": [
        "# Generate Synthetic data\n"
      ]
    },
    {
      "cell_type": "code",
      "metadata": {
        "id": "AqnbTk_-ZMgV",
        "colab_type": "code",
        "outputId": "4912d064-dc08-4df5-b352-4a0dacc383a9",
        "colab": {
          "base_uri": "https://localhost:8080/",
          "height": 419
        }
      },
      "source": [
        "import pandas as pd\n",
        "import numpy as np\n",
        "import statsmodels.api as sm\n",
        "from statsmodels.tsa.arima_process import arma_generate_sample\n",
        "n = int(3000)\n",
        "# alpha1 = 0.666, alpha2 = -.333\n",
        "alphas = np.array([.1])\n",
        "betas = np.array([0.])\n",
        "\n",
        "# Python requires us to specify the zero-lag value which is 1\n",
        "# Also note that the alphas for the AR model must be negated\n",
        "# We also set the betas for the MA equal to 0 for an AR(p) model\n",
        "# For more information see the examples at statsmodels.org\n",
        "ar = np.r_[1, -alphas]\n",
        "ma = np.r_[1, betas]\n",
        "# # AR(2)\n",
        "# ar2 = arma_generate_sample(ar=ar, ma=ma, nsample=n) \n",
        "# plt.figure(figsize=(20,5))\n",
        "# plt.plot( ar2)\n",
        "\n",
        "T_1 =  arma_generate_sample(ar=ar, ma=ma, nsample=n).reshape(-1,1)\n",
        "T_2 = arma_generate_sample(ar=ar, ma=ma, nsample=n).reshape(-1,1)\n",
        "T_3 = arma_generate_sample(ar=ar, ma=ma, nsample=n).reshape(-1,1)\n",
        "T_4 = arma_generate_sample(ar=ar, ma=ma, nsample=n).reshape(-1,1)\n",
        "T_5 = arma_generate_sample(ar=ar, ma=ma, nsample=n).reshape(-1,1)\n",
        "M =[[1 , 0 , 0 , 0 , 1],\n",
        "[0 , 1 , 0 , 0 , 1],\n",
        "[0 , 0 , 1 , 0 , 1],\n",
        "[0 , 0 , 0 , 1 , 1],\n",
        "[1 , -1 , 0 , 0 , 1]]\n",
        "delta = np.zeros((n,1))\n",
        "delta_anomal = np.zeros((n,1))\n",
        "delta_anomal[300:320]   = np.ones((20,1))\n",
        "delta_anomal[600:610]   = np.full((10,1),-0.7)\n",
        "delta_anomal[1300:1320] = np.full((20,1),2)\n",
        "delta_anomal[2100:2150] = np.full((50,1),-1.5)\n",
        "\n",
        "# delta_anomal[41:50] = np.ones((9,1))\n",
        "N = np.concatenate((T_1,T_2,T_3,T_4,delta), axis=1)\n",
        "N_anomal =  np.concatenate((T_1,T_2,T_3,T_4,delta_anomal), axis=1)\n",
        "B = N@M\n",
        "B_anomal = N_anomal@M\n",
        "\n",
        "T_1 = B[:,0]\n",
        "T_2 = B[:,1]\n",
        "T_3 = B[:,2]\n",
        "T_4 = B[:,3]\n",
        "T_5 = B[:,4]\n",
        "\n",
        "\n",
        "T_1_anomal = B_anomal[:,0]\n",
        "T_2_anomal = B_anomal[:,1]\n",
        "T_3_anomal = B_anomal[:,2]\n",
        "T_4_anomal = B_anomal[:,3]\n",
        "T_5_anomal = B_anomal[:,4]\n",
        "\n",
        "MD_T = np.concatenate((T_1.reshape((-1,1)),T_2.reshape((-1,1)),T_3.reshape((-1,1)),T_4.reshape((-1,1)),T_5.reshape((-1,1))),axis=1)\n",
        "MD_T_anomaly = np.concatenate((T_1_anomal.reshape((-1,1)),T_2_anomal.reshape((-1,1)),T_3_anomal.reshape((-1,1)),T_4_anomal.reshape((-1,1)),T_5_anomal.reshape((-1,1))),axis=1)\n",
        "MD_T.shape,MD_T_anomaly.shape\n",
        "\n",
        "labels = np.zeros((n,1))\n",
        "labels[300:320]     = 1\n",
        "labels[600:610]     = 1\n",
        "labels[1300:1320]   = 1\n",
        "labels[2100:2150]   = 1\n",
        "df_synthetic = pd.DataFrame(np.concatenate((MD_T_anomaly,labels), axis = 1))\n",
        "df_synthetic.columns =  np.r_[np.array(['V'+str(i) for i in range(1,6)]),['is_anomaly']]\n",
        "df_synthetic"
      ],
      "execution_count": 0,
      "outputs": [
        {
          "output_type": "execute_result",
          "data": {
            "text/html": [
              "<div>\n",
              "<style scoped>\n",
              "    .dataframe tbody tr th:only-of-type {\n",
              "        vertical-align: middle;\n",
              "    }\n",
              "\n",
              "    .dataframe tbody tr th {\n",
              "        vertical-align: top;\n",
              "    }\n",
              "\n",
              "    .dataframe thead th {\n",
              "        text-align: right;\n",
              "    }\n",
              "</style>\n",
              "<table border=\"1\" class=\"dataframe\">\n",
              "  <thead>\n",
              "    <tr style=\"text-align: right;\">\n",
              "      <th></th>\n",
              "      <th>V1</th>\n",
              "      <th>V2</th>\n",
              "      <th>V3</th>\n",
              "      <th>V4</th>\n",
              "      <th>V5</th>\n",
              "      <th>is_anomaly</th>\n",
              "    </tr>\n",
              "  </thead>\n",
              "  <tbody>\n",
              "    <tr>\n",
              "      <th>0</th>\n",
              "      <td>0.496714</td>\n",
              "      <td>-1.907808</td>\n",
              "      <td>-1.114081</td>\n",
              "      <td>0.765402</td>\n",
              "      <td>-1.759773</td>\n",
              "      <td>0.0</td>\n",
              "    </tr>\n",
              "    <tr>\n",
              "      <th>1</th>\n",
              "      <td>-0.088593</td>\n",
              "      <td>-1.051166</td>\n",
              "      <td>-0.742339</td>\n",
              "      <td>1.149953</td>\n",
              "      <td>-0.732145</td>\n",
              "      <td>0.0</td>\n",
              "    </tr>\n",
              "    <tr>\n",
              "      <th>2</th>\n",
              "      <td>0.638829</td>\n",
              "      <td>-0.518722</td>\n",
              "      <td>-1.016294</td>\n",
              "      <td>0.613685</td>\n",
              "      <td>-0.282502</td>\n",
              "      <td>0.0</td>\n",
              "    </tr>\n",
              "    <tr>\n",
              "      <th>3</th>\n",
              "      <td>1.586913</td>\n",
              "      <td>1.835815</td>\n",
              "      <td>-0.649625</td>\n",
              "      <td>-1.881129</td>\n",
              "      <td>0.891974</td>\n",
              "      <td>0.0</td>\n",
              "    </tr>\n",
              "    <tr>\n",
              "      <th>4</th>\n",
              "      <td>-0.075462</td>\n",
              "      <td>0.740135</td>\n",
              "      <td>-0.279113</td>\n",
              "      <td>-0.343535</td>\n",
              "      <td>0.042024</td>\n",
              "      <td>0.0</td>\n",
              "    </tr>\n",
              "    <tr>\n",
              "      <th>...</th>\n",
              "      <td>...</td>\n",
              "      <td>...</td>\n",
              "      <td>...</td>\n",
              "      <td>...</td>\n",
              "      <td>...</td>\n",
              "      <td>...</td>\n",
              "    </tr>\n",
              "    <tr>\n",
              "      <th>2995</th>\n",
              "      <td>-0.019684</td>\n",
              "      <td>0.262047</td>\n",
              "      <td>0.081516</td>\n",
              "      <td>-1.146083</td>\n",
              "      <td>-0.822204</td>\n",
              "      <td>0.0</td>\n",
              "    </tr>\n",
              "    <tr>\n",
              "      <th>2996</th>\n",
              "      <td>0.255784</td>\n",
              "      <td>1.178853</td>\n",
              "      <td>1.175369</td>\n",
              "      <td>-0.187431</td>\n",
              "      <td>2.422576</td>\n",
              "      <td>0.0</td>\n",
              "    </tr>\n",
              "    <tr>\n",
              "      <th>2997</th>\n",
              "      <td>-1.216182</td>\n",
              "      <td>-1.099519</td>\n",
              "      <td>1.705984</td>\n",
              "      <td>0.819271</td>\n",
              "      <td>0.209554</td>\n",
              "      <td>0.0</td>\n",
              "    </tr>\n",
              "    <tr>\n",
              "      <th>2998</th>\n",
              "      <td>0.212558</td>\n",
              "      <td>0.357999</td>\n",
              "      <td>-0.514389</td>\n",
              "      <td>-0.018769</td>\n",
              "      <td>0.037399</td>\n",
              "      <td>0.0</td>\n",
              "    </tr>\n",
              "    <tr>\n",
              "      <th>2999</th>\n",
              "      <td>-0.134003</td>\n",
              "      <td>-1.134481</td>\n",
              "      <td>0.749743</td>\n",
              "      <td>-0.948191</td>\n",
              "      <td>-1.466932</td>\n",
              "      <td>0.0</td>\n",
              "    </tr>\n",
              "  </tbody>\n",
              "</table>\n",
              "<p>3000 rows × 6 columns</p>\n",
              "</div>"
            ],
            "text/plain": [
              "            V1        V2        V3        V4        V5  is_anomaly\n",
              "0     0.496714 -1.907808 -1.114081  0.765402 -1.759773         0.0\n",
              "1    -0.088593 -1.051166 -0.742339  1.149953 -0.732145         0.0\n",
              "2     0.638829 -0.518722 -1.016294  0.613685 -0.282502         0.0\n",
              "3     1.586913  1.835815 -0.649625 -1.881129  0.891974         0.0\n",
              "4    -0.075462  0.740135 -0.279113 -0.343535  0.042024         0.0\n",
              "...        ...       ...       ...       ...       ...         ...\n",
              "2995 -0.019684  0.262047  0.081516 -1.146083 -0.822204         0.0\n",
              "2996  0.255784  1.178853  1.175369 -0.187431  2.422576         0.0\n",
              "2997 -1.216182 -1.099519  1.705984  0.819271  0.209554         0.0\n",
              "2998  0.212558  0.357999 -0.514389 -0.018769  0.037399         0.0\n",
              "2999 -0.134003 -1.134481  0.749743 -0.948191 -1.466932         0.0\n",
              "\n",
              "[3000 rows x 6 columns]"
            ]
          },
          "metadata": {
            "tags": []
          },
          "execution_count": 7
        }
      ]
    },
    {
      "cell_type": "markdown",
      "metadata": {
        "id": "DhjBchyZRR-a",
        "colab_type": "text"
      },
      "source": [
        "# Multivariate ML"
      ]
    },
    {
      "cell_type": "markdown",
      "metadata": {
        "id": "hIv5FTn5RhX0",
        "colab_type": "text"
      },
      "source": [
        "## OCSVM"
      ]
    },
    {
      "cell_type": "code",
      "metadata": {
        "id": "Qddjgvm7RUXP",
        "colab_type": "code",
        "colab": {}
      },
      "source": [
        "import warnings\n",
        "from sklearn.cluster import KMeans\n",
        "from statsmodels.tsa.ar_model import AR\n",
        "from sklearn.metrics import mean_squared_error\n",
        "from math import sqrt\n",
        "from pandas import read_csv\n",
        "import pandas as pd\n",
        "from pandas import DataFrame\n",
        "from pandas import concat\n",
        "import numpy as np \n",
        "from matplotlib import pyplot\n",
        "from sklearn.svm import OneClassSVM\n",
        "from sklearn import preprocessing\n",
        "import sys\n",
        "\n",
        "class OneClassSVM_AnomalyDetection_MV:\n",
        "\n",
        "    @classmethod\n",
        "    def from_DataFrame(cls,dataframe,window_width, dimension, nu, train_rate) -> 'OneClassSVM_AnomalyDetection_MV':\n",
        "    \treturn cls(dataframe, dimension, window_width, nu, train_rate)\n",
        "\n",
        "    @classmethod\n",
        "    def from_file(cls, path, index_col, window_width, dimension, nu, train_rate) -> 'OneClassSVM_AnomalyDetection_MV':\n",
        "    \tdf = read_csv(path, header=0, index_col=index_col, parse_dates=True,squeeze=True)\n",
        "    \treturn cls(df, dimension, window_width, nu, train_rate)\n",
        "     \n",
        "    def __init__(self,dataframe, dimension, window_width, nu, train_rate):\n",
        "        self.nu = nu\n",
        "        self.df = dataframe\n",
        "        self.window_width = window_width\n",
        "        self.dimension = dimension\n",
        "        self.window_width = window_width\n",
        "\t\t\n",
        "        self.df = self.df.reset_index(drop=True)\n",
        "        self.df.rename(columns={'Target':'is_anomaly'}, inplace=True)\n",
        "        self.df.loc[self.df.is_anomaly == \"'Anomaly'\", 'is_anomaly'] = 1\n",
        "        self.df.loc[self.df.is_anomaly == \"'Normal'\", 'is_anomaly'] = 0\n",
        "\n",
        "        self.X_origin = self.df.iloc[:,:dimension].values\n",
        "        self.Y_origin = self.df.iloc[:,-1].values\n",
        "\n",
        "        df_sensors = pd.DataFrame(self.df.iloc[:,:dimension].values)  \n",
        "        self.values = df_sensors\n",
        "        self.dataframe = concat([self.df.iloc[:,:-1].shift(1), self.df.iloc[:,:-1], self.df.iloc[:,-1]], axis=1)\n",
        "        self.dataframe.columns = np.r_[np.array(['V'+str(i)+'_t' for i in range(1,self.dimension+1)]),np.array(['V'+str(i)+'_t+1' for i in range(1,self.dimension+1)]),['is_anomaly']]\n",
        "\n",
        "        self.train_size = int(len(self.values) * train_rate)\n",
        "\n",
        "    def create_XY_lookback_dataset(self,dataset, look_back=1):\n",
        "        dataX, dataY = [], []\n",
        "        for i in range(len(dataset)-look_back-1):\n",
        "            a = dataset[i:(i+look_back),:self.dimension]\n",
        "            dataX.append(a)\n",
        "            dataY.append(dataset[i + look_back,:self.dimension].reshape(-1))\n",
        "        return np.array(dataX), np.array(dataY)\n",
        "\n",
        "    def build_sets(self):\n",
        "\n",
        "        X = self.dataframe.iloc[:,:-1].values\n",
        "        self.train, self.test = X[1:self.train_size], X[self.train_size:]    \n",
        "        # print('Train.len:',len(self.train),' - Test.len:', len(self.test))\n",
        "\n",
        "        self.train_X, self.train_y = self.create_XY_lookback_dataset(self.train, self.window_width)\n",
        "        self.test_X, self.test_y = self.create_XY_lookback_dataset(self.test, self.window_width)\n",
        "        # print('TrainX.shape:',self.train_X.shape,' - TestX.shape:', self.test_X.shape,' - TrainY.shape:', self.train_y.shape,' - TestY.shape:', self.test_y.shape)\n",
        "\n",
        "        self.validationsize = int(self.train_X.shape[0] * 0.1)\n",
        "        self.val, self.test = self.test[:self.validationsize], self.test[self.validationsize:]\n",
        "        self.val_X, self.val_y= self.test_X[:self.validationsize], self.test_y[:self.validationsize]\n",
        "        self.test_X, self.test_y = self.test_X[self.validationsize:], self.test_y[self.validationsize:]\n",
        "        \n",
        "    def __build_sets(self):\n",
        "\t\n",
        "        X = self.dataframe.iloc[:,:-1].values\n",
        "        self.train, self.test = X[1:self.train_size], X[self.train_size:]    \n",
        "        # print('Train.len:',len(self.train),' - Test.len:', len(self.test))\n",
        "\n",
        "        self.train_X, self.train_y = self.create_XY_lookback_dataset(self.train, self.window_width)\n",
        "        self.test_X, self.test_y = self.create_XY_lookback_dataset(self.test, self.window_width)\n",
        "        # print('TrainX.shape:',self.train_X.shape,' - TestX.shape:', self.test_X.shape,' - TrainY.shape:', self.train_y.shape,' - TestY.shape:', self.test_y.shape)\n",
        "\n",
        "    def standardize_dataframe(self):\n",
        "        X = self.dataframe.values[:,:-1]\n",
        "        self.scalar = preprocessing.StandardScaler().fit(X)\n",
        "        X = self.scalar.transform(X)\n",
        "        self.dataframe = pd.DataFrame(np.concatenate((X,self.dataframe.values[:,-1].reshape(-1,1)),axis=1))\n",
        "        self.dataframe.columns = np.r_[np.array(['V'+str(i)+'_t' for i in range(1,self.dimension+1)]),np.array(['V'+str(i)+'_t+1' for i in range(1,self.dimension+1)]),['is_anomaly']]\n",
        "\n",
        "    def inverse_standardize_dataframe(self):\n",
        "        X = self.dataframe.values[:,:-1]\n",
        "        X = self.scalar.inverse_transform(X)\n",
        "        self.dataframe = pd.DataFrame(np.concatenate((X,self.dataframe.values[:,-1].reshape(-1,1)),axis=1))\n",
        "        self.dataframe.columns = np.r_[np.array(['V'+str(i)+'_t' for i in range(1,self.dimension+1)]),np.array(['V'+str(i)+'_t+1' for i in range(1,self.dimension+1)]),['is_anomaly']]\n",
        "\n",
        "    def model_persistence(self, x):\n",
        "        return x\n",
        "        \n",
        "    def create_persistence(self):\n",
        "        rmse = sqrt(mean_squared_error(self.dataframe['t'].iloc[self.train_size:], self.dataframe['t+1'].iloc[self.train_size::]))\n",
        "#         print('Persistent Model RMSE: %.3f' % rmse)   \n",
        "\n",
        "    def fit(self):\n",
        "        # self.create_persistence()\n",
        "        self.standardize_dataframe()\n",
        "        self.__build_sets()\n",
        "                \n",
        "        self.compute_anomalyScores()\n",
        "        self.inverse_standardize_dataframe()\n",
        "\n",
        "    def compute_anomalyScores(self):\n",
        "        self.errors = np.zeros_like(self.test[:,0])\n",
        "        # compute anomalies\n",
        "        warnings.filterwarnings(\"ignore\")\n",
        "\n",
        "        for i,_ in enumerate(self.test[:-self.window_width+1]):\n",
        "            sys.stdout.write('\\r'+str(i)+':'+str(len(self.test) - self.window_width))\n",
        "\n",
        "            window = self.test[i:i+self.window_width]\n",
        "            clf=OneClassSVM(nu=self.nu)\n",
        "            clf.fit(window)\n",
        "            error = clf.decision_function(window) \n",
        "            error[error>0] = 0\n",
        "            self.errors[i:i+self.window_width] += error*-10\n",
        "\n",
        "\n",
        "        # normalize anomaly score\n",
        "        self.errors[:-self.window_width+1] /= self.window_width\n",
        "        for i,error in enumerate(self.test[-self.window_width+1:]):\n",
        "            self.errors[-self.window_width + 1 + i] /=self.window_width-(i+1)\n",
        "\n",
        "        # self.errors_original = self.errors\n",
        "        # scalar = preprocessing.MinMaxScaler((0,1)).fit(self.errors.reshape(-1,1))\n",
        "        # self.errors = scalar.transform(self.errors.reshape(-1,1))*10\n",
        "\n",
        "\n",
        "    def plot(self):\n",
        "        fig, axes = plt.subplots(nrows=3, ncols=3, dpi=120, figsize=(50,5))\n",
        "        for i, ax in enumerate(axes.flatten()):\n",
        "            data = self.df[self.df.columns[i]].iloc[:200]\n",
        "            ax.plot(self.test_y[:,i], color='green',  linewidth=0.5,label='True Values')\n",
        "            ax.plot(self.predictions[:,i], color='blue',  linewidth=0.5,label='Predictions')\n",
        "            ax.plot(self.errors[:,i], color = 'red',  linewidth=0.5, label='Errors')\n",
        "            ax.legend()\n",
        "            \n",
        "        plt.show()\n",
        "\n",
        "    def get_roc_auc(self, plot=True, verbose=True):\n",
        "        # get the predicted errors of the anomaly points\n",
        "        indices = self.df[self.df['is_anomaly']==1].index >self.train_size\n",
        "        true_anomaly_predicted_errors = self.errors[self.df[self.df['is_anomaly']==1].index[indices] - self.train_size ]\n",
        "        if len(true_anomaly_predicted_errors) == 0:\n",
        "            return np.nan\n",
        "        # sort them \n",
        "        true_anomaly_predicted_errors = np.sort(true_anomaly_predicted_errors,axis=0).reshape(-1)\n",
        "        true_anomaly_predicted_errors_extended = np.r_[np.linspace(0,true_anomaly_predicted_errors[0],40)[:-1],true_anomaly_predicted_errors]\n",
        "        true_anomaly_predicted_errors_extended = np.r_[true_anomaly_predicted_errors_extended, true_anomaly_predicted_errors_extended[-1] + np.mean(true_anomaly_predicted_errors_extended)]\n",
        "                # now iterate thru the predicted errors from small to big\n",
        "        # for each value look how much other points have equal or bigger error\n",
        "        FPR = [] # fp/n  https://en.wikipedia.org/wiki/Sensitivity_and_specificity\n",
        "        TPR = [] # tp/p\n",
        "        p = len(true_anomaly_predicted_errors)\n",
        "        Thresholds = []\n",
        "        for predictederror in true_anomaly_predicted_errors_extended:\n",
        "            threshold = predictederror\n",
        "            tp = len(true_anomaly_predicted_errors[true_anomaly_predicted_errors>= threshold])\n",
        "            fp = len(self.errors[self.errors>=threshold])-len(true_anomaly_predicted_errors[true_anomaly_predicted_errors>=threshold])\n",
        "            \n",
        "            fpr =fp/len(self.errors)\n",
        "            FPR.append(fpr)\n",
        "            TPR.append(tp/p)\n",
        "            if verbose:\n",
        "                print(\"Threshold: {0:25}  - FP: {1:4} - TP: {2:4} - FPR: {3:21} - TPR: {4:4}\".format(threshold,fp, tp, fpr, tp/p))\n",
        "\n",
        "        import matplotlib.pyplot as plt\n",
        "        if plot:\n",
        "            plt.figure()\n",
        "            plt.axis([0, 1, 0, 1])\n",
        "            plt.plot(FPR,TPR)\n",
        "            plt.show() \n",
        "\n",
        "        # This is the AUC\n",
        "        from sklearn.metrics import auc\n",
        "        print('AUC: ' ,auc(FPR,TPR)        )\n",
        "        return auc(FPR,TPR)\n",
        "\n",
        "\n",
        "\n",
        "# iforest = OneClassSVM_AnomalyDetection.from_file('drive/My Drive/MT/Experiments/Multivariate/NASA_Shuttle/40903.csv',None,30,3,0.7,0.3)\n",
        "# iforest.fit()\n",
        "# auc = iforest.get_roc_auc(verbose=False,plot=True)\n"
      ],
      "execution_count": 0,
      "outputs": []
    },
    {
      "cell_type": "markdown",
      "metadata": {
        "id": "vcz_n6k0vVLB",
        "colab_type": "text"
      },
      "source": [
        "### Evaluation"
      ]
    },
    {
      "cell_type": "code",
      "metadata": {
        "id": "XSTTs3Y4vQua",
        "colab_type": "code",
        "outputId": "42d378ff-7d47-498f-a933-f6b009434786",
        "colab": {
          "base_uri": "https://localhost:8080/",
          "height": 374
        }
      },
      "source": [
        "# dataframe,window_width, dimension, nu, train_rate\n",
        "\n",
        "import datetime\n",
        "startTime = datetime.datetime.now()\n",
        "import glob\n",
        "ocsvm = OneClassSVM_AnomalyDetection_MV.from_DataFrame(df_synthetic,350,5,0.9,0.3)\n",
        "ocsvm.fit()\n",
        "auc = ocsvm.get_roc_auc(verbose=False,plot=True)\n",
        "\n",
        "endTime = datetime.datetime.now()\n",
        "diff = endTime - startTime\n",
        "print('Time: ',diff.seconds)"
      ],
      "execution_count": 0,
      "outputs": [
        {
          "output_type": "stream",
          "text": [
            "/usr/local/lib/python3.6/dist-packages/pandas/core/ops/__init__.py:1115: FutureWarning: elementwise comparison failed; returning scalar instead, but in the future will perform elementwise comparison\n",
            "  result = method(y)\n"
          ],
          "name": "stderr"
        },
        {
          "output_type": "stream",
          "text": [
            "1750:1750"
          ],
          "name": "stdout"
        },
        {
          "output_type": "display_data",
          "data": {
            "image/png": "[encoded data removed]",
            "text/plain": [
              "<Figure size 432x288 with 1 Axes>"
            ]
          },
          "metadata": {
            "tags": []
          }
        },
        {
          "output_type": "stream",
          "text": [
            "AUC:  0.8233639455782313\n",
            "Time:  15\n"
          ],
          "name": "stdout"
        }
      ]
    },
    {
      "cell_type": "code",
      "metadata": {
        "id": "JoDTjcXuzPY0",
        "colab_type": "code",
        "outputId": "db10f3dd-5671-4c73-91f0-1b9c60263b0c",
        "colab": {
          "base_uri": "https://localhost:8080/",
          "height": 442
        }
      },
      "source": [
        "# dataframe,window_width, dimension, nu, train_rate\n",
        "\n",
        "import datetime\n",
        "startTime = datetime.datetime.now()\n",
        "import glob\n",
        "ocsvm = OneClassSVM_AnomalyDetection_MV.from_file('drive/My Drive/MT/Experiments/Multivariate/NASA_Shuttle/40903.csv',None,350,3,0.9,0.3)\n",
        "ocsvm.fit()\n",
        "auc = ocsvm.get_roc_auc(verbose=False,plot=True)\n",
        "\n",
        "endTime = datetime.datetime.now()\n",
        "diff = endTime - startTime\n",
        "print('Time: ',diff.seconds)"
      ],
      "execution_count": 0,
      "outputs": [
        {
          "output_type": "error",
          "ename": "FileNotFoundError",
          "evalue": "ignored",
          "traceback": [
            "\u001b[0;31m---------------------------------------------------------------------------\u001b[0m",
            "\u001b[0;31mFileNotFoundError\u001b[0m                         Traceback (most recent call last)",
            "\u001b[0;32m<ipython-input-4-a603b5e8dc7f>\u001b[0m in \u001b[0;36m<module>\u001b[0;34m()\u001b[0m\n\u001b[1;32m      3\u001b[0m \u001b[0mstartTime\u001b[0m \u001b[0;34m=\u001b[0m \u001b[0mdatetime\u001b[0m\u001b[0;34m.\u001b[0m\u001b[0mdatetime\u001b[0m\u001b[0;34m.\u001b[0m\u001b[0mnow\u001b[0m\u001b[0;34m(\u001b[0m\u001b[0;34m)\u001b[0m\u001b[0;34m\u001b[0m\u001b[0;34m\u001b[0m\u001b[0m\n\u001b[1;32m      4\u001b[0m \u001b[0;32mimport\u001b[0m \u001b[0mglob\u001b[0m\u001b[0;34m\u001b[0m\u001b[0;34m\u001b[0m\u001b[0m\n\u001b[0;32m----> 5\u001b[0;31m \u001b[0mocsvm\u001b[0m \u001b[0;34m=\u001b[0m \u001b[0mOneClassSVM_AnomalyDetection_MV\u001b[0m\u001b[0;34m.\u001b[0m\u001b[0mfrom_file\u001b[0m\u001b[0;34m(\u001b[0m\u001b[0;34m'drive/My Drive/MT/Experiments/Multivariate/NASA_Shuttle/40903.csv'\u001b[0m\u001b[0;34m,\u001b[0m\u001b[0;32mNone\u001b[0m\u001b[0;34m,\u001b[0m\u001b[0;36m350\u001b[0m\u001b[0;34m,\u001b[0m\u001b[0;36m3\u001b[0m\u001b[0;34m,\u001b[0m\u001b[0;36m0.9\u001b[0m\u001b[0;34m,\u001b[0m\u001b[0;36m0.3\u001b[0m\u001b[0;34m)\u001b[0m\u001b[0;34m\u001b[0m\u001b[0;34m\u001b[0m\u001b[0m\n\u001b[0m\u001b[1;32m      6\u001b[0m \u001b[0mocsvm\u001b[0m\u001b[0;34m.\u001b[0m\u001b[0mfit\u001b[0m\u001b[0;34m(\u001b[0m\u001b[0;34m)\u001b[0m\u001b[0;34m\u001b[0m\u001b[0;34m\u001b[0m\u001b[0m\n\u001b[1;32m      7\u001b[0m \u001b[0mauc\u001b[0m \u001b[0;34m=\u001b[0m \u001b[0mocsvm\u001b[0m\u001b[0;34m.\u001b[0m\u001b[0mget_roc_auc\u001b[0m\u001b[0;34m(\u001b[0m\u001b[0mverbose\u001b[0m\u001b[0;34m=\u001b[0m\u001b[0;32mFalse\u001b[0m\u001b[0;34m,\u001b[0m\u001b[0mplot\u001b[0m\u001b[0;34m=\u001b[0m\u001b[0;32mTrue\u001b[0m\u001b[0;34m)\u001b[0m\u001b[0;34m\u001b[0m\u001b[0;34m\u001b[0m\u001b[0m\n",
            "\u001b[0;32m<ipython-input-2-043c676cb5da>\u001b[0m in \u001b[0;36mfrom_file\u001b[0;34m(cls, path, index_col, window_width, dimension, nu, train_rate)\u001b[0m\n\u001b[1;32m     22\u001b[0m     \u001b[0;34m@\u001b[0m\u001b[0mclassmethod\u001b[0m\u001b[0;34m\u001b[0m\u001b[0;34m\u001b[0m\u001b[0m\n\u001b[1;32m     23\u001b[0m     \u001b[0;32mdef\u001b[0m \u001b[0mfrom_file\u001b[0m\u001b[0;34m(\u001b[0m\u001b[0mcls\u001b[0m\u001b[0;34m,\u001b[0m \u001b[0mpath\u001b[0m\u001b[0;34m,\u001b[0m \u001b[0mindex_col\u001b[0m\u001b[0;34m,\u001b[0m \u001b[0mwindow_width\u001b[0m\u001b[0;34m,\u001b[0m \u001b[0mdimension\u001b[0m\u001b[0;34m,\u001b[0m \u001b[0mnu\u001b[0m\u001b[0;34m,\u001b[0m \u001b[0mtrain_rate\u001b[0m\u001b[0;34m)\u001b[0m \u001b[0;34m->\u001b[0m \u001b[0;34m'OneClassSVM_AnomalyDetection_MV'\u001b[0m\u001b[0;34m:\u001b[0m\u001b[0;34m\u001b[0m\u001b[0;34m\u001b[0m\u001b[0m\n\u001b[0;32m---> 24\u001b[0;31m         \u001b[0mdf\u001b[0m \u001b[0;34m=\u001b[0m \u001b[0mread_csv\u001b[0m\u001b[0;34m(\u001b[0m\u001b[0mpath\u001b[0m\u001b[0;34m,\u001b[0m \u001b[0mheader\u001b[0m\u001b[0;34m=\u001b[0m\u001b[0;36m0\u001b[0m\u001b[0;34m,\u001b[0m \u001b[0mindex_col\u001b[0m\u001b[0;34m=\u001b[0m\u001b[0mindex_col\u001b[0m\u001b[0;34m,\u001b[0m \u001b[0mparse_dates\u001b[0m\u001b[0;34m=\u001b[0m\u001b[0;32mTrue\u001b[0m\u001b[0;34m,\u001b[0m\u001b[0msqueeze\u001b[0m\u001b[0;34m=\u001b[0m\u001b[0;32mTrue\u001b[0m\u001b[0;34m)\u001b[0m\u001b[0;34m\u001b[0m\u001b[0;34m\u001b[0m\u001b[0m\n\u001b[0m\u001b[1;32m     25\u001b[0m         \u001b[0;32mreturn\u001b[0m \u001b[0mcls\u001b[0m\u001b[0;34m(\u001b[0m\u001b[0mdf\u001b[0m\u001b[0;34m,\u001b[0m \u001b[0mdimension\u001b[0m\u001b[0;34m,\u001b[0m \u001b[0mwindow_width\u001b[0m\u001b[0;34m,\u001b[0m \u001b[0mnu\u001b[0m\u001b[0;34m,\u001b[0m \u001b[0mtrain_rate\u001b[0m\u001b[0;34m)\u001b[0m\u001b[0;34m\u001b[0m\u001b[0;34m\u001b[0m\u001b[0m\n\u001b[1;32m     26\u001b[0m \u001b[0;34m\u001b[0m\u001b[0m\n",
            "\u001b[0;32m/usr/local/lib/python3.6/dist-packages/pandas/io/parsers.py\u001b[0m in \u001b[0;36mparser_f\u001b[0;34m(filepath_or_buffer, sep, delimiter, header, names, index_col, usecols, squeeze, prefix, mangle_dupe_cols, dtype, engine, converters, true_values, false_values, skipinitialspace, skiprows, skipfooter, nrows, na_values, keep_default_na, na_filter, verbose, skip_blank_lines, parse_dates, infer_datetime_format, keep_date_col, date_parser, dayfirst, cache_dates, iterator, chunksize, compression, thousands, decimal, lineterminator, quotechar, quoting, doublequote, escapechar, comment, encoding, dialect, error_bad_lines, warn_bad_lines, delim_whitespace, low_memory, memory_map, float_precision)\u001b[0m\n\u001b[1;32m    683\u001b[0m         )\n\u001b[1;32m    684\u001b[0m \u001b[0;34m\u001b[0m\u001b[0m\n\u001b[0;32m--> 685\u001b[0;31m         \u001b[0;32mreturn\u001b[0m \u001b[0m_read\u001b[0m\u001b[0;34m(\u001b[0m\u001b[0mfilepath_or_buffer\u001b[0m\u001b[0;34m,\u001b[0m \u001b[0mkwds\u001b[0m\u001b[0;34m)\u001b[0m\u001b[0;34m\u001b[0m\u001b[0;34m\u001b[0m\u001b[0m\n\u001b[0m\u001b[1;32m    686\u001b[0m \u001b[0;34m\u001b[0m\u001b[0m\n\u001b[1;32m    687\u001b[0m     \u001b[0mparser_f\u001b[0m\u001b[0;34m.\u001b[0m\u001b[0m__name__\u001b[0m \u001b[0;34m=\u001b[0m \u001b[0mname\u001b[0m\u001b[0;34m\u001b[0m\u001b[0;34m\u001b[0m\u001b[0m\n",
            "\u001b[0;32m/usr/local/lib/python3.6/dist-packages/pandas/io/parsers.py\u001b[0m in \u001b[0;36m_read\u001b[0;34m(filepath_or_buffer, kwds)\u001b[0m\n\u001b[1;32m    455\u001b[0m \u001b[0;34m\u001b[0m\u001b[0m\n\u001b[1;32m    456\u001b[0m     \u001b[0;31m# Create the parser.\u001b[0m\u001b[0;34m\u001b[0m\u001b[0;34m\u001b[0m\u001b[0;34m\u001b[0m\u001b[0m\n\u001b[0;32m--> 457\u001b[0;31m     \u001b[0mparser\u001b[0m \u001b[0;34m=\u001b[0m \u001b[0mTextFileReader\u001b[0m\u001b[0;34m(\u001b[0m\u001b[0mfp_or_buf\u001b[0m\u001b[0;34m,\u001b[0m \u001b[0;34m**\u001b[0m\u001b[0mkwds\u001b[0m\u001b[0;34m)\u001b[0m\u001b[0;34m\u001b[0m\u001b[0;34m\u001b[0m\u001b[0m\n\u001b[0m\u001b[1;32m    458\u001b[0m \u001b[0;34m\u001b[0m\u001b[0m\n\u001b[1;32m    459\u001b[0m     \u001b[0;32mif\u001b[0m \u001b[0mchunksize\u001b[0m \u001b[0;32mor\u001b[0m \u001b[0miterator\u001b[0m\u001b[0;34m:\u001b[0m\u001b[0;34m\u001b[0m\u001b[0;34m\u001b[0m\u001b[0m\n",
            "\u001b[0;32m/usr/local/lib/python3.6/dist-packages/pandas/io/parsers.py\u001b[0m in \u001b[0;36m__init__\u001b[0;34m(self, f, engine, **kwds)\u001b[0m\n\u001b[1;32m    893\u001b[0m             \u001b[0mself\u001b[0m\u001b[0;34m.\u001b[0m\u001b[0moptions\u001b[0m\u001b[0;34m[\u001b[0m\u001b[0;34m\"has_index_names\"\u001b[0m\u001b[0;34m]\u001b[0m \u001b[0;34m=\u001b[0m \u001b[0mkwds\u001b[0m\u001b[0;34m[\u001b[0m\u001b[0;34m\"has_index_names\"\u001b[0m\u001b[0;34m]\u001b[0m\u001b[0;34m\u001b[0m\u001b[0;34m\u001b[0m\u001b[0m\n\u001b[1;32m    894\u001b[0m \u001b[0;34m\u001b[0m\u001b[0m\n\u001b[0;32m--> 895\u001b[0;31m         \u001b[0mself\u001b[0m\u001b[0;34m.\u001b[0m\u001b[0m_make_engine\u001b[0m\u001b[0;34m(\u001b[0m\u001b[0mself\u001b[0m\u001b[0;34m.\u001b[0m\u001b[0mengine\u001b[0m\u001b[0;34m)\u001b[0m\u001b[0;34m\u001b[0m\u001b[0;34m\u001b[0m\u001b[0m\n\u001b[0m\u001b[1;32m    896\u001b[0m \u001b[0;34m\u001b[0m\u001b[0m\n\u001b[1;32m    897\u001b[0m     \u001b[0;32mdef\u001b[0m \u001b[0mclose\u001b[0m\u001b[0;34m(\u001b[0m\u001b[0mself\u001b[0m\u001b[0;34m)\u001b[0m\u001b[0;34m:\u001b[0m\u001b[0;34m\u001b[0m\u001b[0;34m\u001b[0m\u001b[0m\n",
            "\u001b[0;32m/usr/local/lib/python3.6/dist-packages/pandas/io/parsers.py\u001b[0m in \u001b[0;36m_make_engine\u001b[0;34m(self, engine)\u001b[0m\n\u001b[1;32m   1133\u001b[0m     \u001b[0;32mdef\u001b[0m \u001b[0m_make_engine\u001b[0m\u001b[0;34m(\u001b[0m\u001b[0mself\u001b[0m\u001b[0;34m,\u001b[0m \u001b[0mengine\u001b[0m\u001b[0;34m=\u001b[0m\u001b[0;34m\"c\"\u001b[0m\u001b[0;34m)\u001b[0m\u001b[0;34m:\u001b[0m\u001b[0;34m\u001b[0m\u001b[0;34m\u001b[0m\u001b[0m\n\u001b[1;32m   1134\u001b[0m         \u001b[0;32mif\u001b[0m \u001b[0mengine\u001b[0m \u001b[0;34m==\u001b[0m \u001b[0;34m\"c\"\u001b[0m\u001b[0;34m:\u001b[0m\u001b[0;34m\u001b[0m\u001b[0;34m\u001b[0m\u001b[0m\n\u001b[0;32m-> 1135\u001b[0;31m             \u001b[0mself\u001b[0m\u001b[0;34m.\u001b[0m\u001b[0m_engine\u001b[0m \u001b[0;34m=\u001b[0m \u001b[0mCParserWrapper\u001b[0m\u001b[0;34m(\u001b[0m\u001b[0mself\u001b[0m\u001b[0;34m.\u001b[0m\u001b[0mf\u001b[0m\u001b[0;34m,\u001b[0m \u001b[0;34m**\u001b[0m\u001b[0mself\u001b[0m\u001b[0;34m.\u001b[0m\u001b[0moptions\u001b[0m\u001b[0;34m)\u001b[0m\u001b[0;34m\u001b[0m\u001b[0;34m\u001b[0m\u001b[0m\n\u001b[0m\u001b[1;32m   1136\u001b[0m         \u001b[0;32melse\u001b[0m\u001b[0;34m:\u001b[0m\u001b[0;34m\u001b[0m\u001b[0;34m\u001b[0m\u001b[0m\n\u001b[1;32m   1137\u001b[0m             \u001b[0;32mif\u001b[0m \u001b[0mengine\u001b[0m \u001b[0;34m==\u001b[0m \u001b[0;34m\"python\"\u001b[0m\u001b[0;34m:\u001b[0m\u001b[0;34m\u001b[0m\u001b[0;34m\u001b[0m\u001b[0m\n",
            "\u001b[0;32m/usr/local/lib/python3.6/dist-packages/pandas/io/parsers.py\u001b[0m in \u001b[0;36m__init__\u001b[0;34m(self, src, **kwds)\u001b[0m\n\u001b[1;32m   1915\u001b[0m         \u001b[0mkwds\u001b[0m\u001b[0;34m[\u001b[0m\u001b[0;34m\"usecols\"\u001b[0m\u001b[0;34m]\u001b[0m \u001b[0;34m=\u001b[0m \u001b[0mself\u001b[0m\u001b[0;34m.\u001b[0m\u001b[0musecols\u001b[0m\u001b[0;34m\u001b[0m\u001b[0;34m\u001b[0m\u001b[0m\n\u001b[1;32m   1916\u001b[0m \u001b[0;34m\u001b[0m\u001b[0m\n\u001b[0;32m-> 1917\u001b[0;31m         \u001b[0mself\u001b[0m\u001b[0;34m.\u001b[0m\u001b[0m_reader\u001b[0m \u001b[0;34m=\u001b[0m \u001b[0mparsers\u001b[0m\u001b[0;34m.\u001b[0m\u001b[0mTextReader\u001b[0m\u001b[0;34m(\u001b[0m\u001b[0msrc\u001b[0m\u001b[0;34m,\u001b[0m \u001b[0;34m**\u001b[0m\u001b[0mkwds\u001b[0m\u001b[0;34m)\u001b[0m\u001b[0;34m\u001b[0m\u001b[0;34m\u001b[0m\u001b[0m\n\u001b[0m\u001b[1;32m   1918\u001b[0m         \u001b[0mself\u001b[0m\u001b[0;34m.\u001b[0m\u001b[0munnamed_cols\u001b[0m \u001b[0;34m=\u001b[0m \u001b[0mself\u001b[0m\u001b[0;34m.\u001b[0m\u001b[0m_reader\u001b[0m\u001b[0;34m.\u001b[0m\u001b[0munnamed_cols\u001b[0m\u001b[0;34m\u001b[0m\u001b[0;34m\u001b[0m\u001b[0m\n\u001b[1;32m   1919\u001b[0m \u001b[0;34m\u001b[0m\u001b[0m\n",
            "\u001b[0;32mpandas/_libs/parsers.pyx\u001b[0m in \u001b[0;36mpandas._libs.parsers.TextReader.__cinit__\u001b[0;34m()\u001b[0m\n",
            "\u001b[0;32mpandas/_libs/parsers.pyx\u001b[0m in \u001b[0;36mpandas._libs.parsers.TextReader._setup_parser_source\u001b[0;34m()\u001b[0m\n",
            "\u001b[0;31mFileNotFoundError\u001b[0m: [Errno 2] File b'drive/My Drive/MT/Experiments/Multivariate/NASA_Shuttle/40903.csv' does not exist: b'drive/My Drive/MT/Experiments/Multivariate/NASA_Shuttle/40903.csv'"
          ]
        }
      ]
    },
    {
      "cell_type": "markdown",
      "metadata": {
        "id": "trSI6yplSOGC",
        "colab_type": "text"
      },
      "source": [
        "## XGBoost Multivariate"
      ]
    },
    {
      "cell_type": "code",
      "metadata": {
        "id": "4JeUNdefSRYB",
        "colab_type": "code",
        "outputId": "c4ce2b0a-ffef-405e-c309-da84e34d7b1c",
        "colab": {
          "base_uri": "https://localhost:8080/",
          "height": 80
        }
      },
      "source": [
        "import warnings\n",
        "from sklearn.cluster import KMeans\n",
        "from statsmodels.tsa.ar_model import AR\n",
        "from sklearn.metrics import mean_squared_error\n",
        "from math import sqrt\n",
        "from pandas import read_csv\n",
        "import pandas as pd\n",
        "from pandas import DataFrame\n",
        "from pandas import concat\n",
        "import numpy as np \n",
        "from matplotlib import pyplot\n",
        "from xgboost import XGBRegressor\n",
        "from sklearn import preprocessing\n",
        "import sys\n",
        "from tensorflow import set_random_seed\n",
        "set_random_seed(42)\n",
        "from numpy.random import seed\n",
        "import numpy\n",
        "import matplotlib.pyplot as plt\n",
        "import pandas\n",
        "import math\n",
        "from keras.models import Sequential\n",
        "from keras.layers import Dense\n",
        "from keras.layers import LSTM\n",
        "from sklearn.preprocessing import MinMaxScaler\n",
        "from sklearn.metrics import mean_squared_error\n",
        "import numpy as np\n",
        "from keras.layers import Conv1D,MaxPooling1D,Flatten\n",
        "seed(42)\n",
        "from keras import regularizers\n",
        "\n",
        "def warn(*args, **kwargs):\n",
        "    pass\n",
        "    \n",
        "class XGB_AnomalyDetection_ML:\n",
        "\n",
        "    @classmethod\n",
        "    def from_DataFrame(cls,dataframe,window_width, dimension, train_rate) -> 'XGB_AnomalyDetection_ML':\n",
        "    \treturn cls(dataframe, window_width, dimension, train_rate)\n",
        "\n",
        "    @classmethod\n",
        "    def from_file(cls, path, index_col, window_width, dimension, train_rate) -> 'XGB_AnomalyDetection_ML':\n",
        "    \tdf = read_csv(path, header=0, index_col=index_col, parse_dates=True,squeeze=True)\n",
        "    \treturn cls(df, window_width, dimension, train_rate)\n",
        "     \n",
        "    def __init__(self,df, window_width, dimension, train_rate):\n",
        "\n",
        "        self.dimension = dimension\n",
        "        self.window_width = window_width\n",
        "\n",
        "\n",
        "        self.df = df\n",
        "        self.df = self.df.reset_index(drop=True)\n",
        "        self.df.rename(columns={'Target':'is_anomaly'}, inplace=True)\n",
        "        self.df.loc[self.df.is_anomaly == \"'Anomaly'\", 'is_anomaly'] = 1\n",
        "        self.df.loc[self.df.is_anomaly == \"'Normal'\", 'is_anomaly'] = 0\n",
        "\n",
        "        df_sensors = pd.DataFrame(self.df.iloc[:,:dimension].values)  \n",
        "        self.values = df_sensors\n",
        "        self.dataframe = concat([self.df.iloc[:,:-1].shift(1), self.df.iloc[:,:-1], self.df.iloc[:,-1]], axis=1)\n",
        "        self.dataframe.columns = np.r_[np.array(['V'+str(i)+'_t' for i in range(1,self.dimension+1)]),np.array(['V'+str(i)+'_t+1' for i in range(1,self.dimension+1)]),['is_anomaly']]\n",
        "\n",
        "        # self.dataframe = concat([self.values.shift(1), self.values], axis=1)\n",
        "        # self.dataframe.columns = ['t', 't+1']\n",
        "\n",
        "        self.train_size = int(len(self.values) * train_rate)  \n",
        "\n",
        "    def reset_dataframe(self, df, dimension, train_rate):\n",
        "        self.df = df\n",
        "        self.dimension = dimension\n",
        "        self.df = self.df.reset_index(drop=True)\n",
        "        self.df.rename(columns={'Target':'is_anomaly'}, inplace=True)\n",
        "        self.df.loc[self.df.is_anomaly == \"'Anomaly'\", 'is_anomaly'] = 1\n",
        "        self.df.loc[self.df.is_anomaly == \"'Normal'\", 'is_anomaly'] = 0\n",
        "\n",
        "        df_sensors = pd.DataFrame(self.df.iloc[:,:dimension].values)  \n",
        "        self.values = df_sensors\n",
        "        self.dataframe = concat([self.df.iloc[:,:-1].shift(1), self.df.iloc[:,:-1], self.df.iloc[:,-1]], axis=1)\n",
        "        self.dataframe.columns = np.r_[np.array(['V'+str(i)+'_t' for i in range(1,self.dimension+1)]),np.array(['V'+str(i)+'_t+1' for i in range(1,self.dimension+1)]),['is_anomaly']]\n",
        "\n",
        "\n",
        "\n",
        "        self.train_size = int(len(self.values) * train_rate)         \n",
        "\n",
        "    def create_XY_lookback_dataset(self,dataset, look_back=1):\n",
        "        dataX, dataY = [], []\n",
        "        for i in range(len(dataset)-look_back-1):\n",
        "            a = dataset[i:(i+look_back),:self.dimension]\n",
        "            dataX.append(a.reshape(-1))\n",
        "            dataY.append(dataset[i + look_back,:self.dimension].reshape(-1))\n",
        "        return numpy.array(dataX), numpy.array(dataY)\n",
        "    \n",
        "    def getWindowedVectors(self, X):\n",
        "        vectors = np.zeros((len(X) - self.window_width+1,self.window_width))\n",
        "        for i,_ in enumerate(X[:-self.window_width+1]):\n",
        "            vectors[i] = X[i:i+self.window_width]\n",
        "        return vectors\n",
        "\n",
        "    def __build_sets(self):\n",
        "\n",
        "        X = self.dataframe.iloc[:,:-1].values\n",
        "        self.train, self.test = X[1:self.train_size], X[self.train_size:]    \n",
        "        # print('Train.len:',len(self.train),' - Test.len:', len(self.test))\n",
        "\n",
        "        self.train_X, self.train_y = self.create_XY_lookback_dataset(self.train, self.window_width)\n",
        "        self.test_X, self.test_y = self.create_XY_lookback_dataset(self.test, self.window_width)\n",
        "        # print('TrainX.shape:',self.train_X.shape,' - TestX.shape:', self.test_X.shape,' - TrainY.shape:', self.train_y.shape,' - TestY.shape:', self.test_y.shape)\n",
        "\n",
        "        self.validationsize = int(self.train_X.shape[0] * 0.1)\n",
        "        self.val, self.test = self.test[:self.validationsize], self.test[self.validationsize:]\n",
        "        self.val_X, self.val_y= self.test_X[:self.validationsize], self.test_y[:self.validationsize]\n",
        "        self.test_X, self.test_y = self.test_X[self.validationsize:], self.test_y[self.validationsize:]\n",
        "\n",
        "    def standardize_dataframe(self):\n",
        "        X = self.dataframe.values[:,:-1]\n",
        "        self.scalar = preprocessing.StandardScaler().fit(X)\n",
        "        X = self.scalar.transform(X)\n",
        "        self.dataframe = pd.DataFrame(np.concatenate((X,self.dataframe.values[:,-1].reshape(-1,1)),axis=1))\n",
        "        self.dataframe.columns = np.r_[np.array(['V'+str(i)+'_t' for i in range(1,self.dimension+1)]),np.array(['V'+str(i)+'_t+1' for i in range(1,self.dimension+1)]),['is_anomaly']]\n",
        "\n",
        "    def inverse_standardize_dataframe(self):\n",
        "        X = self.dataframe.values[:,:-1]\n",
        "        X = self.scalar.inverse_transform(X)\n",
        "        self.dataframe = pd.DataFrame(np.concatenate((X,self.dataframe.values[:,-1].reshape(-1,1)),axis=1))\n",
        "        self.dataframe.columns = np.r_[np.array(['V'+str(i)+'_t' for i in range(1,self.dimension+1)]),np.array(['V'+str(i)+'_t+1' for i in range(1,self.dimension+1)]),['is_anomaly']]\n",
        "\n",
        "\n",
        "\n",
        "\n",
        "    def model_persistence(self, x):\n",
        "        return x\n",
        "        \n",
        "    def create_persistence(self):\n",
        "        rmse = sqrt(mean_squared_error(self.dataframe.iloc[self.train_size:,:self.dimension], self.dataframe.iloc[self.train_size:,self.dimension:-1]))\n",
        "        # print('Persistent Model RMSE: %.3f' % rmse)   \n",
        "\n",
        "    def fit(self):\n",
        "        self.create_persistence()\n",
        "        self.standardize_dataframe()\n",
        "        self.__build_sets()\n",
        "                \n",
        "        self.compute_anomalyScores()\n",
        "        self.inverse_standardize_dataframe()\n",
        "        self.compute_Errors_RMSE()\n",
        "\n",
        "\n",
        "    def plotTraining(self):\n",
        "        history_dict = self.history.history\n",
        "        loss_values = history_dict['loss'][1:]\n",
        "        val_loss_values = history_dict['val_loss'][1:]\n",
        "        self.n_epochs = range(2, self.n_epochs + 1)\n",
        "        plt.plot(self.n_epochs, loss_values, 'bo', label='Training loss')\n",
        "        plt.plot(self.n_epochs, val_loss_values, 'b', label='Validation loss')\n",
        "        plt.title('Training and validation loss')\n",
        "        plt.xlabel('Epochs')\n",
        "        plt.ylabel('Loss')\n",
        "        plt.legend()\n",
        "        plt.show()\n",
        "\n",
        "    def compute_anomalyScores(self):\n",
        "        from sklearn.multioutput import MultiOutputRegressor\n",
        "\n",
        "        # fitting\n",
        "        multioutputregressor = MultiOutputRegressor(XGBRegressor(objective='reg:linear')).fit(self.train_X, self.train_y)\n",
        "\n",
        "        # predicting\n",
        "        self.predictions = multioutputregressor.predict(self.test_X) \n",
        "        # # self.train_X = numpy.reshape(self.train_X, (self.train_X.shape[0],self.dimension,self.train_X.shape[1]))\n",
        "        # # self.test_X = numpy.reshape(self.test_X, (self.test_X.shape[0],self.dimension, self.test_X.shape[1]))\n",
        "\n",
        "        # from keras.layers import Conv1D,MaxPooling1D,Flatten\n",
        "        # self.model = Sequential()\n",
        "\n",
        "        # self.model = Sequential()\n",
        "        # self.model.add(LSTM(self.n_filters[0], batch_input_shape=(1, self.window_width, self.dimension), stateful=True, return_sequences=True))\n",
        "        # self.model.add(LSTM(self.n_filters[1], batch_input_shape=(1, self.window_width, self.dimension), stateful=True))\n",
        "        # self.model.add(Dense(self.dimension))\n",
        "        # self.model.compile(optimizer='adam', loss='mse')\n",
        "        # for i in range(self.n_epochs):\n",
        "        #     sys.stdout.write('\\r'+str(i)+':'+str(self.n_epochs))\n",
        "        #     self.model.fit(self.train_X, self.train_y,validation_data=(self.val_X,self.val_y), epochs=1, batch_size=1, verbose=0, shuffle=False)\n",
        "        #     self.model.reset_states()\n",
        "        # print('')\n",
        "\n",
        "        # # self.plotTraining()\n",
        "        # self.predictions = self.model.predict(self.test_X, batch_size = 1)\n",
        "\n",
        "\n",
        "    def compute_Errors_RMSE(self):\n",
        "\n",
        "        rmse = sqrt(mean_squared_error(self.test_y.reshape(self.predictions.shape), self.predictions))\n",
        "        self.errors = np.absolute(self.test_y.reshape(self.predictions.shape) - np.array(self.predictions))\n",
        "        # print('Prediction Test RMS        E: %.3f' % rmse)       \n",
        "   \n",
        "\n",
        "    def plot(self):\n",
        "        fig, axes = plt.subplots(nrows=3, ncols=3, dpi=120, figsize=(50,5))\n",
        "        for i, ax in enumerate(axes.flatten()):\n",
        "            data = self.df[self.df.columns[i]].iloc[:200]\n",
        "            ax.plot(self.test_y[:,i], color='green',  linewidth=0.5,label='True Values')\n",
        "            ax.plot(self.predictions[:,i], color='blue',  linewidth=0.5,label='Predictions')\n",
        "            ax.plot(self.errors[:,i], color = 'red',  linewidth=0.5, label='Errors')\n",
        "            ax.legend()\n",
        "            \n",
        "        plt.show()\n",
        "\n",
        "    def get_roc_auc(self, plot=True, verbose=True):\n",
        "        self.euclidean_errors = numpy.linalg.norm(self.test_y.reshape(self.predictions.shape) - self.predictions, axis=1)\n",
        "        # get the predicted errors of the anomaly points\n",
        "        indices = self.df[self.df['is_anomaly']==1].index >self.train_size + self.validationsize\n",
        "        true_anomaly_predicted_errors = self.euclidean_errors[self.df[self.df['is_anomaly']==1].index[indices] - self.train_size - self.validationsize - self.window_width -1]\n",
        "        if len(true_anomaly_predicted_errors) == 0:\n",
        "            return np.nan\n",
        "        # sort them \n",
        "        true_anomaly_predicted_errors = np.sort(true_anomaly_predicted_errors,axis=0).reshape(-1)\n",
        "        true_anomaly_predicted_errors_extended = np.r_[np.linspace(0,true_anomaly_predicted_errors[0],40)[:-1],true_anomaly_predicted_errors]\n",
        "        true_anomaly_predicted_errors_extended = np.r_[true_anomaly_predicted_errors_extended, true_anomaly_predicted_errors_extended[-1] + np.mean(true_anomaly_predicted_errors_extended)]\n",
        "                # now iterate thru the predicted errors from small to big\n",
        "        # for each value look how much other points have equal or bigger error\n",
        "        FPR = [] # fp/n  https://en.wikipedia.org/wiki/Sensitivity_and_specificity\n",
        "        TPR = [] # tp/p\n",
        "        p = len(true_anomaly_predicted_errors)\n",
        "        Thresholds = []\n",
        "        for predictederror in true_anomaly_predicted_errors_extended:\n",
        "            threshold = predictederror\n",
        "            tp = len(true_anomaly_predicted_errors[true_anomaly_predicted_errors>= threshold])\n",
        "            fp = len(self.euclidean_errors[self.euclidean_errors>=threshold])-len(true_anomaly_predicted_errors[true_anomaly_predicted_errors>=threshold])\n",
        "            \n",
        "            fpr =fp/len(self.euclidean_errors)\n",
        "            FPR.append(fpr)\n",
        "            TPR.append(tp/p)\n",
        "            if verbose:\n",
        "                print(\"Threshold: {0:25}  - FP: {1:4} - TP: {2:4} - FPR: {3:21} - TPR: {4:4}\".format(threshold,fp, tp, fpr, tp/p))\n",
        "\n",
        "        import matplotlib.pyplot as plt\n",
        "        if plot:\n",
        "            plt.figure()\n",
        "            plt.axis([0, 1, 0, 1])\n",
        "            plt.plot(FPR,TPR)\n",
        "            plt.show() \n",
        "\n",
        "        # This is the AUC\n",
        "        from sklearn.metrics import auc\n",
        "        print('AUC: ' ,auc(FPR,TPR)        )\n",
        "        return auc(FPR,TPR)\n",
        "\n",
        "# filters = [[8,8,8,8], [4,4,4,4], [4,8,16,32], [16,32,48,64],  [32,64,12,24],[128,128,128,128],[64,64,64,64],[256,256,256,256],[128,256,512,1024]]\n",
        "# kernelsizes = [2,3,4,6,8,16]\n",
        "# dense = [18,36,72,144]\n",
        "\n",
        "\n",
        "\n",
        "# xgb = XGB_ML_AnomalyDetection('drive/My Drive/MT/Experiments/Multivariate/NASA_Shuttle/40903.csv',13,3,0.3)\n",
        "# # xgb.reset_dataframe(df,5, 0.3)\n",
        "# xgb.fit()\n",
        "# # # cnn.plot()\n",
        "# auc = xgb.get_roc_auc(verbose=False,plot=True)\n",
        "\n",
        "\n",
        "# print(best_auc)"
      ],
      "execution_count": 0,
      "outputs": [
        {
          "output_type": "display_data",
          "data": {
            "text/html": [
              "<p style=\"color: red;\">\n",
              "The default version of TensorFlow in Colab will soon switch to TensorFlow 2.x.<br>\n",
              "We recommend you <a href=\"https://www.tensorflow.org/guide/migrate\" target=\"_blank\">upgrade</a> now \n",
              "or ensure your notebook will continue to use TensorFlow 1.x via the <code>%tensorflow_version 1.x</code> magic:\n",
              "<a href=\"https://colab.research.google.com/notebooks/tensorflow_version.ipynb\" target=\"_blank\">more info</a>.</p>\n"
            ],
            "text/plain": [
              "<IPython.core.display.HTML object>"
            ]
          },
          "metadata": {
            "tags": []
          }
        },
        {
          "output_type": "stream",
          "text": [
            "Using TensorFlow backend.\n"
          ],
          "name": "stderr"
        }
      ]
    },
    {
      "cell_type": "markdown",
      "metadata": {
        "id": "KhaoZnngTSNu",
        "colab_type": "text"
      },
      "source": [
        "### Evaluation"
      ]
    },
    {
      "cell_type": "code",
      "metadata": {
        "id": "pOOvowKrTTGe",
        "colab_type": "code",
        "outputId": "da2f354a-253e-4e11-9e14-5de0e03bd984",
        "colab": {
          "base_uri": "https://localhost:8080/",
          "height": 388
        }
      },
      "source": [
        "import datetime\n",
        "startTime = datetime.datetime.now()\n",
        "import glob\n",
        "xgb = XGB_AnomalyDetection_ML.from_DataFrame(df_synthetic,108,5,0.3)\n",
        "xgb.fit()\n",
        "auc = xgb.get_roc_auc(verbose=False,plot=True)\n",
        "\n",
        "endTime = datetime.datetime.now()\n",
        "diff = endTime - startTime\n",
        "print('Time: ',diff.seconds)"
      ],
      "execution_count": 0,
      "outputs": [
        {
          "output_type": "stream",
          "text": [
            "[20:36:39] WARNING: /workspace/src/objective/regression_obj.cu:152: reg:linear is now deprecated in favor of reg:squarederror.\n",
            "[20:36:42] WARNING: /workspace/src/objective/regression_obj.cu:152: reg:linear is now deprecated in favor of reg:squarederror.\n",
            "[20:36:44] WARNING: /workspace/src/objective/regression_obj.cu:152: reg:linear is now deprecated in favor of reg:squarederror.\n",
            "[20:36:47] WARNING: /workspace/src/objective/regression_obj.cu:152: reg:linear is now deprecated in favor of reg:squarederror.\n",
            "[20:36:49] WARNING: /workspace/src/objective/regression_obj.cu:152: reg:linear is now deprecated in favor of reg:squarederror.\n"
          ],
          "name": "stdout"
        },
        {
          "output_type": "display_data",
          "data": {
            "image/png": "[encoded data removed]",
            "text/plain": [
              "<Figure size 432x288 with 1 Axes>"
            ]
          },
          "metadata": {
            "tags": []
          }
        },
        {
          "output_type": "stream",
          "text": [
            "AUC:  0.7128623729826657\n",
            "Time:  12\n"
          ],
          "name": "stdout"
        }
      ]
    },
    {
      "cell_type": "markdown",
      "metadata": {
        "id": "mLWIxYLUFgCY",
        "colab_type": "text"
      },
      "source": [
        "# Univariate Detector after Projection"
      ]
    },
    {
      "cell_type": "markdown",
      "metadata": {
        "id": "oz2IgpHTc27Z",
        "colab_type": "text"
      },
      "source": [
        "## AR"
      ]
    },
    {
      "cell_type": "code",
      "metadata": {
        "id": "FAcphdhGc3wj",
        "colab_type": "code",
        "colab": {}
      },
      "source": [
        "from statsmodels.tsa.ar_model import AR\n",
        "from sklearn.metrics import mean_squared_error\n",
        "from math import sqrt\n",
        "from pandas import read_csv\n",
        "import pandas as pd\n",
        "from pandas import DataFrame\n",
        "from pandas import concat\n",
        "import numpy as np \n",
        "from matplotlib import pyplot\n",
        "import sys\n",
        "\n",
        "class AR_Compact:\n",
        "\n",
        "    def model_persistence(self, x):\n",
        "        return x\n",
        "\n",
        "    def create_persistence(self):\n",
        "        predictions = list()\n",
        "        for x in self.test_X:\n",
        "            yhat = self.model_persistence(x)\n",
        "            predictions.append(yhat)\n",
        "        rmse = sqrt(mean_squared_error(self.test_y, predictions))\n",
        "        # print('Train shape', self.train_X.shape, ' - Test shape:' , self.test_X.shape)\n",
        "        # print('Persistent Model RMSE: %.3f' % rmse)     \n",
        "        \n",
        "\n",
        "    @classmethod\n",
        "    def from_DataFrame(cls,dataframe, train_rate) -> 'AR_Compact':\n",
        "    \treturn cls(dataframe, train_rate)\n",
        "\n",
        "    @classmethod\n",
        "    def from_file(cls, file: str, train_rate) -> 'AR_Compact':\n",
        "    \tdf = read_csv(path, header=0, index_col=0, parse_dates=True,squeeze=True)\n",
        "    \treturn cls(df, train_rate)\n",
        "\n",
        "    \n",
        "    def __init__(self,df, train_rate):\n",
        "        self.df = df\n",
        "        self.df = self.df.reset_index(drop=True)\n",
        "        self.df.rename(columns={'anomaly':'is_anomaly'}, inplace=True)\n",
        "\n",
        "        series = pd.DataFrame(self.df.iloc[:,0].values)  \n",
        "        self.values = DataFrame(series.values)\n",
        "        self.dataframe = concat([self.values.shift(1), self.values], axis=1)\n",
        "        self.dataframe.columns = ['t', 't+1']\n",
        "\n",
        "        self.train_size = int(len(self.values) * train_rate)\n",
        "\n",
        "        self.train, self.test = self.dataframe.values[1:self.train_size], self.dataframe.values[self.train_size:]\n",
        "        self.train_X, self.train_y = self.train[:,0], self.train[:,1]\n",
        "        self.test_X, self.test_y = self.test[:,0], self.test[:,1]     \n",
        "        self.create_persistence()\n",
        "\n",
        "        # X = (self.dataframe['t+1'] - self.dataframe['t']).values\n",
        "        X = series.values\n",
        "\n",
        "        self.train, self.test = X[1:self.train_size], X[self.train_size:]\n",
        "\n",
        "          \n",
        "    def fit(self, verbose=False):\n",
        "        self.model = AR(self.train)\n",
        "        self.model_fit = self.model.fit()\n",
        "        self.window = self.model_fit.k_ar\n",
        "        self.coef = self.model_fit.params  \n",
        "        if verbose:      \n",
        "            print('Lag: %s' % self.model_fit.k_ar)\n",
        "            print('Coefficients: %s' % self.model_fit.params)\n",
        "\n",
        "    \n",
        "    def predict(self):\n",
        "        self.history = self.train[len(self.train)-self.window:]\n",
        "        self.history = [self.history[i] for i in range(len(self.history))]\n",
        "        self.predictions = list()\n",
        "        for t in range(len(self.test)):\n",
        "            length = len(self.history)\n",
        "            lag = [self.history[i] for i in range(length-self.window,length)]\n",
        "            yhat = self.coef[0]\n",
        "            for d in range(self.window):\n",
        "                yhat += self.coef[d+1] * lag[self.window-d-1]\n",
        "            obs = self.test[t]\n",
        "            self.predictions.append(yhat)\n",
        "            self.history.append(obs)        \n",
        "        # for i in range(len(predictions)):\n",
        "        #     print('predicted=%f, expected=%f' % (predictions[i], test[i]))\n",
        "        rmse = sqrt(mean_squared_error(self.test, self.predictions))\n",
        "        self.errors = np.absolute(self.test - np.array(self.predictions))\n",
        "        # print('Prediction Test RMSE: %.3f' % rmse)\n",
        "    def plot(self):\n",
        "        # plot predicted error\n",
        "        df_test = pd.DataFrame(self.df.iloc[self.train_size:].values)\n",
        "\n",
        "        pyplot.figure(figsize=(50,5))\n",
        "        pyplot.plot(self.test,color ='blue', linewidth=0.5)\n",
        "        pyplot.plot(self.predictions, color='green',  linewidth=0.5)\n",
        "        pyplot.plot(self.errors, color = 'red',  linewidth=0.5)\n",
        "        pyplot.plot(df_test[df_test[1]==1.].index, df_test[df_test[1]==1.].iloc[:,0].values,'ro')\n",
        "        pyplot.show()\n",
        "\n",
        "    # def plot(self):\n",
        "    #     # plot predicted error\n",
        "    #     indices = self.df[self.df['is_anomaly']==1].index >self.train_size\n",
        "    #     pyplot.figure(figsize=(50,5))\n",
        "    #     pyplot.plot(self.test, color='green',  linewidth=0.5,label='True Values')\n",
        "    #     pyplot.plot(self.predictions, color='blue',  linewidth=0.5,label='Predictions')\n",
        "    #     pyplot.plot(self.errors, color = 'red',  linewidth=0.5, label='Errors')\n",
        "    #     pyplot.plot(self.df[self.df['is_anomaly']==1].index[indices] - self.train_size, self.test[self.df[self.df['is_anomaly']==1].index[indices] - self.train_size -1], linestyle=\"\",marker=\".\", label='Anomalies')\n",
        "    #     pyplot.legend()\n",
        "    #     pyplot.show()\n",
        "\n",
        "    def get_roc_auc(self, plot=True, verbose=True):\n",
        "        # get the predicted errors of the anomaly points\n",
        "        indices = self.df[self.df['is_anomaly']==1].index >self.train_size\n",
        "        true_anomaly_predicted_errors = self.errors[self.df[self.df['is_anomaly']==1].index[indices] - self.train_size]\n",
        "        if len(true_anomaly_predicted_errors) == 0:\n",
        "            return np.nan\n",
        "        # sort them \n",
        "        true_anomaly_predicted_errors = np.sort(true_anomaly_predicted_errors,axis=0).reshape(-1)\n",
        "        true_anomaly_predicted_errors_extended = np.r_[np.linspace(0,true_anomaly_predicted_errors[0],40)[:-1],true_anomaly_predicted_errors]\n",
        "        true_anomaly_predicted_errors_extended = np.r_[true_anomaly_predicted_errors_extended, max(true_anomaly_predicted_errors_extended[-1] + np.mean(true_anomaly_predicted_errors_extended),np.max(self.errors) + np.mean(self.errors))]\n",
        "                # now iterate thru the predicted errors from small to big\n",
        "        # for each value look how much other points have equal or bigger error\n",
        "        FPR = [] # fp/n  https://en.wikipedia.org/wiki/Sensitivity_and_specificity\n",
        "        TPR = [] # tp/p\n",
        "        p = len(true_anomaly_predicted_errors)\n",
        "        Thresholds = []\n",
        "        for predictederror in true_anomaly_predicted_errors_extended:\n",
        "            threshold = predictederror\n",
        "            tp = len(true_anomaly_predicted_errors[true_anomaly_predicted_errors>= threshold])\n",
        "            fp = len(self.errors[self.errors>=threshold])-len(true_anomaly_predicted_errors[true_anomaly_predicted_errors>=threshold])\n",
        "            \n",
        "            fpr =fp/len(self.errors)\n",
        "            FPR.append(fpr)\n",
        "            TPR.append(tp/p)\n",
        "            if verbose:\n",
        "                print(\"Threshold: {0:25}  - FP: {1:4} - TP: {2:4} - FPR: {3:21} - TPR: {4:4}\".format(threshold,fp, tp, fpr, tp/p))\n",
        "\n",
        "        import matplotlib.pyplot as plt\n",
        "        if plot:\n",
        "            plt.figure()\n",
        "            plt.axis([0, 1, 0, 1])\n",
        "            plt.plot(FPR,TPR)\n",
        "            plt.show() \n",
        "\n",
        "        # This is the AUC\n",
        "        from sklearn.metrics import auc\n",
        "        print('AUC: ' ,auc(FPR,TPR)        )\n",
        "        return auc(FPR,TPR)\n",
        "\n",
        "# ar_model = AR_Compact('drive/My Drive/MT/Experiments/Univariate/YahooServiceNetworkTraffic/A4Benchmark/A4Benchmark-TS18.csv', 0.3)\n",
        "# ar_model.fit()\n",
        "# ar_model.predict()\n",
        "# ar_model.plot()\n",
        "# ar_model.get_roc_auc(verbose=True)"
      ],
      "execution_count": 0,
      "outputs": []
    },
    {
      "cell_type": "markdown",
      "metadata": {
        "id": "9bUA0eowFHX5",
        "colab_type": "text"
      },
      "source": [
        "## MA"
      ]
    },
    {
      "cell_type": "code",
      "metadata": {
        "id": "6qu8hIB8FIuz",
        "colab_type": "code",
        "colab": {}
      },
      "source": [
        "from statsmodels.tsa.ar_model import AR\n",
        "from sklearn.metrics import mean_squared_error\n",
        "from math import sqrt\n",
        "from pandas import read_csv\n",
        "import pandas as pd\n",
        "from pandas import DataFrame\n",
        "from pandas import concat\n",
        "import numpy as np \n",
        "from matplotlib import pyplot\n",
        "\n",
        "class MA:\n",
        "\n",
        "    @classmethod\n",
        "    def from_DataFrame(cls,dataframe, train_rate) -> 'MA':\n",
        "    \treturn cls(dataframe, train_rate)\n",
        "\n",
        "    @classmethod\n",
        "    def from_file(cls, file: str, train_rate) -> 'MA':\n",
        "    \tdf = read_csv(path, header=0, index_col=0, parse_dates=True,squeeze=True)\n",
        "    \treturn cls(df, train_rate)\n",
        "\n",
        "    \n",
        "    def __init__(self,df, train_rate):\n",
        "        self.df = df\n",
        "        self.df = self.df.reset_index(drop=True)\n",
        "        self.df.rename(columns={'anomaly':'is_anomaly'}, inplace=True)\n",
        "\n",
        "        series = pd.DataFrame(self.df.iloc[:,0].values)  \n",
        "        self.values = DataFrame(series.values)\n",
        "        self.dataframe = concat([self.values.shift(1), self.values], axis=1)\n",
        "        self.dataframe.columns = ['t', 't+1']\n",
        "\n",
        "        X = self.dataframe.values\n",
        "        self.train_size = int(len(X) * train_rate)\n",
        "\n",
        "        self.train, self.test = self.dataframe.values[1:self.train_size], self.dataframe.values[self.train_size:]\n",
        "        self.train_X, self.train_y = self.train[:,0], self.train[:,1]\n",
        "        self.test_X, self.test_y = self.test[:,0], self.test[:,1]     \n",
        "        # self.create_persistence()\n",
        "\n",
        "        # X = (self.dataframe['t+1'] - self.dataframe['t']).values\n",
        "        X = series.values\n",
        "\n",
        "        # persistence model on training set\n",
        "        self.train_pred = [x for x in self.train_X]\n",
        "        # calculate residuals\n",
        "        self.train_resid = [self.train_y[i]-self.train_pred[i] for i in range(len(self.train_pred))]\n",
        "\n",
        "    # def __init__(self, path, train_rate):\n",
        "\n",
        "    #     self.df = read_csv(path, header=0, index_col=0, parse_dates=True,squeeze=True)\n",
        "    #     self.df = self.df.reset_index(drop=True)\n",
        "    #     self.df.rename(columns={'anomaly':'is_anomaly'}, inplace=True)\n",
        "    #     series = pd.DataFrame(self.df.iloc[:,0].values)  \n",
        "    #     self.values = DataFrame(series.values)\n",
        "    #     self.dataframe = concat([self.values.shift(1), self.values], axis=1)\n",
        "    #     self.dataframe.columns = ['t', 't+1']\n",
        "    #     X = self.dataframe.values\n",
        "\n",
        "    #     self.train_size = int(len(X) * train_rate)    \n",
        "\n",
        "    #     train, test = X[1:self.train_size], X[self.train_size:]\n",
        "    #     self.train_X, self.train_y = train[:,0], train[:,1]\n",
        "    #     self.test_X, self.test_y = test[:,0], test[:,1]        \n",
        "    #     # persistence model on training set\n",
        "    #     self.train_pred = [x for x in self.train_X]\n",
        "    #     # calculate residuals\n",
        "    #     self.train_resid = [self.train_y[i]-self.train_pred[i] for i in range(len(self.train_pred))]\n",
        "\n",
        "    def fit(self, verbose=False):\n",
        "        self.model = AR(self.train_resid)\n",
        "        self.model_fit = self.model.fit()\n",
        "        self.window = self.model_fit.k_ar\n",
        "        self.coef = self.model_fit.params        \n",
        "        if verbose:\n",
        "            print(self.coef)\n",
        "\n",
        "    def predict(self):\n",
        "        # walk forward over time steps in test\n",
        "        self.history = self.train_resid[len(self.train_resid)-self.window:]\n",
        "        self.history = [self.history[i] for i in range(len(self.history))]\n",
        "        self.predictions = list()\n",
        "        for t in range(len(self.test_y)):\n",
        "            # persistence\n",
        "            yhat = self.test_X[t]\n",
        "            error = self.test_y[t] - yhat\n",
        "            # predict error\n",
        "            length = len(self.history)\n",
        "            lag = [self.history[i] for i in range(length-self.window,length)]\n",
        "            pred_error = self.coef[0]\n",
        "            for d in range(self.window):\n",
        "                pred_error += self.coef[d+1] * lag[self.window-d-1]\n",
        "            # correct the prediction\n",
        "            yhat = yhat + pred_error\n",
        "            self.predictions.append(yhat)\n",
        "            self.history.append(error)\n",
        "            # print('predicted=%f, expected=%f' % (yhat, test_y[t]))\n",
        "        rmse = sqrt(mean_squared_error(self.test_y, self.predictions))\n",
        "        self.errors = np.absolute(self.test_y - np.array(self.predictions))\n",
        "        # print('Prediction Test RMSE: %.3f' % rmse)\n",
        "\n",
        "    def plot(self):\n",
        "        # plot predicted error\n",
        "        df_test = pd.DataFrame(self.df.iloc[self.train_size:].values)\n",
        "\n",
        "        pyplot.figure(figsize=(50,5))\n",
        "        pyplot.plot(self.test_y,color ='blue', linewidth=0.5)\n",
        "        pyplot.plot(self.predictions, color='green',  linewidth=0.5)\n",
        "        pyplot.plot(self.errors, color = 'red',  linewidth=0.5)\n",
        "        pyplot.plot(df_test[df_test[1]==1.].index, df_test[df_test[1]==1.].iloc[:,0].values,'ro')\n",
        "        pyplot.show()\n",
        "\n",
        "\n",
        "    def get_roc_auc(self, plot=True, verbose=True):\n",
        "        # get the predicted errors of the anomaly points\n",
        "        indices = self.df[self.df['is_anomaly']==1].index >self.train_size\n",
        "        true_anomaly_predicted_errors = self.errors[self.df[self.df['is_anomaly']==1].index[indices] - self.train_size ]\n",
        "        if len(true_anomaly_predicted_errors) == 0:\n",
        "            return np.nan\n",
        "        # true_anomaly_predicted_errors = self.errors[self.df[self.df['is_anomaly']==1].index - self.train_size ]\n",
        "        # sort them \n",
        "        true_anomaly_predicted_errors = np.sort(true_anomaly_predicted_errors,axis=0).reshape(-1)\n",
        "        true_anomaly_predicted_errors_extended = np.r_[np.linspace(0,true_anomaly_predicted_errors[0],40)[:-1],true_anomaly_predicted_errors]\n",
        "        true_anomaly_predicted_errors_extended = np.r_[true_anomaly_predicted_errors_extended, true_anomaly_predicted_errors_extended[-1] + np.mean(true_anomaly_predicted_errors_extended)]\n",
        "                # now iterate thru the predicted errors from small to big\n",
        "        # for each value look how much other points have equal or bigger error\n",
        "        FPR = [] # fp/n  https://en.wikipedia.org/wiki/Sensitivity_and_specificity\n",
        "        TPR = [] # tp/p\n",
        "        p = len(true_anomaly_predicted_errors)\n",
        "        Thresholds = []\n",
        "        for predictederror in true_anomaly_predicted_errors_extended:\n",
        "            threshold = predictederror\n",
        "            tp = len(true_anomaly_predicted_errors[true_anomaly_predicted_errors>= threshold])\n",
        "            fp = len(self.errors[self.errors>=threshold])-len(true_anomaly_predicted_errors[true_anomaly_predicted_errors>=threshold])\n",
        "            \n",
        "            fpr =fp/len(self.errors)\n",
        "            FPR.append(fpr)\n",
        "            TPR.append(tp/p)\n",
        "            if verbose:\n",
        "                print(\"Threshold: {0:25}  - FP: {1:4} - TP: {2:4} - FPR: {3:21} - TPR: {4:4}\".format(threshold,fp, tp, fpr, tp/p))\n",
        "\n",
        "        import matplotlib.pyplot as plt\n",
        "        if plot:\n",
        "            plt.figure()\n",
        "            plt.axis([0, 1, 0, 1])\n",
        "            plt.plot(FPR,TPR)\n",
        "            plt.show() \n",
        "\n",
        "        # This is the AUC\n",
        "        from sklearn.metrics import auc\n",
        "        print('AUC: ' ,auc(FPR,TPR)        )\n",
        "        return auc(FPR,TPR)\n",
        "\n",
        "# ma_model = MA('drive/My Drive/MT/Experiments/Univariate/YahooServiceNetworkTraffic/A1Benchmark/real_14.csv',0.66)\n",
        "# ma_model.fit()\n",
        "# ma_model.predict()\n",
        "# ma_model.plot()\n",
        "# ma_model.get_roc_auc(verbose=False)"
      ],
      "execution_count": 0,
      "outputs": []
    },
    {
      "cell_type": "markdown",
      "metadata": {
        "id": "qqhcxs-hSFmF",
        "colab_type": "text"
      },
      "source": [
        "## ARIMA"
      ]
    },
    {
      "cell_type": "code",
      "metadata": {
        "id": "7K0sxciZSGjk",
        "colab_type": "code",
        "colab": {}
      },
      "source": [
        "from statsmodels.tsa.ar_model import AR\n",
        "from sklearn.metrics import mean_squared_error\n",
        "from math import sqrt\n",
        "from pandas import read_csv\n",
        "import pandas as pd\n",
        "from pandas import DataFrame\n",
        "from pandas import concat\n",
        "import numpy as np \n",
        "from matplotlib import pyplot\n",
        "from statsmodels.tsa.arima_model import ARIMA\n",
        "import warnings\n",
        "import sys\n",
        "\n",
        "class ARIMA_Compact:\n",
        "\n",
        "    def model_persistence(self, x):\n",
        "        return x\n",
        "\n",
        "    def create_persistence(self):\n",
        "        predictions = list()\n",
        "        for x in self.test_X:\n",
        "            yhat = self.model_persistence(x)\n",
        "            predictions.append(yhat)\n",
        "        rmse = sqrt(mean_squared_error(self.test_y, predictions))\n",
        "        # print('Train shape', self.train_X.shape, ' - Test shape:' , self.test_X.shape)\n",
        "        # print('Persistent Model RMSE: %.3f' % rmse)        \n",
        "\n",
        "    @classmethod\n",
        "    def from_DataFrame(cls,dataframe, train_rate,order) -> 'ARIMA_Compact':\n",
        "    \treturn cls(dataframe, train_rate,order)\n",
        "\n",
        "    @classmethod\n",
        "    def from_file(cls, file: str, train_rate,order) -> 'ARIMA_Compact':\n",
        "    \tdf = read_csv(path, header=0, index_col=0, parse_dates=True,squeeze=True)\n",
        "    \treturn cls(df, train_rate,order)\n",
        "     \n",
        "    def __init__(self, df, train_rate, order):\n",
        "        \n",
        "        self.order = order\n",
        "        self.df = df\n",
        "        self.df = self.df.reset_index(drop=True)\n",
        "        self.df.rename(columns={'anomaly':'is_anomaly'}, inplace=True)\n",
        "        series = pd.DataFrame(self.df.iloc[:,0].values)  \n",
        "        self.values = DataFrame(series.values)\n",
        "        self.dataframe = concat([self.values.shift(1), self.values], axis=1)\n",
        "        self.dataframe.columns = ['t', 't+1']\n",
        "\t\t\n",
        "\n",
        "        self.train_size = int(len(self.values) * train_rate)\n",
        "\n",
        "        self.train, self.test = self.dataframe.values[1:self.train_size], self.dataframe.values[self.train_size:]\n",
        "        self.train_X, self.train_y = self.train[:,0], self.train[:,1]\n",
        "        self.test_X, self.test_y = self.test[:,0], self.test[:,1]     \n",
        "        self.create_persistence()\n",
        "\n",
        "        X = series.values\n",
        "        self.train, self.test = X[1:self.train_size], X[self.train_size:]\n",
        "        self.train = self.train.astype('float32')\n",
        "        self.test = self.test.astype('float32')\n",
        "          \n",
        "    def fit(self,  verbose=False):\n",
        "        self.model = ARIMA(self.train, order = self.order)\n",
        "        self.model_fit = self.model.fit(disp=0)\n",
        "\n",
        "    \n",
        "    def predict(self):\n",
        "        warnings.filterwarnings(\"ignore\")\n",
        "        self.history = [x for x in self.train]\n",
        "        self.predictions = list()\n",
        "        for t in range(len(self.test)):\n",
        "            self.model = ARIMA(self.history,order=self.order)\n",
        "            self.model = self.model.fit(disp=0)\n",
        "            output = self.model.forecast()\n",
        "            yhat = output[0]\n",
        "            self.predictions.append(yhat)\n",
        "            obs = self.test[t]\n",
        "            self.history.append(obs)\n",
        "            sys.stdout.write('\\r'+str(t)+':'+str(len(self.test)))\n",
        "        print('')    \n",
        "\t\t\t\n",
        "        # for i in range(len(predictions)):\n",
        "        #     print('predicted=%f, expected=%f' % (predictions[i], test[i]))\n",
        "        rmse = sqrt(mean_squared_error(self.test, self.predictions))\n",
        "        self.errors = np.absolute(self.test - np.array(self.predictions))\n",
        "        # print('Prediction Test RMSE: %.3f' % rmse)\n",
        "\n",
        "    def plot(self):\n",
        "        # plot predicted error\n",
        "        pyplot.figure(figsize=(50,5))\n",
        "        pyplot.plot(self.test_y, color='green',  linewidth=0.5,label='True Values')\n",
        "        pyplot.plot(self.predictions, color='blue',  linewidth=0.5,label='Predictions')\n",
        "        pyplot.plot(self.errors, color = 'red',  linewidth=0.5, label='Errors')\n",
        "        pyplot.legend()\n",
        "        pyplot.show()\n",
        "\n",
        "\n",
        "    def get_roc_auc(self, plot=True, verbose=True):\n",
        "        # get the predicted errors of the anomaly points\n",
        "        indices = self.df[self.df['is_anomaly']==1].index >self.train_size\n",
        "        true_anomaly_predicted_errors = self.errors[self.df[self.df['is_anomaly']==1].index[indices] - self.train_size ]\n",
        "        if len(true_anomaly_predicted_errors) == 0:\n",
        "            return np.nan\n",
        "        # sort them \n",
        "        true_anomaly_predicted_errors = np.sort(true_anomaly_predicted_errors,axis=0).reshape(-1)\n",
        "        true_anomaly_predicted_errors_extended = np.r_[np.linspace(0,true_anomaly_predicted_errors[0],40)[:-1],true_anomaly_predicted_errors]\n",
        "        true_anomaly_predicted_errors_extended = np.r_[true_anomaly_predicted_errors_extended, max(true_anomaly_predicted_errors_extended[-1] + np.mean(true_anomaly_predicted_errors_extended),np.max(self.errors) + np.mean(self.errors))]\n",
        "        # now iterate thru the predicted errors from small to big\n",
        "        # for each value look how much other points have equal or bigger error\n",
        "        FPR = [] # fp/n  https://en.wikipedia.org/wiki/Sensitivity_and_specificity\n",
        "        TPR = [] # tp/p\n",
        "        p = len(true_anomaly_predicted_errors)\n",
        "        Thresholds = []\n",
        "        for predictederror in true_anomaly_predicted_errors_extended:\n",
        "            threshold = predictederror\n",
        "            tp = len(true_anomaly_predicted_errors[true_anomaly_predicted_errors>= threshold])\n",
        "            fp = len(self.errors[self.errors>=threshold])-len(true_anomaly_predicted_errors[true_anomaly_predicted_errors>=threshold])\n",
        "            \n",
        "            fpr =fp/len(self.errors)\n",
        "            FPR.append(fpr)\n",
        "            TPR.append(tp/p)\n",
        "            if verbose:\n",
        "                print(\"Threshold: {0:25}  - FP: {1:4} - TP: {2:4} - FPR: {3:21} - TPR: {4:4}\".format(threshold,fp, tp, fpr, tp/p))\n",
        "\n",
        "        import matplotlib.pyplot as plt\n",
        "        if plot:\n",
        "            plt.figure()\n",
        "            plt.axis([0, 1, 0, 1])\n",
        "            plt.plot(FPR,TPR)\n",
        "            plt.show() \n",
        "\n",
        "        # This is the AUC\n",
        "        from sklearn.metrics import auc\n",
        "        # print('AUC: ' ,auc(FPR,TPR)        )\n",
        "        return auc(FPR,TPR)\n",
        "\n",
        "# arma_model = ARIMA_Compact('drive/My Drive/MT/Experiments/Univariate/YahooServiceNetworkTraffic/A1Benchmark/real_1.csv', 0.66, (0,0,2))\n",
        "# arma_model.fit()\n",
        "# arma_model.predict()\n",
        "# arma_model.plot()\n",
        "# arma_model.get_roc_auc(verbose=False)"
      ],
      "execution_count": 0,
      "outputs": []
    },
    {
      "cell_type": "markdown",
      "metadata": {
        "id": "3-C-4FRb2tC8",
        "colab_type": "text"
      },
      "source": [
        "## Univariate OCSVM"
      ]
    },
    {
      "cell_type": "code",
      "metadata": {
        "id": "CkJSXyfN2sBl",
        "colab_type": "code",
        "colab": {}
      },
      "source": [
        "import warnings\n",
        "from sklearn.cluster import KMeans\n",
        "from statsmodels.tsa.ar_model import AR\n",
        "from sklearn.metrics import mean_squared_error\n",
        "from math import sqrt\n",
        "from pandas import read_csv\n",
        "import pandas as pd\n",
        "from pandas import DataFrame\n",
        "from pandas import concat\n",
        "import numpy as np \n",
        "from matplotlib import pyplot\n",
        "from sklearn.svm import OneClassSVM\n",
        "from sklearn import preprocessing\n",
        "import sys\n",
        "\n",
        "class OneClassSVM_AnomalyDetection:\n",
        "\n",
        "    @classmethod\n",
        "    def from_DataFrame(cls,dataframe,window_width, nu, train_rate) -> 'OneClassSVM_AnomalyDetection':\n",
        "    \treturn cls(dataframe, window_width, nu, train_rate)\n",
        "\n",
        "    @classmethod\n",
        "    def from_file(cls, path, window_width, nu, train_rate) -> 'OneClassSVM_AnomalyDetection':\n",
        "    \tdf = read_csv(path, header=0, index_col=0, parse_dates=True,squeeze=True)\n",
        "    \treturn cls(df,window_width, nu, train_rate)\n",
        "     \n",
        "    def __init__(self,df, window_width, nu, train_rate):\n",
        "        self.df = df\n",
        "        self.df = self.df.reset_index(drop=True)\n",
        "        self.df.rename(columns={'anomaly':'is_anomaly'}, inplace=True)\n",
        "        self.nu = nu\n",
        "        self.window_width = window_width\n",
        "        series = pd.DataFrame(self.df.iloc[:,0].values)  \n",
        "        self.values = DataFrame(series.values)\n",
        "        self.dataframe = concat([self.values.shift(1), self.values], axis=1)\n",
        "        self.dataframe.columns = ['t', 't+1']\n",
        "\n",
        "        self.train_size = int(len(self.values) * train_rate)\n",
        "\n",
        "        # train_labeled, test_labeled = self.dataframe.values[1:self.train_size], self.dataframe.values[self.train_size:]\n",
        "        # self.train_X, self.train_y = train_labeled[:,0], train_labeled[:,1]\n",
        "        # self.test_X, self.test_y = test_labeled[:,0], test_labeled[:,1]     \n",
        "        # self.create_persistence()\n",
        "\n",
        "        # X = series.values\n",
        "        # self.train, self.test = X[1:self.train_size], X[self.train_size:]    \n",
        "\n",
        "    def __build_sets(self):\n",
        "        train_labeled, test_labeled = self.dataframe.values[1:self.train_size], self.dataframe.values[self.train_size:]\n",
        "        self.train_X, self.train_y = train_labeled[:,0], train_labeled[:,1]\n",
        "        self.test_X, self.test_y = test_labeled[:,0], test_labeled[:,1]   \n",
        "\n",
        "        X = self.dataframe.iloc[:,1].values\n",
        "        self.train, self.test = X[1:self.train_size], X[self.train_size:]    \n",
        "\n",
        "    def standardize_dataframe(self):\n",
        "        X = self.dataframe.values\n",
        "        self.scalar = preprocessing.StandardScaler().fit(X)\n",
        "        X = self.scalar.transform(X)\n",
        "        self.dataframe = pd.DataFrame(X)\n",
        "\n",
        "    def inverse_standardize_dataframe(self):\n",
        "        X = self.dataframe.values\n",
        "        X = self.scalar.inverse_transform(X)\n",
        "        self.dataframe = pd.DataFrame(X)\n",
        "\n",
        "\n",
        "\n",
        "    def model_persistence(self, x):\n",
        "        return x\n",
        "        \n",
        "    def create_persistence(self):\n",
        "        rmse = sqrt(mean_squared_error(self.dataframe['t'].iloc[self.train_size:], self.dataframe['t+1'].iloc[self.train_size::]))\n",
        "#         print('Persistent Model RMSE: %.3f' % rmse)   \n",
        "\n",
        "    def fit(self):\n",
        "        self.create_persistence()\n",
        "        self.standardize_dataframe()\n",
        "        self.__build_sets()\n",
        "                \n",
        "        self.compute_anomalyScores()\n",
        "        self.inverse_standardize_dataframe()\n",
        "    \n",
        "    def getWindowedVectors(self, X):\n",
        "        vectors = []\n",
        "        for i,_ in enumerate(X[:-self.window_width+1]):\n",
        "            vectors.append(X[i:i+self.window_width])\n",
        "        return vectors\n",
        "\n",
        "    def compute_anomalyScores(self):\n",
        "        self.errors = np.zeros_like(self.test)\n",
        "        # compute anomalies\n",
        "        warnings.filterwarnings(\"ignore\")\n",
        "\n",
        "        # history = self.getWindowedVectors(self.train)\n",
        "\n",
        "        for i,_ in enumerate(self.test[:-self.window_width+1]):\n",
        "            sys.stdout.write('\\r'+str(i)+':'+str(len(self.test) - self.window_width))\n",
        "\n",
        "            window = self.test[i:i+self.window_width]\n",
        "            window2D = np.zeros((len(window),2))\n",
        "            window2D[:,1] = window\n",
        "            clf=OneClassSVM(nu=self.nu)\n",
        "            clf.fit(window2D)\n",
        "            error = clf.decision_function(window2D) \n",
        "            error[error>0] = 0\n",
        "            self.errors[i:i+self.window_width] += error*-10\n",
        "\n",
        "\n",
        "        # normalize anomaly score\n",
        "        self.errors[:-self.window_width+1] /= self.window_width\n",
        "        for i,error in enumerate(self.test[-self.window_width+1:]):\n",
        "            self.errors[-self.window_width + 1 + i] /=self.window_width-(i+1)\n",
        "\n",
        "        # self.errors_original = self.errors\n",
        "        # scalar = preprocessing.MinMaxScaler((0,1)).fit(self.errors.reshape(-1,1))\n",
        "        # self.errors = scalar.transform(self.errors.reshape(-1,1))*10\n",
        "\n",
        "\n",
        "    def plot(self):\n",
        "        df_test = pd.DataFrame(self.df.iloc[self.train_size:].values)\n",
        "\n",
        "        pyplot.figure(figsize=(50,5))\n",
        "        pyplot.plot(self.test)\n",
        "        pyplot.plot(self.errors, color = 'red',  linewidth=0.5)\n",
        "        pyplot.plot(df_test[df_test[1]==1.].index, df_test[df_test[1]==1.].iloc[:,0].values,'ro')\n",
        "        pyplot.show()\n",
        "\n",
        "    def get_roc_auc(self, plot=True, verbose=True):\n",
        "        # get the predicted errors of the anomaly points\n",
        "        indices = self.df[self.df['is_anomaly']==1].index >self.train_size\n",
        "        true_anomaly_predicted_errors = self.errors[self.df[self.df['is_anomaly']==1].index[indices] - self.train_size ]\n",
        "        if len(true_anomaly_predicted_errors) == 0:\n",
        "            return np.nan\n",
        "        # sort them \n",
        "        true_anomaly_predicted_errors = np.sort(true_anomaly_predicted_errors,axis=0).reshape(-1)\n",
        "        true_anomaly_predicted_errors_extended = np.r_[np.linspace(0,true_anomaly_predicted_errors[0],40)[:-1],true_anomaly_predicted_errors]\n",
        "        true_anomaly_predicted_errors_extended = np.r_[true_anomaly_predicted_errors_extended, true_anomaly_predicted_errors_extended[-1] + np.mean(true_anomaly_predicted_errors_extended)]\n",
        "                # now iterate thru the predicted errors from small to big\n",
        "        # for each value look how much other points have equal or bigger error\n",
        "        FPR = [] # fp/n  https://en.wikipedia.org/wiki/Sensitivity_and_specificity\n",
        "        TPR = [] # tp/p\n",
        "        p = len(true_anomaly_predicted_errors)\n",
        "        Thresholds = []\n",
        "        for predictederror in true_anomaly_predicted_errors_extended:\n",
        "            threshold = predictederror\n",
        "            tp = len(true_anomaly_predicted_errors[true_anomaly_predicted_errors>= threshold])\n",
        "            fp = len(self.errors[self.errors>=threshold])-len(true_anomaly_predicted_errors[true_anomaly_predicted_errors>=threshold])\n",
        "            \n",
        "            fpr =fp/len(self.errors)\n",
        "            FPR.append(fpr)\n",
        "            TPR.append(tp/p)\n",
        "            if verbose:\n",
        "                print(\"Threshold: {0:25}  - FP: {1:4} - TP: {2:4} - FPR: {3:21} - TPR: {4:4}\".format(threshold,fp, tp, fpr, tp/p))\n",
        "\n",
        "        import matplotlib.pyplot as plt\n",
        "        if plot:\n",
        "            plt.figure()\n",
        "            plt.axis([0, 1, 0, 1])\n",
        "            plt.plot(FPR,TPR)\n",
        "            plt.show() \n",
        "\n",
        "        # This is the AUC\n",
        "        from sklearn.metrics import auc\n",
        "        print('AUC: ' ,auc(FPR,TPR)        )\n",
        "        return auc(FPR,TPR)\n",
        "\n",
        "\n",
        "# iforest = OneClassSVM_AnomalyDetection.from_file('drive/My Drive/MT/Experiments/Univariate/YahooServiceNetworkTraffic/A1Benchmark/real_1.csv',30,0.7,0.3)\n",
        "# iforest.fit()\n",
        "# iforest.plot()\n",
        "# iforest.get_roc_auc(verbose=False)"
      ],
      "execution_count": 0,
      "outputs": []
    },
    {
      "cell_type": "markdown",
      "metadata": {
        "id": "Ri5n4ZQKH7Vt",
        "colab_type": "text"
      },
      "source": [
        "## XGBoost"
      ]
    },
    {
      "cell_type": "code",
      "metadata": {
        "id": "w75-MoAFH8e6",
        "colab_type": "code",
        "colab": {}
      },
      "source": [
        "import warnings\n",
        "from sklearn.cluster import KMeans\n",
        "from statsmodels.tsa.ar_model import AR\n",
        "from sklearn.metrics import mean_squared_error\n",
        "from math import sqrt\n",
        "from pandas import read_csv\n",
        "import pandas as pd\n",
        "from pandas import DataFrame\n",
        "from pandas import concat\n",
        "import numpy as np \n",
        "from matplotlib import pyplot\n",
        "from xgboost import XGBRegressor\n",
        "from sklearn import preprocessing\n",
        "import sys\n",
        "\n",
        "class XGBRegressor_AnomalyDetection:\n",
        "\n",
        "    @classmethod\n",
        "    def from_DataFrame(cls,dataframe,window_width, train_rate) -> 'XGBRegressor_AnomalyDetection':\n",
        "    \treturn cls(dataframe, window_width, train_rate)\n",
        "\n",
        "    @classmethod\n",
        "    def from_file(cls, path, window_width, train_rate) -> 'XGBRegressor_AnomalyDetection':\n",
        "    \tdf = read_csv(path, header=0, index_col=0, parse_dates=True,squeeze=True)\n",
        "    \treturn cls(df,window_width, train_rate)\n",
        "         \n",
        "    def __init__(self,df, window_width, train_rate):\n",
        "        self.df = df\n",
        "        self.df = self.df.reset_index(drop=True)\n",
        "        self.df.rename(columns={'anomaly':'is_anomaly'}, inplace=True)\n",
        "        self.window_width = window_width\n",
        "        series = pd.DataFrame(self.df.iloc[:,0].values)  \n",
        "        self.values = DataFrame(series.values)\n",
        "        self.dataframe = concat([self.values.shift(1), self.values], axis=1)\n",
        "        self.dataframe.columns = ['t', 't+1']\n",
        "\n",
        "        self.train_size = int(len(self.values) * train_rate)\n",
        "\n",
        "        # train_labeled, test_labeled = self.dataframe.values[1:self.train_size], self.dataframe.values[self.train_size:]\n",
        "        # self.train_X, self.train_y = train_labeled[:,0], train_labeled[:,1]\n",
        "        # self.test_X, self.test_y = test_labeled[:,0], test_labeled[:,1]     \n",
        "        # self.create_persistence()\n",
        "\n",
        "        # X = series.values\n",
        "        # self.train, self.test = X[1:self.train_size], X[self.train_size:]    \n",
        "\n",
        "    def __build_sets(self):\n",
        "        train_labeled, test_labeled = self.dataframe.values[1:self.train_size], self.dataframe.values[self.train_size:]\n",
        "        self.train_X, self.train_y = train_labeled[:,0], train_labeled[:,1]\n",
        "        self.test_X, self.test_y = test_labeled[:,0], test_labeled[:,1]   \n",
        "\n",
        "        X = self.dataframe.iloc[:,1].values\n",
        "        self.train, self.test = X[1:self.train_size], X[self.train_size:]    \n",
        "\n",
        "    def standardize_dataframe(self):\n",
        "        X = self.dataframe.values\n",
        "        self.scalar = preprocessing.StandardScaler().fit(X)\n",
        "        X = self.scalar.transform(X)\n",
        "        self.dataframe = pd.DataFrame(X)\n",
        "\n",
        "    def inverse_standardize_dataframe(self):\n",
        "        X = self.dataframe.values\n",
        "        X = self.scalar.inverse_transform(X)\n",
        "        self.dataframe = pd.DataFrame(X)\n",
        "\n",
        "\n",
        "\n",
        "    def model_persistence(self, x):\n",
        "        return x\n",
        "        \n",
        "    def create_persistence(self):\n",
        "        rmse = sqrt(mean_squared_error(self.dataframe['t'].iloc[self.train_size:], self.dataframe['t+1'].iloc[self.train_size::]))\n",
        "#         print('Persistent Model RMSE: %.3f' % rmse)   \n",
        "\n",
        "    def fit(self):\n",
        "        self.create_persistence()\n",
        "        self.__build_sets()\n",
        "                \n",
        "        self.compute_anomalyScores()\n",
        "    \n",
        "    def getWindowedVectors(self, X):\n",
        "        vectors = []\n",
        "        for i,_ in enumerate(X[:-self.window_width+1]):\n",
        "            vectors.append(X[i:i+self.window_width])\n",
        "        return vectors\n",
        "\n",
        "    def compute_anomalyScores(self):\n",
        "\n",
        "        xgb = XGBRegressor()\n",
        "        xgb.fit(self.train_X.reshape(-1,1),self.train_y.reshape(-1,1))\n",
        "\n",
        "        self.predictions = xgb.predict(self.test_X.reshape(-1,1))\n",
        "        rmse = sqrt(mean_squared_error(self.test, self.predictions))\n",
        "        self.errors = np.absolute(self.test - np.array(self.predictions))\n",
        "#         print('Prediction Test RMSE: %.3f' % rmse)\n",
        "    \n",
        "\n",
        "    def plot(self):\n",
        "        # plot predicted error\n",
        "        df_test = pd.DataFrame(self.df.iloc[self.train_size:].values)\n",
        "\n",
        "        pyplot.figure(figsize=(50,5))\n",
        "        pyplot.plot(self.test)\n",
        "        pyplot.plot(self.predictions, color='blue')\n",
        "        pyplot.plot(self.errors, color = 'red',  linewidth=0.5)\n",
        "        pyplot.plot(df_test[df_test[1]==1.].index, df_test[df_test[1]==1.].iloc[:,0].values,'ro')\n",
        "        pyplot.show()\n",
        "\n",
        "    def get_roc_auc(self, plot=True, verbose=True):\n",
        "        # get the predicted errors of the anomaly points\n",
        "        indices = self.df[self.df['is_anomaly']==1].index >self.train_size\n",
        "        true_anomaly_predicted_errors = self.errors[self.df[self.df['is_anomaly']==1].index[indices] - self.train_size ]\n",
        "        if len(true_anomaly_predicted_errors) == 0:\n",
        "            return np.nan\n",
        "        # sort them \n",
        "        true_anomaly_predicted_errors = np.sort(true_anomaly_predicted_errors,axis=0).reshape(-1)\n",
        "        true_anomaly_predicted_errors_extended = np.r_[np.linspace(0,true_anomaly_predicted_errors[0],40)[:-1],true_anomaly_predicted_errors]\n",
        "        true_anomaly_predicted_errors_extended = np.r_[true_anomaly_predicted_errors_extended, true_anomaly_predicted_errors_extended[-1] + np.mean(true_anomaly_predicted_errors_extended)]\n",
        "                # now iterate thru the predicted errors from small to big\n",
        "        # for each value look how much other points have equal or bigger error\n",
        "        FPR = [] # fp/n  https://en.wikipedia.org/wiki/Sensitivity_and_specificity\n",
        "        TPR = [] # tp/p\n",
        "        p = len(true_anomaly_predicted_errors)\n",
        "        Thresholds = []\n",
        "        for predictederror in true_anomaly_predicted_errors_extended:\n",
        "            threshold = predictederror\n",
        "            tp = len(true_anomaly_predicted_errors[true_anomaly_predicted_errors>= threshold])\n",
        "            fp = len(self.errors[self.errors>=threshold])-len(true_anomaly_predicted_errors[true_anomaly_predicted_errors>=threshold])\n",
        "            \n",
        "            fpr =fp/len(self.errors)\n",
        "            FPR.append(fpr)\n",
        "            TPR.append(tp/p)\n",
        "            if verbose:\n",
        "                print(\"Threshold: {0:25}  - FP: {1:4} - TP: {2:4} - FPR: {3:21} - TPR: {4:4}\".format(threshold,fp, tp, fpr, tp/p))\n",
        "\n",
        "        import matplotlib.pyplot as plt\n",
        "        if plot:\n",
        "            plt.figure()\n",
        "            plt.axis([0, 1, 0, 1])\n",
        "            plt.plot(FPR,TPR)\n",
        "            plt.show() \n",
        "\n",
        "        # This is the AUC\n",
        "        from sklearn.metrics import auc\n",
        "        print('AUC: ' ,auc(FPR,TPR)        )\n",
        "        return auc(FPR,TPR)\n",
        "\n",
        "# iforest = XGBRegressor_AnomalyDetection('Univariate/YahooServiceNetworkTraffic/A1Benchmark/real_4.csv',30,0.7,0.66)\n",
        "# iforest.fit()\n",
        "# iforest.plot()\n",
        "# iforest.get_roc_auc(verbose=False)"
      ],
      "execution_count": 0,
      "outputs": []
    },
    {
      "cell_type": "markdown",
      "metadata": {
        "id": "RmO9umor2rf-",
        "colab_type": "text"
      },
      "source": [
        "# Test Projected Values\n"
      ]
    },
    {
      "cell_type": "code",
      "metadata": {
        "id": "77D4dCral5MN",
        "colab_type": "code",
        "colab": {}
      },
      "source": [
        "cl = Projection_AnomalyDetection.from_DataFrame(df_synthetic,10,5,0.3)\n",
        "df = cl.get_projected_Dataframe()\n",
        "df.columns = ['V1','is_anomaly']"
      ],
      "execution_count": 0,
      "outputs": []
    },
    {
      "cell_type": "code",
      "metadata": {
        "id": "PbWFQwaiP4OB",
        "colab_type": "code",
        "outputId": "1a9e54e2-26a5-4263-ab5c-30cfa70418e2",
        "colab": {
          "base_uri": "https://localhost:8080/",
          "height": 357
        }
      },
      "source": [
        "plt.figure(figsize=(50,5))\n",
        "plt.ylim([0, 1.02])\n",
        "plt.plot(df.index, df.iloc[:,0].values)\n",
        "\n",
        "plt.plot(df[df['is_anomaly']==1].iloc[:,0],'ro')\n"
      ],
      "execution_count": 0,
      "outputs": [
        {
          "output_type": "execute_result",
          "data": {
            "text/plain": [
              "[<matplotlib.lines.Line2D at 0x7fc68ad49080>]"
            ]
          },
          "metadata": {
            "tags": []
          },
          "execution_count": 151
        },
        {
          "output_type": "display_data",
          "data": {
            "image/png": "[encoded data removed]",
            "text/plain": [
              "<Figure size 3600x360 with 1 Axes>"
            ]
          },
          "metadata": {
            "tags": []
          }
        }
      ]
    },
    {
      "cell_type": "code",
      "metadata": {
        "id": "u6J6CmeUSWV7",
        "colab_type": "code",
        "outputId": "8a66ad2a-ab4f-4997-b938-53574a49c72d",
        "colab": {
          "base_uri": "https://localhost:8080/",
          "height": 34
        }
      },
      "source": [
        "# arma_model = ARIMA_Compact('drive/My Drive/MT/Experiments/Univariate/YahooServiceNetworkTraffic/A1Benchmark/real_1.csv', 0.66, (0,0,2))\n",
        "# arma_model.fit()\n",
        "# arma_model.predict()\n",
        "# arma_model.plot()\n",
        "# arma_model.get_roc_auc(verbose=False)\n",
        "\n",
        "arima_model = ARIMA_Compact.from_DataFrame(df,0.3, (1,0,2))\n",
        "arima_model.fit()\n",
        "arima_model.predict()\n",
        "arima_model.plot()\n",
        "arima_model.get_roc_auc(verbose=False)"
      ],
      "execution_count": 0,
      "outputs": [
        {
          "output_type": "stream",
          "text": [
            "1192:2093"
          ],
          "name": "stdout"
        }
      ]
    },
    {
      "cell_type": "code",
      "metadata": {
        "id": "VHYE_BITHazx",
        "colab_type": "code",
        "outputId": "f3eaa692-5e5f-4932-dc5a-9bc2de786de7",
        "colab": {
          "base_uri": "https://localhost:8080/",
          "height": 645
        }
      },
      "source": [
        "\n",
        "xbg = XGBRegressor_AnomalyDetection.from_DataFrame(df,30,0.4)\n",
        "xbg.fit()\n",
        "xbg.plot()\n",
        "xbg.get_roc_auc(verbose=False)\n"
      ],
      "execution_count": 0,
      "outputs": [
        {
          "output_type": "stream",
          "text": [
            "[19:58:50] WARNING: /workspace/src/objective/regression_obj.cu:152: reg:linear is now deprecated in favor of reg:squarederror.\n"
          ],
          "name": "stdout"
        },
        {
          "output_type": "display_data",
          "data": {
            "image/png": "[encoded data removed]",
            "text/plain": [
              "<Figure size 3600x360 with 1 Axes>"
            ]
          },
          "metadata": {
            "tags": []
          }
        },
        {
          "output_type": "display_data",
          "data": {
            "image/png": "[encoded data removed]",
            "text/plain": [
              "<Figure size 432x288 with 1 Axes>"
            ]
          },
          "metadata": {
            "tags": []
          }
        },
        {
          "output_type": "stream",
          "text": [
            "AUC:  0.9546703296703297\n"
          ],
          "name": "stdout"
        },
        {
          "output_type": "execute_result",
          "data": {
            "text/plain": [
              "0.9546703296703297"
            ]
          },
          "metadata": {
            "tags": []
          },
          "execution_count": 153
        }
      ]
    },
    {
      "cell_type": "code",
      "metadata": {
        "id": "SSjFYuREGdbe",
        "colab_type": "code",
        "outputId": "16b6080e-cd49-44a6-dc76-1cfd6566e317",
        "colab": {
          "base_uri": "https://localhost:8080/",
          "height": 572
        }
      },
      "source": [
        "ma = MA.from_DataFrame(df,0.3)\n",
        "ma.fit()\n",
        "ma.predict()\n",
        "ma.plot()\n",
        "ma.get_roc_auc(verbose=False)"
      ],
      "execution_count": 0,
      "outputs": [
        {
          "output_type": "display_data",
          "data": {
            "image/png": "[encoded data removed]",
            "text/plain": [
              "<Figure size 3600x288 with 1 Axes>"
            ]
          },
          "metadata": {
            "tags": []
          }
        },
        {
          "output_type": "display_data",
          "data": {
            "image/png": "[encoded data removed]",
            "text/plain": [
              "<Figure size 432x288 with 1 Axes>"
            ]
          },
          "metadata": {
            "tags": []
          }
        },
        {
          "output_type": "stream",
          "text": [
            "AUC:  0.9597501877004982\n"
          ],
          "name": "stdout"
        },
        {
          "output_type": "execute_result",
          "data": {
            "text/plain": [
              "0.9597501877004982"
            ]
          },
          "metadata": {
            "tags": []
          },
          "execution_count": 154
        }
      ]
    },
    {
      "cell_type": "code",
      "metadata": {
        "id": "De9xhsjl4vDi",
        "colab_type": "code",
        "outputId": "f4e59783-a0f3-4f8e-d551-fed1597d950c",
        "colab": {
          "base_uri": "https://localhost:8080/",
          "height": 645
        }
      },
      "source": [
        "ocsvm = OneClassSVM_AnomalyDetection.from_DataFrame(df,30,0.7,0.3)\n",
        "ocsvm.fit()\n",
        "ocsvm.plot()\n",
        "ocsvm.get_roc_auc(verbose=False)"
      ],
      "execution_count": 0,
      "outputs": [
        {
          "output_type": "stream",
          "text": [
            "2063:2063"
          ],
          "name": "stdout"
        },
        {
          "output_type": "display_data",
          "data": {
            "image/png": "[encoded data removed]",
            "text/plain": [
              "<Figure size 3600x360 with 1 Axes>"
            ]
          },
          "metadata": {
            "tags": []
          }
        },
        {
          "output_type": "display_data",
          "data": {
            "image/png": "[encoded data removed]",
            "text/plain": [
              "<Figure size 432x288 with 1 Axes>"
            ]
          },
          "metadata": {
            "tags": []
          }
        },
        {
          "output_type": "stream",
          "text": [
            "AUC:  0.9116033035287694\n"
          ],
          "name": "stdout"
        },
        {
          "output_type": "execute_result",
          "data": {
            "text/plain": [
              "0.9116033035287694"
            ]
          },
          "metadata": {
            "tags": []
          },
          "execution_count": 155
        }
      ]
    },
    {
      "cell_type": "code",
      "metadata": {
        "id": "szJk7x8Q0_ax",
        "colab_type": "code",
        "outputId": "edfff776-203d-4c62-d1a6-bdaf8435c6cc",
        "colab": {
          "base_uri": "https://localhost:8080/",
          "height": 627
        }
      },
      "source": [
        "ar_model = AR_Compact.from_DataFrame(df,0.3)\n",
        "# ar_model = AR_Compact('drive/My Drive/MT/Experiments/Univariate/YahooServiceNetworkTraffic/A4Benchmark/A4Benchmark-TS18.csv', 0.3)\n",
        "ar_model.fit()\n",
        "ar_model.predict()\n",
        "ar_model.plot()\n",
        "ar_model.get_roc_auc(verbose=False)"
      ],
      "execution_count": 0,
      "outputs": [
        {
          "output_type": "display_data",
          "data": {
            "image/png": "[encoded data removed]",
            "text/plain": [
              "<Figure size 3600x360 with 1 Axes>"
            ]
          },
          "metadata": {
            "tags": []
          }
        },
        {
          "output_type": "display_data",
          "data": {
            "image/png": "[encoded data removed]",
            "text/plain": [
              "<Figure size 432x288 with 1 Axes>"
            ]
          },
          "metadata": {
            "tags": []
          }
        },
        {
          "output_type": "stream",
          "text": [
            "AUC:  0.960169954269333\n"
          ],
          "name": "stdout"
        },
        {
          "output_type": "execute_result",
          "data": {
            "text/plain": [
              "0.960169954269333"
            ]
          },
          "metadata": {
            "tags": []
          },
          "execution_count": 156
        }
      ]
    },
    {
      "cell_type": "markdown",
      "metadata": {
        "id": "eQaiGgagYl7P",
        "colab_type": "text"
      },
      "source": [
        "# Projection"
      ]
    },
    {
      "cell_type": "code",
      "metadata": {
        "id": "GYmonrxuYoMv",
        "colab_type": "code",
        "colab": {}
      },
      "source": [
        "import warnings\n",
        "from sklearn.cluster import KMeans\n",
        "from statsmodels.tsa.ar_model import AR\n",
        "from sklearn.metrics import mean_squared_error\n",
        "from math import sqrt\n",
        "from pandas import read_csv\n",
        "import pandas as pd\n",
        "from pandas import DataFrame\n",
        "from pandas import concat\n",
        "import numpy as np \n",
        "from matplotlib import pyplot\n",
        "from xgboost import XGBRegressor\n",
        "from sklearn import preprocessing\n",
        "import sys\n",
        "from tensorflow import set_random_seed\n",
        "set_random_seed(42)\n",
        "from numpy.random import seed\n",
        "import numpy\n",
        "import matplotlib.pyplot as plt\n",
        "import pandas\n",
        "import math\n",
        "from keras.models import Sequential\n",
        "from keras.layers import Dense\n",
        "from keras.layers import LSTM\n",
        "from sklearn.preprocessing import MinMaxScaler\n",
        "from sklearn.metrics import mean_squared_error\n",
        "import numpy as np\n",
        "from keras.layers import Conv1D,MaxPooling1D,Flatten\n",
        "seed(42)\n",
        "from keras import regularizers\n",
        "\n",
        "def warn(*args, **kwargs):\n",
        "    pass\n",
        "    \n",
        "class Projection_AnomalyDetection:\n",
        "\n",
        "    @classmethod\n",
        "    def from_DataFrame(cls,dataframe,window_width, dimension, train_rate) -> 'Projection_AnomalyDetection':\n",
        "    \treturn cls(dataframe, window_width, dimension, train_rate)\n",
        "\n",
        "    @classmethod\n",
        "    def from_file(cls, path, window_width, dimension, train_rate) -> 'Projection_AnomalyDetection':\n",
        "    \tdf = read_csv(path, header=0, index_col=None, parse_dates=True,squeeze=True)\n",
        "    \treturn cls(df,window_width, dimension, train_rate)\n",
        "         \n",
        "    # def __init__(self,path, window_width, dimension, train_rate):\n",
        "\n",
        "    #     self.dimension = dimension\n",
        "    #     self.n_epochs = n_epochs\n",
        "    #     self.window_width = window_width\n",
        "        \n",
        "    #     self.n_filters = n_filters\n",
        "    #     self.kernel_size = kernel_size\n",
        "    #     self.n_dense = n_dense\n",
        "\n",
        "    #     self.df = read_csv(path, header=0, index_col=None, parse_dates=True,squeeze=True)\n",
        "    #     self.df = self.df.reset_index(drop=True)\n",
        "    #     self.df.rename(columns={'Target':'is_anomaly'}, inplace=True)\n",
        "    #     self.df.loc[self.df.is_anomaly == \"'Anomaly'\", 'is_anomaly'] = 1\n",
        "    #     self.df.loc[self.df.is_anomaly == \"'Normal'\", 'is_anomaly'] = 0\n",
        "        \n",
        "    #     self.X_origin = self.df.iloc[:,:dimension].values\n",
        "    #     self.Y_origin = self.df.iloc[:,-1].values\n",
        "\n",
        "    #     df_sensors = pd.DataFrame(self.df.iloc[:,:dimension].values)  \n",
        "    #     self.values = df_sensors\n",
        "    #     self.dataframe = concat([self.df.iloc[:,:-1].shift(1), self.df.iloc[:,:-1], self.df.iloc[:,-1]], axis=1)\n",
        "    #     self.dataframe.columns = np.r_[np.array(['V'+str(i)+'_t' for i in range(1,10)]),np.array(['V'+str(i)+'_t+1' for i in range(1,10)]),['is_anomaly']]\n",
        "\n",
        "    #     # self.dataframe = concat([self.values.shift(1), self.values], axis=1)\n",
        "    #     # self.dataframe.columns = ['t', 't+1']\n",
        "\n",
        "    #     self.train_size = int(len(self.values) * train_rate)  \n",
        "\n",
        "    def __init__(self,dataframe, window_width, dimension, train_rate):\n",
        "\n",
        "        self.df = dataframe\n",
        "        self.dimension = dimension\n",
        "        self.window_width = window_width\n",
        "        self.df = self.df.reset_index(drop=True)\n",
        "        self.df.rename(columns={'Target':'is_anomaly'}, inplace=True)\n",
        "        self.df.loc[self.df.is_anomaly == \"'Anomaly'\", 'is_anomaly'] = 1\n",
        "        self.df.loc[self.df.is_anomaly == \"'Normal'\", 'is_anomaly'] = 0\n",
        "\n",
        "        self.X_origin = self.df.iloc[:,:dimension].values\n",
        "        self.Y_origin = self.df.iloc[:,-1].values\n",
        "\n",
        "        df_sensors = pd.DataFrame(self.df.iloc[:,:dimension].values)  \n",
        "        self.values = df_sensors\n",
        "        self.dataframe = concat([self.df.iloc[:,:-1].shift(1), self.df.iloc[:,:-1], self.df.iloc[:,-1]], axis=1)\n",
        "        self.dataframe.columns = np.r_[np.array(['V'+str(i)+'_t' for i in range(1,self.dimension+1)]),np.array(['V'+str(i)+'_t+1' for i in range(1,self.dimension+1)]),['is_anomaly']]\n",
        "\n",
        "\n",
        "\n",
        "        # self.train_size = int(len(self.values) * train_rate)   \n",
        "\n",
        "    def reset_dataframe(self, dataframe, dimension, window_width, train_rate):\n",
        "        self.df = ddataframef\n",
        "        self.dimension = dimension\n",
        "        self.window_width = window_width\n",
        "        self.df = self.df.reset_index(drop=True)\n",
        "        self.df.rename(columns={'Target':'is_anomaly'}, inplace=True)\n",
        "        self.df.loc[self.df.is_anomaly == \"'Anomaly'\", 'is_anomaly'] = 1\n",
        "        self.df.loc[self.df.is_anomaly == \"'Normal'\", 'is_anomaly'] = 0\n",
        "\n",
        "        df_sensors = pd.DataFrame(self.df.iloc[:,:dimension].values)  \n",
        "        self.values = df_sensors\n",
        "        self.dataframe = concat([self.df.iloc[:,:-1].shift(1), self.df.iloc[:,:-1], self.df.iloc[:,-1]], axis=1)\n",
        "        self.dataframe.columns = np.r_[np.array(['V'+str(i)+'_t' for i in range(1,self.dimension+1)]),np.array(['V'+str(i)+'_t+1' for i in range(1,self.dimension+1)]),['is_anomaly']]\n",
        "\n",
        "\n",
        "\n",
        "        self.train_size = int(len(self.values) * train_rate)   \n",
        "\n",
        "    def create_XY_lookback_dataset(self,dataset, look_back=1):\n",
        "        dataX, dataY = [], []\n",
        "        for i in range(len(dataset)-look_back-1):\n",
        "            a = dataset[i:(i+look_back),:self.dimension]\n",
        "            dataX.append(a)\n",
        "            dataY.append(dataset[i + look_back,:self.dimension].reshape(-1))\n",
        "        return numpy.array(dataX), numpy.array(dataY)\n",
        "    \n",
        "    def getWindowedVectors(self, X):\n",
        "        vectors = np.zeros((len(X) - self.window_width+1,self.window_width))\n",
        "        for i,_ in enumerate(X[:-self.window_width+1]):\n",
        "            vectors[i] = X[i:i+self.window_width]\n",
        "        return vectors\n",
        "\n",
        "\n",
        "\n",
        "\n",
        "    def build_sets(self):\n",
        "\n",
        "        self.X = self.dataframe.iloc[:,:-1].values\n",
        "        self.Y = self.dataframe.iloc[:,-1].values\n",
        "        self.train, self.test = X[1:self.train_size], X[self.train_size:]    \n",
        "        # print('Train.len:',len(self.train),' - Test.len:', len(self.test))\n",
        "\n",
        "        self.train_X, self.train_y = self.create_XY_lookback_dataset(self.train, self.window_width)\n",
        "        self.test_X, self.test_y = self.create_XY_lookback_dataset(self.test, self.window_width)\n",
        "        # print('TrainX.shape:',self.train_X.shape,' - TestX.shape:', self.test_X.shape,' - TrainY.shape:', self.train_y.shape,' - TestY.shape:', self.test_y.shape)\n",
        "\n",
        "        self.validationsize = int(self.train_X.shape[0] * 0.1)\n",
        "        self.val, self.test = self.test[:self.validationsize], self.test[self.validationsize:]\n",
        "        self.val_X, self.val_y= self.test_X[:self.validationsize], self.test_y[:self.validationsize]\n",
        "        self.test_X, self.test_y = self.test_X[self.validationsize:], self.test_y[self.validationsize:]\n",
        "        \n",
        "    def standardize_dataframe(self):\n",
        "\n",
        "        self.scalar = preprocessing.StandardScaler().fit(X)\n",
        "        self.X = self.scalar.transform(X)\n",
        "        self.dataframe = pd.DataFrame(np.concatenate((X,self.dataframe.values[:,-1].reshape(-1,1)),axis=1))\n",
        "        self.dataframe.columns = np.r_[np.array(['V'+str(i)+'_t' for i in range(1,self.dimension+1)]),np.array(['V'+str(i)+'_t+1' for i in range(1,self.dimension+1)]),['is_anomaly']]\n",
        "\n",
        "    def inverse_standardize_dataframe(self):\n",
        "        X = self.dataframe.values[:,:-1]\n",
        "        X = self.scalar.inverse_transform(X)\n",
        "        self.dataframe = pd.DataFrame(np.concatenate((X,self.dataframe.values[:,-1].reshape(-1,1)),axis=1))\n",
        "        self.dataframe.columns = np.r_[np.array(['V'+str(i)+'_t' for i in range(1,self.dimension+1)]),np.array(['V'+str(i)+'_t+1' for i in range(1,self.dimension+1)]),['is_anomaly']]\n",
        "\n",
        "\n",
        "\n",
        "    def model_persistence(self, x):\n",
        "        return x\n",
        "        \n",
        "    def create_persistence(self):\n",
        "        rmse = sqrt(mean_squared_error(self.dataframe.iloc[self.train_size:,:self.dimension], self.dataframe.iloc[self.train_size:,self.dimension:-1]))\n",
        "        # print('Persistent Model RMSE: %.3f' % rmse)   \n",
        "\n",
        "    def fit(self):\n",
        "        self.create_persistence()\n",
        "        self.standardize_dataframe()\n",
        "        self.build_sets()\n",
        "                \n",
        "        self.compute_anomalyScores()\n",
        "        self.inverse_standardize_dataframe()\n",
        "        self.compute_Errors_RMSE()\n",
        "\n",
        "\n",
        "    def plotTraining(self):\n",
        "        history_dict = self.history.history\n",
        "        loss_values = history_dict['loss'][1:]\n",
        "        val_loss_values = history_dict['val_loss'][1:]\n",
        "        self.n_epochs = range(2, self.n_epochs + 1)\n",
        "        plt.plot(self.n_epochs, loss_values, 'bo', label='Training loss')\n",
        "        plt.plot(self.n_epochs, val_loss_values, 'b', label='Validation loss')\n",
        "        plt.title('Training and validation loss')\n",
        "        plt.xlabel('Epochs')\n",
        "        plt.ylabel('Loss')\n",
        "        plt.legend()\n",
        "        plt.show()\n",
        "\n",
        "    def getchange(self, V_0,V_1):\n",
        "        Matrix = V_1.T@V_0@V_0.T@V_1\n",
        "        eigenvalues = np.linalg.eig(Matrix)[0]\n",
        "        lambda_min = np.min(eigenvalues)\n",
        "        return np.sqrt(max((1-lambda_min),0))\n",
        "        \n",
        "    def get_projected_Dataframe(self):\n",
        "        changes_anomaly = np.empty((len(self.X_origin)-self.window_width-1,2))\n",
        "        for i in range(len(self.X_origin)-self.window_width-1):\n",
        "            W_0 = self.X_origin[i:i+self.window_width]\n",
        "            W_1 = self.X_origin[i+1:i+self.window_width+1]\n",
        "            changes_anomaly[i] = [self.getchange(W_0,W_1),self.Y_origin[i]]         \n",
        "        return pd.DataFrame(changes_anomaly)\n",
        "\n",
        "    def compute_anomalyScores(self):\n",
        "\n",
        "        changes_anomaly = np.empty((len(self.train_X)-self.window_width-1,1))\n",
        "        for i in range(len(self.X)-window_width-1):\n",
        "            W_0 = self.X[i:i+window_width]\n",
        "            W_1 = self.X[i+1:i+window_width+1]\n",
        "            changes_anomaly[i] = [getchange(W_0,W_1),self.Y[i]]    \n",
        "\n",
        "        # self.train_X = numpy.reshape(self.train_X, (self.train_X.shape[0],self.dimension,self.train_X.shape[1]))\n",
        "        # self.test_X = numpy.reshape(self.test_X, (self.test_X.shape[0],self.dimension, self.test_X.shape[1]))\n",
        "\n",
        "        from keras.layers import Conv1D,MaxPooling1D,Flatten\n",
        "        self.model = Sequential()\n",
        "\n",
        "        self.model = Sequential()\n",
        "        self.model.add(LSTM(self.n_filters[0], batch_input_shape=(1, self.window_width, self.dimension), stateful=True, return_sequences=True))\n",
        "        self.model.add(LSTM(self.n_filters[1], batch_input_shape=(1, self.window_width, self.dimension), stateful=True))\n",
        "        self.model.add(Dense(self.dimension))\n",
        "        self.model.compile(optimizer='adam', loss='mse')\n",
        "        for i in range(self.n_epochs):\n",
        "            sys.stdout.write('\\r'+str(i)+':'+str(self.n_epochs))\n",
        "            self.model.fit(self.train_X, self.train_y,validation_data=(self.val_X,self.val_y), epochs=1, batch_size=1, verbose=0, shuffle=False)\n",
        "            self.model.reset_states()\n",
        "        print('')\n",
        "\n",
        "        # self.plotTraining()\n",
        "        self.predictions = self.model.predict(self.test_X, batch_size = 1)\n",
        "\n",
        "\n",
        "    def compute_Errors_RMSE(self):\n",
        "\n",
        "        rmse = sqrt(mean_squared_error(self.test_y.reshape(self.predictions.shape), self.predictions))\n",
        "        self.errors = np.absolute(self.test_y.reshape(self.predictions.shape) - np.array(self.predictions))\n",
        "        # print('Prediction Test RMS        E: %.3f' % rmse)       \n",
        "   \n",
        "\n",
        "    def plot(self):\n",
        "        fig, axes = plt.subplots(nrows=3, ncols=3, dpi=120, figsize=(50,5))\n",
        "        for i, ax in enumerate(axes.flatten()):\n",
        "            data = self.df[self.df.columns[i]].iloc[:200]\n",
        "            ax.plot(self.test_y[:,i], color='green',  linewidth=0.5,label='True Values')\n",
        "            ax.plot(self.predictions[:,i], color='blue',  linewidth=0.5,label='Predictions')\n",
        "            ax.plot(self.errors[:,i], color = 'red',  linewidth=0.5, label='Errors')\n",
        "            ax.legend()\n",
        "            \n",
        "        plt.show()\n",
        "\n",
        "    def get_roc_auc(self, plot=True, verbose=True):\n",
        "        self.euclidean_errors = numpy.linalg.norm(self.test_y.reshape(self.predictions.shape) - self.predictions, axis=1)\n",
        "        # get the predicted errors of the anomaly points\n",
        "        indices = self.df[self.df['is_anomaly']==1].index >self.train_size + self.validationsize\n",
        "        true_anomaly_predicted_errors = self.euclidean_errors[self.df[self.df['is_anomaly']==1].index[indices] - self.train_size - self.validationsize - self.window_width -1]\n",
        "        if len(true_anomaly_predicted_errors) == 0:\n",
        "            return np.nan\n",
        "        # sort them \n",
        "        true_anomaly_predicted_errors = np.sort(true_anomaly_predicted_errors,axis=0).reshape(-1)\n",
        "        true_anomaly_predicted_errors_extended = np.r_[np.linspace(0,true_anomaly_predicted_errors[0],40)[:-1],true_anomaly_predicted_errors]\n",
        "        true_anomaly_predicted_errors_extended = np.r_[true_anomaly_predicted_errors_extended, true_anomaly_predicted_errors_extended[-1] + np.mean(true_anomaly_predicted_errors_extended)]\n",
        "                # now iterate thru the predicted errors from small to big\n",
        "        # for each value look how much other points have equal or bigger error\n",
        "        FPR = [] # fp/n  https://en.wikipedia.org/wiki/Sensitivity_and_specificity\n",
        "        TPR = [] # tp/p\n",
        "        p = len(true_anomaly_predicted_errors)\n",
        "        Thresholds = []\n",
        "        for predictederror in true_anomaly_predicted_errors_extended:\n",
        "            threshold = predictederror\n",
        "            tp = len(true_anomaly_predicted_errors[true_anomaly_predicted_errors>= threshold])\n",
        "            fp = len(self.euclidean_errors[self.euclidean_errors>=threshold])-len(true_anomaly_predicted_errors[true_anomaly_predicted_errors>=threshold])\n",
        "            \n",
        "            fpr =fp/len(self.euclidean_errors)\n",
        "            FPR.append(fpr)\n",
        "            TPR.append(tp/p)\n",
        "            if verbose:\n",
        "                print(\"Threshold: {0:25}  - FP: {1:4} - TP: {2:4} - FPR: {3:21} - TPR: {4:4}\".format(threshold,fp, tp, fpr, tp/p))\n",
        "\n",
        "        import matplotlib.pyplot as plt\n",
        "        if plot:\n",
        "            plt.figure()\n",
        "            plt.axis([0, 1, 0, 1])\n",
        "            plt.plot(FPR,TPR)\n",
        "            plt.show() \n",
        "\n",
        "        # This is the AUC\n",
        "        from sklearn.metrics import auc\n",
        "        print('AUC: ' ,auc(FPR,TPR)        )\n",
        "        return auc(FPR,TPR)\n",
        "\n",
        "# filters = [[8,8,8,8], [4,4,4,4], [4,8,16,32], [16,32,48,64],  [32,64,12,24],[128,128,128,128],[64,64,64,64],[256,256,256,256],[128,256,512,1024]]\n",
        "# kernelsizes = [2,3,4,6,8,16]\n",
        "# dense = [18,36,72,144]\n",
        "\n",
        "# best_auc = [0,0]\n",
        "# histories = []\n",
        "# for f in filters:\n",
        "#     for k in kernelsizes:\n",
        "#         for d in dense:\n",
        "\n",
        "#             cnn = WaveNet_AnomalyDetection('drive/My Drive/MT/Experiments/Multivariate/NASA_Shuttle/40902.csv',30,9,20,0.3,f,k,d)\n",
        "#             hist = cnn.fit()\n",
        "#             histories.append(((f,k,d), hist))\n",
        "#             # cnn.plot()\n",
        "#             auc = cnn.get_roc_auc(verbose=False,plot=False)\n",
        "#             print(' auc:', auc, ' - f:', f, ' - k:', k, ' - d:', d)\n",
        "#             if best_auc[1] < auc:\n",
        "#                 print('New best auc:', auc, ' - f:', f, ' - k:', k, ' - d:', d)\n",
        "#                 best_auc = [(f,k,d),auc]\n",
        "\n",
        "# filters = [[8,8,8,8], [4,4,4,4], [4,8,16,32], [16,32,48,64],  [32,64,12,24],[128,128,128,128],[64,64,64,64],[256,256,256,256],[128,256,512,1024]]\n",
        "# kernelsizes = [2,3,4,6,8,16]\n",
        "# dense = [18,36,72,144]\n",
        "\n",
        "\n",
        "# for epochs in [50,60,70,80,100,150,200]:\n",
        "#     # cnn = LSTM_AnomalyDetection('drive/My Drive/MT/Experiments/Multivariate/NASA_Shuttle/40902.csv',30,9,20,0.3,[4,4],k,d)\n",
        "#     cnn = LSTM_AnomalyDetection(dataframe=df,window_width=13,dimension=5,n_epochs=epochs,train_rate=0.3,n_filters=[7,7])\n",
        "#     # cnn.reset_dataframe(df,5,13, 0.3)\n",
        "#     cnn.fit()\n",
        "#     # # cnn.plot()\n",
        "#     auc = cnn.get_roc_auc(verbose=False,plot=True)\n",
        "#     print(best_auc)\n",
        "#     # 0.59 40 EPochs"
      ],
      "execution_count": 0,
      "outputs": []
    },
    {
      "cell_type": "markdown",
      "metadata": {
        "id": "AIxHkAvC4na2",
        "colab_type": "text"
      },
      "source": [
        "## Evaluation with SD Results (Synthetic Data)"
      ]
    },
    {
      "cell_type": "code",
      "metadata": {
        "id": "ZH2XI3uQ48FL",
        "colab_type": "code",
        "outputId": "c73b0013-7793-4227-a892-940a823a6fa3",
        "colab": {
          "base_uri": "https://localhost:8080/",
          "height": 34
        }
      },
      "source": [
        "import datetime\n",
        "startTime = datetime.datetime.now()\n",
        "cl = Projection_AnomalyDetection.from_DataFrame(df_synthetic,10,5,0.3)\n",
        "df_projected = cl.get_projected_Dataframe()\n",
        "df_projected.columns = ['V1','is_anomaly']\n",
        "endTime = datetime.datetime.now()\n",
        "diff = endTime - startTime\n",
        "print('Time: ',diff.seconds)"
      ],
      "execution_count": 0,
      "outputs": [
        {
          "output_type": "stream",
          "text": [
            "Time:  0\n"
          ],
          "name": "stdout"
        }
      ]
    },
    {
      "cell_type": "markdown",
      "metadata": {
        "id": "zTsSExsf4so_",
        "colab_type": "text"
      },
      "source": [
        "### AR"
      ]
    },
    {
      "cell_type": "code",
      "metadata": {
        "id": "yw13AIuL4qSA",
        "colab_type": "code",
        "outputId": "8b2b35f3-2d06-4601-8d61-3126f7ffcb0f",
        "colab": {
          "base_uri": "https://localhost:8080/",
          "height": 52
        }
      },
      "source": [
        "import datetime\n",
        "startTime = datetime.datetime.now()\n",
        "\n",
        "ar_model = AR_Compact.from_DataFrame(df_projected,0.3)\n",
        "ar_model.fit()\n",
        "ar_model.predict()\n",
        "ar_model.get_roc_auc(verbose=False,plot=False)\n",
        "\n",
        "endTime = datetime.datetime.now()\n",
        "diff = endTime - startTime\n",
        "print('Time: ',diff.microseconds/1000, 'ms')"
      ],
      "execution_count": 0,
      "outputs": [
        {
          "output_type": "stream",
          "text": [
            "AUC:  0.9542249675790048\n",
            "Time:  205.158 ms\n"
          ],
          "name": "stdout"
        }
      ]
    },
    {
      "cell_type": "markdown",
      "metadata": {
        "id": "nfNxKjeJ6hy9",
        "colab_type": "text"
      },
      "source": [
        "### MA"
      ]
    },
    {
      "cell_type": "code",
      "metadata": {
        "id": "8WfzzXC36i5A",
        "colab_type": "code",
        "outputId": "05066864-6cbf-410a-9b66-429029a78d1a",
        "colab": {
          "base_uri": "https://localhost:8080/",
          "height": 52
        }
      },
      "source": [
        "import datetime\n",
        "startTime = datetime.datetime.now()\n",
        "\n",
        "ma = MA.from_DataFrame(df_projected,0.3)\n",
        "ma.fit()\n",
        "ma.predict()\n",
        "ma.get_roc_auc(verbose=False,plot=False)\n",
        "\n",
        "endTime = datetime.datetime.now()\n",
        "diff = endTime - startTime\n",
        "print('Time: ',diff.microseconds/1000, 'ms')"
      ],
      "execution_count": 0,
      "outputs": [
        {
          "output_type": "stream",
          "text": [
            "AUC:  0.9611698860146064\n",
            "Time:  75.569 ms\n"
          ],
          "name": "stdout"
        }
      ]
    },
    {
      "cell_type": "markdown",
      "metadata": {
        "id": "Lqe2nJBa7ApZ",
        "colab_type": "text"
      },
      "source": [
        "### ARIMA"
      ]
    },
    {
      "cell_type": "code",
      "metadata": {
        "id": "ZWldMa2Y7CJL",
        "colab_type": "code",
        "outputId": "ff1ead63-ea88-4436-d0f8-be61013d52cd",
        "colab": {
          "base_uri": "https://localhost:8080/",
          "height": 322
        }
      },
      "source": [
        "import datetime\n",
        "startTime = datetime.datetime.now()\n",
        "\n",
        "arima_model = ARIMA_Compact.from_DataFrame(df,0.3, (1,0,2))\n",
        "arima_model.fit()\n",
        "arima_model.predict()\n",
        "auc = arima_model.get_roc_auc(verbose=False)\n",
        "print(auc)\n",
        "endTime = datetime.datetime.now()\n",
        "diff = endTime - startTime\n",
        "print('Time: ',diff.microseconds/1000, 'ms')"
      ],
      "execution_count": 0,
      "outputs": [
        {
          "output_type": "stream",
          "text": [
            "2092:2093\n"
          ],
          "name": "stdout"
        },
        {
          "output_type": "display_data",
          "data": {
            "image/png": "[encoded data removed]",
            "text/plain": [
              "<Figure size 432x288 with 1 Axes>"
            ]
          },
          "metadata": {
            "tags": []
          }
        },
        {
          "output_type": "stream",
          "text": [
            "0.9622107705958638\n",
            "Time:  689.741 ms\n"
          ],
          "name": "stdout"
        }
      ]
    },
    {
      "cell_type": "code",
      "metadata": {
        "id": "f9a0-8P8AT1r",
        "colab_type": "code",
        "outputId": "62533bc2-8997-4712-9800-3f60ec138b9c",
        "colab": {
          "base_uri": "https://localhost:8080/",
          "height": 322
        }
      },
      "source": [
        "import datetime\n",
        "startTime = datetime.datetime.now()\n",
        "\n",
        "arima_model = ARIMA_Compact.from_DataFrame(df,0.3, (2,0,1))\n",
        "arima_model.fit()\n",
        "arima_model.predict()\n",
        "auc = arima_model.get_roc_auc(verbose=False)\n",
        "print(auc)\n",
        "endTime = datetime.datetime.now()\n",
        "diff = endTime - startTime\n",
        "print('Time: ',diff.microseconds/1000, 'ms')"
      ],
      "execution_count": 0,
      "outputs": [
        {
          "output_type": "stream",
          "text": [
            "2092:2093\n"
          ],
          "name": "stdout"
        },
        {
          "output_type": "display_data",
          "data": {
            "image/png": "[encoded data removed]",
            "text/plain": [
              "<Figure size 432x288 with 1 Axes>"
            ]
          },
          "metadata": {
            "tags": []
          }
        },
        {
          "output_type": "stream",
          "text": [
            "0.9617671148727049\n",
            "Time:  345.399 ms\n"
          ],
          "name": "stdout"
        }
      ]
    },
    {
      "cell_type": "code",
      "metadata": {
        "id": "-Rkb3Hk5AXWh",
        "colab_type": "code",
        "outputId": "b9f05120-c870-4dc7-c701-02f312e621ef",
        "colab": {
          "base_uri": "https://localhost:8080/",
          "height": 322
        }
      },
      "source": [
        "import datetime\n",
        "startTime = datetime.datetime.now()\n",
        "\n",
        "arima_model = ARIMA_Compact.from_DataFrame(df,0.3, (1,0,3))\n",
        "arima_model.fit()\n",
        "arima_model.predict()\n",
        "auc = arima_model.get_roc_auc(verbose=False)\n",
        "print(auc)\n",
        "endTime = datetime.datetime.now()\n",
        "diff = endTime - startTime\n",
        "print('Time: ',diff.microseconds/1000, 'ms')"
      ],
      "execution_count": 0,
      "outputs": [
        {
          "output_type": "stream",
          "text": [
            "2092:2093\n"
          ],
          "name": "stdout"
        },
        {
          "output_type": "display_data",
          "data": {
            "image/png": "[encoded data removed]",
            "text/plain": [
              "<Figure size 432x288 with 1 Axes>"
            ]
          },
          "metadata": {
            "tags": []
          }
        },
        {
          "output_type": "stream",
          "text": [
            "0.9597331240188384\n",
            "Time:  40.906 ms\n"
          ],
          "name": "stdout"
        }
      ]
    },
    {
      "cell_type": "code",
      "metadata": {
        "id": "7l3QtqwvAZQK",
        "colab_type": "code",
        "outputId": "84358250-716f-470a-d1b9-d3878e8d8dc9",
        "colab": {
          "base_uri": "https://localhost:8080/",
          "height": 322
        }
      },
      "source": [
        "import datetime\n",
        "startTime = datetime.datetime.now()\n",
        "\n",
        "arima_model = ARIMA_Compact.from_DataFrame(df,0.3, (3,0,1))\n",
        "arima_model.fit()\n",
        "arima_model.predict()\n",
        "auc = arima_model.get_roc_auc(verbose=False)\n",
        "print(auc)\n",
        "endTime = datetime.datetime.now()\n",
        "diff = endTime - startTime\n",
        "print('Time: ',diff.microseconds/1000, 'ms')"
      ],
      "execution_count": 0,
      "outputs": [
        {
          "output_type": "stream",
          "text": [
            "2092:2093\n"
          ],
          "name": "stdout"
        },
        {
          "output_type": "display_data",
          "data": {
            "image/png": "[encoded data removed]",
            "text/plain": [
              "<Figure size 432x288 with 1 Axes>"
            ]
          },
          "metadata": {
            "tags": []
          }
        },
        {
          "output_type": "stream",
          "text": [
            "0.961760289400041\n",
            "Time:  477.123 ms\n"
          ],
          "name": "stdout"
        }
      ]
    },
    {
      "cell_type": "code",
      "metadata": {
        "id": "0bMc7yo6AbL2",
        "colab_type": "code",
        "outputId": "de8bd493-d8fc-4d11-cce5-f2f679561c9b",
        "colab": {
          "base_uri": "https://localhost:8080/",
          "height": 322
        }
      },
      "source": [
        "import datetime\n",
        "startTime = datetime.datetime.now()\n",
        "\n",
        "arima_model = ARIMA_Compact.from_DataFrame(df,0.3, (2,0,3))\n",
        "arima_model.fit()\n",
        "arima_model.predict()\n",
        "auc = arima_model.get_roc_auc(verbose=False)\n",
        "print(auc)\n",
        "endTime = datetime.datetime.now()\n",
        "diff = endTime - startTime\n",
        "print('Time: ',diff.microseconds/1000, 'ms')"
      ],
      "execution_count": 0,
      "outputs": [
        {
          "output_type": "stream",
          "text": [
            "2092:2093\n"
          ],
          "name": "stdout"
        },
        {
          "output_type": "display_data",
          "data": {
            "image/png": "[encoded data removed]",
            "text/plain": [
              "<Figure size 432x288 with 1 Axes>"
            ]
          },
          "metadata": {
            "tags": []
          }
        },
        {
          "output_type": "stream",
          "text": [
            "0.9186642549996588\n",
            "Time:  65.954 ms\n"
          ],
          "name": "stdout"
        }
      ]
    },
    {
      "cell_type": "code",
      "metadata": {
        "id": "Qs2orLcJAdJ8",
        "colab_type": "code",
        "outputId": "c1e38075-06a5-44cc-8830-f0ebb84498bf",
        "colab": {
          "base_uri": "https://localhost:8080/",
          "height": 322
        }
      },
      "source": [
        "import datetime\n",
        "startTime = datetime.datetime.now()\n",
        "\n",
        "arima_model = ARIMA_Compact.from_DataFrame(df,0.3, (3,0,2))\n",
        "arima_model.fit()\n",
        "arima_model.predict()\n",
        "auc = arima_model.get_roc_auc(verbose=False)\n",
        "print(auc)\n",
        "endTime = datetime.datetime.now()\n",
        "diff = endTime - startTime\n",
        "print('Time: ',diff.microseconds/1000, 'ms')"
      ],
      "execution_count": 0,
      "outputs": [
        {
          "output_type": "stream",
          "text": [
            "2092:2093\n"
          ],
          "name": "stdout"
        },
        {
          "output_type": "display_data",
          "data": {
            "image/png": "[encoded data removed]",
            "text/plain": [
              "<Figure size 432x288 with 1 Axes>"
            ]
          },
          "metadata": {
            "tags": []
          }
        },
        {
          "output_type": "stream",
          "text": [
            "0.9437171524128045\n",
            "Time:  347.623 ms\n"
          ],
          "name": "stdout"
        }
      ]
    },
    {
      "cell_type": "markdown",
      "metadata": {
        "id": "jakC5tUn7P-v",
        "colab_type": "text"
      },
      "source": [
        "### OCSVM"
      ]
    },
    {
      "cell_type": "code",
      "metadata": {
        "id": "sDJ45ln_7S6H",
        "colab_type": "code",
        "outputId": "3b5ff4b3-a0ad-43bd-bae7-6ac3a9bdc06d",
        "colab": {
          "base_uri": "https://localhost:8080/",
          "height": 52
        }
      },
      "source": [
        "import datetime\n",
        "startTime = datetime.datetime.now()\n",
        "\n",
        "ocsvm = OneClassSVM_AnomalyDetection.from_DataFrame(df_projected,60,0.8,0.3)\n",
        "ocsvm.fit()\n",
        "ocsvm.get_roc_auc(verbose=False,plot=False)\n",
        "\n",
        "endTime = datetime.datetime.now()\n",
        "diff = endTime - startTime\n",
        "print('Time: ',diff.microseconds/1000, 'ms')"
      ],
      "execution_count": 0,
      "outputs": [
        {
          "output_type": "stream",
          "text": [
            "2033:2033AUC:  0.9524230427957135\n",
            "Time:  506.724 ms\n"
          ],
          "name": "stdout"
        }
      ]
    },
    {
      "cell_type": "markdown",
      "metadata": {
        "id": "jzHSeqHo8Mgt",
        "colab_type": "text"
      },
      "source": [
        "### XGBoost"
      ]
    },
    {
      "cell_type": "code",
      "metadata": {
        "id": "msTksYnX8N9y",
        "colab_type": "code",
        "outputId": "96edfcbf-120a-4470-a2c1-c9b183edb8e6",
        "colab": {
          "base_uri": "https://localhost:8080/",
          "height": 70
        }
      },
      "source": [
        "import datetime\n",
        "startTime = datetime.datetime.now()\n",
        "\n",
        "xbg = XGBRegressor_AnomalyDetection.from_DataFrame(df_projected,30,0.3)\n",
        "xbg.fit()\n",
        "xbg.get_roc_auc(verbose=False,plot=False)\n",
        "\n",
        "endTime = datetime.datetime.now()\n",
        "diff = endTime - startTime\n",
        "print('Time: ',diff.microseconds/1000, 'ms')"
      ],
      "execution_count": 0,
      "outputs": [
        {
          "output_type": "stream",
          "text": [
            "[01:48:55] WARNING: /workspace/src/objective/regression_obj.cu:152: reg:linear is now deprecated in favor of reg:squarederror.\n",
            "AUC:  0.9557606989284009\n",
            "Time:  41.665 ms\n"
          ],
          "name": "stdout"
        }
      ]
    },
    {
      "cell_type": "markdown",
      "metadata": {
        "id": "i8eJHHbe5tBj",
        "colab_type": "text"
      },
      "source": [
        "# PCI"
      ]
    },
    {
      "cell_type": "markdown",
      "metadata": {
        "id": "3fewb5p4YLEI",
        "colab_type": "text"
      },
      "source": [
        "## Evaluation with SD Results (Synthetic data)"
      ]
    },
    {
      "cell_type": "code",
      "metadata": {
        "id": "iebW1D7U5ukS",
        "colab_type": "code",
        "outputId": "779612ba-ae60-45f3-8f2e-b7548a5e4c39",
        "colab": {
          "base_uri": "https://localhost:8080/",
          "height": 304
        }
      },
      "source": [
        "import numpy as np\n",
        "import statistics\n",
        "import math\n",
        "import matplotlib.pyplot as plt\n",
        "import scipy.stats\n",
        "import ipywidgets as widgets\n",
        "import pandas as pd\n",
        "from datetime import datetime\n",
        "import matplotlib.pyplot as plt\n",
        "from pandas import read_csv\n",
        "from tqdm import tqdm_notebook, tnrange\n",
        "from matplotlib import pyplot\n",
        "\n",
        "\n",
        "class PCI:\n",
        "\n",
        "    @classmethod\n",
        "    def from_DataFrame(cls,dataframe,window_width, dimension) -> 'PCI':\n",
        "    \treturn cls(dataframe, dimension, window_width)\n",
        "\n",
        "    @classmethod\n",
        "    def from_file(cls, path, index_col, window_width, dimension) -> 'PCI':\n",
        "    \tdf = read_csv(path, header=0, index_col=index_col, parse_dates=True,squeeze=True)\n",
        "    \treturn cls(df, dimension, window_width)\n",
        "     \n",
        "    def __init__(self,dataframe, dimension, window_width):\n",
        "        self.window_width = window_width\n",
        "        self.dimension = dimension\n",
        "\n",
        "        self.df = dataframe\n",
        "        self.df = self.df.reset_index(drop=True)\n",
        "        self.df.rename(columns={'anomaly':'is_anomaly'}, inplace=True)\n",
        "        self.df.loc[self.df.is_anomaly == \"'Anomaly'\", 'is_anomaly'] = 1\n",
        "        self.df.loc[self.df.is_anomaly == \"'Normal'\", 'is_anomaly'] = 0\n",
        "\n",
        "        self.X_origin = self.df.iloc[:,:dimension].values\n",
        "        self.Y_origin = self.df.iloc[:,-1].values\n",
        "\n",
        "        # split into train and test sets\n",
        "\n",
        "        df_sensors = pd.DataFrame(self.df.iloc[:,:dimension].values)  \n",
        "        self.values = df_sensors\n",
        "\n",
        "        series = self.df.iloc[:,0]\n",
        "        self.X = series.values\n",
        "\n",
        "        self.test = self.X\n",
        "\n",
        "    def getWindow_Mean(self, sqlResult, row_index, column_index, window_width):\n",
        "        '''\n",
        "        sqlResult: The data from mysql database starting with the timestamp field\n",
        "        row_index: The record we want to analyze if it contains anomalies\n",
        "        column_index: the field in the sqlresult we want to analyze for the currenct record\n",
        "        window_width: the amount of data we bundle to compute mean and std \n",
        "        This function gets all the data that are window_width * 0.5 before and after the current data point and \n",
        "        then it computes the std and mean of it. Then it looks if they are more than 3*std away from the mean\n",
        "        '''\n",
        "        lst_field = []\n",
        "        lst_timestamp = []\n",
        "        for counter,x in enumerate(sqlResult):\n",
        "            lst_field.append(x)\n",
        "            lst_timestamp.append(counter)\n",
        "\n",
        "        index_begin = max(0,int(row_index-window_width/2))\n",
        "        index_end = min(len(lst_field),int(row_index+window_width/2))-1\n",
        "        sliced_lst_field = lst_field[index_begin:index_end]\n",
        "        sliced_lst_timestamp = lst_timestamp[index_begin:index_end]\n",
        "        mean=statistics.mean(sliced_lst_field)\n",
        "        std = statistics.stdev(sliced_lst_field)\n",
        "        lst_ad_field = []\n",
        "        lst_ad_timestamp = []\n",
        "        lst_ad_timestamp_range = []\n",
        "        for counter,elem in enumerate(sliced_lst_field):\n",
        "            if abs(elem - mean) > 3*(std):\n",
        "                lst_ad_field.append(elem)\n",
        "                lst_ad_timestamp.append(sliced_lst_timestamp[counter])\n",
        "                lst_ad_timestamp_range.append((lst_timestamp[index_begin],lst_timestamp[index_end-1]))\n",
        "        return lst_ad_timestamp,lst_ad_field, set(lst_ad_timestamp_range)\n",
        "\n",
        "    def getWindowedAnomalies(self, sql_result,show_range=False):\n",
        "        '''\n",
        "        sqlResult: The data from mysql database starting with the timestamp field\n",
        "        window_width: the amount of data we bundle to compute mean and std \n",
        "        show_range: If anomlay is detected for a data point, it marks the range of data that has been analyzed gray\n",
        "        This functions iterates over the whole data in sql_result and detects anomalies that have a value more than 3*std away from mean\n",
        "        it only analyzed this data for the second field in sql_result. The first field must contain the timestamp\n",
        "        '''\n",
        "        glb_lst_ad_timestamp, glb_lst_ad_field, glb_lst_ad_range_begin, glb_lst_ad_range_end = [],[], [],[]\n",
        "        lst_timestamp = []\n",
        "        lst_field = []\n",
        "        sliced_sqlResult = []\n",
        "        for counter, row in enumerate(sql_result):\n",
        "            lst_timestamp.append(counter)\n",
        "            lst_field.append(row)\n",
        "\n",
        "            lst_ad_timestamp, lst_ad_field, lst_ad_range = self.getWindow_Mean(sql_result,counter,1,self.window_width)\n",
        "            glb_lst_ad_timestamp += lst_ad_timestamp\n",
        "            glb_lst_ad_field += lst_ad_field\n",
        "            if show_range:\n",
        "                for ad_range in lst_ad_range:\n",
        "                    glb_lst_ad_range_begin.append(ad_range[0])\n",
        "                    glb_lst_ad_range_end.append(ad_range[1])\n",
        "\n",
        "        plt.figure(figsize=(18,5))\n",
        "        plt.plot(lst_timestamp, lst_field)\n",
        "\n",
        "        for counter,_ in enumerate(glb_lst_ad_range_begin):\n",
        "            plt.axvspan(glb_lst_ad_range_begin[counter], glb_lst_ad_range_end[counter], color='gray', alpha=0.1)\n",
        "\n",
        "        plt.plot(glb_lst_ad_timestamp, glb_lst_ad_field, linestyle=\"\",marker=\".\")\n",
        "        plt.show()\n",
        "\n",
        "    def calculatePCI(self, sql_result,index, k, BothSidedWindow= True):\n",
        "        '''\n",
        "        sqlResult: The data from mysql database starting with the timestamp field\n",
        "        index: The record we want to analyze if it contains anomalies\n",
        "        k: the k parameter from the paper\n",
        "        BothSideWindow: if true we look left and right of the datapoint, otherwise just left of the datapoint \n",
        "        This function implements completely the algorith proposed in the mentioned paper. Instead of using Students t-Test\n",
        "        I implemented a similar approach using Z-table of normal distribution\n",
        "        '''\n",
        "        lst_values = []\n",
        "        start = 0\n",
        "        end = 0\n",
        "        if BothSidedWindow:\n",
        "            start =max(0,index-k)\n",
        "            end = min(len(sql_result), index+k)-1\n",
        "        else:\n",
        "            start = max(0,index - 2*k)\n",
        "            end = min(len(sql_result),index)\n",
        "        v_i_zaehler = 0\n",
        "        v_i_nenner = 0\n",
        "        for counter,i in enumerate(range(start,end )):\n",
        "            if i == index:\n",
        "                continue\n",
        "            lst_values.append(sql_result[i])\n",
        "            w = 0\n",
        "            if i<index:\n",
        "                w = counter+1\n",
        "            else:\n",
        "                w = 2*k - counter \n",
        "            v_i_zaehler += sql_result[i]*w\n",
        "            v_i_nenner +=w\n",
        "        # if we cannot predict, just return the value\n",
        "        if v_i_zaehler == 0 or len(lst_values)<2: \n",
        "            return (sql_result[index]-1,sql_result[index]+1)\n",
        "        \n",
        "        v_index = v_i_zaehler/v_i_nenner\n",
        "        std = statistics.stdev(lst_values)\n",
        "\n",
        "        t_student=0\n",
        "        # the higher k the closer z to 0.5 - max = 120\n",
        "        # 0.5 + ((120-min(k,120))/120)*0.4999999999\n",
        "        percentile = 0.5 + ((120-min(k,120))/120)*0.4999999999\n",
        "        z = scipy.stats.norm.ppf(percentile)\n",
        "        delta = z * std* np.sqrt(1+1/2*k)\n",
        "        PCI = (v_index - delta,v_index+delta)\n",
        "        return PCI\n",
        "\n",
        "    def plotAnomaliesByPCI(self, sql_result, plot = True):\n",
        "        '''\n",
        "        sqlResult: The data from mysql database starting with the timestamp field\n",
        "        Calculate Anomalies by PCI as described in the paper and plot it\n",
        "        '''\n",
        "        lst_timestamp = []\n",
        "        lst_field = []\n",
        "        lst_PCI_up = []\n",
        "        lst_PCI_down = []\n",
        "        lst_ad_timestamp =[]\n",
        "        lst_ad_value = []\n",
        "        self.lst_anomalyScores = []\n",
        "        for counter, row in enumerate(sql_result):\n",
        "            PCI = self.calculatePCI(sql_result,counter,self.window_width,True)\n",
        "            lst_timestamp.append(counter)\n",
        "            lst_field.append(row)\n",
        "            lst_PCI_up.append(PCI[1])\n",
        "            lst_PCI_down.append(PCI[0])\n",
        "            if PCI[0]!=0:\n",
        "                self.lst_anomalyScores.append(abs(row/PCI[0]))\n",
        "            else:\n",
        "                self.lst_anomalyScores.append(min(2,row))\n",
        "\n",
        "            if row>PCI[1] or row<PCI[0]:\n",
        "                lst_ad_value.append(row)\n",
        "                lst_ad_timestamp.append(counter)\n",
        "        if plot:\n",
        "            plt.figure(figsize=(50,5))\n",
        "            plt.plot(lst_timestamp, lst_field, color='green',  linewidth=0.5,label='True Values')\n",
        "            plt.plot(self.lst_anomalyScores, color = 'red',  linewidth=0.5, label='Errors')\n",
        "            plt.plot(lst_timestamp, lst_PCI_up, color = 'gray',  linewidth=0.5, label='Upper bound')\n",
        "            plt.plot(lst_timestamp, lst_PCI_down, color = 'gray',  linewidth=0.5, label='lower bound')\n",
        "            plt.plot(lst_ad_timestamp, lst_ad_value, linestyle=\"\",marker=\".\", label='Anomalies')\n",
        "            pyplot.legend()\n",
        "            plt.show()    \n",
        "\n",
        "\n",
        "        self.errors = np.array(self.lst_anomalyScores)\n",
        "\n",
        "\n",
        "    def getAndReadAnaomaliesByPCI(self, plot = True):\n",
        "        myresult = self.test\n",
        "        self.plotAnomaliesByPCI(myresult, plot)\n",
        "        # self.getWindowedAnomalies(myresult,show_range=True)\n",
        "\n",
        "    def get_roc_auc(self, plot=True, verbose=True):\n",
        "        # get the predicted errors of the anomaly points\n",
        "        indices = self.df[self.df['is_anomaly']==1].index\n",
        "        true_anomaly_predicted_errors = self.errors[self.df[self.df['is_anomaly']==1].index]\n",
        "        if len(true_anomaly_predicted_errors) == 0:\n",
        "            return np.nan\n",
        "\n",
        "        # sort them \n",
        "        true_anomaly_predicted_errors = np.sort(true_anomaly_predicted_errors,axis=0).reshape(-1)\n",
        "        true_anomaly_predicted_errors_extended = np.r_[np.linspace(0,true_anomaly_predicted_errors[0],40)[:-1],true_anomaly_predicted_errors]\n",
        "        true_anomaly_predicted_errors_extended = np.r_[true_anomaly_predicted_errors_extended, true_anomaly_predicted_errors_extended[-1] + np.mean(true_anomaly_predicted_errors_extended)]\n",
        "                # now iterate thru the predicted errors from small to big\n",
        "        # for each value look how much other points have equal or bigger error\n",
        "        FPR = [] # fp/n  https://en.wikipedia.org/wiki/Sensitivity_and_specificity\n",
        "        TPR = [] # tp/p\n",
        "        p = len(true_anomaly_predicted_errors)\n",
        "        Thresholds = []\n",
        "        for predictederror in true_anomaly_predicted_errors_extended:\n",
        "            threshold = predictederror\n",
        "            tp = len(true_anomaly_predicted_errors[true_anomaly_predicted_errors>= threshold])\n",
        "            fp = len(self.errors[self.errors>=threshold])-len(true_anomaly_predicted_errors[true_anomaly_predicted_errors>=threshold])\n",
        "            \n",
        "            fpr =fp/len(self.errors)\n",
        "            FPR.append(fpr)\n",
        "            TPR.append(tp/p)\n",
        "            if verbose:\n",
        "                print(\"Threshold: {0:25}  - FP: {1:4} - TP: {2:4} - FPR: {3:21} - TPR: {4:4}\".format(threshold,fp, tp, fpr, tp/p))\n",
        "\n",
        "        import matplotlib.pyplot as plt\n",
        "        if plot:\n",
        "            plt.figure()\n",
        "            plt.axis([0, 1, 0, 1])\n",
        "            plt.plot(FPR,TPR)\n",
        "            plt.show() \n",
        "\n",
        "        # This is the AUC\n",
        "        from sklearn.metrics import auc\n",
        "        print('AUC: ' ,auc(FPR,TPR)        )\n",
        "        return auc(FPR,TPR)\n",
        "\n",
        "def concatenate_errors(pci_univariates):\n",
        "    pci_ = pci_univariates[0]\n",
        "    errors = np.zeros((len(pci_.errors),dimension))\n",
        "    errors[:,0] = pci_.errors.T\n",
        "    # for i in range(1,5):\n",
        "    for i in range(1,5):\n",
        "        errors[:,0:i+1] = np.c_[errors[:,:i],pci_univariates[i].errors.reshape(-1,1)]\n",
        "    return np.min(errors,axis=1)\n",
        "\n",
        "import datetime\n",
        "startTime = datetime.datetime.now()\n",
        "\n",
        "dimension = 5\n",
        "# df = read_csv(path, header=0, index_col=index_col, parse_dates=True,squeeze=True)\n",
        "pci_univariates = []\n",
        "for i in range (5):\n",
        "    df_univariate = pd.DataFrame(np.c_[df_synthetic.iloc[:,i].values,df_synthetic.iloc[:,-1].values])\n",
        "    df_univariate.columns = ['V1','is_anomaly']\n",
        "    pci = PCI.from_DataFrame(df_univariate,1,30)\n",
        "    pci.getAndReadAnaomaliesByPCI(plot=False)\n",
        "    pci_univariates.append(pci)\n",
        "\t\n",
        "errors = concatenate_errors(pci_univariates)\n",
        "pci_full = PCI.from_DataFrame(df_synthetic,5,30)\n",
        "pci_full.errors = errors\n",
        "pci_full.get_roc_auc(verbose=False)\n",
        "\n",
        "endTime = datetime.datetime.now()\n",
        "diff = endTime - startTime\n",
        "print('Time: ',diff.microseconds/1000, 'ms')"
      ],
      "execution_count": 0,
      "outputs": [
        {
          "output_type": "display_data",
          "data": {
            "image/png": "[encoded data removed]",
            "text/plain": [
              "<Figure size 432x288 with 1 Axes>"
            ]
          },
          "metadata": {
            "tags": []
          }
        },
        {
          "output_type": "stream",
          "text": [
            "AUC:  0.5883750000000001\n",
            "Time:  232.261 ms\n"
          ],
          "name": "stdout"
        }
      ]
    },
    {
      "cell_type": "code",
      "metadata": {
        "id": "BxCOAL0hs737",
        "colab_type": "code",
        "outputId": "8a22f4cc-5d08-41b1-b688-49aa392ff2d5",
        "colab": {
          "base_uri": "https://localhost:8080/",
          "height": 372
        }
      },
      "source": [
        "pci_full.errors[pci_full.df[pci_full.df['is_anomaly']==1].index]"
      ],
      "execution_count": 0,
      "outputs": [
        {
          "output_type": "execute_result",
          "data": {
            "text/plain": [
              "array([ 3.57606601,  0.88997972,  9.74379388,  2.34622533,  2.39294193,\n",
              "        5.38675185,  1.69721882,  1.16054171,  0.7862683 ,  5.30511495,\n",
              "        3.78908175,  1.75813109,  1.55104757,  3.92613851,  1.09750602,\n",
              "        1.29405852,  2.40319974,  0.80715273,  0.85976198,  1.21974377,\n",
              "       38.60791286,  5.96962031,  0.61098272,  2.14028132,  0.57356381,\n",
              "        1.0640279 ,  0.80469045,  0.39014012,  4.09908444,  1.67672936,\n",
              "        0.86416203,  1.26864304,  1.38328373,  2.05430778,  0.53661442,\n",
              "        0.90148382,  0.67353149,  1.4981974 ,  1.44883605,  0.82064085,\n",
              "        1.19433493,  5.70129488,  0.59133117,  0.90129703,  1.13245097,\n",
              "        0.82006299,  1.36447617,  2.63734726,  1.16863943,  2.02741321,\n",
              "        1.9650796 ,  9.62090989,  2.57594567,  0.90022881,  1.01710797,\n",
              "        2.80727874, 22.47050111,  0.95337636,  3.40293926,  3.31260149,\n",
              "        2.93503245,  0.49720037,  0.75962195,  0.58928331,  1.52733869,\n",
              "        1.20576384,  1.39101067,  0.76720972,  1.0222843 ,  3.29205169,\n",
              "        0.91014375,  1.05269921,  1.22329675,  0.42769236,  2.24786996,\n",
              "        3.21469829,  4.31533716,  0.38428932,  1.06144625,  2.0942555 ,\n",
              "        0.74022571,  0.79810826,  0.5751148 ,  1.55989257,  2.25439412,\n",
              "        1.48017309,  0.86942173,  1.32024875,  0.55558972,  0.88456415,\n",
              "        0.72477553,  1.56975127,  1.83377995,  0.64024762,  1.48979861,\n",
              "        1.18668626,  1.44070563,  1.40054178,  2.9383683 ,  0.87265331])"
            ]
          },
          "metadata": {
            "tags": []
          },
          "execution_count": 80
        }
      ]
    },
    {
      "cell_type": "code",
      "metadata": {
        "id": "EcyCw8rakqLw",
        "colab_type": "code",
        "outputId": "4df11523-23f5-43e1-e317-e9d6695f285b",
        "colab": {
          "base_uri": "https://localhost:8080/",
          "height": 340
        }
      },
      "source": [
        ""
      ],
      "execution_count": 0,
      "outputs": [
        {
          "output_type": "stream",
          "text": [
            "/usr/local/lib/python3.6/dist-packages/pandas/core/ops/__init__.py:1115: FutureWarning: elementwise comparison failed; returning scalar instead, but in the future will perform elementwise comparison\n",
            "  result = method(y)\n"
          ],
          "name": "stderr"
        },
        {
          "output_type": "display_data",
          "data": {
            "image/png": "[encoded data removed]",
            "text/plain": [
              "<Figure size 432x288 with 1 Axes>"
            ]
          },
          "metadata": {
            "tags": []
          }
        },
        {
          "output_type": "stream",
          "text": [
            "AUC:  0.5097266666666667\n"
          ],
          "name": "stdout"
        },
        {
          "output_type": "execute_result",
          "data": {
            "text/plain": [
              "0.5097266666666667"
            ]
          },
          "metadata": {
            "tags": []
          },
          "execution_count": 82
        }
      ]
    },
    {
      "cell_type": "code",
      "metadata": {
        "id": "K-VpXl4xrK7a",
        "colab_type": "code",
        "outputId": "2697cafb-f9fb-4db3-ad88-7259cf71d9e7",
        "colab": {
          "base_uri": "https://localhost:8080/",
          "height": 34
        }
      },
      "source": [
        "errors.shape"
      ],
      "execution_count": 0,
      "outputs": [
        {
          "output_type": "execute_result",
          "data": {
            "text/plain": [
              "(3000,)"
            ]
          },
          "metadata": {
            "tags": []
          },
          "execution_count": 58
        }
      ]
    },
    {
      "cell_type": "code",
      "metadata": {
        "id": "KDzPufjoozdl",
        "colab_type": "code",
        "outputId": "937a1703-895c-41ac-a4f4-3d2342fe07bd",
        "colab": {
          "base_uri": "https://localhost:8080/",
          "height": 34
        }
      },
      "source": [
        "errors.shape"
      ],
      "execution_count": 0,
      "outputs": [
        {
          "output_type": "execute_result",
          "data": {
            "text/plain": [
              "(2100, 5)"
            ]
          },
          "metadata": {
            "tags": []
          },
          "execution_count": 48
        }
      ]
    },
    {
      "cell_type": "code",
      "metadata": {
        "id": "mNNTCEkIo1ky",
        "colab_type": "code",
        "outputId": "b5df35f6-9dbd-40ea-f455-f14db357e3db",
        "colab": {
          "base_uri": "https://localhost:8080/",
          "height": 105
        }
      },
      "source": [
        "pci_univariates"
      ],
      "execution_count": 0,
      "outputs": [
        {
          "output_type": "execute_result",
          "data": {
            "text/plain": [
              "[<__main__.PCI at 0x7f6b10dd4e80>,\n",
              " <__main__.PCI at 0x7f6b10dd4160>,\n",
              " <__main__.PCI at 0x7f6b12d9fcc0>,\n",
              " <__main__.PCI at 0x7f6b10806550>,\n",
              " <__main__.PCI at 0x7f6b10978ba8>]"
            ]
          },
          "metadata": {
            "tags": []
          },
          "execution_count": 47
        }
      ]
    },
    {
      "cell_type": "code",
      "metadata": {
        "id": "wsymeMnIoSbD",
        "colab_type": "code",
        "outputId": "fef826c5-d1c4-494c-f665-3fad71c44d50",
        "colab": {
          "base_uri": "https://localhost:8080/",
          "height": 141
        }
      },
      "source": [
        "np.c_[errors[:,:1],pci_univariates[i].errors.reshape(-1,1)]"
      ],
      "execution_count": 0,
      "outputs": [
        {
          "output_type": "execute_result",
          "data": {
            "text/plain": [
              "array([[ 6.33296665,  0.0553428 ],\n",
              "       [ 0.02314365,  0.53213001],\n",
              "       [ 0.24789135,  0.40936552],\n",
              "       ...,\n",
              "       [ 5.96778369,  2.58301956],\n",
              "       [ 1.93090272,  0.32807892],\n",
              "       [ 0.53276044, 17.49954775]])"
            ]
          },
          "metadata": {
            "tags": []
          },
          "execution_count": 44
        }
      ]
    },
    {
      "cell_type": "code",
      "metadata": {
        "id": "XPy63IjRn3t8",
        "colab_type": "code",
        "outputId": "556935f8-12b2-44e3-c17a-5e6d1e3686c1",
        "colab": {
          "base_uri": "https://localhost:8080/",
          "height": 141
        }
      },
      "source": [
        "errors"
      ],
      "execution_count": 0,
      "outputs": [
        {
          "output_type": "execute_result",
          "data": {
            "text/plain": [
              "array([[6.33296665, 0.        , 0.        , 0.        , 0.        ],\n",
              "       [0.02314365, 0.        , 0.        , 0.        , 0.        ],\n",
              "       [0.24789135, 0.        , 0.        , 0.        , 0.        ],\n",
              "       ...,\n",
              "       [5.96778369, 0.        , 0.        , 0.        , 0.        ],\n",
              "       [1.93090272, 0.        , 0.        , 0.        , 0.        ],\n",
              "       [0.53276044, 0.        , 0.        , 0.        , 0.        ]])"
            ]
          },
          "metadata": {
            "tags": []
          },
          "execution_count": 40
        }
      ]
    },
    {
      "cell_type": "markdown",
      "metadata": {
        "id": "FPlXnMQ_8LI_",
        "colab_type": "text"
      },
      "source": [
        "# VAR Model"
      ]
    },
    {
      "cell_type": "code",
      "metadata": {
        "id": "1dFxSd1-8Mi0",
        "colab_type": "code",
        "outputId": "ee5e52a1-9d37-4ac3-8f9e-bf8b8800a3f8",
        "colab": {
          "base_uri": "https://localhost:8080/",
          "height": 63
        }
      },
      "source": [
        "import scipy.linalg\n",
        "from scipy.spatial import distance\n",
        "import warnings\n",
        "from statsmodels.tsa.ar_model import AR\n",
        "from sklearn.metrics import mean_squared_error\n",
        "from math import sqrt\n",
        "from pandas import read_csv\n",
        "import pandas as pd\n",
        "from pandas import DataFrame\n",
        "from pandas import concat\n",
        "import numpy as np \n",
        "from matplotlib import pyplot\n",
        "from sklearn import preprocessing\n",
        "import sys\n",
        "from tensorflow import set_random_seed\n",
        "set_random_seed(42)\n",
        "from numpy.random import seed\n",
        "import numpy\n",
        "import matplotlib.pyplot as plt\n",
        "import pandas\n",
        "import math\n",
        "from sklearn.preprocessing import MinMaxScaler\n",
        "from sklearn.metrics import mean_squared_error\n",
        "import numpy as np\n",
        "seed(42)\n",
        "from statsmodels.tsa.api import VAR, DynamicVAR\n",
        "\n",
        "def warn(*args, **kwargs):\n",
        "    pass\n",
        "    \n",
        "class VAR_AnomalyDetection:\n",
        "\n",
        "    @classmethod\n",
        "    def from_DataFrame(cls,dataframe,window_width, dimension, train_rate, distance_function) -> 'Projection_AnomalyDetection':\n",
        "    \treturn cls(dataframe, window_width, dimension, train_rate, distance_function)\n",
        "\n",
        "    @classmethod\n",
        "    def from_file(cls, path, window_width, dimension, train_rate, distance_function) -> 'Projection_AnomalyDetection':\n",
        "    \tdf = read_csv(path, header=0, index_col=None, parse_dates=True,squeeze=True)\n",
        "    \treturn cls(df,window_width, dimension, train_rate, distance_function)\n",
        "         \n",
        "    # def __init__(self,path, window_width, dimension, train_rate):\n",
        "\n",
        "    #     self.dimension = dimension\n",
        "    #     self.n_epochs = n_epochs\n",
        "    #     self.window_width = window_width\n",
        "        \n",
        "    #     self.n_filters = n_filters\n",
        "    #     self.kernel_size = kernel_size\n",
        "    #     self.n_dense = n_dense\n",
        "\n",
        "    #     self.df = read_csv(path, header=0, index_col=None, parse_dates=True,squeeze=True)\n",
        "    #     self.df = self.df.reset_index(drop=True)\n",
        "    #     self.df.rename(columns={'Target':'is_anomaly'}, inplace=True)\n",
        "    #     self.df.loc[self.df.is_anomaly == \"'Anomaly'\", 'is_anomaly'] = 1\n",
        "    #     self.df.loc[self.df.is_anomaly == \"'Normal'\", 'is_anomaly'] = 0\n",
        "        \n",
        "    #     self.X_origin = self.df.iloc[:,:dimension].values\n",
        "    #     self.Y_origin = self.df.iloc[:,-1].values\n",
        "\n",
        "    #     df_sensors = pd.DataFrame(self.df.iloc[:,:dimension].values)  \n",
        "    #     self.values = df_sensors\n",
        "    #     self.dataframe = concat([self.df.iloc[:,:-1].shift(1), self.df.iloc[:,:-1], self.df.iloc[:,-1]], axis=1)\n",
        "    #     self.dataframe.columns = np.r_[np.array(['V'+str(i)+'_t' for i in range(1,10)]),np.array(['V'+str(i)+'_t+1' for i in range(1,10)]),['is_anomaly']]\n",
        "\n",
        "    #     # self.dataframe = concat([self.values.shift(1), self.values], axis=1)\n",
        "    #     # self.dataframe.columns = ['t', 't+1']\n",
        "\n",
        "    #     self.train_size = int(len(self.values) * train_rate)  \n",
        "\n",
        "    def __init__(self,dataframe, window_width, dimension, train_rate, distance_function):\n",
        "\n",
        "        self.df = dataframe\n",
        "        self.dimension = dimension\n",
        "        self.window_width = window_width\n",
        "        self.df = self.df.reset_index(drop=True)\n",
        "        self.df.rename(columns={'Target':'is_anomaly'}, inplace=True)\n",
        "        self.df.loc[self.df.is_anomaly == \"'Anomaly'\", 'is_anomaly'] = 1\n",
        "        self.df.loc[self.df.is_anomaly == \"'Normal'\", 'is_anomaly'] = 0\n",
        "        self.distance_function = distance_function\n",
        "        self.X_origin = self.df.iloc[:,:dimension].values\n",
        "        self.Y_origin = self.df.iloc[:,-1].values\n",
        "\n",
        "        df_sensors = pd.DataFrame(self.df.iloc[:,:dimension].values)  \n",
        "        self.values = df_sensors\n",
        "        self.dataframe = concat([self.df.iloc[:,:-1].shift(1), self.df.iloc[:,:-1], self.df.iloc[:,-1]], axis=1)\n",
        "        self.dataframe.columns = np.r_[np.array(['V'+str(i)+'_t' for i in range(1,self.dimension+1)]),np.array(['V'+str(i)+'_t+1' for i in range(1,self.dimension+1)]),['is_anomaly']]\n",
        "        self.train_size = int(len(self.values) * train_rate)   \n",
        " \n",
        "\n",
        "    def create_XY_lookback_dataset(self,dataset, look_back=1):\n",
        "        dataX, dataY = [], []\n",
        "        for i in range(len(dataset)-look_back-1):\n",
        "            a = dataset[i:(i+look_back),:self.dimension]\n",
        "            dataX.append(a)\n",
        "            dataY.append(dataset[i + look_back,:self.dimension].reshape(-1))\n",
        "        return numpy.array(dataX), numpy.array(dataY)\n",
        "    \n",
        "    def getWindowedVectors(self, X):\n",
        "        vectors = np.zeros((len(X) - self.window_width+1,self.window_width))\n",
        "        for i,_ in enumerate(X[:-self.window_width+1]):\n",
        "            vectors[i] = X[i:i+self.window_width]\n",
        "        return vectors\n",
        "\n",
        "\n",
        "\n",
        "\n",
        "    def build_sets(self):\n",
        "\n",
        "        self.X = self.dataframe.iloc[:,:-1].values\n",
        "        self.Y = self.dataframe.iloc[:,-1].values\n",
        "        self.train, self.test = self.X[1:self.train_size], self.X[self.train_size:]    \n",
        "        # print('Train.len:',len(self.train),' - Test.len:', len(self.test))\n",
        "\n",
        "        self.train_X, self.train_y = self.train[:,:self.dimension], self.train[:,self.dimension: -1]\n",
        "        self.test_X, self.test_y = self.test[:,:self.dimension], self.test[:,self.dimension: -1]\n",
        "        # print('TrainX.shape:',self.train_X.shape,' - TestX.shape:', self.test_X.shape,' - TrainY.shape:', self.train_y.shape,' - TestY.shape:', self.test_y.shape)\n",
        "\n",
        "        # self.validationsize = int(self.train_X.shape[0] * 0.1)\n",
        "        # self.val, self.test = self.test[:self.validationsize], self.test[self.validationsize:]\n",
        "        # self.val_X, self.val_y= self.test_X[:self.validationsize], self.test_y[:self.validationsize]\n",
        "        # self.test_X, self.test_y = self.test_X[self.validationsize:], self.test_y[self.validationsize:]\n",
        "        \n",
        "    def standardize_dataframe(self):\n",
        "        X = self.dataframe.values[:,:-1]\n",
        "        self.scalar = preprocessing.StandardScaler().fit(X)\n",
        "        X = self.scalar.transform(X)\n",
        "        self.dataframe = pd.DataFrame(np.concatenate((X,self.dataframe.values[:,-1].reshape(-1,1)),axis=1))\n",
        "        self.dataframe.columns = np.r_[np.array(['V'+str(i)+'_t' for i in range(1,self.dimension+1)]),np.array(['V'+str(i)+'_t+1' for i in range(1,self.dimension+1)]),['is_anomaly']]\n",
        "\n",
        "    def inverse_standardize_dataframe(self):\n",
        "        X = self.dataframe.values[:,:-1]\n",
        "        X = self.scalar.inverse_transform(X)\n",
        "        self.dataframe = pd.DataFrame(np.concatenate((X,self.dataframe.values[:,-1].reshape(-1,1)),axis=1))\n",
        "        self.dataframe.columns = np.r_[np.array(['V'+str(i)+'_t' for i in range(1,self.dimension+1)]),np.array(['V'+str(i)+'_t+1' for i in range(1,self.dimension+1)]),['is_anomaly']]\n",
        "\n",
        "\n",
        "\n",
        "    def model_persistence(self, x):\n",
        "        return x\n",
        "        \n",
        "    def create_persistence(self):\n",
        "        rmse = sqrt(mean_squared_error(self.dataframe.iloc[self.train_size:,:self.dimension], self.dataframe.iloc[self.train_size:,self.dimension:-1]))\n",
        "        # print('Persistent Model RMSE: %.3f' % rmse)   \n",
        "\n",
        "    def fit(self):\n",
        "        self.standardize_dataframe()\n",
        "        self.create_persistence()\n",
        "        self.build_sets()\n",
        "                \n",
        "        self.compute_anomalyScores()\n",
        "\n",
        "        self.compute_Errors_RMSE()\n",
        "        self.inverse_standardize_dataframe()\n",
        "\n",
        "    def compute_anomalyScores(self, verbose=False):\n",
        "        self.model = VAR(self.train_X)\n",
        "        self.model_fit = self.model.fit(self.window_width)\n",
        "        self.window = self.model_fit.k_ar\n",
        "        self.coef = self.model_fit.params  \n",
        "        # if verbose:      \n",
        "        #     print('Lag: %s' % self.model_fit.k_ar)\n",
        "        #     print('Coefficients: %s' % self.model_fit.params)\n",
        "        self.history = self.train_X[len(self.train_X)-self.window:]\n",
        "        self.history = [self.history[i] for i in range(len(self.history))]\n",
        "        self.predictions = list()\n",
        "        for t in range(len(self.test_X)):\n",
        "            length = len(self.history)\n",
        "            lag = [self.history[i] for i in range(length-self.window,length)]\n",
        "            self.yhat = self.model_fit.forecast(lag,1)\n",
        "            # yhat = self.coef[0]\n",
        "            # for d in range(self.window):\n",
        "            #     yhat += self.coef[d+1] * lag[self.window-d-1]\n",
        "            obs = self.test_X[t]\n",
        "            self.predictions.append(self.yhat[0])\n",
        "            self.history.append(obs)        \n",
        "        # for i in range(len(predictions)):\n",
        "        #     print('predicted=%f, expected=%f' % (predictions[i], test[i]))\n",
        "        # rmse = sqrt(mean_squared_error(self.test, self.predictions))\n",
        "        self.error_vect = np.absolute(self.test_X - np.array(self.predictions))\n",
        "        # Calculate Mahalonbis distance \n",
        "        self.compute_errors(self.distance_function)\n",
        "\n",
        "\n",
        "    def compute_errors(self, distance_function):\n",
        "        if distance_function == 'mahalanobis':\n",
        "            inv_cov = scipy.linalg.inv(np.cov(self.error_vect.T))\n",
        "            mean = np.mean(self.error_vect,axis=0)\n",
        "            self.errors = np.zeros((len(self.error_vect),1))\n",
        "            for i,error in enumerate(self.error_vect):\n",
        "                self.errors[i] = distance.mahalanobis(error,mean,inv_cov)\n",
        "        elif distance_function == 'euclidean':\n",
        "            inv_cov = scipy.linalg.inv(np.cov(self.error_vect.T))\n",
        "            mean = np.mean(self.error_vect,axis=0)\n",
        "            self.errors = np.zeros((len(self.error_vect),1))\n",
        "            for i,error in enumerate(self.error_vect):\n",
        "                self.errors[i] = distance.euclidean(error,mean)\n",
        "                \n",
        "    def plotTraining(self):\n",
        "        history_dict = self.history.history\n",
        "        loss_values = history_dict['loss'][1:]\n",
        "        val_loss_values = history_dict['val_loss'][1:]\n",
        "        self.n_epochs = range(2, self.n_epochs + 1)\n",
        "        plt.plot(self.n_epochs, loss_values, 'bo', label='Training loss')\n",
        "        plt.plot(self.n_epochs, val_loss_values, 'b', label='Validation loss')\n",
        "        plt.title('Training and validation loss')\n",
        "        plt.xlabel('Epochs')\n",
        "        plt.ylabel('Loss')\n",
        "        plt.legend()\n",
        "        plt.show()\n",
        "\n",
        "    def getchange(self, V_0,V_1):\n",
        "        Matrix = V_1.T@V_0@V_0.T@V_1\n",
        "        eigenvalues = np.linalg.eig(Matrix)[0]\n",
        "        lambda_min = np.min(eigenvalues)\n",
        "        return np.sqrt(max((1-lambda_min),0))\n",
        "        \n",
        "    def get_projected_Dataframe(self):\n",
        "        changes_anomaly = np.empty((len(self.X_origin)-self.window_width-1,2))\n",
        "        for i in range(len(self.X_origin)-self.window_width-1):\n",
        "            W_0 = self.X_origin[i:i+self.window_width]\n",
        "            W_1 = self.X_origin[i+1:i+self.window_width+1]\n",
        "            changes_anomaly[i] = [self.getchange(W_0,W_1),self.Y_origin[i]]         \n",
        "        return pd.DataFrame(changes_anomaly)\n",
        "\n",
        "\n",
        "\n",
        "    def compute_Errors_RMSE(self):\n",
        "\n",
        "        rmse = sqrt(mean_squared_error(self.test_y.reshape(self.predictions.shape), self.predictions))\n",
        "        self.errors = np.absolute(self.test_y.reshape(self.predictions.shape) - np.array(self.predictions))\n",
        "        # print('Prediction Test RMS        E: %.3f' % rmse)       \n",
        "   \n",
        "\n",
        "    def plot(self):\n",
        "        fig, axes = plt.subplots(nrows=3, ncols=3, dpi=120, figsize=(50,5))\n",
        "        for i, ax in enumerate(axes.flatten()):\n",
        "            data = self.df[self.df.columns[i]].iloc[:200]\n",
        "            ax.plot(self.test_y[:,i], color='green',  linewidth=0.5,label='True Values')\n",
        "            ax.plot(self.predictions[:,i], color='blue',  linewidth=0.5,label='Predictions')\n",
        "            ax.plot(self.errors[:,i], color = 'red',  linewidth=0.5, label='Errors')\n",
        "            ax.legend()\n",
        "            \n",
        "        plt.show()\n",
        "\n",
        "    def get_roc_auc(self, plot=True, verbose=True):\n",
        "        # get the predicted errors of the anomaly points\n",
        "        indices = self.df[self.df['is_anomaly']==1].index >self.train_size\n",
        "        true_anomaly_predicted_errors = self.errors[self.df[self.df['is_anomaly']==1].index[indices] - self.train_size - self.window_width -1]\n",
        "        if len(true_anomaly_predicted_errors) == 0:\n",
        "            return np.nan\n",
        "        # sort them \n",
        "        true_anomaly_predicted_errors = np.sort(true_anomaly_predicted_errors,axis=0).reshape(-1)\n",
        "        true_anomaly_predicted_errors_extended = np.r_[np.linspace(0,true_anomaly_predicted_errors[0],40)[:-1],true_anomaly_predicted_errors]\n",
        "        true_anomaly_predicted_errors_extended = np.r_[true_anomaly_predicted_errors_extended, true_anomaly_predicted_errors_extended[-1] + np.mean(true_anomaly_predicted_errors_extended)]\n",
        "                # now iterate thru the predicted errors from small to big\n",
        "        # for each value look how much other points have equal or bigger error\n",
        "        FPR = [] # fp/n  https://en.wikipedia.org/wiki/Sensitivity_and_specificity\n",
        "        TPR = [] # tp/p\n",
        "        p = len(true_anomaly_predicted_errors)\n",
        "        Thresholds = []\n",
        "        for predictederror in true_anomaly_predicted_errors_extended:\n",
        "            threshold = predictederror\n",
        "            tp = len(true_anomaly_predicted_errors[true_anomaly_predicted_errors>= threshold])\n",
        "            fp = len(self.errors[self.errors>=threshold])-len(true_anomaly_predicted_errors[true_anomaly_predicted_errors>=threshold])\n",
        "            \n",
        "            fpr =fp/len(self.errors)\n",
        "            FPR.append(fpr)\n",
        "            TPR.append(tp/p)\n",
        "            if verbose:\n",
        "                print(\"Threshold: {0:25}  - FP: {1:4} - TP: {2:4} - FPR: {3:21} - TPR: {4:4}\".format(threshold,fp, tp, fpr, tp/p))\n",
        "\n",
        "        import matplotlib.pyplot as plt\n",
        "        if plot:\n",
        "            plt.figure()\n",
        "            plt.axis([0, 1, 0, 1])\n",
        "            plt.plot(FPR,TPR)\n",
        "            plt.show() \n",
        "\n",
        "        # This is the AUC\n",
        "        from sklearn.metrics import auc\n",
        "        print('AUC: ' ,auc(FPR,TPR)        )\n",
        "        return auc(FPR,TPR)\n",
        "\n",
        "# filters = [[8,8,8,8], [4,4,4,4], [4,8,16,32], [16,32,48,64],  [32,64,12,24],[128,128,128,128],[64,64,64,64],[256,256,256,256],[128,256,512,1024]]\n",
        "# kernelsizes = [2,3,4,6,8,16]\n",
        "# dense = [18,36,72,144]\n",
        "\n",
        "# best_auc = [0,0]\n",
        "# histories = []\n",
        "# for f in filters:\n",
        "#     for k in kernelsizes:\n",
        "#         for d in dense:\n",
        "\n",
        "#             cnn = WaveNet_AnomalyDetection('drive/My Drive/MT/Experiments/Multivariate/NASA_Shuttle/40902.csv',30,9,20,0.3,f,k,d)\n",
        "#             hist = cnn.fit()\n",
        "#             histories.append(((f,k,d), hist))\n",
        "#             # cnn.plot()\n",
        "#             auc = cnn.get_roc_auc(verbose=False,plot=False)\n",
        "#             print(' auc:', auc, ' - f:', f, ' - k:', k, ' - d:', d)\n",
        "#             if best_auc[1] < auc:\n",
        "#                 print('New best auc:', auc, ' - f:', f, ' - k:', k, ' - d:', d)\n",
        "#                 best_auc = [(f,k,d),auc]\n",
        "\n",
        "# filters = [[8,8,8,8], [4,4,4,4], [4,8,16,32], [16,32,48,64],  [32,64,12,24],[128,128,128,128],[64,64,64,64],[256,256,256,256],[128,256,512,1024]]\n",
        "# kernelsizes = [2,3,4,6,8,16]\n",
        "# dense = [18,36,72,144]\n",
        "\n",
        "\n",
        "# for epochs in [50,60,70,80,100,150,200]:\n",
        "#     # cnn = LSTM_AnomalyDetection('drive/My Drive/MT/Experiments/Multivariate/NASA_Shuttle/40902.csv',30,9,20,0.3,[4,4],k,d)\n",
        "#     cnn = LSTM_AnomalyDetection(dataframe=df,window_width=13,dimension=5,n_epochs=epochs,train_rate=0.3,n_filters=[7,7])\n",
        "#     # cnn.reset_dataframe(df,5,13, 0.3)\n",
        "#     cnn.fit()\n",
        "#     # # cnn.plot()\n",
        "#     auc = cnn.get_roc_auc(verbose=False,plot=True)\n",
        "#     print(best_auc)\n",
        "#     # 0.59 40 EPochs"
      ],
      "execution_count": 0,
      "outputs": [
        {
          "output_type": "display_data",
          "data": {
            "text/html": [
              "<p style=\"color: red;\">\n",
              "The default version of TensorFlow in Colab will soon switch to TensorFlow 2.x.<br>\n",
              "We recommend you <a href=\"https://www.tensorflow.org/guide/migrate\" target=\"_blank\">upgrade</a> now \n",
              "or ensure your notebook will continue to use TensorFlow 1.x via the <code>%tensorflow_version 1.x</code> magic:\n",
              "<a href=\"https://colab.research.google.com/notebooks/tensorflow_version.ipynb\" target=\"_blank\">more info</a>.</p>\n"
            ],
            "text/plain": [
              "<IPython.core.display.HTML object>"
            ]
          },
          "metadata": {
            "tags": []
          }
        }
      ]
    },
    {
      "cell_type": "markdown",
      "metadata": {
        "id": "kBaJcmx5h9KU",
        "colab_type": "text"
      },
      "source": [
        "## Evaluation"
      ]
    },
    {
      "cell_type": "markdown",
      "metadata": {
        "id": "T53dbHMSYTo_",
        "colab_type": "text"
      },
      "source": [
        "### Evaluation with SD Results (Synthetic data)"
      ]
    },
    {
      "cell_type": "code",
      "metadata": {
        "id": "-dnnUt32ZUGw",
        "colab_type": "code",
        "outputId": "4e7820af-12c7-4e1d-dc05-4a7500ab6058",
        "colab": {
          "base_uri": "https://localhost:8080/",
          "height": 52
        }
      },
      "source": [
        "import datetime\n",
        "startTime = datetime.datetime.now()\n",
        "var = VAR_AnomalyDetection.from_DataFrame(df_synthetic,13,5,0.3,'mahalanobis')\n",
        "var.standardize_dataframe()\n",
        "var.create_persistence()\n",
        "var.build_sets()\n",
        "var.compute_anomalyScores()\n",
        "auc =var.get_roc_auc(verbose=False,plot=False)\n",
        "\n",
        "endTime = datetime.datetime.now()\n",
        "diff = endTime - startTime\n",
        "print(diff.microseconds/1000)"
      ],
      "execution_count": 0,
      "outputs": [
        {
          "output_type": "stream",
          "text": [
            "AUC:  0.5632585034013605\n",
            "198.259\n"
          ],
          "name": "stdout"
        }
      ]
    },
    {
      "cell_type": "code",
      "metadata": {
        "id": "S1hhxHe4N8bt",
        "colab_type": "code",
        "outputId": "76593c5b-5bb0-4361-fa16-e3d467e74359",
        "colab": {
          "base_uri": "https://localhost:8080/",
          "height": 51
        }
      },
      "source": [
        "import datetime\n",
        "startTime = datetime.datetime.now()\n",
        "var = VAR_AnomalyDetection.from_file('drive/My Drive/MT/Experiments/Multivariate/NASA_Shuttle/40903.csv',2,3,0.3,'mahalanobis')\n",
        "var.standardize_dataframe()\n",
        "var.create_persistence()\n",
        "var.build_sets()\n",
        "var.compute_anomalyScores()\n",
        "auc =var.get_roc_auc(verbose=False,plot=False)\n",
        "\n",
        "endTime = datetime.datetime.now()\n",
        "diff = endTime - startTime\n",
        "print(diff.microseconds/1000)"
      ],
      "execution_count": 0,
      "outputs": [
        {
          "output_type": "stream",
          "text": [
            "AUC:  0.8669780250713105\n",
            "409.008\n"
          ],
          "name": "stdout"
        }
      ]
    },
    {
      "cell_type": "code",
      "metadata": {
        "id": "kBd3ZxmhiR0I",
        "colab_type": "code",
        "outputId": "fcda96eb-ebe7-4baf-d715-208addf6047f",
        "colab": {
          "base_uri": "https://localhost:8080/",
          "height": 34
        }
      },
      "source": [
        "\n",
        "var = VAR_AnomalyDetection.from_file('drive/My Drive/MT/Experiments/Multivariate/NASA_Shuttle/40902.csv',13,9,0.1,'mahalanobis')\n",
        "var.standardize_dataframe()\n",
        "var.create_persistence()\n",
        "var.build_sets()\n",
        "var.compute_anomalyScores()\n",
        "auc =var.get_roc_auc(verbose=False,plot=False)"
      ],
      "execution_count": 0,
      "outputs": [
        {
          "output_type": "stream",
          "text": [
            "AUC:  0.47143157569699823\n"
          ],
          "name": "stdout"
        }
      ]
    },
    {
      "cell_type": "code",
      "metadata": {
        "id": "yFcybYGrin4t",
        "colab_type": "code",
        "outputId": "43a4da97-6132-467a-840e-23b5ac66782f",
        "colab": {
          "base_uri": "https://localhost:8080/",
          "height": 34
        }
      },
      "source": [
        "\n",
        "var = VAR_AnomalyDetection.from_file('drive/My Drive/MT/Experiments/Multivariate/NASA_Shuttle/40901.csv',13,9,0.1,'mahalanobis')\n",
        "var.standardize_dataframe()\n",
        "var.create_persistence()\n",
        "var.build_sets()\n",
        "var.compute_anomalyScores()\n",
        "auc =var.get_roc_auc(verbose=False,plot=False)\n",
        "print(auc)"
      ],
      "execution_count": 0,
      "outputs": [
        {
          "output_type": "stream",
          "text": [
            "nan\n"
          ],
          "name": "stdout"
        }
      ]
    },
    {
      "cell_type": "markdown",
      "metadata": {
        "id": "vmFPHQSfZoN4",
        "colab_type": "text"
      },
      "source": [
        "# VARMAX Model"
      ]
    },
    {
      "cell_type": "code",
      "metadata": {
        "id": "DSulqRgwZqHA",
        "colab_type": "code",
        "colab": {}
      },
      "source": [
        "import scipy.linalg\n",
        "from scipy.spatial import distance\n",
        "import warnings\n",
        "from statsmodels.tsa.ar_model import AR\n",
        "from sklearn.metrics import mean_squared_error\n",
        "from math import sqrt\n",
        "from pandas import read_csv\n",
        "import pandas as pd\n",
        "from pandas import DataFrame\n",
        "from pandas import concat\n",
        "import numpy as np \n",
        "from matplotlib import pyplot\n",
        "from sklearn import preprocessing\n",
        "import sys\n",
        "from tensorflow import set_random_seed\n",
        "set_random_seed(42)\n",
        "from numpy.random import seed\n",
        "import numpy\n",
        "import matplotlib.pyplot as plt\n",
        "import pandas\n",
        "import math\n",
        "from sklearn.preprocessing import MinMaxScaler\n",
        "from sklearn.metrics import mean_squared_error\n",
        "import numpy as np\n",
        "seed(42)\n",
        "from statsmodels.tsa.api import VAR, DynamicVAR\n",
        "from statsmodels.tsa.statespace.varmax import VARMAX\n",
        "def warn(*args, **kwargs):\n",
        "    pass\n",
        "    \n",
        "class VARMAX_AnomalyDetection:\n",
        "\n",
        "    @classmethod\n",
        "    def from_DataFrame(cls,dataframe,window_width, dimension, train_rate, distance_function) -> 'Projection_AnomalyDetection':\n",
        "    \treturn cls(dataframe, window_width, dimension, train_rate, distance_function)\n",
        "\n",
        "    @classmethod\n",
        "    def from_file(cls, path, window_width, dimension, train_rate, distance_function) -> 'Projection_AnomalyDetection':\n",
        "    \tdf = read_csv(path, header=0, index_col=None, parse_dates=True,squeeze=True)\n",
        "    \treturn cls(df,window_width, dimension, train_rate, distance_function)\n",
        "         \n",
        "    # def __init__(self,path, window_width, dimension, train_rate):\n",
        "\n",
        "    #     self.dimension = dimension\n",
        "    #     self.n_epochs = n_epochs\n",
        "    #     self.window_width = window_width\n",
        "        \n",
        "    #     self.n_filters = n_filters\n",
        "    #     self.kernel_size = kernel_size\n",
        "    #     self.n_dense = n_dense\n",
        "\n",
        "    #     self.df = read_csv(path, header=0, index_col=None, parse_dates=True,squeeze=True)\n",
        "    #     self.df = self.df.reset_index(drop=True)\n",
        "    #     self.df.rename(columns={'Target':'is_anomaly'}, inplace=True)\n",
        "    #     self.df.loc[self.df.is_anomaly == \"'Anomaly'\", 'is_anomaly'] = 1\n",
        "    #     self.df.loc[self.df.is_anomaly == \"'Normal'\", 'is_anomaly'] = 0\n",
        "        \n",
        "    #     self.X_origin = self.df.iloc[:,:dimension].values\n",
        "    #     self.Y_origin = self.df.iloc[:,-1].values\n",
        "\n",
        "    #     df_sensors = pd.DataFrame(self.df.iloc[:,:dimension].values)  \n",
        "    #     self.values = df_sensors\n",
        "    #     self.dataframe = concat([self.df.iloc[:,:-1].shift(1), self.df.iloc[:,:-1], self.df.iloc[:,-1]], axis=1)\n",
        "    #     self.dataframe.columns = np.r_[np.array(['V'+str(i)+'_t' for i in range(1,10)]),np.array(['V'+str(i)+'_t+1' for i in range(1,10)]),['is_anomaly']]\n",
        "\n",
        "    #     # self.dataframe = concat([self.values.shift(1), self.values], axis=1)\n",
        "    #     # self.dataframe.columns = ['t', 't+1']\n",
        "\n",
        "    #     self.train_size = int(len(self.values) * train_rate)  \n",
        "\n",
        "    def __init__(self,dataframe, window_width, dimension, train_rate, distance_function):\n",
        "\n",
        "        self.df = dataframe\n",
        "        self.dimension = dimension\n",
        "        self.window_width = window_width\n",
        "        self.df = self.df.reset_index(drop=True)\n",
        "        self.df.rename(columns={'Target':'is_anomaly'}, inplace=True)\n",
        "        self.df.loc[self.df.is_anomaly == \"'Anomaly'\", 'is_anomaly'] = 1\n",
        "        self.df.loc[self.df.is_anomaly == \"'Normal'\", 'is_anomaly'] = 0\n",
        "        self.distance_function = distance_function\n",
        "        self.X_origin = self.df.iloc[:,:dimension].values\n",
        "        self.Y_origin = self.df.iloc[:,-1].values\n",
        "\n",
        "        df_sensors = pd.DataFrame(self.df.iloc[:,:dimension].values)  \n",
        "        self.values = df_sensors\n",
        "        self.dataframe = concat([self.df.iloc[:,:-1].shift(1), self.df.iloc[:,:-1], self.df.iloc[:,-1]], axis=1)\n",
        "        self.dataframe.columns = np.r_[np.array(['V'+str(i)+'_t' for i in range(1,self.dimension+1)]),np.array(['V'+str(i)+'_t+1' for i in range(1,self.dimension+1)]),['is_anomaly']]\n",
        "        self.train_size = int(len(self.values) * train_rate)   \n",
        " \n",
        "\n",
        "    def create_XY_lookback_dataset(self,dataset, look_back=1):\n",
        "        dataX, dataY = [], []\n",
        "        for i in range(len(dataset)-look_back-1):\n",
        "            a = dataset[i:(i+look_back),:self.dimension]\n",
        "            dataX.append(a)\n",
        "            dataY.append(dataset[i + look_back,:self.dimension].reshape(-1))\n",
        "        return numpy.array(dataX), numpy.array(dataY)\n",
        "    \n",
        "    def getWindowedVectors(self, X):\n",
        "        vectors = np.zeros((len(X) - self.window_width+1,self.window_width))\n",
        "        for i,_ in enumerate(X[:-self.window_width+1]):\n",
        "            vectors[i] = X[i:i+self.window_width]\n",
        "        return vectors\n",
        "\n",
        "\n",
        "\n",
        "\n",
        "    def build_sets(self):\n",
        "\n",
        "        self.X = self.dataframe.iloc[:,:-1].values\n",
        "        self.Y = self.dataframe.iloc[:,-1].values\n",
        "        self.train, self.test = self.X[1:self.train_size], self.X[self.train_size:]    \n",
        "        # print('Train.len:',len(self.train),' - Test.len:', len(self.test))\n",
        "\n",
        "        self.train_X, self.train_y = self.train[:,:self.dimension], self.train[:,self.dimension: -1]\n",
        "        self.test_X, self.test_y = self.test[:,:self.dimension], self.test[:,self.dimension: -1]\n",
        "        # print('TrainX.shape:',self.train_X.shape,' - TestX.shape:', self.test_X.shape,' - TrainY.shape:', self.train_y.shape,' - TestY.shape:', self.test_y.shape)\n",
        "\n",
        "        # self.validationsize = int(self.train_X.shape[0] * 0.1)\n",
        "        # self.val, self.test = self.test[:self.validationsize], self.test[self.validationsize:]\n",
        "        # self.val_X, self.val_y= self.test_X[:self.validationsize], self.test_y[:self.validationsize]\n",
        "        # self.test_X, self.test_y = self.test_X[self.validationsize:], self.test_y[self.validationsize:]\n",
        "        \n",
        "    def standardize_dataframe(self):\n",
        "        X = self.dataframe.values[:,:-1]\n",
        "        self.scalar = preprocessing.StandardScaler().fit(X)\n",
        "        X = self.scalar.transform(X)\n",
        "        self.dataframe = pd.DataFrame(np.concatenate((X,self.dataframe.values[:,-1].reshape(-1,1)),axis=1))\n",
        "        self.dataframe.columns = np.r_[np.array(['V'+str(i)+'_t' for i in range(1,self.dimension+1)]),np.array(['V'+str(i)+'_t+1' for i in range(1,self.dimension+1)]),['is_anomaly']]\n",
        "\n",
        "    def inverse_standardize_dataframe(self):\n",
        "        X = self.dataframe.values[:,:-1]\n",
        "        X = self.scalar.inverse_transform(X)\n",
        "        self.dataframe = pd.DataFrame(np.concatenate((X,self.dataframe.values[:,-1].reshape(-1,1)),axis=1))\n",
        "        self.dataframe.columns = np.r_[np.array(['V'+str(i)+'_t' for i in range(1,self.dimension+1)]),np.array(['V'+str(i)+'_t+1' for i in range(1,self.dimension+1)]),['is_anomaly']]\n",
        "\n",
        "\n",
        "\n",
        "    def model_persistence(self, x):\n",
        "        return x\n",
        "        \n",
        "    def create_persistence(self):\n",
        "        rmse = sqrt(mean_squared_error(self.dataframe.iloc[self.train_size:,:self.dimension], self.dataframe.iloc[self.train_size:,self.dimension:-1]))\n",
        "        # print('Persistent Model RMSE: %.3f' % rmse)   \n",
        "\n",
        "    def fit(self):\n",
        "        self.standardize_dataframe()\n",
        "        self.create_persistence()\n",
        "        self.build_sets()\n",
        "                \n",
        "        self.compute_anomalyScores()\n",
        "\n",
        "        self.compute_Errors_RMSE()\n",
        "        self.inverse_standardize_dataframe()\n",
        "\n",
        "    def compute_anomalyScores(self, verbose=False):\n",
        "        # model = VARMAX(data, order=(1, 1))\n",
        "        # model_fit = model.fit(disp=False)\n",
        "        # make prediction\n",
        "        warnings.filterwarnings(\"ignore\")\n",
        "        self.model = VARMAX(self.train_X, order=(self.window_width,2))\n",
        "        self.model_fit = self.model.fit(maxiter=100, disp=False)\n",
        "        # self.model = VAR(self.train_X)\n",
        "        # self.model_fit = self.model.fit(self.window_width)\n",
        "        # self.coef = self.model_fit.params  \n",
        "        # if verbose:      \n",
        "        #     print('Lag: %s' % self.model_fit.k_ar)\n",
        "        #     print('Coefficients: %s' % self.model_fit.params)\n",
        "        self.history = self.train_X[len(self.train_X)-self.window_width:]\n",
        "        self.history = [self.history[i] for i in range(len(self.history))]\n",
        "        self.predictions = list()\n",
        "        print('start')\n",
        "        for t in range(len(self.test_X)):\n",
        "            length = len(self.history)\n",
        "            warnings.filterwarnings(\"ignore\")\n",
        "            lag = [self.history[i] for i in range(length-self.window_width,length)]\n",
        "            self.yhat = self.model_fit.forecast(1)\n",
        "\n",
        "            obs = self.test_X[t]\n",
        "            self.predictions.append(self.yhat[0])\n",
        "            self.history.append(obs)        \n",
        "            sys.stdout.write('\\r'+str(t)+':'+str(len(self.test_X)))\n",
        "\n",
        "        # for i in range(len(predictions)):\n",
        "        #     print('predicted=%f, expected=%f' % (predictions[i], test[i]))\n",
        "        # rmse = sqrt(mean_squared_error(self.test, self.predictions))\n",
        "        self.error_vect = np.absolute(self.test_X - np.array(self.predictions))\n",
        "        # Calculate Mahalonbis distance \n",
        "        self.compute_errors(self.distance_function)\n",
        "\n",
        "\n",
        "    def compute_errors(self, distance_function):\n",
        "        if distance_function == 'mahalanobis':\n",
        "            inv_cov = scipy.linalg.inv(np.cov(self.error_vect.T))\n",
        "            mean = np.mean(self.error_vect,axis=0)\n",
        "            self.errors = np.zeros((len(self.error_vect),1))\n",
        "            for i,error in enumerate(self.error_vect):\n",
        "                self.errors[i] = distance.mahalanobis(error,mean,inv_cov)\n",
        "        elif distance_function == 'euclidean':\n",
        "            inv_cov = scipy.linalg.inv(np.cov(self.error_vect.T))\n",
        "            mean = np.mean(self.error_vect,axis=0)\n",
        "            self.errors = np.zeros((len(self.error_vect),1))\n",
        "            for i,error in enumerate(self.error_vect):\n",
        "                self.errors[i] = distance.euclidean(error,mean)\n",
        "                \n",
        "    def plotTraining(self):\n",
        "        history_dict = self.history.history\n",
        "        loss_values = history_dict['loss'][1:]\n",
        "        val_loss_values = history_dict['val_loss'][1:]\n",
        "        self.n_epochs = range(2, self.n_epochs + 1)\n",
        "        plt.plot(self.n_epochs, loss_values, 'bo', label='Training loss')\n",
        "        plt.plot(self.n_epochs, val_loss_values, 'b', label='Validation loss')\n",
        "        plt.title('Training and validation loss')\n",
        "        plt.xlabel('Epochs')\n",
        "        plt.ylabel('Loss')\n",
        "        plt.legend()\n",
        "        plt.show()\n",
        "\n",
        "    def getchange(self, V_0,V_1):\n",
        "        Matrix = V_1.T@V_0@V_0.T@V_1\n",
        "        eigenvalues = np.linalg.eig(Matrix)[0]\n",
        "        lambda_min = np.min(eigenvalues)\n",
        "        return np.sqrt(max((1-lambda_min),0))\n",
        "        \n",
        "    def get_projected_Dataframe(self):\n",
        "        changes_anomaly = np.empty((len(self.X_origin)-self.window_width-1,2))\n",
        "        for i in range(len(self.X_origin)-self.window_width-1):\n",
        "            W_0 = self.X_origin[i:i+self.window_width]\n",
        "            W_1 = self.X_origin[i+1:i+self.window_width+1]\n",
        "            changes_anomaly[i] = [self.getchange(W_0,W_1),self.Y_origin[i]]         \n",
        "        return pd.DataFrame(changes_anomaly)\n",
        "\n",
        "\n",
        "\n",
        "    def compute_Errors_RMSE(self):\n",
        "\n",
        "        rmse = sqrt(mean_squared_error(self.test_y.reshape(self.predictions.shape), self.predictions))\n",
        "        self.errors = np.absolute(self.test_y.reshape(self.predictions.shape) - np.array(self.predictions))\n",
        "        # print('Prediction Test RMS        E: %.3f' % rmse)       \n",
        "   \n",
        "\n",
        "    def plot(self):\n",
        "        fig, axes = plt.subplots(nrows=3, ncols=3, dpi=120, figsize=(50,5))\n",
        "        for i, ax in enumerate(axes.flatten()):\n",
        "            data = self.df[self.df.columns[i]].iloc[:200]\n",
        "            ax.plot(self.test_y[:,i], color='green',  linewidth=0.5,label='True Values')\n",
        "            ax.plot(self.predictions[:,i], color='blue',  linewidth=0.5,label='Predictions')\n",
        "            ax.plot(self.errors[:,i], color = 'red',  linewidth=0.5, label='Errors')\n",
        "            ax.legend()\n",
        "            \n",
        "        plt.show()\n",
        "\n",
        "    def get_roc_auc(self, plot=True, verbose=True):\n",
        "        # get the predicted errors of the anomaly points\n",
        "        indices = self.df[self.df['is_anomaly']==1].index >self.train_size\n",
        "        true_anomaly_predicted_errors = self.errors[self.df[self.df['is_anomaly']==1].index[indices] - self.train_size - self.window_width -1]\n",
        "        if len(true_anomaly_predicted_errors) == 0:\n",
        "            return np.nan\n",
        "        # sort them \n",
        "        true_anomaly_predicted_errors = np.sort(true_anomaly_predicted_errors,axis=0).reshape(-1)\n",
        "        true_anomaly_predicted_errors_extended = np.r_[np.linspace(0,true_anomaly_predicted_errors[0],40)[:-1],true_anomaly_predicted_errors]\n",
        "        true_anomaly_predicted_errors_extended = np.r_[true_anomaly_predicted_errors_extended, true_anomaly_predicted_errors_extended[-1] + np.mean(true_anomaly_predicted_errors_extended)]\n",
        "                # now iterate thru the predicted errors from small to big\n",
        "        # for each value look how much other points have equal or bigger error\n",
        "        FPR = [] # fp/n  https://en.wikipedia.org/wiki/Sensitivity_and_specificity\n",
        "        TPR = [] # tp/p\n",
        "        p = len(true_anomaly_predicted_errors)\n",
        "        Thresholds = []\n",
        "        for predictederror in true_anomaly_predicted_errors_extended:\n",
        "            threshold = predictederror\n",
        "            tp = len(true_anomaly_predicted_errors[true_anomaly_predicted_errors>= threshold])\n",
        "            fp = len(self.errors[self.errors>=threshold])-len(true_anomaly_predicted_errors[true_anomaly_predicted_errors>=threshold])\n",
        "            \n",
        "            fpr =fp/len(self.errors)\n",
        "            FPR.append(fpr)\n",
        "            TPR.append(tp/p)\n",
        "            if verbose:\n",
        "                print(\"Threshold: {0:25}  - FP: {1:4} - TP: {2:4} - FPR: {3:21} - TPR: {4:4}\".format(threshold,fp, tp, fpr, tp/p))\n",
        "\n",
        "        import matplotlib.pyplot as plt\n",
        "        if plot:\n",
        "            plt.figure()\n",
        "            plt.axis([0, 1, 0, 1])\n",
        "            plt.plot(FPR,TPR)\n",
        "            plt.show() \n",
        "\n",
        "        # This is the AUC\n",
        "        from sklearn.metrics import auc\n",
        "        print('AUC: ' ,auc(FPR,TPR)        )\n",
        "        return auc(FPR,TPR)\n",
        "\n",
        "# filters = [[8,8,8,8], [4,4,4,4], [4,8,16,32], [16,32,48,64],  [32,64,12,24],[128,128,128,128],[64,64,64,64],[256,256,256,256],[128,256,512,1024]]\n",
        "# kernelsizes = [2,3,4,6,8,16]\n",
        "# dense = [18,36,72,144]\n",
        "\n",
        "# best_auc = [0,0]\n",
        "# histories = []\n",
        "# for f in filters:\n",
        "#     for k in kernelsizes:\n",
        "#         for d in dense:\n",
        "\n",
        "#             cnn = WaveNet_AnomalyDetection('drive/My Drive/MT/Experiments/Multivariate/NASA_Shuttle/40902.csv',30,9,20,0.3,f,k,d)\n",
        "#             hist = cnn.fit()\n",
        "#             histories.append(((f,k,d), hist))\n",
        "#             # cnn.plot()\n",
        "#             auc = cnn.get_roc_auc(verbose=False,plot=False)\n",
        "#             print(' auc:', auc, ' - f:', f, ' - k:', k, ' - d:', d)\n",
        "#             if best_auc[1] < auc:\n",
        "#                 print('New best auc:', auc, ' - f:', f, ' - k:', k, ' - d:', d)\n",
        "#                 best_auc = [(f,k,d),auc]\n",
        "\n",
        "# filters = [[8,8,8,8], [4,4,4,4], [4,8,16,32], [16,32,48,64],  [32,64,12,24],[128,128,128,128],[64,64,64,64],[256,256,256,256],[128,256,512,1024]]\n",
        "# kernelsizes = [2,3,4,6,8,16]\n",
        "# dense = [18,36,72,144]\n",
        "\n",
        "\n",
        "# for epochs in [50,60,70,80,100,150,200]:\n",
        "#     # cnn = LSTM_AnomalyDetection('drive/My Drive/MT/Experiments/Multivariate/NASA_Shuttle/40902.csv',30,9,20,0.3,[4,4],k,d)\n",
        "#     cnn = LSTM_AnomalyDetection(dataframe=df,window_width=13,dimension=5,n_epochs=epochs,train_rate=0.3,n_filters=[7,7])\n",
        "#     # cnn.reset_dataframe(df,5,13, 0.3)\n",
        "#     cnn.fit()\n",
        "#     # # cnn.plot()\n",
        "#     auc = cnn.get_roc_auc(verbose=False,plot=True)\n",
        "#     print(best_auc)\n",
        "#     # 0.59 40 EPochs"
      ],
      "execution_count": 0,
      "outputs": []
    },
    {
      "cell_type": "markdown",
      "metadata": {
        "id": "_0qlNhMIcwxA",
        "colab_type": "text"
      },
      "source": [
        "##Evaluation"
      ]
    },
    {
      "cell_type": "markdown",
      "metadata": {
        "id": "LbhYK1IdYZMz",
        "colab_type": "text"
      },
      "source": [
        "### Evaluation with SD Results (Synthetic data)"
      ]
    },
    {
      "cell_type": "code",
      "metadata": {
        "id": "zU5SLuxhcy1m",
        "colab_type": "code",
        "outputId": "efe6f782-f0ed-42f9-9387-6cc70c332f6d",
        "colab": {
          "base_uri": "https://localhost:8080/",
          "height": 70
        }
      },
      "source": [
        "import datetime\n",
        "startTime = datetime.datetime.now()\n",
        "\n",
        "var = VARMAX_AnomalyDetection.from_DataFrame(df_synthetic,4,5,0.3,'mahalanobis')\n",
        "var.standardize_dataframe()\n",
        "var.create_persistence()\n",
        "var.build_sets()\n",
        "var.compute_anomalyScores()\n",
        "auc =var.get_roc_auc(verbose=False,plot=False)\n",
        "\n",
        "\n",
        "endTime = datetime.datetime.now()\n",
        "diff = endTime - startTime\n",
        "print(diff.microseconds/1000)"
      ],
      "execution_count": 0,
      "outputs": [
        {
          "output_type": "stream",
          "text": [
            "start\n",
            "2099:2100AUC:  0.73378231292517\n",
            "303.127\n"
          ],
          "name": "stdout"
        }
      ]
    },
    {
      "cell_type": "code",
      "metadata": {
        "id": "Y8hp1DfiiqUn",
        "colab_type": "code",
        "outputId": "8027bf4e-63e6-4662-8769-1d8576d4bd93",
        "colab": {
          "base_uri": "https://localhost:8080/",
          "height": 51
        }
      },
      "source": [
        "import datetime\n",
        "startTime = datetime.datetime.now()\n",
        "\n",
        "var = VARMAX_AnomalyDetection.from_file('drive/My Drive/MT/Experiments/Multivariate/NASA_Shuttle/40903.csv',4,3,0.3,'mahalanobis')\n",
        "# var = VAR_AnomalyDetection.from_file('drive/My Drive/MT/Experiments/Multivariate/NASA_Shuttle/40903.csv',2,3,0.3,'mahalanobis')\n",
        "var.standardize_dataframe()\n",
        "var.create_persistence()\n",
        "var.build_sets()\n",
        "var.compute_anomalyScores()\n",
        "auc =var.get_roc_auc(verbose=False,plot=False)\n",
        "\n",
        "\n",
        "endTime = datetime.datetime.now()\n",
        "diff = endTime - startTime\n",
        "print(diff.microseconds/1000)"
      ],
      "execution_count": 0,
      "outputs": [
        {
          "output_type": "stream",
          "text": [
            "start\n",
            "4362:66610"
          ],
          "name": "stdout"
        }
      ]
    },
    {
      "cell_type": "code",
      "metadata": {
        "id": "unW3aIb-uS93",
        "colab_type": "code",
        "colab": {}
      },
      "source": [
        "import datetime\n",
        "startTime = datetime.datetime.now()\n",
        "\n",
        "var = VARMAX_AnomalyDetection.from_DataFrame(df_synthetic,4,5,0.3,'euclidean')\n",
        "var.standardize_dataframe()\n",
        "var.create_persistence()\n",
        "var.build_sets()\n",
        "var.compute_anomalyScores()\n",
        "auc =var.get_roc_auc(verbose=False,plot=False)\n",
        "\n",
        "\n",
        "endTime = datetime.datetime.now()\n",
        "diff = endTime - startTime\n",
        "print(diff.microseconds/1000)"
      ],
      "execution_count": 0,
      "outputs": []
    },
    {
      "cell_type": "code",
      "metadata": {
        "id": "JX-TNWblu9RK",
        "colab_type": "code",
        "colab": {}
      },
      "source": [
        "import datetime\n",
        "startTime = datetime.datetime.now()\n",
        "var = VARMAX_AnomalyDetection.from_file('drive/My Drive/MT/Experiments/Multivariate/NASA_Shuttle/40903.csv',4,3,0.3,'euclidean')\n",
        "\n",
        "var.standardize_dataframe()\n",
        "var.create_persistence()\n",
        "var.build_sets()\n",
        "var.compute_anomalyScores()\n",
        "auc =var.get_roc_auc(verbose=False,plot=False)\n",
        "\n",
        "\n",
        "endTime = datetime.datetime.now()\n",
        "diff = endTime - startTime\n",
        "print(diff.microseconds/1000)"
      ],
      "execution_count": 0,
      "outputs": []
    },
    {
      "cell_type": "markdown",
      "metadata": {
        "id": "Xf6engZIXYmv",
        "colab_type": "text"
      },
      "source": [
        "# Average AR"
      ]
    },
    {
      "cell_type": "code",
      "metadata": {
        "id": "R2JoTRxlXaSj",
        "colab_type": "code",
        "colab": {}
      },
      "source": [
        "from statsmodels.tsa.ar_model import AR\n",
        "from sklearn.metrics import mean_squared_error\n",
        "from math import sqrt\n",
        "from pandas import read_csv\n",
        "import pandas as pd\n",
        "from pandas import DataFrame\n",
        "from pandas import concat\n",
        "import numpy as np \n",
        "from matplotlib import pyplot\n",
        "import sys\n",
        "\n",
        "class AR_Compact:\n",
        "\n",
        "    def model_persistence(self, x):\n",
        "        return x\n",
        "\n",
        "    def create_persistence(self):\n",
        "        predictions = list()\n",
        "        for x in self.test_X:\n",
        "            yhat = self.model_persistence(x)\n",
        "            predictions.append(yhat)\n",
        "        rmse = sqrt(mean_squared_error(self.test_y, predictions))\n",
        "        # print('Train shape', self.train_X.shape, ' - Test shape:' , self.test_X.shape)\n",
        "        # print('Persistent Model RMSE: %.3f' % rmse)     \n",
        "        \n",
        "\n",
        "    @classmethod\n",
        "    def from_DataFrame(cls,dataframe, train_rate) -> 'AR_Compact':\n",
        "    \treturn cls(dataframe, train_rate)\n",
        "\n",
        "    @classmethod\n",
        "    def from_file(cls, file: str, train_rate) -> 'AR_Compact':\n",
        "    \tdf = read_csv(path, header=0, index_col=0, parse_dates=True,squeeze=True)\n",
        "    \treturn cls(df, train_rate)\n",
        "\n",
        "    \n",
        "    def __init__(self,df, train_rate):\n",
        "        self.df = df\n",
        "        self.df = self.df.reset_index(drop=True)\n",
        "        self.df.rename(columns={'anomaly':'is_anomaly'}, inplace=True)\n",
        "        self.df.loc[self.df.is_anomaly == \"'Anomaly'\", 'is_anomaly'] = 1\n",
        "        self.df.loc[self.df.is_anomaly == \"'Normal'\", 'is_anomaly'] = 0\n",
        "\n",
        "        series = pd.DataFrame(self.df.iloc[:,0].values)  \n",
        "        self.values = DataFrame(series.values)\n",
        "        self.dataframe = concat([self.values.shift(1), self.values], axis=1)\n",
        "        self.dataframe.columns = ['t', 't+1']\n",
        "\n",
        "        self.train_size = int(len(self.values) * train_rate)\n",
        "\n",
        "        self.train, self.test = self.dataframe.values[1:self.train_size], self.dataframe.values[self.train_size:]\n",
        "        self.train_X, self.train_y = self.train[:,0], self.train[:,1]\n",
        "        self.test_X, self.test_y = self.test[:,0], self.test[:,1]     \n",
        "        # self.create_persistence()\n",
        "\n",
        "        # X = (self.dataframe['t+1'] - self.dataframe['t']).values\n",
        "        X = series.values\n",
        "\n",
        "        self.train, self.test = X[1:self.train_size], X[self.train_size:]\n",
        "\n",
        "          \n",
        "    def fit(self, verbose=False):\n",
        "        self.model = AR(self.train)\n",
        "        self.model_fit = self.model.fit()\n",
        "        self.window = self.model_fit.k_ar\n",
        "        self.coef = self.model_fit.params  \n",
        "        if verbose:      \n",
        "            print('Lag: %s' % self.model_fit.k_ar)\n",
        "            print('Coefficients: %s' % self.model_fit.params)\n",
        "\n",
        "    \n",
        "    def predict(self):\n",
        "        self.history = self.train[len(self.train)-self.window:]\n",
        "        self.history = [self.history[i] for i in range(len(self.history))]\n",
        "        self.predictions = list()\n",
        "        for t in range(len(self.test)):\n",
        "            length = len(self.history)\n",
        "            lag = [self.history[i] for i in range(length-self.window,length)]\n",
        "            yhat = self.coef[0]\n",
        "            for d in range(self.window):\n",
        "                yhat += self.coef[d+1] * lag[self.window-d-1]\n",
        "            obs = self.test[t]\n",
        "            self.predictions.append(yhat)\n",
        "            self.history.append(obs)        \n",
        "        # for i in range(len(predictions)):\n",
        "        #     print('predicted=%f, expected=%f' % (predictions[i], test[i]))\n",
        "        # rmse = sqrt(mean_squared_error(self.test, self.predictions))\n",
        "        self.errors = np.absolute(self.test - np.array(self.predictions))\n",
        "        # print('Prediction Test RMSE: %.3f' % rmse)\n",
        "    def plot(self):\n",
        "        # plot predicted error\n",
        "        df_test = pd.DataFrame(self.df.iloc[self.train_size:].values)\n",
        "\n",
        "        pyplot.figure(figsize=(50,5))\n",
        "        pyplot.plot(self.test,color ='blue', linewidth=0.5)\n",
        "        pyplot.plot(self.predictions, color='green',  linewidth=0.5)\n",
        "        pyplot.plot(self.errors, color = 'red',  linewidth=0.5)\n",
        "        pyplot.plot(df_test[df_test[1]==1.].index, df_test[df_test[1]==1.].iloc[:,0].values,'ro')\n",
        "        pyplot.show()\n",
        "\n",
        "    # def plot(self):\n",
        "    #     # plot predicted error\n",
        "    #     indices = self.df[self.df['is_anomaly']==1].index >self.train_size\n",
        "    #     pyplot.figure(figsize=(50,5))\n",
        "    #     pyplot.plot(self.test, color='green',  linewidth=0.5,label='True Values')\n",
        "    #     pyplot.plot(self.predictions, color='blue',  linewidth=0.5,label='Predictions')\n",
        "    #     pyplot.plot(self.errors, color = 'red',  linewidth=0.5, label='Errors')\n",
        "    #     pyplot.plot(self.df[self.df['is_anomaly']==1].index[indices] - self.train_size, self.test[self.df[self.df['is_anomaly']==1].index[indices] - self.train_size -1], linestyle=\"\",marker=\".\", label='Anomalies')\n",
        "    #     pyplot.legend()\n",
        "    #     pyplot.show()\n",
        "\n",
        "    def get_roc_auc(self, plot=True, verbose=True):\n",
        "        # get the predicted errors of the anomaly points\n",
        "        indices = self.df[self.df['is_anomaly']==1].index >self.train_size\n",
        "        true_anomaly_predicted_errors = self.errors[self.df[self.df['is_anomaly']==1].index[indices] - self.train_size]\n",
        "        if len(true_anomaly_predicted_errors) == 0:\n",
        "            return np.nan\n",
        "        # sort them \n",
        "        true_anomaly_predicted_errors = np.sort(true_anomaly_predicted_errors,axis=0).reshape(-1)\n",
        "        true_anomaly_predicted_errors_extended = np.r_[np.linspace(0,true_anomaly_predicted_errors[0],40)[:-1],true_anomaly_predicted_errors]\n",
        "        true_anomaly_predicted_errors_extended = np.r_[true_anomaly_predicted_errors_extended, max(true_anomaly_predicted_errors_extended[-1] + np.mean(true_anomaly_predicted_errors_extended),np.max(self.errors) + np.mean(self.errors))]\n",
        "                # now iterate thru the predicted errors from small to big\n",
        "        # for each value look how much other points have equal or bigger error\n",
        "        FPR = [] # fp/n  https://en.wikipedia.org/wiki/Sensitivity_and_specificity\n",
        "        TPR = [] # tp/p\n",
        "        p = len(true_anomaly_predicted_errors)\n",
        "        Thresholds = []\n",
        "        for predictederror in true_anomaly_predicted_errors_extended:\n",
        "            threshold = predictederror\n",
        "            tp = len(true_anomaly_predicted_errors[true_anomaly_predicted_errors>= threshold])\n",
        "            fp = len(self.errors[self.errors>=threshold])-len(true_anomaly_predicted_errors[true_anomaly_predicted_errors>=threshold])\n",
        "            \n",
        "            fpr =fp/len(self.errors)\n",
        "            FPR.append(fpr)\n",
        "            TPR.append(tp/p)\n",
        "            if verbose:\n",
        "                print(\"Threshold: {0:25}  - FP: {1:4} - TP: {2:4} - FPR: {3:21} - TPR: {4:4}\".format(threshold,fp, tp, fpr, tp/p))\n",
        "\n",
        "        import matplotlib.pyplot as plt\n",
        "        if plot:\n",
        "            plt.figure()\n",
        "            plt.axis([0, 1, 0, 1])\n",
        "            plt.plot(FPR,TPR)\n",
        "            plt.show() \n",
        "\n",
        "        # This is the AUC\n",
        "        from sklearn.metrics import auc\n",
        "        print('AUC: ' ,auc(FPR,TPR)        )\n",
        "        return auc(FPR,TPR)\n",
        "\n",
        "# ar_model = AR_Compact('drive/My Drive/MT/Experiments/Univariate/YahooServiceNetworkTraffic/A4Benchmark/A4Benchmark-TS18.csv', 0.3)\n",
        "# ar_model.fit()\n",
        "# ar_model.predict()\n",
        "# ar_model.plot()\n",
        "# ar_model.get_roc_auc(verbose=True)\n",
        "\n",
        "def concatenate_errors(ar_univariates):\n",
        "    pci_ = ar_univariates[0]\n",
        "    errors = np.zeros((len(pci_.errors),dimension))\n",
        "    errors[:,0] = pci_.errors.T\n",
        "    # for i in range(1,5):\n",
        "    for i in range(1,5):\n",
        "        errors[:,0:i+1] = np.c_[errors[:,:i],ar_univariates[i].errors.reshape(-1,1)]\n",
        "    return np.min(errors,axis=1)\n"
      ],
      "execution_count": 0,
      "outputs": []
    },
    {
      "cell_type": "markdown",
      "metadata": {
        "id": "sfzEw7f0lBMm",
        "colab_type": "text"
      },
      "source": [
        "## Evaluation"
      ]
    },
    {
      "cell_type": "markdown",
      "metadata": {
        "id": "o1K_ewARYlPV",
        "colab_type": "text"
      },
      "source": [
        "### Evaluation with SD Results (Synthetic data)"
      ]
    },
    {
      "cell_type": "code",
      "metadata": {
        "id": "3-bb3CeUlDWe",
        "colab_type": "code",
        "outputId": "974addf0-c6bf-4e2d-95d2-805ff3fa806b",
        "colab": {
          "base_uri": "https://localhost:8080/",
          "height": 256
        }
      },
      "source": [
        "\n",
        "import datetime\n",
        "startTime = datetime.datetime.now()\n",
        "\n",
        "dimension = 5\n",
        "# df = read_csv(path, header=0, index_col=index_col, parse_dates=True,squeeze=True)\n",
        "ar_univariates = []\n",
        "for i in range (5):\n",
        "    print(i)\n",
        "    df_univariate = pd.DataFrame(np.c_[df_synthetic.iloc[:,i].values,df_synthetic.iloc[:,-1].values])\n",
        "    df_univariate.columns = ['V1','is_anomaly']\n",
        "    ar = AR_Compact.from_DataFrame(df_univariate,0.3)\n",
        "    # ar.getAndReadAnaomaliesByPCI(plot=False)\n",
        "    ar.fit()\n",
        "    ar.predict()\n",
        "    ar_univariates.append(ar)\n",
        "\t\n",
        "errors = concatenate_errors(ar_univariates)\n",
        "ar_full = AR_Compact.from_DataFrame(df_synthetic,0.3)\n",
        "ar_full.errors = errors\n",
        "ar_full.get_roc_auc(verbose=False)\n",
        "\n",
        "endTime = datetime.datetime.now()\n",
        "diff = endTime - startTime\n",
        "print('Time: ',diff.microseconds/1000, 'ms')"
      ],
      "execution_count": 0,
      "outputs": [
        {
          "output_type": "stream",
          "text": [
            "0\n"
          ],
          "name": "stdout"
        },
        {
          "output_type": "error",
          "ename": "NameError",
          "evalue": "ignored",
          "traceback": [
            "\u001b[0;31m---------------------------------------------------------------------------\u001b[0m",
            "\u001b[0;31mNameError\u001b[0m                                 Traceback (most recent call last)",
            "\u001b[0;32m<ipython-input-2-45d25d1ee8f3>\u001b[0m in \u001b[0;36m<module>\u001b[0;34m()\u001b[0m\n\u001b[1;32m      8\u001b[0m \u001b[0;32mfor\u001b[0m \u001b[0mi\u001b[0m \u001b[0;32min\u001b[0m \u001b[0mrange\u001b[0m \u001b[0;34m(\u001b[0m\u001b[0;36m5\u001b[0m\u001b[0;34m)\u001b[0m\u001b[0;34m:\u001b[0m\u001b[0;34m\u001b[0m\u001b[0;34m\u001b[0m\u001b[0m\n\u001b[1;32m      9\u001b[0m     \u001b[0mprint\u001b[0m\u001b[0;34m(\u001b[0m\u001b[0mi\u001b[0m\u001b[0;34m)\u001b[0m\u001b[0;34m\u001b[0m\u001b[0;34m\u001b[0m\u001b[0m\n\u001b[0;32m---> 10\u001b[0;31m     \u001b[0mdf_univariate\u001b[0m \u001b[0;34m=\u001b[0m \u001b[0mpd\u001b[0m\u001b[0;34m.\u001b[0m\u001b[0mDataFrame\u001b[0m\u001b[0;34m(\u001b[0m\u001b[0mnp\u001b[0m\u001b[0;34m.\u001b[0m\u001b[0mc_\u001b[0m\u001b[0;34m[\u001b[0m\u001b[0mdf_synthetic\u001b[0m\u001b[0;34m.\u001b[0m\u001b[0miloc\u001b[0m\u001b[0;34m[\u001b[0m\u001b[0;34m:\u001b[0m\u001b[0;34m,\u001b[0m\u001b[0mi\u001b[0m\u001b[0;34m]\u001b[0m\u001b[0;34m.\u001b[0m\u001b[0mvalues\u001b[0m\u001b[0;34m,\u001b[0m\u001b[0mdf_synthetic\u001b[0m\u001b[0;34m.\u001b[0m\u001b[0miloc\u001b[0m\u001b[0;34m[\u001b[0m\u001b[0;34m:\u001b[0m\u001b[0;34m,\u001b[0m\u001b[0;34m-\u001b[0m\u001b[0;36m1\u001b[0m\u001b[0;34m]\u001b[0m\u001b[0;34m.\u001b[0m\u001b[0mvalues\u001b[0m\u001b[0;34m]\u001b[0m\u001b[0;34m)\u001b[0m\u001b[0;34m\u001b[0m\u001b[0;34m\u001b[0m\u001b[0m\n\u001b[0m\u001b[1;32m     11\u001b[0m     \u001b[0mdf_univariate\u001b[0m\u001b[0;34m.\u001b[0m\u001b[0mcolumns\u001b[0m \u001b[0;34m=\u001b[0m \u001b[0;34m[\u001b[0m\u001b[0;34m'V1'\u001b[0m\u001b[0;34m,\u001b[0m\u001b[0;34m'is_anomaly'\u001b[0m\u001b[0;34m]\u001b[0m\u001b[0;34m\u001b[0m\u001b[0;34m\u001b[0m\u001b[0m\n\u001b[1;32m     12\u001b[0m     \u001b[0mar\u001b[0m \u001b[0;34m=\u001b[0m \u001b[0mAR_Compact\u001b[0m\u001b[0;34m.\u001b[0m\u001b[0mfrom_DataFrame\u001b[0m\u001b[0;34m(\u001b[0m\u001b[0mdf_univariate\u001b[0m\u001b[0;34m,\u001b[0m\u001b[0;36m0.3\u001b[0m\u001b[0;34m)\u001b[0m\u001b[0;34m\u001b[0m\u001b[0;34m\u001b[0m\u001b[0m\n",
            "\u001b[0;31mNameError\u001b[0m: name 'df_synthetic' is not defined"
          ]
        }
      ]
    },
    {
      "cell_type": "markdown",
      "metadata": {
        "id": "e4NR3a5fie-3",
        "colab_type": "text"
      },
      "source": [
        "# Average MA"
      ]
    },
    {
      "cell_type": "markdown",
      "metadata": {
        "id": "KTP0WbNlYfKQ",
        "colab_type": "text"
      },
      "source": [
        "## Evaluation with SD Results (Synthetic data)"
      ]
    },
    {
      "cell_type": "code",
      "metadata": {
        "id": "esoIdfmPig4u",
        "colab_type": "code",
        "outputId": "ca3ce624-9e13-453d-986e-f03aadfc5428",
        "colab": {
          "base_uri": "https://localhost:8080/",
          "height": 393
        }
      },
      "source": [
        "from statsmodels.tsa.ar_model import AR\n",
        "from sklearn.metrics import mean_squared_error\n",
        "from math import sqrt\n",
        "from pandas import read_csv\n",
        "import pandas as pd\n",
        "from pandas import DataFrame\n",
        "from pandas import concat\n",
        "import numpy as np \n",
        "from matplotlib import pyplot\n",
        "import sys\n",
        "\n",
        "class MA_Average:\n",
        "\n",
        "    @classmethod\n",
        "    def from_DataFrame(cls,dataframe, train_rate) -> 'MA':\n",
        "    \treturn cls(dataframe, train_rate)\n",
        "\n",
        "    @classmethod\n",
        "    def from_file(cls, file: str, train_rate) -> 'MA':\n",
        "    \tdf = read_csv(path, header=0, index_col=0, parse_dates=True,squeeze=True)\n",
        "    \treturn cls(df, train_rate)\n",
        "\n",
        "    \n",
        "    def __init__(self,df, train_rate):\n",
        "        self.df = df\n",
        "        self.df = self.df.reset_index(drop=True)\n",
        "        self.df.rename(columns={'anomaly':'is_anomaly'}, inplace=True)\n",
        "        self.df.loc[self.df.is_anomaly == \"'Anomaly'\", 'is_anomaly'] = 1\n",
        "        self.df.loc[self.df.is_anomaly == \"'Normal'\", 'is_anomaly'] = 0\n",
        "\n",
        "        series = pd.DataFrame(self.df.iloc[:,0].values)  \n",
        "        self.values = DataFrame(series.values)\n",
        "        self.dataframe = concat([self.values.shift(1), self.values], axis=1)\n",
        "        self.dataframe.columns = ['t', 't+1']\n",
        "\n",
        "        X = self.dataframe.values\n",
        "        self.train_size = int(len(X) * train_rate)\n",
        "\n",
        "        self.train, self.test = self.dataframe.values[1:self.train_size], self.dataframe.values[self.train_size:]\n",
        "        self.train_X, self.train_y = self.train[:,0], self.train[:,1]\n",
        "        self.test_X, self.test_y = self.test[:,0], self.test[:,1]     \n",
        "        # self.create_persistence()\n",
        "\n",
        "        # X = (self.dataframe['t+1'] - self.dataframe['t']).values\n",
        "        X = series.values\n",
        "\n",
        "        # persistence model on training set\n",
        "        self.train_pred = [x for x in self.train_X]\n",
        "        # calculate residuals\n",
        "        self.train_resid = [self.train_y[i]-self.train_pred[i] for i in range(len(self.train_pred))]\n",
        "\n",
        "    # def __init__(self, path, train_rate):\n",
        "\n",
        "    #     self.df = read_csv(path, header=0, index_col=0, parse_dates=True,squeeze=True)\n",
        "    #     self.df = self.df.reset_index(drop=True)\n",
        "    #     self.df.rename(columns={'anomaly':'is_anomaly'}, inplace=True)\n",
        "    #     series = pd.DataFrame(self.df.iloc[:,0].values)  \n",
        "    #     self.values = DataFrame(series.values)\n",
        "    #     self.dataframe = concat([self.values.shift(1), self.values], axis=1)\n",
        "    #     self.dataframe.columns = ['t', 't+1']\n",
        "    #     X = self.dataframe.values\n",
        "\n",
        "    #     self.train_size = int(len(X) * train_rate)    \n",
        "\n",
        "    #     train, test = X[1:self.train_size], X[self.train_size:]\n",
        "    #     self.train_X, self.train_y = train[:,0], train[:,1]\n",
        "    #     self.test_X, self.test_y = test[:,0], test[:,1]        \n",
        "    #     # persistence model on training set\n",
        "    #     self.train_pred = [x for x in self.train_X]\n",
        "    #     # calculate residuals\n",
        "    #     self.train_resid = [self.train_y[i]-self.train_pred[i] for i in range(len(self.train_pred))]\n",
        "\n",
        "    def fit(self, verbose=False):\n",
        "        self.model = AR(self.train_resid)\n",
        "        self.model_fit = self.model.fit()\n",
        "        self.window = self.model_fit.k_ar\n",
        "        self.coef = self.model_fit.params        \n",
        "        if verbose:\n",
        "            print(self.coef)\n",
        "\n",
        "    def predict(self):\n",
        "        # walk forward over time steps in test\n",
        "        self.history = self.train_resid[len(self.train_resid)-self.window:]\n",
        "        self.history = [self.history[i] for i in range(len(self.history))]\n",
        "        self.predictions = list()\n",
        "        for t in range(len(self.test_y)):\n",
        "            # persistence\n",
        "            yhat = self.test_X[t]\n",
        "            error = self.test_y[t] - yhat\n",
        "            # predict error\n",
        "            length = len(self.history)\n",
        "            lag = [self.history[i] for i in range(length-self.window,length)]\n",
        "            pred_error = self.coef[0]\n",
        "            for d in range(self.window):\n",
        "                pred_error += self.coef[d+1] * lag[self.window-d-1]\n",
        "            # correct the prediction\n",
        "            yhat = yhat + pred_error\n",
        "            self.predictions.append(yhat)\n",
        "            self.history.append(error)\n",
        "            # print('predicted=%f, expected=%f' % (yhat, test_y[t]))\n",
        "        rmse = sqrt(mean_squared_error(self.test_y, self.predictions))\n",
        "        self.errors = np.absolute(self.test_y - np.array(self.predictions))\n",
        "        # print('Prediction Test RMSE: %.3f' % rmse)\n",
        "\n",
        "    def plot(self):\n",
        "        # plot predicted error\n",
        "        df_test = pd.DataFrame(self.df.iloc[self.train_size:].values)\n",
        "\n",
        "        pyplot.figure(figsize=(50,5))\n",
        "        pyplot.plot(self.test_y,color ='blue', linewidth=0.5)\n",
        "        pyplot.plot(self.predictions, color='green',  linewidth=0.5)\n",
        "        pyplot.plot(self.errors, color = 'red',  linewidth=0.5)\n",
        "        pyplot.plot(df_test[df_test[1]==1.].index, df_test[df_test[1]==1.].iloc[:,0].values,'ro')\n",
        "        pyplot.show()\n",
        "\n",
        "\n",
        "    def get_roc_auc(self, plot=True, verbose=True):\n",
        "        # get the predicted errors of the anomaly points\n",
        "        indices = self.df[self.df['is_anomaly']==1].index >self.train_size\n",
        "        true_anomaly_predicted_errors = self.errors[self.df[self.df['is_anomaly']==1].index[indices] - self.train_size ]\n",
        "        if len(true_anomaly_predicted_errors) == 0:\n",
        "            return np.nan\n",
        "        # true_anomaly_predicted_errors = self.errors[self.df[self.df['is_anomaly']==1].index - self.train_size ]\n",
        "        # sort them \n",
        "        true_anomaly_predicted_errors = np.sort(true_anomaly_predicted_errors,axis=0).reshape(-1)\n",
        "        true_anomaly_predicted_errors_extended = np.r_[np.linspace(0,true_anomaly_predicted_errors[0],40)[:-1],true_anomaly_predicted_errors]\n",
        "        true_anomaly_predicted_errors_extended = np.r_[true_anomaly_predicted_errors_extended, true_anomaly_predicted_errors_extended[-1] + np.mean(true_anomaly_predicted_errors_extended)]\n",
        "                # now iterate thru the predicted errors from small to big\n",
        "        # for each value look how much other points have equal or bigger error\n",
        "        FPR = [] # fp/n  https://en.wikipedia.org/wiki/Sensitivity_and_specificity\n",
        "        TPR = [] # tp/p\n",
        "        p = len(true_anomaly_predicted_errors)\n",
        "        Thresholds = []\n",
        "        for predictederror in true_anomaly_predicted_errors_extended:\n",
        "            threshold = predictederror\n",
        "            tp = len(true_anomaly_predicted_errors[true_anomaly_predicted_errors>= threshold])\n",
        "            fp = len(self.errors[self.errors>=threshold])-len(true_anomaly_predicted_errors[true_anomaly_predicted_errors>=threshold])\n",
        "            \n",
        "            fpr =fp/len(self.errors)\n",
        "            FPR.append(fpr)\n",
        "            TPR.append(tp/p)\n",
        "            if verbose:\n",
        "                print(\"Threshold: {0:25}  - FP: {1:4} - TP: {2:4} - FPR: {3:21} - TPR: {4:4}\".format(threshold,fp, tp, fpr, tp/p))\n",
        "\n",
        "        import matplotlib.pyplot as plt\n",
        "        if plot:\n",
        "            plt.figure()\n",
        "            plt.axis([0, 1, 0, 1])\n",
        "            plt.plot(FPR,TPR)\n",
        "            plt.show() \n",
        "\n",
        "        # This is the AUC\n",
        "        from sklearn.metrics import auc\n",
        "        print('AUC: ' ,auc(FPR,TPR)        )\n",
        "        return auc(FPR,TPR)\n",
        "\n",
        "\n",
        "# ar_model = AR_Compact('drive/My Drive/MT/Experiments/Univariate/YahooServiceNetworkTraffic/A4Benchmark/A4Benchmark-TS18.csv', 0.3)\n",
        "# ar_model.fit()\n",
        "# ar_model.predict()\n",
        "# ar_model.plot()\n",
        "# ar_model.get_roc_auc(verbose=True)\n",
        "\n",
        "def concatenate_errors(ar_univariates):\n",
        "    pci_ = ar_univariates[0]\n",
        "    errors = np.zeros((len(pci_.errors),dimension))\n",
        "    errors[:,0] = pci_.errors.T\n",
        "    # for i in range(1,5):\n",
        "    for i in range(1,5):\n",
        "        errors[:,0:i+1] = np.c_[errors[:,:i],ar_univariates[i].errors.reshape(-1,1)]\n",
        "    return np.min(errors,axis=1)\n",
        "\n",
        "import datetime\n",
        "startTime = datetime.datetime.now()\n",
        "\n",
        "dimension = 5\n",
        "# df = read_csv(path, header=0, index_col=index_col, parse_dates=True,squeeze=True)\n",
        "ar_univariates = []\n",
        "for i in range (5):\n",
        "    print(i)\n",
        "    df_univariate = pd.DataFrame(np.c_[df_synthetic.iloc[:,i].values,df_synthetic.iloc[:,-1].values])\n",
        "    df_univariate.columns = ['V1','is_anomaly']\n",
        "    ar = MA_Average.from_DataFrame(df_univariate,0.3)\n",
        "    # ar.getAndReadAnaomaliesByPCI(plot=False)\n",
        "    ar.fit()\n",
        "    ar.predict()\n",
        "    ar_univariates.append(ar)\n",
        "\t\n",
        "errors = concatenate_errors(ar_univariates)\n",
        "ar_full = MA_Average.from_DataFrame(df_synthetic,0.3)\n",
        "ar_full.errors = errors\n",
        "ar_full.get_roc_auc(verbose=False)\n",
        "\n",
        "endTime = datetime.datetime.now()\n",
        "diff = endTime - startTime\n",
        "print('Time: ',diff.microseconds/1000, 'ms')"
      ],
      "execution_count": 0,
      "outputs": [
        {
          "output_type": "stream",
          "text": [
            "0\n",
            "1\n",
            "2\n",
            "3\n",
            "4\n"
          ],
          "name": "stdout"
        },
        {
          "output_type": "display_data",
          "data": {
            "image/png": "[encoded data removed]",
            "text/plain": [
              "<Figure size 432x288 with 1 Axes>"
            ]
          },
          "metadata": {
            "tags": []
          }
        },
        {
          "output_type": "stream",
          "text": [
            "AUC:  0.5047142857142859\n",
            "Time:  558.662 ms\n"
          ],
          "name": "stdout"
        }
      ]
    },
    {
      "cell_type": "markdown",
      "metadata": {
        "id": "mZzQRnu2i_F0",
        "colab_type": "text"
      },
      "source": [
        "# Average XGBoost"
      ]
    },
    {
      "cell_type": "markdown",
      "metadata": {
        "id": "i2c2y5FWYqwL",
        "colab_type": "text"
      },
      "source": [
        "## Evaluation with SD Results (Synthetic data)"
      ]
    },
    {
      "cell_type": "code",
      "metadata": {
        "id": "X_stjPeQjFG8",
        "colab_type": "code",
        "outputId": "2c9c64b5-4106-4ad4-d1de-e7a2514e328a",
        "colab": {
          "base_uri": "https://localhost:8080/",
          "height": 482
        }
      },
      "source": [
        "import warnings\n",
        "from sklearn.cluster import KMeans\n",
        "from statsmodels.tsa.ar_model import AR\n",
        "from sklearn.metrics import mean_squared_error\n",
        "from math import sqrt\n",
        "from pandas import read_csv\n",
        "import pandas as pd\n",
        "from pandas import DataFrame\n",
        "from pandas import concat\n",
        "import numpy as np \n",
        "from matplotlib import pyplot\n",
        "from xgboost import XGBRegressor\n",
        "from sklearn import preprocessing\n",
        "import sys\n",
        "\n",
        "class XGBRegressor_Average_AnomalyDetection:\n",
        "\n",
        "    @classmethod\n",
        "    def from_DataFrame(cls,dataframe,window_width, train_rate) -> 'XGBRegressor_AnomalyDetection':\n",
        "    \treturn cls(dataframe, window_width, train_rate)\n",
        "\n",
        "    @classmethod\n",
        "    def from_file(cls, path, window_width, train_rate) -> 'XGBRegressor_AnomalyDetection':\n",
        "    \tdf = read_csv(path, header=0, index_col=0, parse_dates=True,squeeze=True)\n",
        "    \treturn cls(df,window_width, train_rate)\n",
        "         \n",
        "    def __init__(self,df, window_width, train_rate):\n",
        "        self.df = df\n",
        "        self.df = self.df.reset_index(drop=True)\n",
        "        self.df.rename(columns={'anomaly':'is_anomaly'}, inplace=True)\n",
        "        self.window_width = window_width\n",
        "        series = pd.DataFrame(self.df.iloc[:,0].values)  \n",
        "        self.values = DataFrame(series.values)\n",
        "        self.dataframe = concat([self.values.shift(1), self.values], axis=1)\n",
        "        self.dataframe.columns = ['t', 't+1']\n",
        "\n",
        "        self.train_size = int(len(self.values) * train_rate)\n",
        "\n",
        "        # train_labeled, test_labeled = self.dataframe.values[1:self.train_size], self.dataframe.values[self.train_size:]\n",
        "        # self.train_X, self.train_y = train_labeled[:,0], train_labeled[:,1]\n",
        "        # self.test_X, self.test_y = test_labeled[:,0], test_labeled[:,1]     \n",
        "        # self.create_persistence()\n",
        "\n",
        "        # X = series.values\n",
        "        # self.train, self.test = X[1:self.train_size], X[self.train_size:]    \n",
        "\n",
        "    def __build_sets(self):\n",
        "        train_labeled, test_labeled = self.dataframe.values[1:self.train_size], self.dataframe.values[self.train_size:]\n",
        "        self.train_X, self.train_y = train_labeled[:,0], train_labeled[:,1]\n",
        "        self.test_X, self.test_y = test_labeled[:,0], test_labeled[:,1]   \n",
        "\n",
        "        X = self.dataframe.iloc[:,1].values\n",
        "        self.train, self.test = X[1:self.train_size], X[self.train_size:]    \n",
        "\n",
        "    def standardize_dataframe(self):\n",
        "        X = self.dataframe.values\n",
        "        self.scalar = preprocessing.StandardScaler().fit(X)\n",
        "        X = self.scalar.transform(X)\n",
        "        self.dataframe = pd.DataFrame(X)\n",
        "\n",
        "    def inverse_standardize_dataframe(self):\n",
        "        X = self.dataframe.values\n",
        "        X = self.scalar.inverse_transform(X)\n",
        "        self.dataframe = pd.DataFrame(X)\n",
        "\n",
        "\n",
        "\n",
        "    def model_persistence(self, x):\n",
        "        return x\n",
        "        \n",
        "    def create_persistence(self):\n",
        "        rmse = sqrt(mean_squared_error(self.dataframe['t'].iloc[self.train_size:], self.dataframe['t+1'].iloc[self.train_size::]))\n",
        "#         print('Persistent Model RMSE: %.3f' % rmse)   \n",
        "\n",
        "    def fit(self):\n",
        "        self.create_persistence()\n",
        "        self.__build_sets()\n",
        "                \n",
        "        self.compute_anomalyScores()\n",
        "    \n",
        "    def getWindowedVectors(self, X):\n",
        "        vectors = []\n",
        "        for i,_ in enumerate(X[:-self.window_width+1]):\n",
        "            vectors.append(X[i:i+self.window_width])\n",
        "        return vectors\n",
        "\n",
        "    def compute_anomalyScores(self):\n",
        "\n",
        "        xgb = XGBRegressor()\n",
        "        xgb.fit(self.train_X.reshape(-1,1),self.train_y.reshape(-1,1))\n",
        "\n",
        "        self.predictions = xgb.predict(self.test_X.reshape(-1,1))\n",
        "        rmse = sqrt(mean_squared_error(self.test, self.predictions))\n",
        "        self.errors = np.absolute(self.test - np.array(self.predictions))\n",
        "#         print('Prediction Test RMSE: %.3f' % rmse)\n",
        "    \n",
        "\n",
        "    def plot(self):\n",
        "        # plot predicted error\n",
        "        df_test = pd.DataFrame(self.df.iloc[self.train_size:].values)\n",
        "\n",
        "        pyplot.figure(figsize=(50,5))\n",
        "        pyplot.plot(self.test)\n",
        "        pyplot.plot(self.predictions, color='blue')\n",
        "        pyplot.plot(self.errors, color = 'red',  linewidth=0.5)\n",
        "        pyplot.plot(df_test[df_test[1]==1.].index, df_test[df_test[1]==1.].iloc[:,0].values,'ro')\n",
        "        pyplot.show()\n",
        "\n",
        "    def get_roc_auc(self, plot=True, verbose=True):\n",
        "        # get the predicted errors of the anomaly points\n",
        "        indices = self.df[self.df['is_anomaly']==1].index >self.train_size\n",
        "        true_anomaly_predicted_errors = self.errors[self.df[self.df['is_anomaly']==1].index[indices] - self.train_size ]\n",
        "        if len(true_anomaly_predicted_errors) == 0:\n",
        "            return np.nan\n",
        "        # sort them \n",
        "        true_anomaly_predicted_errors = np.sort(true_anomaly_predicted_errors,axis=0).reshape(-1)\n",
        "        true_anomaly_predicted_errors_extended = np.r_[np.linspace(0,true_anomaly_predicted_errors[0],40)[:-1],true_anomaly_predicted_errors]\n",
        "        true_anomaly_predicted_errors_extended = np.r_[true_anomaly_predicted_errors_extended, true_anomaly_predicted_errors_extended[-1] + np.mean(true_anomaly_predicted_errors_extended)]\n",
        "                # now iterate thru the predicted errors from small to big\n",
        "        # for each value look how much other points have equal or bigger error\n",
        "        FPR = [] # fp/n  https://en.wikipedia.org/wiki/Sensitivity_and_specificity\n",
        "        TPR = [] # tp/p\n",
        "        p = len(true_anomaly_predicted_errors)\n",
        "        Thresholds = []\n",
        "        for predictederror in true_anomaly_predicted_errors_extended:\n",
        "            threshold = predictederror\n",
        "            tp = len(true_anomaly_predicted_errors[true_anomaly_predicted_errors>= threshold])\n",
        "            fp = len(self.errors[self.errors>=threshold])-len(true_anomaly_predicted_errors[true_anomaly_predicted_errors>=threshold])\n",
        "            \n",
        "            fpr =fp/len(self.errors)\n",
        "            FPR.append(fpr)\n",
        "            TPR.append(tp/p)\n",
        "            if verbose:\n",
        "                print(\"Threshold: {0:25}  - FP: {1:4} - TP: {2:4} - FPR: {3:21} - TPR: {4:4}\".format(threshold,fp, tp, fpr, tp/p))\n",
        "\n",
        "        import matplotlib.pyplot as plt\n",
        "        if plot:\n",
        "            plt.figure()\n",
        "            plt.axis([0, 1, 0, 1])\n",
        "            plt.plot(FPR,TPR)\n",
        "            plt.show() \n",
        "\n",
        "        # This is the AUC\n",
        "        from sklearn.metrics import auc\n",
        "        print('AUC: ' ,auc(FPR,TPR)        )\n",
        "        return auc(FPR,TPR)\n",
        "\n",
        "# ar_model = AR_Compact('drive/My Drive/MT/Experiments/Univariate/YahooServiceNetworkTraffic/A4Benchmark/A4Benchmark-TS18.csv', 0.3)\n",
        "# ar_model.fit()\n",
        "# ar_model.predict()\n",
        "# ar_model.plot()\n",
        "# ar_model.get_roc_auc(verbose=True)\n",
        "\n",
        "def concatenate_errors(ar_univariates):\n",
        "    pci_ = ar_univariates[0]\n",
        "    errors = np.zeros((len(pci_.errors),dimension))\n",
        "    errors[:,0] = pci_.errors.T\n",
        "    # for i in range(1,5):\n",
        "    for i in range(1,5):\n",
        "        errors[:,0:i+1] = np.c_[errors[:,:i],ar_univariates[i].errors.reshape(-1,1)]\n",
        "    return np.min(errors,axis=1)\n",
        "\n",
        "import datetime\n",
        "startTime = datetime.datetime.now()\n",
        "\n",
        "dimension = 5\n",
        "# df = read_csv(path, header=0, index_col=index_col, parse_dates=True,squeeze=True)\n",
        "ar_univariates = []\n",
        "for i in range (5):\n",
        "    print(i)\n",
        "    df_univariate = pd.DataFrame(np.c_[df_synthetic.iloc[:,i].values,df_synthetic.iloc[:,-1].values])\n",
        "    df_univariate.columns = ['V1','is_anomaly']\n",
        "    ar = XGBRegressor_Average_AnomalyDetection.from_DataFrame(df_univariate,100,0.3)\n",
        "    # ar.getAndReadAnaomaliesByPCI(plot=False)\n",
        "    ar.fit()\n",
        "    ar_univariates.append(ar)\n",
        "\t\n",
        "errors = concatenate_errors(ar_univariates)\n",
        "ar_full = XGBRegressor_Average_AnomalyDetection.from_DataFrame(df_synthetic,100,0.3)\n",
        "ar_full.errors = errors\n",
        "ar_full.get_roc_auc(verbose=False)\n",
        "\n",
        "endTime = datetime.datetime.now()\n",
        "diff = endTime - startTime\n",
        "print('Time: ',diff.microseconds/1000, 'ms')\n",
        "\n",
        "# iforest = XGBRegressor_AnomalyDetection('Univariate/YahooServiceNetworkTraffic/A1Benchmark/real_4.csv',30,0.7,0.66)\n",
        "# iforest.fit()\n",
        "# iforest.plot()\n",
        "# iforest.get_roc_auc(verbose=False)"
      ],
      "execution_count": 0,
      "outputs": [
        {
          "output_type": "stream",
          "text": [
            "0\n",
            "[13:57:57] WARNING: /workspace/src/objective/regression_obj.cu:152: reg:linear is now deprecated in favor of reg:squarederror.\n",
            "1\n",
            "[13:57:57] WARNING: /workspace/src/objective/regression_obj.cu:152: reg:linear is now deprecated in favor of reg:squarederror.\n",
            "2\n",
            "[13:57:57] WARNING: /workspace/src/objective/regression_obj.cu:152: reg:linear is now deprecated in favor of reg:squarederror.\n",
            "3\n",
            "[13:57:57] WARNING: /workspace/src/objective/regression_obj.cu:152: reg:linear is now deprecated in favor of reg:squarederror.\n",
            "4\n",
            "[13:57:57] WARNING: /workspace/src/objective/regression_obj.cu:152: reg:linear is now deprecated in favor of reg:squarederror.\n"
          ],
          "name": "stdout"
        },
        {
          "output_type": "display_data",
          "data": {
            "image/png": "[encoded data removed]",
            "text/plain": [
              "<Figure size 432x288 with 1 Axes>"
            ]
          },
          "metadata": {
            "tags": []
          }
        },
        {
          "output_type": "stream",
          "text": [
            "AUC:  0.5930816326530614\n",
            "Time:  373.552 ms\n"
          ],
          "name": "stdout"
        }
      ]
    },
    {
      "cell_type": "markdown",
      "metadata": {
        "id": "tVoelTbBjinO",
        "colab_type": "text"
      },
      "source": [
        "#Average OCSVM"
      ]
    },
    {
      "cell_type": "markdown",
      "metadata": {
        "id": "mW_5E_kCYrub",
        "colab_type": "text"
      },
      "source": [
        "## Evaluation with SD Results (Synthetic data)"
      ]
    },
    {
      "cell_type": "code",
      "metadata": {
        "id": "sdQmBxGsjk8z",
        "colab_type": "code",
        "outputId": "524d68e2-51f4-437c-867c-31a1a2b14a63",
        "colab": {
          "base_uri": "https://localhost:8080/",
          "height": 411
        }
      },
      "source": [
        "import warnings\n",
        "from sklearn.cluster import KMeans\n",
        "from statsmodels.tsa.ar_model import AR\n",
        "from sklearn.metrics import mean_squared_error\n",
        "from math import sqrt\n",
        "from pandas import read_csv\n",
        "import pandas as pd\n",
        "from pandas import DataFrame\n",
        "from pandas import concat\n",
        "import numpy as np \n",
        "from matplotlib import pyplot\n",
        "from sklearn.svm import OneClassSVM\n",
        "from sklearn import preprocessing\n",
        "import sys\n",
        "\n",
        "class OneClassSVM_Average_AnomalyDetection:\n",
        "\n",
        "    @classmethod\n",
        "    def from_DataFrame(cls,dataframe,window_width, nu, train_rate) -> 'OneClassSVM_AnomalyDetection':\n",
        "    \treturn cls(dataframe, window_width, nu, train_rate)\n",
        "\n",
        "    @classmethod\n",
        "    def from_file(cls, path, window_width, nu, train_rate) -> 'OneClassSVM_AnomalyDetection':\n",
        "    \tdf = read_csv(path, header=0, index_col=0, parse_dates=True,squeeze=True)\n",
        "    \treturn cls(df,window_width, nu, train_rate)\n",
        "     \n",
        "    def __init__(self,df, window_width, nu, train_rate):\n",
        "        self.df = df\n",
        "        self.df = self.df.reset_index(drop=True)\n",
        "        self.df.rename(columns={'anomaly':'is_anomaly'}, inplace=True)\n",
        "        self.nu = nu\n",
        "        self.window_width = window_width\n",
        "        series = pd.DataFrame(self.df.iloc[:,0].values)  \n",
        "        self.values = DataFrame(series.values)\n",
        "        self.dataframe = concat([self.values.shift(1), self.values], axis=1)\n",
        "        self.dataframe.columns = ['t', 't+1']\n",
        "\n",
        "        self.train_size = int(len(self.values) * train_rate)\n",
        "\n",
        "        # train_labeled, test_labeled = self.dataframe.values[1:self.train_size], self.dataframe.values[self.train_size:]\n",
        "        # self.train_X, self.train_y = train_labeled[:,0], train_labeled[:,1]\n",
        "        # self.test_X, self.test_y = test_labeled[:,0], test_labeled[:,1]     \n",
        "        # self.create_persistence()\n",
        "\n",
        "        # X = series.values\n",
        "        # self.train, self.test = X[1:self.train_size], X[self.train_size:]    \n",
        "\n",
        "    def __build_sets(self):\n",
        "        train_labeled, test_labeled = self.dataframe.values[1:self.train_size], self.dataframe.values[self.train_size:]\n",
        "        self.train_X, self.train_y = train_labeled[:,0], train_labeled[:,1]\n",
        "        self.test_X, self.test_y = test_labeled[:,0], test_labeled[:,1]   \n",
        "\n",
        "        X = self.dataframe.iloc[:,1].values\n",
        "        self.train, self.test = X[1:self.train_size], X[self.train_size:]    \n",
        "\n",
        "    def standardize_dataframe(self):\n",
        "        X = self.dataframe.values\n",
        "        self.scalar = preprocessing.StandardScaler().fit(X)\n",
        "        X = self.scalar.transform(X)\n",
        "        self.dataframe = pd.DataFrame(X)\n",
        "\n",
        "    def inverse_standardize_dataframe(self):\n",
        "        X = self.dataframe.values\n",
        "        X = self.scalar.inverse_transform(X)\n",
        "        self.dataframe = pd.DataFrame(X)\n",
        "\n",
        "\n",
        "\n",
        "    def model_persistence(self, x):\n",
        "        return x\n",
        "        \n",
        "    def create_persistence(self):\n",
        "        rmse = sqrt(mean_squared_error(self.dataframe['t'].iloc[self.train_size:], self.dataframe['t+1'].iloc[self.train_size::]))\n",
        "#         print('Persistent Model RMSE: %.3f' % rmse)   \n",
        "\n",
        "    def fit(self):\n",
        "        self.create_persistence()\n",
        "        self.standardize_dataframe()\n",
        "        self.__build_sets()\n",
        "                \n",
        "        self.compute_anomalyScores()\n",
        "        self.inverse_standardize_dataframe()\n",
        "    \n",
        "    def getWindowedVectors(self, X):\n",
        "        vectors = []\n",
        "        for i,_ in enumerate(X[:-self.window_width+1]):\n",
        "            vectors.append(X[i:i+self.window_width])\n",
        "        return vectors\n",
        "\n",
        "    def compute_anomalyScores(self):\n",
        "        self.errors = np.zeros_like(self.test)\n",
        "        # compute anomalies\n",
        "        warnings.filterwarnings(\"ignore\")\n",
        "\n",
        "        # history = self.getWindowedVectors(self.train)\n",
        "\n",
        "        for i,_ in enumerate(self.test[:-self.window_width+1]):\n",
        "            sys.stdout.write('\\r'+str(i)+':'+str(len(self.test) - self.window_width))\n",
        "\n",
        "            window = self.test[i:i+self.window_width]\n",
        "            window2D = np.zeros((len(window),2))\n",
        "            window2D[:,1] = window\n",
        "            clf=OneClassSVM(nu=self.nu)\n",
        "            clf.fit(window2D)\n",
        "            error = clf.decision_function(window2D) \n",
        "            error[error>0] = 0\n",
        "            self.errors[i:i+self.window_width] += error*-10\n",
        "\n",
        "\n",
        "        # normalize anomaly score\n",
        "        self.errors[:-self.window_width+1] /= self.window_width\n",
        "        for i,error in enumerate(self.test[-self.window_width+1:]):\n",
        "            self.errors[-self.window_width + 1 + i] /=self.window_width-(i+1)\n",
        "\n",
        "        # self.errors_original = self.errors\n",
        "        # scalar = preprocessing.MinMaxScaler((0,1)).fit(self.errors.reshape(-1,1))\n",
        "        # self.errors = scalar.transform(self.errors.reshape(-1,1))*10\n",
        "\n",
        "\n",
        "    def plot(self):\n",
        "        df_test = pd.DataFrame(self.df.iloc[self.train_size:].values)\n",
        "\n",
        "        pyplot.figure(figsize=(50,5))\n",
        "        pyplot.plot(self.test)\n",
        "        pyplot.plot(self.errors, color = 'red',  linewidth=0.5)\n",
        "        pyplot.plot(df_test[df_test[1]==1.].index, df_test[df_test[1]==1.].iloc[:,0].values,'ro')\n",
        "        pyplot.show()\n",
        "\n",
        "    def get_roc_auc(self, plot=True, verbose=True):\n",
        "        # get the predicted errors of the anomaly points\n",
        "        indices = self.df[self.df['is_anomaly']==1].index >self.train_size\n",
        "        true_anomaly_predicted_errors = self.errors[self.df[self.df['is_anomaly']==1].index[indices] - self.train_size ]\n",
        "        if len(true_anomaly_predicted_errors) == 0:\n",
        "            return np.nan\n",
        "        # sort them \n",
        "        true_anomaly_predicted_errors = np.sort(true_anomaly_predicted_errors,axis=0).reshape(-1)\n",
        "        true_anomaly_predicted_errors_extended = np.r_[np.linspace(0,true_anomaly_predicted_errors[0],40)[:-1],true_anomaly_predicted_errors]\n",
        "        true_anomaly_predicted_errors_extended = np.r_[true_anomaly_predicted_errors_extended, true_anomaly_predicted_errors_extended[-1] + np.mean(true_anomaly_predicted_errors_extended)]\n",
        "                # now iterate thru the predicted errors from small to big\n",
        "        # for each value look how much other points have equal or bigger error\n",
        "        FPR = [] # fp/n  https://en.wikipedia.org/wiki/Sensitivity_and_specificity\n",
        "        TPR = [] # tp/p\n",
        "        p = len(true_anomaly_predicted_errors)\n",
        "        Thresholds = []\n",
        "        for predictederror in true_anomaly_predicted_errors_extended:\n",
        "            threshold = predictederror\n",
        "            tp = len(true_anomaly_predicted_errors[true_anomaly_predicted_errors>= threshold])\n",
        "            fp = len(self.errors[self.errors>=threshold])-len(true_anomaly_predicted_errors[true_anomaly_predicted_errors>=threshold])\n",
        "            \n",
        "            fpr =fp/len(self.errors)\n",
        "            FPR.append(fpr)\n",
        "            TPR.append(tp/p)\n",
        "            if verbose:\n",
        "                print(\"Threshold: {0:25}  - FP: {1:4} - TP: {2:4} - FPR: {3:21} - TPR: {4:4}\".format(threshold,fp, tp, fpr, tp/p))\n",
        "\n",
        "        import matplotlib.pyplot as plt\n",
        "        if plot:\n",
        "            plt.figure()\n",
        "            plt.axis([0, 1, 0, 1])\n",
        "            plt.plot(FPR,TPR)\n",
        "            plt.show() \n",
        "\n",
        "        # This is the AUC\n",
        "        from sklearn.metrics import auc\n",
        "        print('AUC: ' ,auc(FPR,TPR)        )\n",
        "        return auc(FPR,TPR)\n",
        "\n",
        "\n",
        "# iforest = OneClassSVM_AnomalyDetection.from_file('drive/My Drive/MT/Experiments/Univariate/YahooServiceNetworkTraffic/A1Benchmark/real_1.csv',30,0.7,0.3)\n",
        "# iforest.fit()\n",
        "# iforest.plot()\n",
        "# iforest.get_roc_auc(verbose=False)\n",
        "\n",
        "def concatenate_errors(ar_univariates):\n",
        "    pci_ = ar_univariates[0]\n",
        "    errors = np.zeros((len(pci_.errors),dimension))\n",
        "    errors[:,0] = pci_.errors.T\n",
        "    # for i in range(1,5):\n",
        "    for i in range(1,5):\n",
        "        errors[:,0:i+1] = np.c_[errors[:,:i],ar_univariates[i].errors.reshape(-1,1)]\n",
        "    return np.min(errors,axis=1)\n",
        "\n",
        "import datetime\n",
        "startTime = datetime.datetime.now()\n",
        "\n",
        "dimension = 5\n",
        "# df = read_csv(path, header=0, index_col=index_col, parse_dates=True,squeeze=True)\n",
        "ar_univariates = []\n",
        "for i in range (5):\n",
        "    print(i)\n",
        "    df_univariate = pd.DataFrame(np.c_[df_synthetic.iloc[:,i].values,df_synthetic.iloc[:,-1].values])\n",
        "    df_univariate.columns = ['V1','is_anomaly']\n",
        "    ar = OneClassSVM_Average_AnomalyDetection.from_DataFrame(df_univariate,30,0.7,0.3)\n",
        "    # ar.getAndReadAnaomaliesByPCI(plot=False)\n",
        "    ar.fit()\n",
        "    ar_univariates.append(ar)\n",
        "\t\n",
        "errors = concatenate_errors(ar_univariates)\n",
        "ar_full = OneClassSVM_Average_AnomalyDetection.from_DataFrame(df_synthetic,30,0.7,0.3)\n",
        "ar_full.errors = errors\n",
        "ar_full.get_roc_auc(verbose=False)\n",
        "\n",
        "endTime = datetime.datetime.now()\n",
        "diff = endTime - startTime\n",
        "print('Time: ',diff.microseconds/1000, 'ms')\n",
        "\n",
        "# iforest = XGBRegressor_AnomalyDetection('Univariate/YahooServiceNetworkTraffic/A1Benchmark/real_4.csv',30,0.7,0.66)\n",
        "# iforest.fit()\n",
        "# iforest.plot()\n",
        "# iforest.get_roc_auc(verbose=False)"
      ],
      "execution_count": 0,
      "outputs": [
        {
          "output_type": "stream",
          "text": [
            "0\n",
            "2070:20701\n",
            "2070:20702\n",
            "2070:20703\n",
            "2070:20704\n",
            "2070:2070"
          ],
          "name": "stdout"
        },
        {
          "output_type": "display_data",
          "data": {
            "image/png": "[encoded data removed]",
            "text/plain": [
              "<Figure size 432x288 with 1 Axes>"
            ]
          },
          "metadata": {
            "tags": []
          }
        },
        {
          "output_type": "stream",
          "text": [
            "AUC:  0.6163673469387756\n",
            "Time:  479.909 ms\n"
          ],
          "name": "stdout"
        }
      ]
    }
  ]
}