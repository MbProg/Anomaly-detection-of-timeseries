{
  "nbformat": 4,
  "nbformat_minor": 0,
  "metadata": {
    "colab": {
      "name": "MultivariateNeuralNetworks with SD and NASA.ipynb",
      "provenance": [],
      "collapsed_sections": [],
      "toc_visible": true
    },
    "kernelspec": {
      "name": "python3",
      "display_name": "Python 3"
    },
    "accelerator": "GPU"
  },
  "cells": [
    {
      "cell_type": "code",
      "metadata": {
        "id": "XmSzxnT6JsJg",
        "colab_type": "code",
        "outputId": "c232acc1-ad07-4ec8-cc14-8ce6c6eab939",
        "colab": {
          "base_uri": "https://localhost:8080/",
          "height": 125
        }
      },
      "source": [
        "from google.colab import drive\n",
        "drive.mount('/content/drive')"
      ],
      "execution_count": 0,
      "outputs": [
        {
          "output_type": "stream",
          "text": [
            "Go to this URL in a browser: https://accounts.google.com/o/oauth2/auth?client_id=947318989803-6bn6qk8qdgf4n4g3pfee6491hc0brc4i.apps.googleusercontent.com&redirect_uri=urn%3aietf%3awg%3aoauth%3a2.0%3aoob&response_type=code&scope=email%20https%3a%2f%2fwww.googleapis.com%2fauth%2fdocs.test%20https%3a%2f%2fwww.googleapis.com%2fauth%2fdrive%20https%3a%2f%2fwww.googleapis.com%2fauth%2fdrive.photos.readonly%20https%3a%2f%2fwww.googleapis.com%2fauth%2fpeopleapi.readonly\n",
            "\n",
            "Enter your authorization code:\n",
            "··········\n",
            "Mounted at /content/drive\n"
          ],
          "name": "stdout"
        }
      ]
    },
    {
      "cell_type": "markdown",
      "metadata": {
        "id": "YsBQbAYYZyWG",
        "colab_type": "text"
      },
      "source": [
        "# Create Synthetic data"
      ]
    },
    {
      "cell_type": "code",
      "metadata": {
        "id": "LVbEbFQoJz80",
        "colab_type": "code",
        "outputId": "b4314b26-7ad1-45f9-9b63-c7ac99d94ce1",
        "colab": {
          "base_uri": "https://localhost:8080/",
          "height": 419
        }
      },
      "source": [
        "import pandas as pd\n",
        "import numpy as np\n",
        "import statsmodels.api as sm\n",
        "from statsmodels.tsa.arima_process import arma_generate_sample\n",
        "n = int(3000)\n",
        "# alpha1 = 0.666, alpha2 = -.333\n",
        "alphas = np.array([.1])\n",
        "betas = np.array([0.])\n",
        "\n",
        "# Python requires us to specify the zero-lag value which is 1\n",
        "# Also note that the alphas for the AR model must be negated\n",
        "# We also set the betas for the MA equal to 0 for an AR(p) model\n",
        "# For more information see the examples at statsmodels.org\n",
        "ar = np.r_[1, -alphas]\n",
        "ma = np.r_[1, betas]\n",
        "# # AR(2)\n",
        "# ar2 = arma_generate_sample(ar=ar, ma=ma, nsample=n) \n",
        "# plt.figure(figsize=(20,5))\n",
        "# plt.plot( ar2)\n",
        "\n",
        "T_1 =  arma_generate_sample(ar=ar, ma=ma, nsample=n).reshape(-1,1)\n",
        "T_2 = arma_generate_sample(ar=ar, ma=ma, nsample=n).reshape(-1,1)\n",
        "T_3 = arma_generate_sample(ar=ar, ma=ma, nsample=n).reshape(-1,1)\n",
        "T_4 = arma_generate_sample(ar=ar, ma=ma, nsample=n).reshape(-1,1)\n",
        "T_5 = arma_generate_sample(ar=ar, ma=ma, nsample=n).reshape(-1,1)\n",
        "M =[[1 , 0 , 0 , 0 , 1],\n",
        "[0 , 1 , 0 , 0 , 1],\n",
        "[0 , 0 , 1 , 0 , 1],\n",
        "[0 , 0 , 0 , 1 , 1],\n",
        "[1 , -1 , 0 , 0 , 1]]\n",
        "delta = np.zeros((n,1))\n",
        "delta_anomal = np.zeros((n,1))\n",
        "delta_anomal[300:320]   = np.ones((20,1))\n",
        "delta_anomal[600:610]   = np.full((10,1),-0.7)\n",
        "delta_anomal[1300:1320] = np.full((20,1),2)\n",
        "delta_anomal[2100:2150] = np.full((50,1),-1.5)\n",
        "\n",
        "# delta_anomal[41:50] = np.ones((9,1))\n",
        "N = np.concatenate((T_1,T_2,T_3,T_4,delta), axis=1)\n",
        "N_anomal =  np.concatenate((T_1,T_2,T_3,T_4,delta_anomal), axis=1)\n",
        "B = N@M\n",
        "B_anomal = N_anomal@M\n",
        "\n",
        "T_1 = B[:,0]\n",
        "T_2 = B[:,1]\n",
        "T_3 = B[:,2]\n",
        "T_4 = B[:,3]\n",
        "T_5 = B[:,4]\n",
        "\n",
        "\n",
        "T_1_anomal = B_anomal[:,0]\n",
        "T_2_anomal = B_anomal[:,1]\n",
        "T_3_anomal = B_anomal[:,2]\n",
        "T_4_anomal = B_anomal[:,3]\n",
        "T_5_anomal = B_anomal[:,4]\n",
        "\n",
        "MD_T = np.concatenate((T_1.reshape((-1,1)),T_2.reshape((-1,1)),T_3.reshape((-1,1)),T_4.reshape((-1,1)),T_5.reshape((-1,1))),axis=1)\n",
        "MD_T_anomaly = np.concatenate((T_1_anomal.reshape((-1,1)),T_2_anomal.reshape((-1,1)),T_3_anomal.reshape((-1,1)),T_4_anomal.reshape((-1,1)),T_5_anomal.reshape((-1,1))),axis=1)\n",
        "MD_T.shape,MD_T_anomaly.shape\n",
        "\n",
        "labels = np.zeros((n,1))\n",
        "labels[300:320]     = 1\n",
        "labels[600:610]     = 1\n",
        "labels[1300:1320]   = 1\n",
        "labels[2100:2150]   = 1\n",
        "df_synthetic = pd.DataFrame(np.concatenate((MD_T_anomaly,labels), axis = 1))\n",
        "df_synthetic.columns =  np.r_[np.array(['V'+str(i) for i in range(1,6)]),['is_anomaly']]\n",
        "df_synthetic"
      ],
      "execution_count": 0,
      "outputs": [
        {
          "output_type": "execute_result",
          "data": {
            "text/html": [
              "<div>\n",
              "<style scoped>\n",
              "    .dataframe tbody tr th:only-of-type {\n",
              "        vertical-align: middle;\n",
              "    }\n",
              "\n",
              "    .dataframe tbody tr th {\n",
              "        vertical-align: top;\n",
              "    }\n",
              "\n",
              "    .dataframe thead th {\n",
              "        text-align: right;\n",
              "    }\n",
              "</style>\n",
              "<table border=\"1\" class=\"dataframe\">\n",
              "  <thead>\n",
              "    <tr style=\"text-align: right;\">\n",
              "      <th></th>\n",
              "      <th>V1</th>\n",
              "      <th>V2</th>\n",
              "      <th>V3</th>\n",
              "      <th>V4</th>\n",
              "      <th>V5</th>\n",
              "      <th>is_anomaly</th>\n",
              "    </tr>\n",
              "  </thead>\n",
              "  <tbody>\n",
              "    <tr>\n",
              "      <th>0</th>\n",
              "      <td>0.496714</td>\n",
              "      <td>-1.907808</td>\n",
              "      <td>-1.114081</td>\n",
              "      <td>0.765402</td>\n",
              "      <td>-1.759773</td>\n",
              "      <td>0.0</td>\n",
              "    </tr>\n",
              "    <tr>\n",
              "      <th>1</th>\n",
              "      <td>-0.088593</td>\n",
              "      <td>-1.051166</td>\n",
              "      <td>-0.742339</td>\n",
              "      <td>1.149953</td>\n",
              "      <td>-0.732145</td>\n",
              "      <td>0.0</td>\n",
              "    </tr>\n",
              "    <tr>\n",
              "      <th>2</th>\n",
              "      <td>0.638829</td>\n",
              "      <td>-0.518722</td>\n",
              "      <td>-1.016294</td>\n",
              "      <td>0.613685</td>\n",
              "      <td>-0.282502</td>\n",
              "      <td>0.0</td>\n",
              "    </tr>\n",
              "    <tr>\n",
              "      <th>3</th>\n",
              "      <td>1.586913</td>\n",
              "      <td>1.835815</td>\n",
              "      <td>-0.649625</td>\n",
              "      <td>-1.881129</td>\n",
              "      <td>0.891974</td>\n",
              "      <td>0.0</td>\n",
              "    </tr>\n",
              "    <tr>\n",
              "      <th>4</th>\n",
              "      <td>-0.075462</td>\n",
              "      <td>0.740135</td>\n",
              "      <td>-0.279113</td>\n",
              "      <td>-0.343535</td>\n",
              "      <td>0.042024</td>\n",
              "      <td>0.0</td>\n",
              "    </tr>\n",
              "    <tr>\n",
              "      <th>...</th>\n",
              "      <td>...</td>\n",
              "      <td>...</td>\n",
              "      <td>...</td>\n",
              "      <td>...</td>\n",
              "      <td>...</td>\n",
              "      <td>...</td>\n",
              "    </tr>\n",
              "    <tr>\n",
              "      <th>2995</th>\n",
              "      <td>-0.019684</td>\n",
              "      <td>0.262047</td>\n",
              "      <td>0.081516</td>\n",
              "      <td>-1.146083</td>\n",
              "      <td>-0.822204</td>\n",
              "      <td>0.0</td>\n",
              "    </tr>\n",
              "    <tr>\n",
              "      <th>2996</th>\n",
              "      <td>0.255784</td>\n",
              "      <td>1.178853</td>\n",
              "      <td>1.175369</td>\n",
              "      <td>-0.187431</td>\n",
              "      <td>2.422576</td>\n",
              "      <td>0.0</td>\n",
              "    </tr>\n",
              "    <tr>\n",
              "      <th>2997</th>\n",
              "      <td>-1.216182</td>\n",
              "      <td>-1.099519</td>\n",
              "      <td>1.705984</td>\n",
              "      <td>0.819271</td>\n",
              "      <td>0.209554</td>\n",
              "      <td>0.0</td>\n",
              "    </tr>\n",
              "    <tr>\n",
              "      <th>2998</th>\n",
              "      <td>0.212558</td>\n",
              "      <td>0.357999</td>\n",
              "      <td>-0.514389</td>\n",
              "      <td>-0.018769</td>\n",
              "      <td>0.037399</td>\n",
              "      <td>0.0</td>\n",
              "    </tr>\n",
              "    <tr>\n",
              "      <th>2999</th>\n",
              "      <td>-0.134003</td>\n",
              "      <td>-1.134481</td>\n",
              "      <td>0.749743</td>\n",
              "      <td>-0.948191</td>\n",
              "      <td>-1.466932</td>\n",
              "      <td>0.0</td>\n",
              "    </tr>\n",
              "  </tbody>\n",
              "</table>\n",
              "<p>3000 rows × 6 columns</p>\n",
              "</div>"
            ],
            "text/plain": [
              "            V1        V2        V3        V4        V5  is_anomaly\n",
              "0     0.496714 -1.907808 -1.114081  0.765402 -1.759773         0.0\n",
              "1    -0.088593 -1.051166 -0.742339  1.149953 -0.732145         0.0\n",
              "2     0.638829 -0.518722 -1.016294  0.613685 -0.282502         0.0\n",
              "3     1.586913  1.835815 -0.649625 -1.881129  0.891974         0.0\n",
              "4    -0.075462  0.740135 -0.279113 -0.343535  0.042024         0.0\n",
              "...        ...       ...       ...       ...       ...         ...\n",
              "2995 -0.019684  0.262047  0.081516 -1.146083 -0.822204         0.0\n",
              "2996  0.255784  1.178853  1.175369 -0.187431  2.422576         0.0\n",
              "2997 -1.216182 -1.099519  1.705984  0.819271  0.209554         0.0\n",
              "2998  0.212558  0.357999 -0.514389 -0.018769  0.037399         0.0\n",
              "2999 -0.134003 -1.134481  0.749743 -0.948191 -1.466932         0.0\n",
              "\n",
              "[3000 rows x 6 columns]"
            ]
          },
          "metadata": {
            "tags": []
          },
          "execution_count": 2
        }
      ]
    },
    {
      "cell_type": "markdown",
      "metadata": {
        "id": "cEnz4cDKJ4tM",
        "colab_type": "text"
      },
      "source": [
        "# MLP"
      ]
    },
    {
      "cell_type": "code",
      "metadata": {
        "id": "NzlcPjDWJ6D0",
        "colab_type": "code",
        "colab": {}
      },
      "source": [
        "import scipy.linalg\n",
        "from scipy.spatial import distance\n",
        "import warnings\n",
        "from sklearn.cluster import KMeans\n",
        "from statsmodels.tsa.ar_model import AR\n",
        "from sklearn.metrics import mean_squared_error\n",
        "from math import sqrt\n",
        "from pandas import read_csv\n",
        "import pandas as pd\n",
        "from pandas import DataFrame\n",
        "from pandas import concat\n",
        "import numpy as np \n",
        "from matplotlib import pyplot\n",
        "from xgboost import XGBRegressor\n",
        "from sklearn import preprocessing\n",
        "import sys\n",
        "from tensorflow import set_random_seed\n",
        "set_random_seed(42)\n",
        "from numpy.random import seed\n",
        "import numpy\n",
        "import matplotlib.pyplot as plt\n",
        "import pandas\n",
        "import math\n",
        "from keras.models import Sequential\n",
        "from keras.layers import Dense\n",
        "from keras.layers import LSTM\n",
        "from sklearn.preprocessing import MinMaxScaler\n",
        "from sklearn.metrics import mean_squared_error\n",
        "import numpy as np\n",
        "from keras.layers import Conv1D,MaxPooling1D,Flatten\n",
        "seed(42)\n",
        "from keras import regularizers\n",
        "\n",
        "def warn(*args, **kwargs):\n",
        "    pass\n",
        "    \n",
        "class MLP_AnomalyDetection:\n",
        "    @classmethod\n",
        "    def from_DataFrame(cls,dataframe,window_width, dimension, n_epochs, train_rate, distance_function) -> 'XGB_AnomalyDetection_ML':\n",
        "    \treturn cls(dataframe, window_width, dimension, n_epochs, train_rate, distance_function)\n",
        "\n",
        "    @classmethod\n",
        "    def from_file(cls, path, index_col, window_width, dimension,n_epochs, train_rate, distance_function) -> 'XGB_AnomalyDetection_ML':\n",
        "    \tdf = read_csv(path, header=0, index_col=index_col, parse_dates=True,squeeze=True)\n",
        "    \treturn cls(df, window_width, dimension, n_epochs, train_rate, distance_function)\n",
        "     \n",
        "    def __init__(self,df, window_width, dimension, n_epochs, train_rate, distance_function):\n",
        "\n",
        "        self.distance_function = distance_function\n",
        "        self.dimension = dimension\n",
        "        self.n_epochs = n_epochs\n",
        "        self.window_width = window_width\n",
        "\n",
        "        self.df = df\n",
        "        self.df = self.df.reset_index(drop=True)\n",
        "        self.df.rename(columns={'Target':'is_anomaly'}, inplace=True)\n",
        "        self.df.loc[self.df.is_anomaly == \"'Anomaly'\", 'is_anomaly'] = 1\n",
        "        self.df.loc[self.df.is_anomaly == \"'Normal'\", 'is_anomaly'] = 0\n",
        "\n",
        "        df_sensors = pd.DataFrame(self.df.iloc[:,:dimension].values)  \n",
        "        self.values = df_sensors\n",
        "        self.dataframe = concat([self.df.iloc[:,:-1].shift(1), self.df.iloc[:,:-1], self.df.iloc[:,-1]], axis=1)\n",
        "        self.dataframe.columns = np.r_[np.array(['V'+str(i)+'_t' for i in range(1,self.dimension+1)]),np.array(['V'+str(i)+'_t+1' for i in range(1,self.dimension+1)]),['is_anomaly']]\n",
        "\n",
        "        # self.dataframe = concat([self.values.shift(1), self.values], axis=1)\n",
        "        # self.dataframe.columns = ['t', 't+1']\n",
        "\n",
        "        self.train_size = int(len(self.values) * train_rate)  \n",
        "\n",
        "\n",
        "    def create_XY_lookback_dataset(self,dataset, look_back=1):\n",
        "        dataX, dataY = [], []\n",
        "        for i in range(len(dataset)-look_back-1):\n",
        "            a = dataset[i:(i+look_back),:self.dimension]\n",
        "            dataX.append(a.reshape(-1))\n",
        "            dataY.append(dataset[i + look_back,:self.dimension].reshape(-1))\n",
        "        return numpy.array(dataX), numpy.array(dataY)\n",
        "\n",
        "\n",
        "    def __build_sets(self):\n",
        "\n",
        "        X = self.dataframe.iloc[:,:-1].values\n",
        "        self.train, self.test = X[1:self.train_size], X[self.train_size:]    \n",
        "        # print('Train.len:',len(self.train),' - Test.len:', len(self.test))\n",
        "\n",
        "        self.train_X, self.train_y = self.create_XY_lookback_dataset(self.train, self.window_width)\n",
        "        self.test_X, self.test_y = self.create_XY_lookback_dataset(self.test, self.window_width)\n",
        "        # print('TrainX.shape:',self.train_X.shape,' - TestX.shape:', self.test_X.shape,' - TrainY.shape:', self.train_y.shape,' - TestY.shape:', self.test_y.shape)\n",
        "\n",
        "        self.validationsize = int(self.train_X.shape[0] * 0.1)\n",
        "        self.val, self.test = self.test[:self.validationsize], self.test[self.validationsize:]\n",
        "        self.val_X, self.val_y= self.test_X[:self.validationsize], self.test_y[:self.validationsize]\n",
        "        self.test_X, self.test_y = self.test_X[self.validationsize:], self.test_y[self.validationsize:]\n",
        "\n",
        "    def standardize_dataframe(self):\n",
        "        X = self.dataframe.values\n",
        "        self.scalar = preprocessing.StandardScaler().fit(X)\n",
        "        X = self.scalar.transform(X)\n",
        "        self.dataframe = pd.DataFrame(X)\n",
        "\n",
        "    def inverse_standardize_dataframe(self):\n",
        "        X = self.dataframe.values\n",
        "        X = self.scalar.inverse_transform(X)\n",
        "        self.dataframe = pd.DataFrame(X)\n",
        "\n",
        "\n",
        "\n",
        "    def model_persistence(self, x):\n",
        "        return x\n",
        "        \n",
        "    def create_persistence(self):\n",
        "        rmse = sqrt(mean_squared_error(self.dataframe.iloc[self.train_size:,:self.dimension], self.dataframe.iloc[self.train_size:,self.dimension:-1]))\n",
        "        # print('Persistent Model RMSE: %.3f' % rmse)   \n",
        "\n",
        "    def fit(self):\n",
        "        self.create_persistence()\n",
        "        self.standardize_dataframe()\n",
        "        self.__build_sets()\n",
        "                \n",
        "        self.compute_anomalyScores()\n",
        "        self.inverse_standardize_dataframe()\n",
        "        # self.compute_Errors_RMSE()\n",
        "\n",
        "\n",
        "    def plotTraining(self):\n",
        "        history_dict = self.history.history\n",
        "        loss_values = history_dict['loss'][1:]\n",
        "        val_loss_values = history_dict['val_loss'][1:]\n",
        "        self.n_epochs = range(2, self.n_epochs + 1)\n",
        "        plt.plot(self.n_epochs, loss_values, 'bo', label='Training loss')\n",
        "        plt.plot(self.n_epochs, val_loss_values, 'b', label='Validation loss')\n",
        "        plt.title('Training and validation loss')\n",
        "        plt.xlabel('Epochs')\n",
        "        plt.ylabel('Loss')\n",
        "        plt.legend()\n",
        "        plt.show()\n",
        "\n",
        "    def compute_anomalyScores(self):\n",
        "        set_random_seed(42)\n",
        "        seed(42)\n",
        "\n",
        "        self.model = Sequential()\n",
        "        self.model.add(Dense(30, activation='relu', input_dim=self.window_width*self.dimension))\n",
        "        self.model.add(Dense(40, activation='relu'))\n",
        "        self.model.add(Dense(20, activation='relu'))\n",
        "        self.model.add(Dense(self.dimension))\n",
        "        self.model.compile(optimizer='adam', loss='mse')\n",
        "        self.history = self.model.fit(self.train_X, self.train_y,validation_data=(self.val_X,self.val_y), epochs=self.n_epochs, verbose=1)\n",
        "\n",
        "        self.plotTraining()\n",
        "\n",
        "        self.predictions = self.model.predict(self.test_X)\n",
        "        self.error_vect = (self.test_y.reshape(self.predictions.shape) - self.predictions).reshape(self.test_y.shape[0],-1)\n",
        "        self.compute_errors(self.distance_function)\n",
        "\n",
        "        # xgb = XGBRegressor()\n",
        "        # xgb.fit(self.train_X.reshape(-1,1),self.train_y.reshape(-1,1))\n",
        "\n",
        "        # rmse = sqrt(mean_squared_error(self.test, self.predictions))\n",
        "        # self.errors = np.absolute(self.test - np.array(self.predictions))\n",
        "        # print('Prediction Test RMSE: %.3f' % rmse)\n",
        "\n",
        "    def compute_errors(self, distance_function):\n",
        "        if distance_function == 'mahalanobis':\n",
        "            inv_cov = scipy.linalg.inv(np.cov(self.error_vect.T))\n",
        "            mean = np.mean(self.error_vect,axis=0)\n",
        "            self.errors = np.zeros((len(self.error_vect),1))\n",
        "            for i,error in enumerate(self.error_vect):\n",
        "                self.errors[i] = distance.mahalanobis(error,mean,inv_cov)\n",
        "        elif distance_function == 'euclidean':\n",
        "            inv_cov = scipy.linalg.inv(np.cov(self.error_vect.T))\n",
        "            mean = np.mean(self.error_vect,axis=0)\n",
        "            self.errors = np.zeros((len(self.error_vect),1))\n",
        "            for i,error in enumerate(self.error_vect):\n",
        "                self.errors[i] = distance.euclidean(error,mean)\n",
        "\t\t\t\t\n",
        "    def compute_Errors_RMSE(self):\n",
        "\n",
        "        rmse = sqrt(mean_squared_error(self.test_y.reshape(self.predictions.shape), self.predictions))\n",
        "        self.errors = np.absolute(self.test_y.reshape(self.predictions.shape) - np.array(self.predictions))\n",
        "        # print('Prediction Test RMS        E: %.3f' % rmse)        \n",
        "   \n",
        "\n",
        "    def plot(self):\n",
        "        fig, axes = plt.subplots(nrows=3, ncols=3, dpi=120, figsize=(50,5))\n",
        "        for i, ax in enumerate(axes.flatten()):\n",
        "            data = self.df[self.df.columns[i]].iloc[:200]\n",
        "            ax.plot(self.test_y[:,i], color='green',  linewidth=0.5,label='True Values')\n",
        "            ax.plot(self.predictions[:,i], color='blue',  linewidth=0.5,label='Predictions')\n",
        "            ax.plot(self.errors[:,i], color = 'red',  linewidth=0.5, label='Errors')\n",
        "            ax.legend()\n",
        "            \n",
        "        plt.show()\n",
        "\n",
        "    def get_roc_auc(self, plot=True, verbose=True):\n",
        "\n",
        "        # get the predicted errors of the anomaly points\n",
        "        indices = self.df[self.df['is_anomaly']==1].index >self.train_size + self.validationsize\n",
        "        true_anomaly_predicted_errors = self.errors[self.df[self.df['is_anomaly']==1].index[indices] - self.train_size - self.validationsize - self.window_width -1]\n",
        "        if len(true_anomaly_predicted_errors) == 0:\n",
        "            return np.nan\n",
        "        # sort them \n",
        "        true_anomaly_predicted_errors = np.sort(true_anomaly_predicted_errors,axis=0).reshape(-1)\n",
        "        true_anomaly_predicted_errors_extended = np.r_[np.linspace(0,true_anomaly_predicted_errors[0],40)[:-1],true_anomaly_predicted_errors]\n",
        "        true_anomaly_predicted_errors_extended = np.r_[true_anomaly_predicted_errors_extended, true_anomaly_predicted_errors_extended[-1] + np.mean(true_anomaly_predicted_errors_extended)]\n",
        "                # now iterate thru the predicted errors from small to big\n",
        "        # for each value look how much other points have equal or bigger error\n",
        "        FPR = [] # fp/n  https://en.wikipedia.org/wiki/Sensitivity_and_specificity\n",
        "        TPR = [] # tp/p\n",
        "        p = len(true_anomaly_predicted_errors)\n",
        "        Thresholds = []\n",
        "        for predictederror in true_anomaly_predicted_errors_extended:\n",
        "            threshold = predictederror\n",
        "            tp = len(true_anomaly_predicted_errors[true_anomaly_predicted_errors>= threshold])\n",
        "            fp = len(self.errors[self.errors>=threshold])-len(true_anomaly_predicted_errors[true_anomaly_predicted_errors>=threshold])\n",
        "            \n",
        "            fpr =fp/len(self.errors)\n",
        "            FPR.append(fpr)\n",
        "            TPR.append(tp/p)\n",
        "            if verbose:\n",
        "                print(\"Threshold: {0:25}  - FP: {1:4} - TP: {2:4} - FPR: {3:21} - TPR: {4:4}\".format(threshold,fp, tp, fpr, tp/p))\n",
        "\n",
        "        import matplotlib.pyplot as plt\n",
        "        if plot:\n",
        "            plt.figure()\n",
        "            plt.axis([0, 1, 0, 1])\n",
        "            plt.plot(FPR,TPR)\n",
        "            plt.show() \n",
        "\n",
        "        # This is the AUC\n",
        "        from sklearn.metrics import auc\n",
        "        print('AUC: ' ,auc(FPR,TPR)        )\n",
        "        return auc(FPR,TPR)\n",
        "\n",
        "# # mlp = MLP_AnomalyDetection('drive/My Drive/MT/Experiments/Multivariate/NASA_Shuttle/40902.csv',100,9,30,0.3)\n",
        "# mlp = MLP_AnomalyDetection.from_DataFrame(df_synthetic,100,5,30,0.3)\n",
        "# mlp.fit()\n",
        "# # mlp.plot()\n",
        "# mlp.get_roc_auc(verbose=False)\n"
      ],
      "execution_count": 0,
      "outputs": []
    },
    {
      "cell_type": "code",
      "metadata": {
        "id": "4AoeJ2EIs7XL",
        "colab_type": "code",
        "colab": {}
      },
      "source": [
        "0.46719427454831985"
      ],
      "execution_count": 0,
      "outputs": []
    },
    {
      "cell_type": "markdown",
      "metadata": {
        "id": "Y0PrfNR87tT_",
        "colab_type": "text"
      },
      "source": [
        "## Evaluation"
      ]
    },
    {
      "cell_type": "markdown",
      "metadata": {
        "id": "-lBk_V0R7vk8",
        "colab_type": "text"
      },
      "source": [
        "### Mahalanobis"
      ]
    },
    {
      "cell_type": "code",
      "metadata": {
        "id": "bUVzcvVZ7xGJ",
        "colab_type": "code",
        "outputId": "858a8c8a-1234-4f8f-c60a-275a9e53783e",
        "colab": {
          "base_uri": "https://localhost:8080/",
          "height": 1000
        }
      },
      "source": [
        "import datetime\n",
        "startTime = datetime.datetime.now()\n",
        "mlp = MLP_AnomalyDetection.from_DataFrame(df_synthetic,100,5,30,0.3,'mahalanobis')\n",
        "mlp.fit()\n",
        "# mlp.plot()\n",
        "mlp.get_roc_auc(verbose=False)\n",
        "endTime = datetime.datetime.now()\n",
        "diff = endTime - startTime\n",
        "print('Time: ',diff.seconds)"
      ],
      "execution_count": 0,
      "outputs": [
        {
          "output_type": "stream",
          "text": [
            "/usr/local/lib/python3.6/dist-packages/pandas/core/ops/__init__.py:1115: FutureWarning: elementwise comparison failed; returning scalar instead, but in the future will perform elementwise comparison\n",
            "  result = method(y)\n"
          ],
          "name": "stderr"
        },
        {
          "output_type": "stream",
          "text": [
            "Train on 798 samples, validate on 79 samples\n",
            "Epoch 1/30\n",
            "798/798 [==============================] - 22s 28ms/step - loss: 1.1077 - val_loss: 0.9955\n",
            "Epoch 2/30\n",
            "798/798 [==============================] - 0s 252us/step - loss: 0.6104 - val_loss: 1.0685\n",
            "Epoch 3/30\n",
            "798/798 [==============================] - 0s 246us/step - loss: 0.2988 - val_loss: 1.1171\n",
            "Epoch 4/30\n",
            "798/798 [==============================] - 0s 235us/step - loss: 0.1113 - val_loss: 1.1238\n",
            "Epoch 5/30\n",
            "798/798 [==============================] - 0s 241us/step - loss: 0.0476 - val_loss: 1.1320\n",
            "Epoch 6/30\n",
            "798/798 [==============================] - 0s 251us/step - loss: 0.0279 - val_loss: 1.1200\n",
            "Epoch 7/30\n",
            "798/798 [==============================] - 0s 249us/step - loss: 0.0223 - val_loss: 1.1215\n",
            "Epoch 8/30\n",
            "798/798 [==============================] - 0s 268us/step - loss: 0.0218 - val_loss: 1.1252\n",
            "Epoch 9/30\n",
            "798/798 [==============================] - 0s 247us/step - loss: 0.0180 - val_loss: 1.1349\n",
            "Epoch 10/30\n",
            "798/798 [==============================] - 0s 246us/step - loss: 0.0176 - val_loss: 1.1145\n",
            "Epoch 11/30\n",
            "798/798 [==============================] - 0s 250us/step - loss: 0.0164 - val_loss: 1.1148\n",
            "Epoch 12/30\n",
            "798/798 [==============================] - 0s 247us/step - loss: 0.0173 - val_loss: 1.1136\n",
            "Epoch 13/30\n",
            "798/798 [==============================] - 0s 262us/step - loss: 0.0185 - val_loss: 1.1233\n",
            "Epoch 14/30\n",
            "798/798 [==============================] - 0s 241us/step - loss: 0.0223 - val_loss: 1.1079\n",
            "Epoch 15/30\n",
            "798/798 [==============================] - 0s 266us/step - loss: 0.0261 - val_loss: 1.0929\n",
            "Epoch 16/30\n",
            "798/798 [==============================] - 0s 248us/step - loss: 0.0241 - val_loss: 1.1026\n",
            "Epoch 17/30\n",
            "798/798 [==============================] - 0s 255us/step - loss: 0.0239 - val_loss: 1.0874\n",
            "Epoch 18/30\n",
            "798/798 [==============================] - 0s 263us/step - loss: 0.0237 - val_loss: 1.0995\n",
            "Epoch 19/30\n",
            "798/798 [==============================] - 0s 254us/step - loss: 0.0223 - val_loss: 1.0639\n",
            "Epoch 20/30\n",
            "798/798 [==============================] - 0s 247us/step - loss: 0.0196 - val_loss: 1.0878\n",
            "Epoch 21/30\n",
            "798/798 [==============================] - 0s 263us/step - loss: 0.0179 - val_loss: 1.0645\n",
            "Epoch 22/30\n",
            "798/798 [==============================] - 0s 250us/step - loss: 0.0170 - val_loss: 1.0800\n",
            "Epoch 23/30\n",
            "798/798 [==============================] - 0s 263us/step - loss: 0.0156 - val_loss: 1.0591\n",
            "Epoch 24/30\n",
            "798/798 [==============================] - 0s 254us/step - loss: 0.0142 - val_loss: 1.0737\n",
            "Epoch 25/30\n",
            "798/798 [==============================] - 0s 254us/step - loss: 0.0140 - val_loss: 1.0543\n",
            "Epoch 26/30\n",
            "798/798 [==============================] - 0s 248us/step - loss: 0.0144 - val_loss: 1.0622\n",
            "Epoch 27/30\n",
            "798/798 [==============================] - 0s 237us/step - loss: 0.0130 - val_loss: 1.0673\n",
            "Epoch 28/30\n",
            "798/798 [==============================] - 0s 263us/step - loss: 0.0127 - val_loss: 1.0581\n",
            "Epoch 29/30\n",
            "798/798 [==============================] - 0s 255us/step - loss: 0.0132 - val_loss: 1.0605\n",
            "Epoch 30/30\n",
            "798/798 [==============================] - 0s 265us/step - loss: 0.0134 - val_loss: 1.0629\n"
          ],
          "name": "stdout"
        },
        {
          "output_type": "display_data",
          "data": {
            "image/png": "[encoded data removed]",
            "text/plain": [
              "<Figure size 432x288 with 1 Axes>"
            ]
          },
          "metadata": {
            "tags": []
          }
        },
        {
          "output_type": "display_data",
          "data": {
            "image/png": "[encoded data removed]",
            "text/plain": [
              "<Figure size 432x288 with 1 Axes>"
            ]
          },
          "metadata": {
            "tags": []
          }
        },
        {
          "output_type": "stream",
          "text": [
            "AUC:  0.8559486607142855\n",
            "Time:  37\n"
          ],
          "name": "stdout"
        }
      ]
    },
    {
      "cell_type": "code",
      "metadata": {
        "id": "DvAnHO0rAXf_",
        "colab_type": "code",
        "outputId": "4c6c9ba0-e986-477f-b555-94189fc67c40",
        "colab": {
          "base_uri": "https://localhost:8080/",
          "height": 1000
        }
      },
      "source": [
        "\n",
        "import datetime\n",
        "startTime = datetime.datetime.now()\n",
        "mlp = MLP_AnomalyDetection.from_file('drive/My Drive/MT/Experiments/Multivariate/NASA_Shuttle/40902.csv',None,100,9,30,0.3,'mahalanobis')\n",
        "mlp.fit()\n",
        "# mlp.plot()\n",
        "mlp.get_roc_auc(verbose=False)\n",
        "endTime = datetime.datetime.now()\n",
        "diff = endTime - startTime\n",
        "print('Time: ',diff.seconds)"
      ],
      "execution_count": 0,
      "outputs": [
        {
          "output_type": "stream",
          "text": [
            "Train on 14627 samples, validate on 1462 samples\n",
            "Epoch 1/30\n",
            "14627/14627 [==============================] - 3s 181us/step - loss: 1.1377 - val_loss: 0.7150\n",
            "Epoch 2/30\n",
            "14627/14627 [==============================] - 2s 153us/step - loss: 1.1185 - val_loss: 0.7165\n",
            "Epoch 3/30\n",
            "14627/14627 [==============================] - 2s 151us/step - loss: 1.1103 - val_loss: 0.7212\n",
            "Epoch 4/30\n",
            "14627/14627 [==============================] - 2s 154us/step - loss: 1.0934 - val_loss: 0.7297\n",
            "Epoch 5/30\n",
            "14627/14627 [==============================] - 2s 153us/step - loss: 1.0662 - val_loss: 0.7408\n",
            "Epoch 6/30\n",
            "14627/14627 [==============================] - 2s 152us/step - loss: 1.0328 - val_loss: 0.7535\n",
            "Epoch 7/30\n",
            "14627/14627 [==============================] - 2s 151us/step - loss: 0.9907 - val_loss: 0.7752\n",
            "Epoch 8/30\n",
            "14627/14627 [==============================] - 2s 153us/step - loss: 0.9514 - val_loss: 0.7592\n",
            "Epoch 9/30\n",
            "14627/14627 [==============================] - 2s 149us/step - loss: 0.9164 - val_loss: 0.7809\n",
            "Epoch 10/30\n",
            "14627/14627 [==============================] - 2s 157us/step - loss: 0.8851 - val_loss: 0.7945\n",
            "Epoch 11/30\n",
            "14627/14627 [==============================] - 2s 152us/step - loss: 0.8514 - val_loss: 0.8228\n",
            "Epoch 12/30\n",
            "14627/14627 [==============================] - 2s 152us/step - loss: 0.8253 - val_loss: 0.8297\n",
            "Epoch 13/30\n",
            "14627/14627 [==============================] - 2s 152us/step - loss: 0.8010 - val_loss: 0.8634\n",
            "Epoch 14/30\n",
            "14627/14627 [==============================] - 2s 157us/step - loss: 0.7860 - val_loss: 0.8483\n",
            "Epoch 15/30\n",
            "14627/14627 [==============================] - 2s 154us/step - loss: 0.7781 - val_loss: 0.8321\n",
            "Epoch 16/30\n",
            "14627/14627 [==============================] - 2s 153us/step - loss: 0.7737 - val_loss: 0.8331\n",
            "Epoch 17/30\n",
            "14627/14627 [==============================] - 2s 153us/step - loss: 0.7633 - val_loss: 0.8593\n",
            "Epoch 18/30\n",
            "14627/14627 [==============================] - 2s 155us/step - loss: 0.7619 - val_loss: 0.8782\n",
            "Epoch 19/30\n",
            "14627/14627 [==============================] - 2s 151us/step - loss: 0.7467 - val_loss: 0.8591\n",
            "Epoch 20/30\n",
            "14627/14627 [==============================] - 2s 151us/step - loss: 0.7384 - val_loss: 0.9144\n",
            "Epoch 21/30\n",
            "14627/14627 [==============================] - 2s 153us/step - loss: 0.7267 - val_loss: 0.8542\n",
            "Epoch 22/30\n",
            "14627/14627 [==============================] - 2s 156us/step - loss: 0.7325 - val_loss: 0.8708\n",
            "Epoch 23/30\n",
            "14627/14627 [==============================] - 2s 152us/step - loss: 0.7148 - val_loss: 0.8666\n",
            "Epoch 24/30\n",
            "14627/14627 [==============================] - 2s 153us/step - loss: 0.7045 - val_loss: 0.8964\n",
            "Epoch 25/30\n",
            "14627/14627 [==============================] - 2s 153us/step - loss: 0.6924 - val_loss: 0.8442\n",
            "Epoch 26/30\n",
            "14627/14627 [==============================] - 2s 151us/step - loss: 0.6906 - val_loss: 0.8808\n",
            "Epoch 27/30\n",
            "14627/14627 [==============================] - 2s 151us/step - loss: 0.6793 - val_loss: 0.8515\n",
            "Epoch 28/30\n",
            "14627/14627 [==============================] - 2s 152us/step - loss: 0.6689 - val_loss: 0.8924\n",
            "Epoch 29/30\n",
            "14627/14627 [==============================] - 2s 152us/step - loss: 0.6563 - val_loss: 0.8784\n",
            "Epoch 30/30\n",
            "14627/14627 [==============================] - 2s 149us/step - loss: 0.6501 - val_loss: 0.8990\n"
          ],
          "name": "stdout"
        },
        {
          "output_type": "display_data",
          "data": {
            "image/png": "[encoded data removed]",
            "text/plain": [
              "<Figure size 432x288 with 1 Axes>"
            ]
          },
          "metadata": {
            "tags": []
          }
        },
        {
          "output_type": "display_data",
          "data": {
            "image/png": "[encoded data removed]",
            "text/plain": [
              "<Figure size 432x288 with 1 Axes>"
            ]
          },
          "metadata": {
            "tags": []
          }
        },
        {
          "output_type": "stream",
          "text": [
            "AUC:  0.47170960141979185\n",
            "Time:  71\n"
          ],
          "name": "stdout"
        }
      ]
    },
    {
      "cell_type": "markdown",
      "metadata": {
        "id": "O5p7NRhm75L-",
        "colab_type": "text"
      },
      "source": [
        "### Euclidean"
      ]
    },
    {
      "cell_type": "code",
      "metadata": {
        "id": "PSymEs6-76Tf",
        "colab_type": "code",
        "outputId": "a3725bbe-0016-43b4-c74b-ac704d695bc9",
        "colab": {
          "base_uri": "https://localhost:8080/",
          "height": 1000
        }
      },
      "source": [
        "import datetime\n",
        "startTime = datetime.datetime.now()\n",
        "mlp = MLP_AnomalyDetection.from_DataFrame(df_synthetic,100,5,30,0.3,'euclidean')\n",
        "mlp.fit()\n",
        "# mlp.plot()\n",
        "mlp.get_roc_auc(verbose=False)\n",
        "endTime = datetime.datetime.now()\n",
        "diff = endTime - startTime\n",
        "print('Time: ',diff.seconds)"
      ],
      "execution_count": 0,
      "outputs": [
        {
          "output_type": "stream",
          "text": [
            "/usr/local/lib/python3.6/dist-packages/pandas/core/ops/__init__.py:1115: FutureWarning: elementwise comparison failed; returning scalar instead, but in the future will perform elementwise comparison\n",
            "  result = method(y)\n"
          ],
          "name": "stderr"
        },
        {
          "output_type": "stream",
          "text": [
            "Train on 798 samples, validate on 79 samples\n",
            "Epoch 1/30\n",
            "798/798 [==============================] - 23s 28ms/step - loss: 1.1117 - val_loss: 0.9875\n",
            "Epoch 2/30\n",
            "798/798 [==============================] - 0s 229us/step - loss: 0.6231 - val_loss: 1.0700\n",
            "Epoch 3/30\n",
            "798/798 [==============================] - 0s 234us/step - loss: 0.3158 - val_loss: 1.1222\n",
            "Epoch 4/30\n",
            "798/798 [==============================] - 0s 239us/step - loss: 0.1193 - val_loss: 1.1202\n",
            "Epoch 5/30\n",
            "798/798 [==============================] - 0s 251us/step - loss: 0.0500 - val_loss: 1.1368\n",
            "Epoch 6/30\n",
            "798/798 [==============================] - 0s 243us/step - loss: 0.0280 - val_loss: 1.1368\n",
            "Epoch 7/30\n",
            "798/798 [==============================] - 0s 237us/step - loss: 0.0222 - val_loss: 1.1321\n",
            "Epoch 8/30\n",
            "798/798 [==============================] - 0s 227us/step - loss: 0.0216 - val_loss: 1.1225\n",
            "Epoch 9/30\n",
            "798/798 [==============================] - 0s 242us/step - loss: 0.0193 - val_loss: 1.1323\n",
            "Epoch 10/30\n",
            "798/798 [==============================] - 0s 253us/step - loss: 0.0200 - val_loss: 1.1160\n",
            "Epoch 11/30\n",
            "798/798 [==============================] - 0s 239us/step - loss: 0.0199 - val_loss: 1.1201\n",
            "Epoch 12/30\n",
            "798/798 [==============================] - 0s 243us/step - loss: 0.0221 - val_loss: 1.1201\n",
            "Epoch 13/30\n",
            "798/798 [==============================] - 0s 247us/step - loss: 0.0225 - val_loss: 1.1218\n",
            "Epoch 14/30\n",
            "798/798 [==============================] - 0s 249us/step - loss: 0.0231 - val_loss: 1.1093\n",
            "Epoch 15/30\n",
            "798/798 [==============================] - 0s 248us/step - loss: 0.0216 - val_loss: 1.1164\n",
            "Epoch 16/30\n",
            "798/798 [==============================] - 0s 243us/step - loss: 0.0208 - val_loss: 1.1087\n",
            "Epoch 17/30\n",
            "798/798 [==============================] - 0s 247us/step - loss: 0.0200 - val_loss: 1.1098\n",
            "Epoch 18/30\n",
            "798/798 [==============================] - 0s 245us/step - loss: 0.0177 - val_loss: 1.1003\n",
            "Epoch 19/30\n",
            "798/798 [==============================] - 0s 243us/step - loss: 0.0162 - val_loss: 1.1053\n",
            "Epoch 20/30\n",
            "798/798 [==============================] - 0s 252us/step - loss: 0.0169 - val_loss: 1.0913\n",
            "Epoch 21/30\n",
            "798/798 [==============================] - 0s 252us/step - loss: 0.0159 - val_loss: 1.0937\n",
            "Epoch 22/30\n",
            "798/798 [==============================] - 0s 235us/step - loss: 0.0158 - val_loss: 1.0848\n",
            "Epoch 23/30\n",
            "798/798 [==============================] - 0s 243us/step - loss: 0.0164 - val_loss: 1.0929\n",
            "Epoch 24/30\n",
            "798/798 [==============================] - 0s 235us/step - loss: 0.0159 - val_loss: 1.1007\n",
            "Epoch 25/30\n",
            "798/798 [==============================] - 0s 254us/step - loss: 0.0148 - val_loss: 1.0765\n",
            "Epoch 26/30\n",
            "798/798 [==============================] - 0s 250us/step - loss: 0.0137 - val_loss: 1.0802\n",
            "Epoch 27/30\n",
            "798/798 [==============================] - 0s 239us/step - loss: 0.0129 - val_loss: 1.0852\n",
            "Epoch 28/30\n",
            "798/798 [==============================] - 0s 242us/step - loss: 0.0140 - val_loss: 1.0788\n",
            "Epoch 29/30\n",
            "798/798 [==============================] - 0s 237us/step - loss: 0.0139 - val_loss: 1.0778\n",
            "Epoch 30/30\n",
            "798/798 [==============================] - 0s 243us/step - loss: 0.0138 - val_loss: 1.0723\n"
          ],
          "name": "stdout"
        },
        {
          "output_type": "display_data",
          "data": {
            "image/png": "[encoded data removed]",
            "text/plain": [
              "<Figure size 432x288 with 1 Axes>"
            ]
          },
          "metadata": {
            "tags": []
          }
        },
        {
          "output_type": "display_data",
          "data": {
            "image/png": "[encoded data removed]",
            "text/plain": [
              "<Figure size 432x288 with 1 Axes>"
            ]
          },
          "metadata": {
            "tags": []
          }
        },
        {
          "output_type": "stream",
          "text": [
            "AUC:  0.6997358630952379\n",
            "Time:  38\n"
          ],
          "name": "stdout"
        }
      ]
    },
    {
      "cell_type": "code",
      "metadata": {
        "id": "YcDsaP2-Amov",
        "colab_type": "code",
        "outputId": "2889a359-3e52-430b-dc69-bbb519472987",
        "colab": {
          "base_uri": "https://localhost:8080/",
          "height": 1000
        }
      },
      "source": [
        "\n",
        "import datetime\n",
        "startTime = datetime.datetime.now()\n",
        "mlp = MLP_AnomalyDetection.from_file('drive/My Drive/MT/Experiments/Multivariate/NASA_Shuttle/40902.csv',None,100,9,30,0.3,'euclidean')\n",
        "mlp.fit()\n",
        "# mlp.plot()\n",
        "mlp.get_roc_auc(verbose=False)\n",
        "endTime = datetime.datetime.now()\n",
        "diff = endTime - startTime\n",
        "print('Time: ',diff.seconds)"
      ],
      "execution_count": 0,
      "outputs": [
        {
          "output_type": "stream",
          "text": [
            "Train on 14627 samples, validate on 1462 samples\n",
            "Epoch 1/30\n",
            "14627/14627 [==============================] - 3s 201us/step - loss: 1.1326 - val_loss: 0.7154\n",
            "Epoch 2/30\n",
            "14627/14627 [==============================] - 3s 181us/step - loss: 1.1176 - val_loss: 0.7161\n",
            "Epoch 3/30\n",
            "14627/14627 [==============================] - 3s 181us/step - loss: 1.1028 - val_loss: 0.7183\n",
            "Epoch 4/30\n",
            "14627/14627 [==============================] - 3s 176us/step - loss: 1.0564 - val_loss: 0.7478\n",
            "Epoch 5/30\n",
            "14627/14627 [==============================] - 3s 177us/step - loss: 1.0233 - val_loss: 0.7230\n",
            "Epoch 6/30\n",
            "14627/14627 [==============================] - 3s 178us/step - loss: 0.9856 - val_loss: 0.7284\n",
            "Epoch 7/30\n",
            "14627/14627 [==============================] - 3s 177us/step - loss: 0.9043 - val_loss: 0.7497\n",
            "Epoch 8/30\n",
            "14627/14627 [==============================] - 3s 179us/step - loss: 0.8125 - val_loss: 0.7341\n",
            "Epoch 9/30\n",
            "14627/14627 [==============================] - 3s 176us/step - loss: 0.8483 - val_loss: 0.7293\n",
            "Epoch 10/30\n",
            "14627/14627 [==============================] - 3s 177us/step - loss: 0.8996 - val_loss: 0.7533\n",
            "Epoch 11/30\n",
            "14627/14627 [==============================] - 3s 176us/step - loss: 0.8438 - val_loss: 0.7820\n",
            "Epoch 12/30\n",
            "14627/14627 [==============================] - 3s 177us/step - loss: 0.8167 - val_loss: 0.7674\n",
            "Epoch 13/30\n",
            "14627/14627 [==============================] - 3s 177us/step - loss: 0.7930 - val_loss: 0.7647\n",
            "Epoch 14/30\n",
            "14627/14627 [==============================] - 3s 176us/step - loss: 0.7627 - val_loss: 0.7732\n",
            "Epoch 15/30\n",
            "14627/14627 [==============================] - 3s 179us/step - loss: 0.7076 - val_loss: 0.7853\n",
            "Epoch 16/30\n",
            "14627/14627 [==============================] - 3s 175us/step - loss: 0.6990 - val_loss: 0.7881\n",
            "Epoch 17/30\n",
            "14627/14627 [==============================] - 3s 176us/step - loss: 0.6998 - val_loss: 0.8669\n",
            "Epoch 18/30\n",
            "14627/14627 [==============================] - 3s 179us/step - loss: 0.5872 - val_loss: 0.7395\n",
            "Epoch 19/30\n",
            "14627/14627 [==============================] - 3s 177us/step - loss: 0.6750 - val_loss: 0.7614\n",
            "Epoch 20/30\n",
            "14627/14627 [==============================] - 3s 177us/step - loss: 0.6112 - val_loss: 0.7716\n",
            "Epoch 21/30\n",
            "14627/14627 [==============================] - 3s 175us/step - loss: 0.6915 - val_loss: 0.7861\n",
            "Epoch 22/30\n",
            "14627/14627 [==============================] - 3s 178us/step - loss: 0.7540 - val_loss: 0.7722\n",
            "Epoch 23/30\n",
            "14627/14627 [==============================] - 3s 175us/step - loss: 0.7819 - val_loss: 0.7651\n",
            "Epoch 24/30\n",
            "14627/14627 [==============================] - 3s 176us/step - loss: 0.7639 - val_loss: 0.7817\n",
            "Epoch 25/30\n",
            "14627/14627 [==============================] - 3s 177us/step - loss: 0.7536 - val_loss: 0.7842\n",
            "Epoch 26/30\n",
            "14627/14627 [==============================] - 3s 177us/step - loss: 0.7340 - val_loss: 0.7936\n",
            "Epoch 27/30\n",
            "14627/14627 [==============================] - 3s 176us/step - loss: 0.7278 - val_loss: 0.7751\n",
            "Epoch 28/30\n",
            "14627/14627 [==============================] - 3s 180us/step - loss: 0.7324 - val_loss: 0.7735\n",
            "Epoch 29/30\n",
            "14627/14627 [==============================] - 3s 180us/step - loss: 0.7176 - val_loss: 0.7705\n",
            "Epoch 30/30\n",
            "14627/14627 [==============================] - 3s 177us/step - loss: 0.7075 - val_loss: 0.7677\n"
          ],
          "name": "stdout"
        },
        {
          "output_type": "display_data",
          "data": {
            "image/png": "[encoded data removed]",
            "text/plain": [
              "<Figure size 432x288 with 1 Axes>"
            ]
          },
          "metadata": {
            "tags": []
          }
        },
        {
          "output_type": "display_data",
          "data": {
            "image/png": "[encoded data removed]",
            "text/plain": [
              "<Figure size 432x288 with 1 Axes>"
            ]
          },
          "metadata": {
            "tags": []
          }
        },
        {
          "output_type": "stream",
          "text": [
            "AUC:  0.47635056535924913\n",
            "Time:  82\n"
          ],
          "name": "stdout"
        }
      ]
    },
    {
      "cell_type": "markdown",
      "metadata": {
        "id": "VnH3vAaOv2JO",
        "colab_type": "text"
      },
      "source": [
        "# CNN"
      ]
    },
    {
      "cell_type": "code",
      "metadata": {
        "id": "K_62JcV1v3CG",
        "colab_type": "code",
        "colab": {}
      },
      "source": [
        "import scipy.linalg\n",
        "from scipy.spatial import distance\n",
        "import warnings\n",
        "from sklearn.cluster import KMeans\n",
        "from statsmodels.tsa.ar_model import AR\n",
        "from sklearn.metrics import mean_squared_error\n",
        "from math import sqrt\n",
        "from pandas import read_csv\n",
        "import pandas as pd\n",
        "from pandas import DataFrame\n",
        "from pandas import concat\n",
        "import numpy as np \n",
        "from matplotlib import pyplot\n",
        "from xgboost import XGBRegressor\n",
        "from sklearn import preprocessing\n",
        "import sys\n",
        "from tensorflow import set_random_seed\n",
        "set_random_seed(42)\n",
        "from numpy.random import seed\n",
        "import numpy\n",
        "import matplotlib.pyplot as plt\n",
        "import pandas\n",
        "import math\n",
        "from keras.models import Sequential\n",
        "from keras.layers import Dense\n",
        "from keras.layers import LSTM\n",
        "from sklearn.preprocessing import MinMaxScaler\n",
        "from sklearn.metrics import mean_squared_error\n",
        "import numpy as np\n",
        "from keras.layers import Conv1D,MaxPooling1D,Flatten\n",
        "seed(42)\n",
        "from keras import regularizers\n",
        "\n",
        "def warn(*args, **kwargs):\n",
        "    pass\n",
        "    \n",
        "class CNN_AnomalyDetection:\n",
        "    @classmethod\n",
        "    def from_DataFrame(cls,dataframe,window_width, dimension, n_epochs, train_rate, n_filters, kernel_size, n_dense, distance_function) -> 'XGB_AnomalyDetection_ML':\n",
        "    \treturn cls(dataframe, window_width, dimension, n_epochs, train_rate, n_filters, kernel_size, n_dense, distance_function)\n",
        "\n",
        "    @classmethod\n",
        "    def from_file(cls, path, index_col, window_width, dimension,n_epochs, train_rate, n_filters, kernel_size, n_dense, distance_function) -> 'XGB_AnomalyDetection_ML':\n",
        "    \tdf = read_csv(path, header=0, index_col=index_col, parse_dates=True,squeeze=True)\n",
        "    \treturn cls(df, window_width, dimension, n_epochs, train_rate, n_filters, kernel_size, n_dense,distance_function)\n",
        "     \n",
        "    def __init__(self,df, window_width, dimension, n_epochs, train_rate, n_filters, kernel_size, n_dense, distance_function):\n",
        "        self.distance_function = distance_function\n",
        "        self.dimension = dimension\n",
        "        self.n_epochs = n_epochs\n",
        "        self.window_width = window_width\n",
        "        \n",
        "        self.n_filters = n_filters\n",
        "        self.kernel_size = kernel_size\n",
        "        self.n_dense = n_dense\n",
        "\n",
        "        self.df = df\n",
        "        self.df = self.df.reset_index(drop=True)\n",
        "        self.df.rename(columns={'Target':'is_anomaly'}, inplace=True)\n",
        "        self.df.loc[self.df.is_anomaly == \"'Anomaly'\", 'is_anomaly'] = 1\n",
        "        self.df.loc[self.df.is_anomaly == \"'Normal'\", 'is_anomaly'] = 0\n",
        "\n",
        "        df_sensors = pd.DataFrame(self.df.iloc[:,:dimension].values)  \n",
        "        self.values = df_sensors\n",
        "        self.dataframe = concat([self.df.iloc[:,:-1].shift(1), self.df.iloc[:,:-1], self.df.iloc[:,-1]], axis=1)\n",
        "        self.dataframe.columns = np.r_[np.array(['V'+str(i)+'_t' for i in range(1,self.dimension+1)]),np.array(['V'+str(i)+'_t+1' for i in range(1,self.dimension+1)]),['is_anomaly']]\n",
        "\n",
        "        # self.dataframe = concat([self.values.shift(1), self.values], axis=1)\n",
        "        # self.dataframe.columns = ['t', 't+1']\n",
        "\n",
        "        self.train_size = int(len(self.values) * train_rate)  \n",
        "\n",
        "\n",
        "    def create_XY_lookback_dataset(self,dataset, look_back=1):\n",
        "        dataX, dataY = [], []\n",
        "        for i in range(len(dataset)-look_back-1):\n",
        "            a = dataset[i:(i+look_back),:self.dimension]\n",
        "            dataX.append(a)\n",
        "            dataY.append(dataset[i + look_back,:self.dimension].reshape(-1))\n",
        "        return numpy.array(dataX), numpy.array(dataY)\n",
        "    \n",
        "    def getWindowedVectors(self, X):\n",
        "        vectors = np.zeros((len(X) - self.window_width+1,self.window_width))\n",
        "        for i,_ in enumerate(X[:-self.window_width+1]):\n",
        "            vectors[i] = X[i:i+self.window_width]\n",
        "        return vectors\n",
        "\n",
        "    def __build_sets(self):\n",
        "\n",
        "        X = self.dataframe.iloc[:,:-1].values\n",
        "        self.train, self.test = X[1:self.train_size], X[self.train_size:]    \n",
        "        # print('Train.len:',len(self.train),' - Test.len:', len(self.test))\n",
        "\n",
        "        self.train_X, self.train_y = self.create_XY_lookback_dataset(self.train, self.window_width)\n",
        "        self.test_X, self.test_y = self.create_XY_lookback_dataset(self.test, self.window_width)\n",
        "        # print('TrainX.shape:',self.train_X.shape,' - TestX.shape:', self.test_X.shape,' - TrainY.shape:', self.train_y.shape,' - TestY.shape:', self.test_y.shape)\n",
        "\n",
        "        self.validationsize = int(self.train_X.shape[0] * 0.1)\n",
        "        self.val, self.test = self.test[:self.validationsize], self.test[self.validationsize:]\n",
        "        self.val_X, self.val_y= self.test_X[:self.validationsize], self.test_y[:self.validationsize]\n",
        "        self.test_X, self.test_y = self.test_X[self.validationsize:], self.test_y[self.validationsize:]\n",
        "\n",
        "    def standardize_dataframe(self):\n",
        "        X = self.dataframe.values\n",
        "        self.scalar = preprocessing.StandardScaler().fit(X)\n",
        "        X = self.scalar.transform(X)\n",
        "        self.dataframe = pd.DataFrame(X)\n",
        "\n",
        "    def inverse_standardize_dataframe(self):\n",
        "        X = self.dataframe.values\n",
        "        X = self.scalar.inverse_transform(X)\n",
        "        self.dataframe = pd.DataFrame(X)\n",
        "\n",
        "\n",
        "\n",
        "    def model_persistence(self, x):\n",
        "        return x\n",
        "        \n",
        "    def create_persistence(self):\n",
        "        rmse = sqrt(mean_squared_error(self.dataframe.iloc[self.train_size:,:self.dimension], self.dataframe.iloc[self.train_size:,self.dimension:-1]))\n",
        "        # print('Persistent Model RMSE: %.3f' % rmse)   \n",
        "\n",
        "    def fit(self):\n",
        "        self.create_persistence()\n",
        "        self.standardize_dataframe()\n",
        "        self.__build_sets()\n",
        "                \n",
        "        self.compute_anomalyScores()\n",
        "        self.inverse_standardize_dataframe()\n",
        "        # self.compute_Errors_RMSE()\n",
        "\n",
        "        return self.history.history\n",
        "\n",
        "    def plotTraining(self):\n",
        "        history_dict = self.history.history\n",
        "        loss_values = history_dict['loss'][1:]\n",
        "        val_loss_values = history_dict['val_loss'][1:]\n",
        "        self.n_epochs = range(2, self.n_epochs + 1)\n",
        "        plt.plot(self.n_epochs, loss_values, 'bo', label='Training loss')\n",
        "        plt.plot(self.n_epochs, val_loss_values, 'b', label='Validation loss')\n",
        "        plt.title('Training and validation loss')\n",
        "        plt.xlabel('Epochs')\n",
        "        plt.ylabel('Loss')\n",
        "        plt.legend()\n",
        "        plt.show()\n",
        "\n",
        "    def compute_anomalyScores(self):\n",
        "\n",
        "        # self.train_X = numpy.reshape(self.train_X, (self.train_X.shape[0],self.dimension,self.train_X.shape[1]))\n",
        "        # self.test_X = numpy.reshape(self.test_X, (self.test_X.shape[0],self.dimension, self.test_X.shape[1]))\n",
        "\n",
        "        from keras.layers import Conv1D,MaxPooling1D,Flatten\n",
        "        self.model = Sequential()\n",
        "        self.model.add(Conv1D(filters=self.n_filters[0], kernel_size=self.kernel_size, activation='relu', input_shape=(self.window_width,self.dimension ),data_format='channels_first', padding='same'))\n",
        "        self.model.add(MaxPooling1D(pool_size=2))\n",
        "        self.model.add(Conv1D(filters=self.n_filters[1], kernel_size=self.kernel_size, activation='relu',data_format='channels_first', padding='same'))\n",
        "        self.model.add(MaxPooling1D(pool_size=2))\n",
        "        self.model.add(Conv1D(filters=self.n_filters[2], kernel_size=self.kernel_size, activation='relu',data_format='channels_first', padding='same'))\n",
        "        self.model.add(MaxPooling1D(pool_size=2))\n",
        "        self.model.add(Flatten())\n",
        "        self.model.add(Dense(self.n_dense, activation='relu'))\n",
        "        self.model.add(Dense(self.dimension))\n",
        "        self.model.compile(optimizer='adam', loss='mse')\n",
        "        self.history = self.model.fit(self.train_X, self.train_y,validation_data=(self.val_X,self.val_y), epochs=self.n_epochs, verbose=0)\n",
        "\n",
        "        # self.plotTraining()\n",
        "        self.predictions = self.model.predict(self.test_X)\n",
        "        self.error_vect = (self.test_y.reshape(self.predictions.shape) - self.predictions).reshape(self.test_y.shape[0],-1)\n",
        "        self.compute_errors(self.distance_function)\n",
        "\n",
        "    def compute_errors(self, distance_function):\n",
        "        if distance_function == 'mahalanobis':\n",
        "            inv_cov = scipy.linalg.inv(np.cov(self.error_vect.T))\n",
        "            mean = np.mean(self.error_vect,axis=0)\n",
        "            self.errors = np.zeros((len(self.error_vect),1))\n",
        "            for i,error in enumerate(self.error_vect):\n",
        "                self.errors[i] = distance.mahalanobis(error,mean,inv_cov)\n",
        "        elif distance_function == 'euclidean':\n",
        "            inv_cov = scipy.linalg.inv(np.cov(self.error_vect.T))\n",
        "            mean = np.mean(self.error_vect,axis=0)\n",
        "            self.errors = np.zeros((len(self.error_vect),1))\n",
        "            for i,error in enumerate(self.error_vect):\n",
        "                self.errors[i] = distance.euclidean(error,mean)\n",
        "\n",
        "    def compute_Errors_RMSE(self):\n",
        "\n",
        "        rmse = sqrt(mean_squared_error(self.test_y.reshape(self.predictions.shape), self.predictions))\n",
        "        self.errors = np.absolute(self.test_y.reshape(self.predictions.shape) - np.array(self.predictions))\n",
        "        # print('Prediction Test RMS        E: %.3f' % rmse)       \n",
        "   \n",
        "\n",
        "    def plot(self):\n",
        "        fig, axes = plt.subplots(nrows=3, ncols=3, dpi=120, figsize=(50,5))\n",
        "        for i, ax in enumerate(axes.flatten()):\n",
        "            data = self.df[self.df.columns[i]].iloc[:200]\n",
        "            ax.plot(self.test_y[:,i], color='green',  linewidth=0.5,label='True Values')\n",
        "            ax.plot(self.predictions[:,i], color='blue',  linewidth=0.5,label='Predictions')\n",
        "            ax.plot(self.errors[:,i], color = 'red',  linewidth=0.5, label='Errors')\n",
        "            ax.legend()\n",
        "            \n",
        "        plt.show()\n",
        "\n",
        "    def get_roc_auc(self, plot=True, verbose=True):\n",
        "\n",
        "        # get the predicted errors of the anomaly points\n",
        "        indices = self.df[self.df['is_anomaly']==1].index >self.train_size + self.validationsize\n",
        "        true_anomaly_predicted_errors = self.errors[self.df[self.df['is_anomaly']==1].index[indices] - self.train_size - self.validationsize - self.window_width -1]\n",
        "        if len(true_anomaly_predicted_errors) == 0:\n",
        "            return np.nan\n",
        "        # sort them \n",
        "        true_anomaly_predicted_errors = np.sort(true_anomaly_predicted_errors,axis=0).reshape(-1)\n",
        "        true_anomaly_predicted_errors_extended = np.r_[np.linspace(0,true_anomaly_predicted_errors[0],40)[:-1],true_anomaly_predicted_errors]\n",
        "        true_anomaly_predicted_errors_extended = np.r_[true_anomaly_predicted_errors_extended, true_anomaly_predicted_errors_extended[-1] + np.mean(true_anomaly_predicted_errors_extended)]\n",
        "                # now iterate thru the predicted errors from small to big\n",
        "        # for each value look how much other points have equal or bigger error\n",
        "        FPR = [] # fp/n  https://en.wikipedia.org/wiki/Sensitivity_and_specificity\n",
        "        TPR = [] # tp/p\n",
        "        p = len(true_anomaly_predicted_errors)\n",
        "        Thresholds = []\n",
        "        for predictederror in true_anomaly_predicted_errors_extended:\n",
        "            threshold = predictederror\n",
        "            tp = len(true_anomaly_predicted_errors[true_anomaly_predicted_errors>= threshold])\n",
        "            fp = len(self.errors[self.errors>=threshold])-len(true_anomaly_predicted_errors[true_anomaly_predicted_errors>=threshold])\n",
        "            \n",
        "            fpr =fp/len(self.errors)\n",
        "            FPR.append(fpr)\n",
        "            TPR.append(tp/p)\n",
        "            if verbose:\n",
        "                print(\"Threshold: {0:25}  - FP: {1:4} - TP: {2:4} - FPR: {3:21} - TPR: {4:4}\".format(threshold,fp, tp, fpr, tp/p))\n",
        "\n",
        "        import matplotlib.pyplot as plt\n",
        "        if plot:\n",
        "            plt.figure()\n",
        "            plt.axis([0, 1, 0, 1])\n",
        "            plt.plot(FPR,TPR)\n",
        "            plt.show() \n",
        "\n",
        "        # This is the AUC\n",
        "        from sklearn.metrics import auc\n",
        "        print('AUC: ' ,auc(FPR,TPR)        )\n",
        "        return auc(FPR,TPR)\n",
        "\n",
        "# filters = [[8,8,8], [4,4,4], [4,8,16], [4,8,12], [16,32,48], [128,128,128],[64,64,64],[256,256,256],[128,256,512]]\n",
        "# kernelsizes = [2,3,4,6,8,16]\n",
        "# dense = [18,36,72,144]\n",
        "\n",
        "# best_auc = [0,0]\n",
        "# histories = []\n",
        "# for f in filters:\n",
        "#     for k in kernelsizes:\n",
        "#         for d in dense:\n",
        "\n",
        "#             cnn = CNN_AnomalyDetection.from_DataFrame(df_synthetic,30,5,20,0.3,f,k,d)\n",
        "#             hist = cnn.fit()\n",
        "#             histories.append(((f,k,d), hist))\n",
        "#             # cnn.plot()\n",
        "#             auc = cnn.get_roc_auc(verbose=False,plot=False)\n",
        "#             print(' auc:', auc, ' - f:', f, ' - k:', k, ' - d:', d)\n",
        "#             if best_auc[1] < auc:\n",
        "#                 print('New best auc:', auc, ' - f:', f, ' - k:', k, ' - d:', d)\n",
        "#                 best_auc = [(f,k,d),auc]\n",
        "#             break\n",
        "#         break\n",
        "#     break\n",
        "# print(best_auc)"
      ],
      "execution_count": 0,
      "outputs": []
    },
    {
      "cell_type": "markdown",
      "metadata": {
        "id": "9gR7n1Tj4Azd",
        "colab_type": "text"
      },
      "source": [
        "## Evaluation"
      ]
    },
    {
      "cell_type": "markdown",
      "metadata": {
        "id": "UiMRRPDH4CfY",
        "colab_type": "text"
      },
      "source": [
        "### Mahalanobis"
      ]
    },
    {
      "cell_type": "code",
      "metadata": {
        "id": "MgSIUWCB4GQV",
        "colab_type": "code",
        "outputId": "1b6e292d-db6b-41d7-a3a4-96b2d5075da6",
        "colab": {
          "base_uri": "https://localhost:8080/",
          "height": 105
        }
      },
      "source": [
        "import datetime\n",
        "startTime = datetime.datetime.now()\n",
        "cnn = CNN_AnomalyDetection.from_DataFrame(df_synthetic,30,5,20,0.3,[8,8,8],2,18, 'mahalanobis')\n",
        "hist = cnn.fit()\n",
        "histories.append(((f,k,d), hist))\n",
        "# cnn.plot()\n",
        "auc = cnn.get_roc_auc(verbose=False,plot=False)\n",
        "endTime = datetime.datetime.now()\n",
        "diff = endTime - startTime\n",
        "print('Time: ',diff.seconds)\n",
        "#0.757626"
      ],
      "execution_count": 0,
      "outputs": [
        {
          "output_type": "stream",
          "text": [
            "/usr/local/lib/python3.6/dist-packages/pandas/core/ops/__init__.py:1115: FutureWarning: elementwise comparison failed; returning scalar instead, but in the future will perform elementwise comparison\n",
            "  result = method(y)\n"
          ],
          "name": "stderr"
        },
        {
          "output_type": "stream",
          "text": [
            "AUC:  0.921954470139039\n",
            "Time:  35\n"
          ],
          "name": "stdout"
        }
      ]
    },
    {
      "cell_type": "code",
      "metadata": {
        "id": "IKDy0jyFAwmS",
        "colab_type": "code",
        "outputId": "fcbba22a-f889-460b-bef3-6da352257d74",
        "colab": {
          "base_uri": "https://localhost:8080/",
          "height": 52
        }
      },
      "source": [
        "import datetime\n",
        "startTime = datetime.datetime.now()\n",
        "cnn = CNN_AnomalyDetection.from_file('drive/My Drive/MT/Experiments/Multivariate/NASA_Shuttle/40902.csv',None,30,9,20,0.3,[8,8,8],2,18, 'mahalanobis')\n",
        "hist = cnn.fit()\n",
        "# cnn.plot()\n",
        "auc = cnn.get_roc_auc(verbose=False,plot=False)\n",
        "endTime = datetime.datetime.now()\n",
        "diff = endTime - startTime\n",
        "print('Time: ',diff.seconds)\n",
        "#0.757626"
      ],
      "execution_count": 0,
      "outputs": [
        {
          "output_type": "stream",
          "text": [
            "AUC:  0.46895499451271505\n",
            "Time:  58\n"
          ],
          "name": "stdout"
        }
      ]
    },
    {
      "cell_type": "markdown",
      "metadata": {
        "id": "2ffTQKop4Eih",
        "colab_type": "text"
      },
      "source": [
        "### Euclidean"
      ]
    },
    {
      "cell_type": "code",
      "metadata": {
        "id": "8l_QUTwl4FjC",
        "colab_type": "code",
        "outputId": "7899b8b1-72ce-4541-e74d-209c491ca8ef",
        "colab": {
          "base_uri": "https://localhost:8080/",
          "height": 105
        }
      },
      "source": [
        "import datetime\n",
        "startTime = datetime.datetime.now()\n",
        "cnn = CNN_AnomalyDetection.from_DataFrame(df_synthetic,30,5,20,0.3,[8,8,8],2,18, 'euclidean')\n",
        "hist = cnn.fit()\n",
        "histories.append(((f,k,d), hist))\n",
        "# cnn.plot()\n",
        "auc = cnn.get_roc_auc(verbose=False,plot=False)\n",
        "endTime = datetime.datetime.now()\n",
        "diff = endTime - startTime\n",
        "print('Time: ',diff.seconds)\n",
        "#0.757626"
      ],
      "execution_count": 0,
      "outputs": [
        {
          "output_type": "stream",
          "text": [
            "/usr/local/lib/python3.6/dist-packages/pandas/core/ops/__init__.py:1115: FutureWarning: elementwise comparison failed; returning scalar instead, but in the future will perform elementwise comparison\n",
            "  result = method(y)\n"
          ],
          "name": "stderr"
        },
        {
          "output_type": "stream",
          "text": [
            "AUC:  0.7735501765002522\n",
            "Time:  35\n"
          ],
          "name": "stdout"
        }
      ]
    },
    {
      "cell_type": "code",
      "metadata": {
        "id": "YGsGIIdCA-Wg",
        "colab_type": "code",
        "outputId": "dd4e8468-e191-49df-801e-bff8ca215a61",
        "colab": {
          "base_uri": "https://localhost:8080/",
          "height": 52
        }
      },
      "source": [
        "import datetime\n",
        "startTime = datetime.datetime.now()\n",
        "cnn = CNN_AnomalyDetection.from_file('drive/My Drive/MT/Experiments/Multivariate/NASA_Shuttle/40902.csv',None,30,9,20,0.3,[8,8,8],2,18, 'euclidean')\n",
        "hist = cnn.fit()\n",
        "# cnn.plot()\n",
        "auc = cnn.get_roc_auc(verbose=False,plot=False)\n",
        "endTime = datetime.datetime.now()\n",
        "diff = endTime - startTime\n",
        "print('Time: ',diff.seconds)\n",
        "#0.757626"
      ],
      "execution_count": 0,
      "outputs": [
        {
          "output_type": "stream",
          "text": [
            "AUC:  0.4760057352742635\n",
            "Time:  57\n"
          ],
          "name": "stdout"
        }
      ]
    },
    {
      "cell_type": "markdown",
      "metadata": {
        "id": "NQDGfrzl86PG",
        "colab_type": "text"
      },
      "source": [
        "# CNN BatchNormalization"
      ]
    },
    {
      "cell_type": "code",
      "metadata": {
        "id": "05RPy_NR851p",
        "colab_type": "code",
        "colab": {}
      },
      "source": [
        "import scipy.linalg\n",
        "from scipy.spatial import distance\n",
        "import keras \n",
        "import warnings\n",
        "from sklearn.cluster import KMeans\n",
        "from statsmodels.tsa.ar_model import AR\n",
        "from sklearn.metrics import mean_squared_error\n",
        "from math import sqrt\n",
        "from pandas import read_csv\n",
        "import pandas as pd\n",
        "from pandas import DataFrame\n",
        "from pandas import concat\n",
        "import numpy as np \n",
        "from matplotlib import pyplot\n",
        "from xgboost import XGBRegressor\n",
        "from sklearn import preprocessing\n",
        "import sys\n",
        "from tensorflow import set_random_seed\n",
        "set_random_seed(42)\n",
        "from numpy.random import seed\n",
        "import numpy\n",
        "import matplotlib.pyplot as plt\n",
        "import pandas\n",
        "import math\n",
        "from keras.models import Sequential\n",
        "from keras.layers import Dense\n",
        "from keras.layers import LSTM\n",
        "from sklearn.preprocessing import MinMaxScaler\n",
        "from sklearn.metrics import mean_squared_error\n",
        "import numpy as np\n",
        "from keras.layers import Conv1D,MaxPooling1D,Flatten, Input, BatchNormalization, Activation\n",
        "seed(42)\n",
        "from keras import regularizers\n",
        "\n",
        "def warn(*args, **kwargs):\n",
        "    pass\n",
        "    \n",
        "class CNN_Batch_AnomalyDetection:\n",
        "    @classmethod\n",
        "    def from_DataFrame(cls,dataframe,window_width, dimension, n_epochs, train_rate, n_filters, kernel_size, n_dense, distance_function) -> 'XGB_AnomalyDetection_ML':\n",
        "    \treturn cls(dataframe, window_width, dimension, n_epochs, train_rate, n_filters, kernel_size, n_dense, distance_function)\n",
        "\n",
        "    @classmethod\n",
        "    def from_file(cls, path, index_col, window_width, dimension,n_epochs, train_rate, n_filters, kernel_size, n_dense, distance_function) -> 'XGB_AnomalyDetection_ML':\n",
        "    \tdf = read_csv(path, header=0, index_col=index_col, parse_dates=True,squeeze=True)\n",
        "    \treturn cls(df, window_width, dimension, n_epochs, train_rate, n_filters, kernel_size, n_dense, distance_function)\n",
        "     \n",
        "    def __init__(self,df, window_width, dimension, n_epochs, train_rate, n_filters, kernel_size, n_dense, distance_function):\n",
        "\n",
        "        self.distance_function = distance_function\n",
        "        self.dimension = dimension\n",
        "        self.n_epochs = n_epochs\n",
        "        self.window_width = window_width\n",
        "        \n",
        "        self.n_filters = n_filters\n",
        "        self.kernel_size = kernel_size\n",
        "        self.n_dense = n_dense\n",
        "\n",
        "        self.df = df\n",
        "        self.df = self.df.reset_index(drop=True)\n",
        "        self.df.rename(columns={'Target':'is_anomaly'}, inplace=True)\n",
        "        self.df.loc[self.df.is_anomaly == \"'Anomaly'\", 'is_anomaly'] = 1\n",
        "        self.df.loc[self.df.is_anomaly == \"'Normal'\", 'is_anomaly'] = 0\n",
        "\n",
        "        df_sensors = pd.DataFrame(self.df.iloc[:,:dimension].values)  \n",
        "        self.values = df_sensors\n",
        "        self.dataframe = concat([self.df.iloc[:,:-1].shift(1), self.df.iloc[:,:-1], self.df.iloc[:,-1]], axis=1)\n",
        "        self.dataframe.columns = np.r_[np.array(['V'+str(i)+'_t' for i in range(1,self.dimension+1)]),np.array(['V'+str(i)+'_t+1' for i in range(1,self.dimension+1)]),['is_anomaly']]\n",
        "\n",
        "        # self.dataframe = concat([self.values.shift(1), self.values], axis=1)\n",
        "        # self.dataframe.columns = ['t', 't+1']\n",
        "\n",
        "        self.train_size = int(len(self.values) * train_rate)  \n",
        "\n",
        "\n",
        "    def create_XY_lookback_dataset(self,dataset, look_back=1):\n",
        "        dataX, dataY = [], []\n",
        "        for i in range(len(dataset)-look_back-1):\n",
        "            a = dataset[i:(i+look_back),:self.dimension]\n",
        "            dataX.append(a)\n",
        "            dataY.append(dataset[i + look_back,:self.dimension].reshape(-1))\n",
        "        return numpy.array(dataX), numpy.array(dataY)\n",
        "    \n",
        "    def getWindowedVectors(self, X):\n",
        "        vectors = np.zeros((len(X) - self.window_width+1,self.window_width))\n",
        "        for i,_ in enumerate(X[:-self.window_width+1]):\n",
        "            vectors[i] = X[i:i+self.window_width]\n",
        "        return vectors\n",
        "\n",
        "    def __build_sets(self):\n",
        "\n",
        "        X = self.dataframe.iloc[:,:-1].values\n",
        "        self.train, self.test = X[1:self.train_size], X[self.train_size:]    \n",
        "        # print('Train.len:',len(self.train),' - Test.len:', len(self.test))\n",
        "\n",
        "        self.train_X, self.train_y = self.create_XY_lookback_dataset(self.train, self.window_width)\n",
        "        self.test_X, self.test_y = self.create_XY_lookback_dataset(self.test, self.window_width)\n",
        "        # print('TrainX.shape:',self.train_X.shape,' - TestX.shape:', self.test_X.shape,' - TrainY.shape:', self.train_y.shape,' - TestY.shape:', self.test_y.shape)\n",
        "\n",
        "        self.validationsize = int(self.train_X.shape[0] * 0.1)\n",
        "        self.val, self.test = self.test[:self.validationsize], self.test[self.validationsize:]\n",
        "        self.val_X, self.val_y= self.test_X[:self.validationsize], self.test_y[:self.validationsize]\n",
        "        self.test_X, self.test_y = self.test_X[self.validationsize:], self.test_y[self.validationsize:]\n",
        "\n",
        "    def standardize_dataframe(self):\n",
        "        X = self.dataframe.values\n",
        "        self.scalar = preprocessing.StandardScaler().fit(X)\n",
        "        X = self.scalar.transform(X)\n",
        "        self.dataframe = pd.DataFrame(X)\n",
        "\n",
        "    def inverse_standardize_dataframe(self):\n",
        "        X = self.dataframe.values\n",
        "        X = self.scalar.inverse_transform(X)\n",
        "        self.dataframe = pd.DataFrame(X)\n",
        "\n",
        "\n",
        "\n",
        "    def model_persistence(self, x):\n",
        "        return x\n",
        "        \n",
        "    def create_persistence(self):\n",
        "        rmse = sqrt(mean_squared_error(self.dataframe.iloc[self.train_size:,:self.dimension], self.dataframe.iloc[self.train_size:,self.dimension:-1]))\n",
        "        # print('Persistent Model RMSE: %.3f' % rmse)   \n",
        "\n",
        "    def fit(self):\n",
        "        self.create_persistence()\n",
        "        self.standardize_dataframe()\n",
        "        self.__build_sets()\n",
        "                \n",
        "        self.compute_anomalyScores()\n",
        "        self.inverse_standardize_dataframe()\n",
        "        # self.compute_Errors_RMSE()\n",
        "\n",
        "        return self.history.history\n",
        "\n",
        "    def plotTraining(self):\n",
        "        history_dict = self.history.history\n",
        "        loss_values = history_dict['loss'][1:]\n",
        "        val_loss_values = history_dict['val_loss'][1:]\n",
        "        self.n_epochs = range(2, self.n_epochs + 1)\n",
        "        plt.plot(self.n_epochs, loss_values, 'bo', label='Training loss')\n",
        "        plt.plot(self.n_epochs, val_loss_values, 'b', label='Validation loss')\n",
        "        plt.title('Training and validation loss')\n",
        "        plt.xlabel('Epochs')\n",
        "        plt.ylabel('Loss')\n",
        "        plt.legend()\n",
        "        plt.show()\n",
        "\n",
        "    def compute_anomalyScores(self):\n",
        "\n",
        "        # self.train_X = numpy.reshape(self.train_X, (self.train_X.shape[0],self.dimension,self.train_X.shape[1]))\n",
        "        # self.test_X = numpy.reshape(self.test_X, (self.test_X.shape[0],self.dimension, self.test_X.shape[1]))\n",
        "\n",
        "        from keras.layers import Conv1D,MaxPooling1D,Flatten\n",
        "\n",
        "        channel_pos = 'channels_first'\n",
        "        inp_shape = Input((self.window_width,self.dimension),name='input1')\n",
        "        x = Conv1D(self.n_filters[0], kernel_size=self.kernel_size, padding = 'same', input_shape=(self.window_width,self.dimension),data_format=channel_pos,name='conv2d_Prep')(inp_shape)\n",
        "        x = BatchNormalization(axis=1,name='batch_normalization_prep')(x)\n",
        "        x_a1 = Activation('relu',name='activation_prep')(x)\n",
        "        activated_x = x_a1\n",
        "\n",
        "        #     activated_x, x\n",
        "        nr = 1 *2 -1\n",
        "        x = Conv1D(self.n_filters[1], kernel_size=self.kernel_size, name = 'conv2d_'+str(nr), padding='same',data_format=channel_pos)(activated_x)\n",
        "        x = BatchNormalization(axis=1, name = 'batch_normalization_'+str(nr))(x)\n",
        "        activated_x = Activation('relu',name='activation_'+str(nr+1))(x)\n",
        "        activated_x = Flatten()(activated_x)\n",
        " \n",
        "        activated_x = Dense(self.n_dense)(activated_x)\n",
        "        output = Dense(self.dimension)(activated_x)\n",
        "\n",
        "        from keras.models import Model\n",
        "        self.model = Model(inp_shape,output )\n",
        "\n",
        "        self.model.compile(optimizer='adam', loss='mse')\n",
        "        self.history = self.model.fit(self.train_X, self.train_y,validation_data=(self.val_X,self.val_y), epochs=self.n_epochs, verbose=0)\n",
        "\n",
        "        # self.plotTraining()\n",
        "        self.predictions = self.model.predict(self.test_X)\n",
        "        self.error_vect = (self.test_y.reshape(self.predictions.shape) - self.predictions).reshape(self.test_y.shape[0],-1)\n",
        "        self.compute_errors(self.distance_function)\n",
        "\n",
        "    def compute_errors(self, distance_function):\n",
        "        if distance_function == 'mahalanobis':\n",
        "            inv_cov = scipy.linalg.inv(np.cov(self.error_vect.T))\n",
        "            mean = np.mean(self.error_vect,axis=0)\n",
        "            self.errors = np.zeros((len(self.error_vect),1))\n",
        "            for i,error in enumerate(self.error_vect):\n",
        "                self.errors[i] = distance.mahalanobis(error,mean,inv_cov)\n",
        "        elif distance_function == 'euclidean':\n",
        "            inv_cov = scipy.linalg.inv(np.cov(self.error_vect.T))\n",
        "            mean = np.mean(self.error_vect,axis=0)\n",
        "            self.errors = np.zeros((len(self.error_vect),1))\n",
        "            for i,error in enumerate(self.error_vect):\n",
        "                self.errors[i] = distance.euclidean(error,mean)\n",
        "\n",
        "    def compute_Errors_RMSE(self):\n",
        "\n",
        "        rmse = sqrt(mean_squared_error(self.test_y.reshape(self.predictions.shape), self.predictions))\n",
        "        self.errors = np.absolute(self.test_y.reshape(self.predictions.shape) - np.array(self.predictions))\n",
        "        # print('Prediction Test RMS        E: %.3f' % rmse)       \n",
        "   \n",
        "\n",
        "    def plot(self):\n",
        "        fig, axes = plt.subplots(nrows=3, ncols=3, dpi=120, figsize=(50,5))\n",
        "        for i, ax in enumerate(axes.flatten()):\n",
        "            data = self.df[self.df.columns[i]].iloc[:200]\n",
        "            ax.plot(self.test_y[:,i], color='green',  linewidth=0.5,label='True Values')\n",
        "            ax.plot(self.predictions[:,i], color='blue',  linewidth=0.5,label='Predictions')\n",
        "            ax.plot(self.errors[:,i], color = 'red',  linewidth=0.5, label='Errors')\n",
        "            ax.legend()\n",
        "            \n",
        "        plt.show()\n",
        "\n",
        "    def get_roc_auc(self, plot=True, verbose=True):\n",
        "\n",
        "        # get the predicted errors of the anomaly points\n",
        "        indices = self.df[self.df['is_anomaly']==1].index >self.train_size + self.validationsize\n",
        "        true_anomaly_predicted_errors = self.errors[self.df[self.df['is_anomaly']==1].index[indices] - self.train_size - self.validationsize - self.window_width -1]\n",
        "        if len(true_anomaly_predicted_errors) == 0:\n",
        "            return np.nan\n",
        "        # sort them \n",
        "        true_anomaly_predicted_errors = np.sort(true_anomaly_predicted_errors,axis=0).reshape(-1)\n",
        "        true_anomaly_predicted_errors_extended = np.r_[np.linspace(0,true_anomaly_predicted_errors[0],40)[:-1],true_anomaly_predicted_errors]\n",
        "        true_anomaly_predicted_errors_extended = np.r_[true_anomaly_predicted_errors_extended, true_anomaly_predicted_errors_extended[-1] + np.mean(true_anomaly_predicted_errors_extended)]\n",
        "                # now iterate thru the predicted errors from small to big\n",
        "        # for each value look how much other points have equal or bigger error\n",
        "        FPR = [] # fp/n  https://en.wikipedia.org/wiki/Sensitivity_and_specificity\n",
        "        TPR = [] # tp/p\n",
        "        p = len(true_anomaly_predicted_errors)\n",
        "        Thresholds = []\n",
        "        for predictederror in true_anomaly_predicted_errors_extended:\n",
        "            threshold = predictederror\n",
        "            tp = len(true_anomaly_predicted_errors[true_anomaly_predicted_errors>= threshold])\n",
        "            fp = len(self.errors[self.errors>=threshold])-len(true_anomaly_predicted_errors[true_anomaly_predicted_errors>=threshold])\n",
        "            \n",
        "            fpr =fp/len(self.errors)\n",
        "            FPR.append(fpr)\n",
        "            TPR.append(tp/p)\n",
        "            if verbose:\n",
        "                print(\"Threshold: {0:25}  - FP: {1:4} - TP: {2:4} - FPR: {3:21} - TPR: {4:4}\".format(threshold,fp, tp, fpr, tp/p))\n",
        "\n",
        "        import matplotlib.pyplot as plt\n",
        "        if plot:\n",
        "            plt.figure()\n",
        "            plt.axis([0, 1, 0, 1])\n",
        "            plt.plot(FPR,TPR)\n",
        "            plt.show() \n",
        "\n",
        "        # This is the AUC\n",
        "        from sklearn.metrics import auc\n",
        "        print('AUC: ' ,auc(FPR,TPR)        )\n",
        "        return auc(FPR,TPR)\n",
        "\n",
        "# filters = [[8,8,8], [4,4,4], [4,8,16], [4,8,12], [16,32,48], [128,128,128],[64,64,64],[256,256,256],[128,256,512]]\n",
        "# kernelsizes = [2,3,4,6,8,16]\n",
        "# dense = [18,36,72,144]\n",
        "\n",
        "# best_auc = [0,0]\n",
        "# histories = []\n",
        "# for f in filters:\n",
        "#     for k in kernelsizes:\n",
        "#         for d in dense:\n",
        "\n",
        "#             cnn = CNN_Resnet_AnomalyDetection.from_DataFrame(df_synthetic,30,5,20,0.3,f,k,d)\n",
        "#             hist = cnn.fit()\n",
        "#             histories.append(((f,k,d), hist))\n",
        "#             # cnn.plot()\n",
        "#             auc = cnn.get_roc_auc(verbose=False,plot=False)\n",
        "#             print(' auc:', auc, ' - f:', f, ' - k:', k, ' - d:', d)\n",
        "#             if best_auc[1] < auc:\n",
        "#                 print('New best auc:', auc, ' - f:', f, ' - k:', k, ' - d:', d)\n",
        "#                 best_auc = [(f,k,d),auc]\n",
        "#             break\n",
        "#         break\n",
        "#     break\n",
        "# print(best_auc)"
      ],
      "execution_count": 0,
      "outputs": []
    },
    {
      "cell_type": "markdown",
      "metadata": {
        "id": "l-ws_nH32NVI",
        "colab_type": "text"
      },
      "source": [
        "## Evaluation"
      ]
    },
    {
      "cell_type": "markdown",
      "metadata": {
        "id": "TRSIoeqO2PGb",
        "colab_type": "text"
      },
      "source": [
        "### Mahalanobis"
      ]
    },
    {
      "cell_type": "code",
      "metadata": {
        "id": "oXKsdYLR3VUW",
        "colab_type": "code",
        "outputId": "293b5069-c300-4805-9d4d-43db9a76744a",
        "colab": {
          "base_uri": "https://localhost:8080/",
          "height": 105
        }
      },
      "source": [
        "import datetime\n",
        "startTime = datetime.datetime.now()\n",
        "cnn = CNN_Batch_AnomalyDetection.from_DataFrame(df_synthetic,30,5,20,0.3,[8,8,8],2,18, 'mahalanobis')\n",
        "hist = cnn.fit()\n",
        "# cnn.plot()\n",
        "auc = cnn.get_roc_auc(verbose=False,plot=False)\n",
        "endTime = datetime.datetime.now()\n",
        "diff = endTime - startTime\n",
        "print('Time: ',diff.seconds)\n",
        "#0.757626"
      ],
      "execution_count": 0,
      "outputs": [
        {
          "output_type": "stream",
          "text": [
            "/usr/local/lib/python3.6/dist-packages/pandas/core/ops/__init__.py:1115: FutureWarning: elementwise comparison failed; returning scalar instead, but in the future will perform elementwise comparison\n",
            "  result = method(y)\n"
          ],
          "name": "stderr"
        },
        {
          "output_type": "stream",
          "text": [
            "AUC:  0.8943627980693034\n",
            "Time:  36\n"
          ],
          "name": "stdout"
        }
      ]
    },
    {
      "cell_type": "code",
      "metadata": {
        "id": "1QF_PTAQBD8Y",
        "colab_type": "code",
        "outputId": "97c1ab64-54f8-46ae-9626-f24ed05ee30d",
        "colab": {
          "base_uri": "https://localhost:8080/",
          "height": 87
        }
      },
      "source": [
        "\n",
        "import datetime\n",
        "startTime = datetime.datetime.now()\n",
        "cnn = CNN_Batch_AnomalyDetection.from_file('drive/My Drive/MT/Experiments/Multivariate/NASA_Shuttle/40902.csv', None,30,9,20,0.3,[8,8,8],2,18, 'mahalanobis')\n",
        "hist = cnn.fit()\n",
        "# cnn.plot()\n",
        "auc = cnn.get_roc_auc(verbose=False,plot=False)\n",
        "endTime = datetime.datetime.now()\n",
        "diff = endTime - startTime\n",
        "print('Time: ',diff.seconds)\n",
        "#0.757626"
      ],
      "execution_count": 0,
      "outputs": [
        {
          "output_type": "stream",
          "text": [
            "WARNING:tensorflow:From /usr/local/lib/python3.6/dist-packages/keras/backend/tensorflow_backend.py:148: The name tf.placeholder_with_default is deprecated. Please use tf.compat.v1.placeholder_with_default instead.\n",
            "\n",
            "AUC:  0.47191968382218996\n",
            "Time:  84\n"
          ],
          "name": "stdout"
        }
      ]
    },
    {
      "cell_type": "markdown",
      "metadata": {
        "id": "_68oyXh63smW",
        "colab_type": "text"
      },
      "source": [
        "### Euclidean"
      ]
    },
    {
      "cell_type": "code",
      "metadata": {
        "id": "QSlR7Q9_3t44",
        "colab_type": "code",
        "outputId": "c2373fef-e4b4-4071-c51b-913549319749",
        "colab": {
          "base_uri": "https://localhost:8080/",
          "height": 105
        }
      },
      "source": [
        "import datetime\n",
        "startTime = datetime.datetime.now()\n",
        "cnn = CNN_Batch_AnomalyDetection.from_DataFrame(df_synthetic,30,5,20,0.3,[8,8,8],2,18, 'euclidean')\n",
        "hist = cnn.fit()\n",
        "# cnn.plot()\n",
        "auc = cnn.get_roc_auc(verbose=False,plot=False)\n",
        "endTime = datetime.datetime.now()\n",
        "diff = endTime - startTime\n",
        "print('Time: ',diff.seconds)\n",
        "#0.757626"
      ],
      "execution_count": 0,
      "outputs": [
        {
          "output_type": "stream",
          "text": [
            "/usr/local/lib/python3.6/dist-packages/pandas/core/ops/__init__.py:1115: FutureWarning: elementwise comparison failed; returning scalar instead, but in the future will perform elementwise comparison\n",
            "  result = method(y)\n"
          ],
          "name": "stderr"
        },
        {
          "output_type": "stream",
          "text": [
            "AUC:  0.7555399466897197\n",
            "Time:  36\n"
          ],
          "name": "stdout"
        }
      ]
    },
    {
      "cell_type": "code",
      "metadata": {
        "id": "ovUgTac2BN-5",
        "colab_type": "code",
        "outputId": "108d34d3-174b-44a1-dec8-c431733bc4db",
        "colab": {
          "base_uri": "https://localhost:8080/",
          "height": 52
        }
      },
      "source": [
        "\n",
        "import datetime\n",
        "startTime = datetime.datetime.now()\n",
        "cnn = CNN_Batch_AnomalyDetection.from_file('drive/My Drive/MT/Experiments/Multivariate/NASA_Shuttle/40902.csv', None,30,9,20,0.3,[8,8,8],2,18, 'euclidean')\n",
        "hist = cnn.fit()\n",
        "# cnn.plot()\n",
        "auc = cnn.get_roc_auc(verbose=False,plot=False)\n",
        "endTime = datetime.datetime.now()\n",
        "diff = endTime - startTime\n",
        "print('Time: ',diff.seconds)\n",
        "#0.757626"
      ],
      "execution_count": 0,
      "outputs": [
        {
          "output_type": "stream",
          "text": [
            "AUC:  0.47473441623186\n",
            "Time:  85\n"
          ],
          "name": "stdout"
        }
      ]
    },
    {
      "cell_type": "markdown",
      "metadata": {
        "id": "JzusEAx47BPq",
        "colab_type": "text"
      },
      "source": [
        "# Resnet"
      ]
    },
    {
      "cell_type": "code",
      "metadata": {
        "id": "n4ttY5es7CXR",
        "colab_type": "code",
        "colab": {}
      },
      "source": [
        "import scipy.linalg\n",
        "from scipy.spatial import distance\n",
        "import keras \n",
        "import warnings\n",
        "from sklearn.cluster import KMeans\n",
        "from statsmodels.tsa.ar_model import AR\n",
        "from sklearn.metrics import mean_squared_error\n",
        "from math import sqrt\n",
        "from pandas import read_csv\n",
        "import pandas as pd\n",
        "from pandas import DataFrame\n",
        "from pandas import concat\n",
        "import numpy as np \n",
        "from matplotlib import pyplot\n",
        "from xgboost import XGBRegressor\n",
        "from sklearn import preprocessing\n",
        "import sys\n",
        "from tensorflow import set_random_seed\n",
        "set_random_seed(42)\n",
        "from numpy.random import seed\n",
        "import numpy\n",
        "import matplotlib.pyplot as plt\n",
        "import pandas\n",
        "import math\n",
        "from keras.models import Sequential\n",
        "from keras.layers import Dense\n",
        "from keras.layers import LSTM\n",
        "from sklearn.preprocessing import MinMaxScaler\n",
        "from sklearn.metrics import mean_squared_error\n",
        "import numpy as np\n",
        "from keras.layers import Conv1D,MaxPooling1D,Flatten, Input, BatchNormalization, Activation\n",
        "seed(42)\n",
        "from keras import regularizers\n",
        "\n",
        "def warn(*args, **kwargs):\n",
        "    pass\n",
        "    \n",
        "class CNN_Resnet_AnomalyDetection:\n",
        "    @classmethod\n",
        "    def from_DataFrame(cls,dataframe,window_width, dimension, n_epochs, train_rate, n_filters, kernel_size, n_dense, distance_function) -> 'XGB_AnomalyDetection_ML':\n",
        "    \treturn cls(dataframe, window_width, dimension, n_epochs, train_rate, n_filters, kernel_size, n_dense, distance_function)\n",
        "\n",
        "    @classmethod\n",
        "    def from_file(cls, path, index_col, window_width, dimension,n_epochs, train_rate, n_filters, kernel_size, n_dense, distance_function) -> 'XGB_AnomalyDetection_ML':\n",
        "    \tdf = read_csv(path, header=0, index_col=index_col, parse_dates=True,squeeze=True)\n",
        "    \treturn cls(df, window_width, dimension, n_epochs, train_rate, n_filters, kernel_size, n_dense, distance_function)\n",
        "     \n",
        "    def __init__(self,df, window_width, dimension, n_epochs, train_rate, n_filters, kernel_size, n_dense, distance_function):\n",
        "        self.distance_function =  distance_function\n",
        "        self.dimension = dimension\n",
        "        self.n_epochs = n_epochs\n",
        "        self.window_width = window_width\n",
        "        \n",
        "        self.n_filters = n_filters\n",
        "        self.kernel_size = kernel_size\n",
        "        self.n_dense = n_dense\n",
        "\n",
        "        self.df = df\n",
        "        self.df = self.df.reset_index(drop=True)\n",
        "        self.df.rename(columns={'Target':'is_anomaly'}, inplace=True)\n",
        "        self.df.loc[self.df.is_anomaly == \"'Anomaly'\", 'is_anomaly'] = 1\n",
        "        self.df.loc[self.df.is_anomaly == \"'Normal'\", 'is_anomaly'] = 0\n",
        "\n",
        "        df_sensors = pd.DataFrame(self.df.iloc[:,:dimension].values)  \n",
        "        self.values = df_sensors\n",
        "        self.dataframe = concat([self.df.iloc[:,:-1].shift(1), self.df.iloc[:,:-1], self.df.iloc[:,-1]], axis=1)\n",
        "        self.dataframe.columns = np.r_[np.array(['V'+str(i)+'_t' for i in range(1,self.dimension+1)]),np.array(['V'+str(i)+'_t+1' for i in range(1,self.dimension+1)]),['is_anomaly']]\n",
        "\n",
        "        # self.dataframe = concat([self.values.shift(1), self.values], axis=1)\n",
        "        # self.dataframe.columns = ['t', 't+1']\n",
        "\n",
        "        self.train_size = int(len(self.values) * train_rate)  \n",
        "\n",
        "\n",
        "    def create_XY_lookback_dataset(self,dataset, look_back=1):\n",
        "        dataX, dataY = [], []\n",
        "        for i in range(len(dataset)-look_back-1):\n",
        "            a = dataset[i:(i+look_back),:self.dimension]\n",
        "            dataX.append(a)\n",
        "            dataY.append(dataset[i + look_back,:self.dimension].reshape(-1))\n",
        "        return numpy.array(dataX), numpy.array(dataY)\n",
        "    \n",
        "    def getWindowedVectors(self, X):\n",
        "        vectors = np.zeros((len(X) - self.window_width+1,self.window_width))\n",
        "        for i,_ in enumerate(X[:-self.window_width+1]):\n",
        "            vectors[i] = X[i:i+self.window_width]\n",
        "        return vectors\n",
        "\n",
        "    def __build_sets(self):\n",
        "\n",
        "        X = self.dataframe.iloc[:,:-1].values\n",
        "        self.train, self.test = X[1:self.train_size], X[self.train_size:]    \n",
        "        # print('Train.len:',len(self.train),' - Test.len:', len(self.test))\n",
        "\n",
        "        self.train_X, self.train_y = self.create_XY_lookback_dataset(self.train, self.window_width)\n",
        "        self.test_X, self.test_y = self.create_XY_lookback_dataset(self.test, self.window_width)\n",
        "        # print('TrainX.shape:',self.train_X.shape,' - TestX.shape:', self.test_X.shape,' - TrainY.shape:', self.train_y.shape,' - TestY.shape:', self.test_y.shape)\n",
        "\n",
        "        self.validationsize = int(self.train_X.shape[0] * 0.1)\n",
        "        self.val, self.test = self.test[:self.validationsize], self.test[self.validationsize:]\n",
        "        self.val_X, self.val_y= self.test_X[:self.validationsize], self.test_y[:self.validationsize]\n",
        "        self.test_X, self.test_y = self.test_X[self.validationsize:], self.test_y[self.validationsize:]\n",
        "\n",
        "    def standardize_dataframe(self):\n",
        "        X = self.dataframe.values\n",
        "        self.scalar = preprocessing.StandardScaler().fit(X)\n",
        "        X = self.scalar.transform(X)\n",
        "        self.dataframe = pd.DataFrame(X)\n",
        "\n",
        "    def inverse_standardize_dataframe(self):\n",
        "        X = self.dataframe.values\n",
        "        X = self.scalar.inverse_transform(X)\n",
        "        self.dataframe = pd.DataFrame(X)\n",
        "\n",
        "\n",
        "\n",
        "    def model_persistence(self, x):\n",
        "        return x\n",
        "        \n",
        "    def create_persistence(self):\n",
        "        rmse = sqrt(mean_squared_error(self.dataframe.iloc[self.train_size:,:self.dimension], self.dataframe.iloc[self.train_size:,self.dimension:-1]))\n",
        "        # print('Persistent Model RMSE: %.3f' % rmse)   \n",
        "\n",
        "    def fit(self, plot = False):\n",
        "        self.create_persistence()\n",
        "        self.standardize_dataframe()\n",
        "        self.__build_sets()\n",
        "                \n",
        "        self.compute_anomalyScores(plot = plot)\n",
        "        self.inverse_standardize_dataframe()\n",
        "\n",
        "        return self.history.history\n",
        "\n",
        "    def plotTraining(self):\n",
        "        history_dict = self.history.history\n",
        "        loss_values = history_dict['loss'][1:]\n",
        "        val_loss_values = history_dict['val_loss'][1:]\n",
        "        self.n_epochs = range(2, self.n_epochs + 1)\n",
        "        plt.plot(self.n_epochs, loss_values, 'bo', label='Training loss')\n",
        "        plt.plot(self.n_epochs, val_loss_values, 'b', label='Validation loss')\n",
        "        plt.title('Training and validation loss')\n",
        "        plt.xlabel('Epochs')\n",
        "        plt.ylabel('Loss')\n",
        "        plt.legend()\n",
        "        plt.show()\n",
        "\n",
        "    def compute_anomalyScores(self, plot = False):\n",
        "\n",
        "        # self.train_X = numpy.reshape(self.train_X, (self.train_X.shape[0],self.dimension,self.train_X.shape[1]))\n",
        "        # self.test_X = numpy.reshape(self.test_X, (self.test_X.shape[0],self.dimension, self.test_X.shape[1]))\n",
        "\n",
        "        from keras.layers import Conv1D,MaxPooling1D,Flatten\n",
        "\n",
        "        channel_pos = 'channels_first'\n",
        "        inp_shape = Input((self.window_width,self.dimension),name='input1')\n",
        "        x = Conv1D(self.n_filters[0], kernel_size=self.kernel_size, padding = 'same', input_shape=(self.window_width,self.dimension),data_format=channel_pos,name='conv2d_Prep')(inp_shape)\n",
        "        x = BatchNormalization(axis=1,name='batch_normalization_prep')(x)\n",
        "        x_a1 = Activation('relu',name='activation_prep')(x)\n",
        "        activated_x = x_a1\n",
        "\n",
        "        #     activated_x, x\n",
        "        nr = 1 *2 -1\n",
        "        x = Conv1D(self.n_filters[1], kernel_size=self.kernel_size, name = 'conv2d_'+str(nr), padding='same',data_format=channel_pos)(activated_x)\n",
        "        x = BatchNormalization(axis=1, name = 'batch_normalization_'+str(nr))(x)\n",
        "        x = Activation('relu',name = 'activation_'+str(nr))(x)\n",
        "        x = Conv1D(self.n_filters[2], kernel_size=self.kernel_size, name = 'conv2d_'+str(nr+1),padding = 'same',data_format=channel_pos)(x)\n",
        "        x = BatchNormalization(axis=1, name = 'batch_normalization_'+str(nr+1))(x)\n",
        "        x = keras.layers.add([x,activated_x],name='add_' + str(1))\n",
        "        activated_x = Activation('relu',name='activation_'+str(nr+1))(x)\n",
        "        activated_x = Flatten()(activated_x)\n",
        "        activated_x = Dense(self.n_dense)(activated_x)\n",
        "        output = Dense(self.dimension)(activated_x)\n",
        "\n",
        "        from keras.models import Model\n",
        "        self.model = Model(inp_shape,output )\n",
        "\n",
        "        self.model.compile(optimizer='adam', loss='mse')\n",
        "        self.history = self.model.fit(self.train_X, self.train_y,validation_data=(self.val_X,self.val_y), epochs=self.n_epochs, verbose=0)\n",
        "\n",
        "        if plot:\n",
        "            self.plotTraining()\n",
        "        self.predictions = self.model.predict(self.test_X)\n",
        "        self.error_vect = (self.test_y.reshape(self.predictions.shape) - self.predictions).reshape(self.test_y.shape[0],-1)\n",
        "        self.compute_errors(self.distance_function)\n",
        "\n",
        "    def compute_errors(self, distance_function):\n",
        "        if distance_function == 'mahalanobis':\n",
        "            inv_cov = scipy.linalg.inv(np.cov(self.error_vect.T))\n",
        "            mean = np.mean(self.error_vect,axis=0)\n",
        "            self.errors = np.zeros((len(self.error_vect),1))\n",
        "            for i,error in enumerate(self.error_vect):\n",
        "                self.errors[i] = distance.mahalanobis(error,mean,inv_cov)\n",
        "        elif distance_function == 'euclidean':\n",
        "            inv_cov = scipy.linalg.inv(np.cov(self.error_vect.T))\n",
        "            mean = np.mean(self.error_vect,axis=0)\n",
        "            self.errors = np.zeros((len(self.error_vect),1))\n",
        "            for i,error in enumerate(self.error_vect):\n",
        "                self.errors[i] = distance.euclidean(error,mean)\n",
        "\n",
        "    def compute_Errors_RMSE(self):\n",
        "\n",
        "        rmse = sqrt(mean_squared_error(self.test_y.reshape(self.predictions.shape), self.predictions))\n",
        "        self.errors = np.absolute(self.test_y.reshape(self.predictions.shape) - np.array(self.predictions))\n",
        "        # print('Prediction Test RMS        E: %.3f' % rmse)       \n",
        "   \n",
        "\n",
        "    def plot(self):\n",
        "        fig, axes = plt.subplots(nrows=3, ncols=3, dpi=120, figsize=(50,5))\n",
        "        for i, ax in enumerate(axes.flatten()):\n",
        "            data = self.df[self.df.columns[i]].iloc[:200]\n",
        "            ax.plot(self.test_y[:,i], color='green',  linewidth=0.5,label='True Values')\n",
        "            ax.plot(self.predictions[:,i], color='blue',  linewidth=0.5,label='Predictions')\n",
        "            ax.plot(self.errors[:,i], color = 'red',  linewidth=0.5, label='Errors')\n",
        "            ax.legend()\n",
        "            \n",
        "        plt.show()\n",
        "\n",
        "    def get_roc_auc(self, plot=True, verbose=True):\n",
        "        # get the predicted errors of the anomaly points\n",
        "        indices = self.df[self.df['is_anomaly']==1].index >self.train_size + self.validationsize\n",
        "        true_anomaly_predicted_errors = self.errors[self.df[self.df['is_anomaly']==1].index[indices] - self.train_size - self.validationsize - self.window_width -1]\n",
        "        if len(true_anomaly_predicted_errors) == 0:\n",
        "            return np.nan\n",
        "        # sort them \n",
        "        true_anomaly_predicted_errors = np.sort(true_anomaly_predicted_errors,axis=0).reshape(-1)\n",
        "        true_anomaly_predicted_errors_extended = np.r_[np.linspace(0,true_anomaly_predicted_errors[0],40)[:-1],true_anomaly_predicted_errors]\n",
        "        true_anomaly_predicted_errors_extended = np.r_[true_anomaly_predicted_errors_extended, true_anomaly_predicted_errors_extended[-1] + np.mean(true_anomaly_predicted_errors_extended)]\n",
        "                # now iterate thru the predicted errors from small to big\n",
        "        # for each value look how much other points have equal or bigger error\n",
        "        FPR = [] # fp/n  https://en.wikipedia.org/wiki/Sensitivity_and_specificity\n",
        "        TPR = [] # tp/p\n",
        "        p = len(true_anomaly_predicted_errors)\n",
        "        Thresholds = []\n",
        "        for predictederror in true_anomaly_predicted_errors_extended:\n",
        "            threshold = predictederror\n",
        "            tp = len(true_anomaly_predicted_errors[true_anomaly_predicted_errors>= threshold])\n",
        "            fp = len(self.errors[self.errors>=threshold])-len(true_anomaly_predicted_errors[true_anomaly_predicted_errors>=threshold])\n",
        "            \n",
        "            fpr =fp/len(self.errors)\n",
        "            FPR.append(fpr)\n",
        "            TPR.append(tp/p)\n",
        "            if verbose:\n",
        "                print(\"Threshold: {0:25}  - FP: {1:4} - TP: {2:4} - FPR: {3:21} - TPR: {4:4}\".format(threshold,fp, tp, fpr, tp/p))\n",
        "\n",
        "        import matplotlib.pyplot as plt\n",
        "        if plot:\n",
        "            plt.figure()\n",
        "            plt.axis([0, 1, 0, 1])\n",
        "            plt.plot(FPR,TPR)\n",
        "            plt.show() \n",
        "\n",
        "        # This is the AUC\n",
        "        from sklearn.metrics import auc\n",
        "        print('AUC: ' ,auc(FPR,TPR)        )\n",
        "        return auc(FPR,TPR)\n",
        "\n",
        "# filters = [[8,8,8], [4,4,4], [4,8,16], [4,8,12], [16,32,48], [128,128,128],[64,64,64],[256,256,256],[128,256,512]]\n",
        "# kernelsizes = [2,3,4,6,8,16]\n",
        "# dense = [18,36,72,144]\n",
        "\n",
        "# best_auc = [0,0]\n",
        "# histories = []\n",
        "# for f in filters:\n",
        "#     for k in kernelsizes:\n",
        "#         for d in dense:\n",
        "\n",
        "#             cnn = CNN_Resnet_AnomalyDetection.from_DataFrame(df_synthetic,30,5,20,0.3,f,k,d)\n",
        "#             hist = cnn.fit()\n",
        "#             histories.append(((f,k,d), hist))\n",
        "#             # cnn.plot()\n",
        "#             auc = cnn.get_roc_auc(verbose=False,plot=False)\n",
        "#             print(' auc:', auc, ' - f:', f, ' - k:', k, ' - d:', d)\n",
        "#             if best_auc[1] < auc:\n",
        "#                 print('New best auc:', auc, ' - f:', f, ' - k:', k, ' - d:', d)\n",
        "#                 best_auc = [(f,k,d),auc]\n",
        "#             break\n",
        "#         break\n",
        "#     break\n",
        "# print(best_auc)"
      ],
      "execution_count": 0,
      "outputs": []
    },
    {
      "cell_type": "markdown",
      "metadata": {
        "id": "taiAW0Bk-iVP",
        "colab_type": "text"
      },
      "source": [
        "## Evaluation\n"
      ]
    },
    {
      "cell_type": "markdown",
      "metadata": {
        "id": "a2j6BPtY1b1-",
        "colab_type": "text"
      },
      "source": [
        "### Mahalanobis"
      ]
    },
    {
      "cell_type": "code",
      "metadata": {
        "id": "SAcehPYXCT1e",
        "colab_type": "code",
        "outputId": "322a7677-e7a5-4994-f852-1a4e553af23e",
        "colab": {
          "base_uri": "https://localhost:8080/",
          "height": 383
        }
      },
      "source": [
        "import datetime\n",
        "startTime = datetime.datetime.now()\n",
        "cnn = CNN_Resnet_AnomalyDetection.from_DataFrame(df_synthetic,180,5,60,0.3,[3,3,3],1,18,'mahalanobis')\n",
        "hist = cnn.fit(plot=True)\n",
        "histories.append(((f,k,d), hist))\n",
        "auc = cnn.get_roc_auc(verbose=False,plot=False)\n",
        "endTime = datetime.datetime.now()\n",
        "diff = endTime - startTime\n",
        "print('Time: ',diff.seconds)\n",
        "#0.757626"
      ],
      "execution_count": 0,
      "outputs": [
        {
          "output_type": "stream",
          "text": [
            "/usr/local/lib/python3.6/dist-packages/pandas/core/ops/__init__.py:1115: FutureWarning: elementwise comparison failed; returning scalar instead, but in the future will perform elementwise comparison\n",
            "  result = method(y)\n"
          ],
          "name": "stderr"
        },
        {
          "output_type": "display_data",
          "data": {
            "image/png": "[encoded data removed]",
            "text/plain": [
              "<Figure size 432x288 with 1 Axes>"
            ]
          },
          "metadata": {
            "tags": []
          }
        },
        {
          "output_type": "stream",
          "text": [
            "AUC:  0.9269403215831787\n",
            "Time:  46\n"
          ],
          "name": "stdout"
        }
      ]
    },
    {
      "cell_type": "code",
      "metadata": {
        "id": "pGIn4T1cBSwy",
        "colab_type": "code",
        "outputId": "af98b88d-ac3e-462a-fe3e-743e05b7f995",
        "colab": {
          "base_uri": "https://localhost:8080/",
          "height": 330
        }
      },
      "source": [
        "import datetime\n",
        "startTime = datetime.datetime.now()\n",
        "cnn = CNN_Resnet_AnomalyDetection.from_file('drive/My Drive/MT/Experiments/Multivariate/NASA_Shuttle/40902.csv', None,180,9,60,0.3,[3,3,3],1,18,'mahalanobis')\n",
        "hist = cnn.fit(plot=True)\n",
        "# histories.append(((f,k,d), hist))\n",
        "auc = cnn.get_roc_auc(verbose=False,plot=False)\n",
        "endTime = datetime.datetime.now()\n",
        "diff = endTime - startTime\n",
        "print('Time: ',diff.seconds)\n"
      ],
      "execution_count": 0,
      "outputs": [
        {
          "output_type": "display_data",
          "data": {
            "image/png": "[encoded data removed]",
            "text/plain": [
              "<Figure size 432x288 with 1 Axes>"
            ]
          },
          "metadata": {
            "tags": []
          }
        },
        {
          "output_type": "stream",
          "text": [
            "AUC:  0.4732414147439452\n",
            "Time:  314\n"
          ],
          "name": "stdout"
        }
      ]
    },
    {
      "cell_type": "markdown",
      "metadata": {
        "id": "Ii3VOu4O1f2i",
        "colab_type": "text"
      },
      "source": [
        "### Euclidean"
      ]
    },
    {
      "cell_type": "code",
      "metadata": {
        "id": "nBTh32Mp1hR0",
        "colab_type": "code",
        "outputId": "02065907-119b-4702-8e8b-1fe5bc995493",
        "colab": {
          "base_uri": "https://localhost:8080/",
          "height": 383
        }
      },
      "source": [
        "import datetime\n",
        "startTime = datetime.datetime.now()\n",
        "cnn = CNN_Resnet_AnomalyDetection.from_DataFrame(df_synthetic,180,5,60,0.3,[3,3,3],1,18,'euclidean')\n",
        "hist = cnn.fit(plot=True)\n",
        "histories.append(((f,k,d), hist))\n",
        "auc = cnn.get_roc_auc(verbose=False,plot=False)\n",
        "endTime = datetime.datetime.now()\n",
        "diff = endTime - startTime\n",
        "print('Time: ',diff.seconds)\n",
        "#0.757626"
      ],
      "execution_count": 0,
      "outputs": [
        {
          "output_type": "stream",
          "text": [
            "/usr/local/lib/python3.6/dist-packages/pandas/core/ops/__init__.py:1115: FutureWarning: elementwise comparison failed; returning scalar instead, but in the future will perform elementwise comparison\n",
            "  result = method(y)\n"
          ],
          "name": "stderr"
        },
        {
          "output_type": "display_data",
          "data": {
            "image/png": "[encoded data removed]",
            "text/plain": [
              "<Figure size 432x288 with 1 Axes>"
            ]
          },
          "metadata": {
            "tags": []
          }
        },
        {
          "output_type": "stream",
          "text": [
            "AUC:  0.7592029993815709\n",
            "Time:  47\n"
          ],
          "name": "stdout"
        }
      ]
    },
    {
      "cell_type": "code",
      "metadata": {
        "id": "UrmfXw2YBd3o",
        "colab_type": "code",
        "outputId": "2e81e3fc-9dea-49b7-e821-2620cd3f64a7",
        "colab": {
          "base_uri": "https://localhost:8080/",
          "height": 330
        }
      },
      "source": [
        "import datetime\n",
        "startTime = datetime.datetime.now()\n",
        "cnn = CNN_Resnet_AnomalyDetection.from_file('drive/My Drive/MT/Experiments/Multivariate/NASA_Shuttle/40902.csv', None,180,9,60,0.3,[3,3,3],1,18,'euclidean')\n",
        "hist = cnn.fit(plot=True)\n",
        "# histories.append(((f,k,d), hist))\n",
        "auc = cnn.get_roc_auc(verbose=False,plot=False)\n",
        "endTime = datetime.datetime.now()\n",
        "diff = endTime - startTime\n",
        "print('Time: ',diff.seconds)\n"
      ],
      "execution_count": 0,
      "outputs": [
        {
          "output_type": "display_data",
          "data": {
            "image/png": "[encoded data removed]",
            "text/plain": [
              "<Figure size 432x288 with 1 Axes>"
            ]
          },
          "metadata": {
            "tags": []
          }
        },
        {
          "output_type": "stream",
          "text": [
            "AUC:  0.4749194173505512\n",
            "Time:  318\n"
          ],
          "name": "stdout"
        }
      ]
    },
    {
      "cell_type": "code",
      "metadata": {
        "id": "v8Ot34N_-jDv",
        "colab_type": "code",
        "outputId": "2e07a5df-9c59-49e1-c373-a06ef02e98fd",
        "colab": {
          "base_uri": "https://localhost:8080/",
          "height": 383
        }
      },
      "source": [
        "import datetime\n",
        "startTime = datetime.datetime.now()\n",
        "cnn = CNN_Resnet_AnomalyDetection.from_DataFrame(df_synthetic,100,5,50,0.3,[4,4,4],1,18)\n",
        "hist = cnn.fit(plot=True)\n",
        "histories.append(((f,k,d), hist))\n",
        "auc = cnn.get_roc_auc(verbose=False,plot=False)\n",
        "endTime = datetime.datetime.now()\n",
        "diff = endTime - startTime\n",
        "print('Time: ',diff.seconds)\n"
      ],
      "execution_count": 0,
      "outputs": [
        {
          "output_type": "stream",
          "text": [
            "/usr/local/lib/python3.6/dist-packages/pandas/core/ops/__init__.py:1115: FutureWarning: elementwise comparison failed; returning scalar instead, but in the future will perform elementwise comparison\n",
            "  result = method(y)\n"
          ],
          "name": "stderr"
        },
        {
          "output_type": "display_data",
          "data": {
            "image/png": "[encoded data removed]",
            "text/plain": [
              "<Figure size 432x288 with 1 Axes>"
            ]
          },
          "metadata": {
            "tags": []
          }
        },
        {
          "output_type": "stream",
          "text": [
            "AUC:  0.7602232142857143\n",
            "Time:  26\n"
          ],
          "name": "stdout"
        }
      ]
    },
    {
      "cell_type": "markdown",
      "metadata": {
        "id": "jHpVDe_dDGGy",
        "colab_type": "text"
      },
      "source": [
        "# Wavenet"
      ]
    },
    {
      "cell_type": "code",
      "metadata": {
        "id": "66HIkWvPDIjG",
        "colab_type": "code",
        "colab": {}
      },
      "source": [
        "import scipy.linalg\n",
        "from scipy.spatial import distance\n",
        "import warnings\n",
        "from sklearn.cluster import KMeans\n",
        "from statsmodels.tsa.ar_model import AR\n",
        "from sklearn.metrics import mean_squared_error\n",
        "from math import sqrt\n",
        "from pandas import read_csv\n",
        "import pandas as pd\n",
        "from pandas import DataFrame\n",
        "from pandas import concat\n",
        "import numpy as np \n",
        "from matplotlib import pyplot\n",
        "from xgboost import XGBRegressor\n",
        "from sklearn import preprocessing\n",
        "import sys\n",
        "from tensorflow import set_random_seed\n",
        "set_random_seed(42)\n",
        "from numpy.random import seed\n",
        "import numpy\n",
        "import matplotlib.pyplot as plt\n",
        "import pandas\n",
        "import math\n",
        "from keras.models import Sequential\n",
        "from keras.layers import Dense\n",
        "from keras.layers import LSTM\n",
        "from sklearn.preprocessing import MinMaxScaler\n",
        "from sklearn.metrics import mean_squared_error\n",
        "import numpy as np\n",
        "from keras.layers import Conv1D,MaxPooling1D,Flatten\n",
        "seed(42)\n",
        "from keras import regularizers\n",
        "\n",
        "def warn(*args, **kwargs):\n",
        "    pass\n",
        "    \n",
        "class WaveNet_AnomalyDetection:\n",
        "    @classmethod\n",
        "    def from_DataFrame(cls,dataframe,window_width, dimension, n_epochs, train_rate, n_filters, kernel_size, n_dense, distance_function) -> 'XGB_AnomalyDetection_ML':\n",
        "    \treturn cls(dataframe, window_width, dimension, n_epochs, train_rate, n_filters, kernel_size, n_dense, distance_function)\n",
        "\n",
        "    @classmethod\n",
        "    def from_file(cls, path, index_col, window_width, dimension,n_epochs, train_rate, n_filters, kernel_size, n_dense, distance_function) -> 'XGB_AnomalyDetection_ML':\n",
        "    \tdf = read_csv(path, header=0, index_col=index_col, parse_dates=True,squeeze=True)\n",
        "    \treturn cls(df, window_width, dimension, n_epochs, train_rate, n_filters, kernel_size, n_dense, distance_function)\n",
        "     \n",
        "    def __init__(self,df, window_width, dimension, n_epochs, train_rate, n_filters, kernel_size, n_dense, distance_function):\n",
        "\n",
        "        self.distance_function = distance_function\n",
        "        self.dimension = dimension\n",
        "        self.n_epochs = n_epochs\n",
        "        self.window_width = window_width\n",
        "        \n",
        "        self.n_filters = n_filters\n",
        "        self.kernel_size = kernel_size\n",
        "        self.n_dense = n_dense\n",
        "\n",
        "        self.df = df\n",
        "        self.df = self.df.reset_index(drop=True)\n",
        "        self.df.rename(columns={'Target':'is_anomaly'}, inplace=True)\n",
        "        self.df.loc[self.df.is_anomaly == \"'Anomaly'\", 'is_anomaly'] = 1\n",
        "        self.df.loc[self.df.is_anomaly == \"'Normal'\", 'is_anomaly'] = 0\n",
        "\n",
        "        df_sensors = pd.DataFrame(self.df.iloc[:,:dimension].values)  \n",
        "        self.values = df_sensors\n",
        "        self.dataframe = concat([self.df.iloc[:,:-1].shift(1), self.df.iloc[:,:-1], self.df.iloc[:,-1]], axis=1)\n",
        "        self.dataframe.columns = np.r_[np.array(['V'+str(i)+'_t' for i in range(1,self.dimension+1)]),np.array(['V'+str(i)+'_t+1' for i in range(1,self.dimension+1)]),['is_anomaly']]\n",
        "\n",
        "        # self.dataframe = concat([self.values.shift(1), self.values], axis=1)\n",
        "        # self.dataframe.columns = ['t', 't+1']\n",
        "\n",
        "        self.train_size = int(len(self.values) * train_rate)  \n",
        "\n",
        "\n",
        "    def create_XY_lookback_dataset(self,dataset, look_back=1):\n",
        "        dataX, dataY = [], []\n",
        "        for i in range(len(dataset)-look_back-1):\n",
        "            a = dataset[i:(i+look_back),:self.dimension]\n",
        "            dataX.append(a)\n",
        "            dataY.append(dataset[i + look_back,:self.dimension].reshape(-1))\n",
        "        return numpy.array(dataX), numpy.array(dataY)\n",
        "    \n",
        "    def getWindowedVectors(self, X):\n",
        "        vectors = np.zeros((len(X) - self.window_width+1,self.window_width))\n",
        "        for i,_ in enumerate(X[:-self.window_width+1]):\n",
        "            vectors[i] = X[i:i+self.window_width]\n",
        "        return vectors\n",
        "\n",
        "    def __build_sets(self):\n",
        "\n",
        "        X = self.dataframe.iloc[:,:-1].values\n",
        "        self.train, self.test = X[1:self.train_size], X[self.train_size:]    \n",
        "        # print('Train.len:',len(self.train),' - Test.len:', len(self.test))\n",
        "\n",
        "        self.train_X, self.train_y = self.create_XY_lookback_dataset(self.train, self.window_width)\n",
        "        self.test_X, self.test_y = self.create_XY_lookback_dataset(self.test, self.window_width)\n",
        "        # print('TrainX.shape:',self.train_X.shape,' - TestX.shape:', self.test_X.shape,' - TrainY.shape:', self.train_y.shape,' - TestY.shape:', self.test_y.shape)\n",
        "\n",
        "        self.validationsize = int(self.train_X.shape[0] * 0.1)\n",
        "        self.val, self.test = self.test[:self.validationsize], self.test[self.validationsize:]\n",
        "        self.val_X, self.val_y= self.test_X[:self.validationsize], self.test_y[:self.validationsize]\n",
        "        self.test_X, self.test_y = self.test_X[self.validationsize:], self.test_y[self.validationsize:]\n",
        "\n",
        "    def standardize_dataframe(self):\n",
        "        X = self.dataframe.values\n",
        "        self.scalar = preprocessing.StandardScaler().fit(X)\n",
        "        X = self.scalar.transform(X)\n",
        "        self.dataframe = pd.DataFrame(X)\n",
        "\n",
        "    def inverse_standardize_dataframe(self):\n",
        "        X = self.dataframe.values\n",
        "        X = self.scalar.inverse_transform(X)\n",
        "        self.dataframe = pd.DataFrame(X)\n",
        "\n",
        "\n",
        "\n",
        "    def model_persistence(self, x):\n",
        "        return x\n",
        "        \n",
        "    def create_persistence(self):\n",
        "        rmse = sqrt(mean_squared_error(self.dataframe.iloc[self.train_size:,:self.dimension], self.dataframe.iloc[self.train_size:,self.dimension:-1]))\n",
        "        # print('Persistent Model RMSE: %.3f' % rmse)   \n",
        "\n",
        "    def fit(self):\n",
        "        self.create_persistence()\n",
        "        self.standardize_dataframe()\n",
        "        self.__build_sets()\n",
        "                \n",
        "        self.compute_anomalyScores()\n",
        "        self.inverse_standardize_dataframe()\n",
        "\n",
        "        return self.history.history\n",
        "\n",
        "    def plotTraining(self):\n",
        "        history_dict = self.history.history\n",
        "        loss_values = history_dict['loss'][1:]\n",
        "        val_loss_values = history_dict['val_loss'][1:]\n",
        "        self.n_epochs = range(2, self.n_epochs + 1)\n",
        "        plt.plot(self.n_epochs, loss_values, 'bo', label='Training loss')\n",
        "        plt.plot(self.n_epochs, val_loss_values, 'b', label='Validation loss')\n",
        "        plt.title('Training and validation loss')\n",
        "        plt.xlabel('Epochs')\n",
        "        plt.ylabel('Loss')\n",
        "        plt.legend()\n",
        "        plt.show()\n",
        "\n",
        "    def compute_anomalyScores(self):\n",
        "\n",
        "        # self.train_X = numpy.reshape(self.train_X, (self.train_X.shape[0],self.dimension,self.train_X.shape[1]))\n",
        "        # self.test_X = numpy.reshape(self.test_X, (self.test_X.shape[0],self.dimension, self.test_X.shape[1]))\n",
        "\n",
        "        from keras.layers import Conv1D,MaxPooling1D,Flatten\n",
        "        self.model = Sequential()\n",
        "\n",
        "        self.model.add(Conv1D(filters=self.n_filters[0], kernel_size=self.kernel_size, activation='relu', input_shape=(self.window_width,self.dimension ),data_format='channels_first', padding='same', dilation_rate=1))\n",
        "        self.model.add(MaxPooling1D(pool_size=2))\n",
        "        self.model.add(Conv1D(filters=self.n_filters[1], kernel_size=self.kernel_size, activation='relu',data_format='channels_first', padding='same', dilation_rate=2))\n",
        "        self.model.add(MaxPooling1D(pool_size=2))\n",
        "        self.model.add(Conv1D(filters=self.n_filters[2], kernel_size=self.kernel_size, activation='relu',data_format='channels_first', padding='same', dilation_rate = 4))\n",
        "        self.model.add(MaxPooling1D(pool_size=2))\n",
        "        self.model.add(Conv1D(filters=self.n_filters[3], kernel_size=self.kernel_size, activation='relu',data_format='channels_first', padding='same', dilation_rate = 8))\n",
        "        self.model.add(MaxPooling1D(pool_size=2))\n",
        "\n",
        "        self.model.add(Flatten())\n",
        "        self.model.add(Dense(self.n_dense, activation='relu'))\n",
        "        self.model.add(Dense(self.dimension))\n",
        "        self.model.compile(optimizer='adam', loss='mse')\n",
        "        self.history = self.model.fit(self.train_X, self.train_y,validation_data=(self.val_X,self.val_y), epochs=self.n_epochs, verbose=0)\n",
        "\n",
        "        # self.plotTraining()\n",
        "        self.predictions = self.model.predict(self.test_X)\n",
        "        self.error_vect = (self.test_y.reshape(self.predictions.shape) - self.predictions).reshape(self.test_y.shape[0],-1)\n",
        "        self.compute_errors(self.distance_function)\n",
        "\n",
        "\n",
        "    def compute_Errors_RMSE(self):\n",
        "\n",
        "        rmse = sqrt(mean_squared_error(self.test_y.reshape(self.predictions.shape), self.predictions))\n",
        "        self.errors = np.absolute(self.test_y.reshape(self.predictions.shape) - np.array(self.predictions))\n",
        "        # print('Prediction Test RMS        E: %.3f' % rmse)       \n",
        "   \n",
        "\n",
        "    def plot(self):\n",
        "        fig, axes = plt.subplots(nrows=3, ncols=3, dpi=120, figsize=(50,5))\n",
        "        for i, ax in enumerate(axes.flatten()):\n",
        "            data = self.df[self.df.columns[i]].iloc[:200]\n",
        "            ax.plot(self.test_y[:,i], color='green',  linewidth=0.5,label='True Values')\n",
        "            ax.plot(self.predictions[:,i], color='blue',  linewidth=0.5,label='Predictions')\n",
        "            ax.plot(self.errors[:,i], color = 'red',  linewidth=0.5, label='Errors')\n",
        "            ax.legend()\n",
        "            \n",
        "        plt.show()\n",
        "\n",
        "    def compute_errors(self, distance_function):\n",
        "        if distance_function == 'mahalanobis':\n",
        "            inv_cov = scipy.linalg.inv(np.cov(self.error_vect.T))\n",
        "            mean = np.mean(self.error_vect,axis=0)\n",
        "            self.errors = np.zeros((len(self.error_vect),1))\n",
        "            for i,error in enumerate(self.error_vect):\n",
        "                self.errors[i] = distance.mahalanobis(error,mean,inv_cov)\n",
        "        elif distance_function == 'euclidean':\n",
        "            inv_cov = scipy.linalg.inv(np.cov(self.error_vect.T))\n",
        "            mean = np.mean(self.error_vect,axis=0)\n",
        "            self.errors = np.zeros((len(self.error_vect),1))\n",
        "            for i,error in enumerate(self.error_vect):\n",
        "                self.errors[i] = distance.euclidean(error,mean)\n",
        "\n",
        "    def get_roc_auc(self, plot=True, verbose=True):\n",
        "        # get the predicted errors of the anomaly points\n",
        "        indices = self.df[self.df['is_anomaly']==1].index >self.train_size + self.validationsize\n",
        "        true_anomaly_predicted_errors = self.errors[self.df[self.df['is_anomaly']==1].index[indices] - self.train_size - self.validationsize - self.window_width -1]\n",
        "        if len(true_anomaly_predicted_errors) == 0:\n",
        "            return np.nan\n",
        "        # sort them \n",
        "        true_anomaly_predicted_errors = np.sort(true_anomaly_predicted_errors,axis=0).reshape(-1)\n",
        "        true_anomaly_predicted_errors_extended = np.r_[np.linspace(0,true_anomaly_predicted_errors[0],40)[:-1],true_anomaly_predicted_errors]\n",
        "        true_anomaly_predicted_errors_extended = np.r_[true_anomaly_predicted_errors_extended, true_anomaly_predicted_errors_extended[-1] + np.mean(true_anomaly_predicted_errors_extended)]\n",
        "                # now iterate thru the predicted errors from small to big\n",
        "        # for each value look how much other points have equal or bigger error\n",
        "        FPR = [] # fp/n  https://en.wikipedia.org/wiki/Sensitivity_and_specificity\n",
        "        TPR = [] # tp/p\n",
        "        p = len(true_anomaly_predicted_errors)\n",
        "        Thresholds = []\n",
        "        for predictederror in true_anomaly_predicted_errors_extended:\n",
        "            threshold = predictederror\n",
        "            tp = len(true_anomaly_predicted_errors[true_anomaly_predicted_errors>= threshold])\n",
        "            fp = len(self.errors[self.errors>=threshold])-len(true_anomaly_predicted_errors[true_anomaly_predicted_errors>=threshold])\n",
        "            \n",
        "            fpr =fp/len(self.errors)\n",
        "            FPR.append(fpr)\n",
        "            TPR.append(tp/p)\n",
        "            if verbose:\n",
        "                print(\"Threshold: {0:25}  - FP: {1:4} - TP: {2:4} - FPR: {3:21} - TPR: {4:4}\".format(threshold,fp, tp, fpr, tp/p))\n",
        "\n",
        "        import matplotlib.pyplot as plt\n",
        "        if plot:\n",
        "            plt.figure()\n",
        "            plt.axis([0, 1, 0, 1])\n",
        "            plt.plot(FPR,TPR)\n",
        "            plt.show() \n",
        "\n",
        "        # This is the AUC\n",
        "        from sklearn.metrics import auc\n",
        "        print('AUC: ' ,auc(FPR,TPR)        )\n",
        "        return auc(FPR,TPR)\n",
        "\n",
        "# filters = [[8,8,8,8], [4,4,4,4], [4,8,16], [4,8,12], [16,32,48], [128,128,128],[64,64,64],[256,256,256],[128,256,512]]\n",
        "# kernelsizes = [2,3,4,6,8,16]\n",
        "# dense = [18,36,72,144]\n",
        "\n",
        "# best_auc = [0,0]\n",
        "# histories = []\n",
        "# for f in filters:\n",
        "#     for k in kernelsizes:\n",
        "#         for d in dense:\n",
        "\n",
        "#             cnn = WaveNet_AnomalyDetection.from_DataFrame(df_synthetic,30,5,20,0.3,f,k,d)\n",
        "#             hist = cnn.fit()\n",
        "#             histories.append(((f,k,d), hist))\n",
        "#             # cnn.plot()\n",
        "#             auc = cnn.get_roc_auc(verbose=False,plot=False)\n",
        "#             print(' auc:', auc, ' - f:', f, ' - k:', k, ' - d:', d)\n",
        "#             if best_auc[1] < auc:\n",
        "#                 print('New best auc:', auc, ' - f:', f, ' - k:', k, ' - d:', d)\n",
        "#                 best_auc = [(f,k,d),auc]\n",
        "#             break\n",
        "#         break\n",
        "#     break\n",
        "\n",
        "# print(best_auc)"
      ],
      "execution_count": 0,
      "outputs": []
    },
    {
      "cell_type": "markdown",
      "metadata": {
        "id": "aq1_t3wttetJ",
        "colab_type": "text"
      },
      "source": [
        "## Evaluation "
      ]
    },
    {
      "cell_type": "markdown",
      "metadata": {
        "id": "ecn1JaLvtgls",
        "colab_type": "text"
      },
      "source": [
        "### Mahalanobis"
      ]
    },
    {
      "cell_type": "code",
      "metadata": {
        "id": "2tTJITJCtjOH",
        "colab_type": "code",
        "outputId": "e529d60f-e485-413b-f4b9-065345d7d77f",
        "colab": {
          "base_uri": "https://localhost:8080/",
          "height": 139
        }
      },
      "source": [
        "import datetime\n",
        "startTime = datetime.datetime.now()\n",
        "import glob\n",
        "\n",
        "cnn = WaveNet_AnomalyDetection.from_DataFrame(df_synthetic,30,5,20,0.3,[8,8,8,8],2,18, 'mahalanobis')\n",
        "cnn.fit()\n",
        "# cnn.plot()\n",
        "auc = cnn.get_roc_auc(verbose=False,plot=False)\n",
        "\n",
        "endTime = datetime.datetime.now()\n",
        "diff = endTime - startTime\n",
        "print('Time: ',diff.seconds)"
      ],
      "execution_count": 0,
      "outputs": [
        {
          "output_type": "stream",
          "text": [
            "WARNING:tensorflow:From /usr/local/lib/python3.6/dist-packages/keras/backend/tensorflow_backend.py:4267: The name tf.nn.max_pool is deprecated. Please use tf.nn.max_pool2d instead.\n",
            "\n"
          ],
          "name": "stdout"
        },
        {
          "output_type": "stream",
          "text": [
            "/usr/local/lib/python3.6/dist-packages/pandas/core/ops/__init__.py:1115: FutureWarning: elementwise comparison failed; returning scalar instead, but in the future will perform elementwise comparison\n",
            "  result = method(y)\n"
          ],
          "name": "stderr"
        },
        {
          "output_type": "stream",
          "text": [
            "AUC:  0.933632303148188\n",
            "Time:  29\n"
          ],
          "name": "stdout"
        }
      ]
    },
    {
      "cell_type": "code",
      "metadata": {
        "id": "iIvSJywNFNOb",
        "colab_type": "code",
        "outputId": "deed9149-bf0e-4f2c-acbc-d93a649f3edc",
        "colab": {
          "base_uri": "https://localhost:8080/",
          "height": 52
        }
      },
      "source": [
        "import datetime\n",
        "startTime = datetime.datetime.now()\n",
        "import glob\n",
        "\n",
        "cnn = WaveNet_AnomalyDetection.from_file('drive/My Drive/MT/Experiments/Multivariate/NASA_Shuttle/40902.csv', None,30,9,20,0.3,[8,8,8,8],2,18, 'mahalanobis')\n",
        "cnn.fit()\n",
        "# cnn.plot()\n",
        "auc = cnn.get_roc_auc(verbose=False,plot=False)\n",
        "\n",
        "endTime = datetime.datetime.now()\n",
        "diff = endTime - startTime\n",
        "print('Time: ',diff.seconds)"
      ],
      "execution_count": 0,
      "outputs": [
        {
          "output_type": "stream",
          "text": [
            "AUC:  0.47226477686150203\n",
            "Time:  69\n"
          ],
          "name": "stdout"
        }
      ]
    },
    {
      "cell_type": "markdown",
      "metadata": {
        "id": "3J68348ktjyz",
        "colab_type": "text"
      },
      "source": [
        "### Euclidean"
      ]
    },
    {
      "cell_type": "code",
      "metadata": {
        "id": "BI7URuMQtlNa",
        "colab_type": "code",
        "outputId": "f7b46bff-2a77-4392-b515-1d1d7d29021b",
        "colab": {
          "base_uri": "https://localhost:8080/",
          "height": 105
        }
      },
      "source": [
        "import datetime\n",
        "startTime = datetime.datetime.now()\n",
        "import glob\n",
        "\n",
        "cnn = WaveNet_AnomalyDetection.from_DataFrame(df_synthetic,30,5,20,0.3,[8,8,8,8],2,18, 'euclidean')\n",
        "cnn.fit()\n",
        "# cnn.plot()\n",
        "auc = cnn.get_roc_auc(verbose=False,plot=False)\n",
        "\n",
        "endTime = datetime.datetime.now()\n",
        "diff = endTime - startTime\n",
        "print('Time: ',diff.seconds)"
      ],
      "execution_count": 0,
      "outputs": [
        {
          "output_type": "stream",
          "text": [
            "/usr/local/lib/python3.6/dist-packages/pandas/core/ops/__init__.py:1115: FutureWarning: elementwise comparison failed; returning scalar instead, but in the future will perform elementwise comparison\n",
            "  result = method(y)\n"
          ],
          "name": "stderr"
        },
        {
          "output_type": "stream",
          "text": [
            "AUC:  0.7758734961458108\n",
            "Time:  30\n"
          ],
          "name": "stdout"
        }
      ]
    },
    {
      "cell_type": "code",
      "metadata": {
        "id": "dBR3tPzaFdPO",
        "colab_type": "code",
        "outputId": "8bb1cca5-3e2e-4ee9-c229-6abfbb7e912f",
        "colab": {
          "base_uri": "https://localhost:8080/",
          "height": 52
        }
      },
      "source": [
        "import datetime\n",
        "startTime = datetime.datetime.now()\n",
        "import glob\n",
        "\n",
        "cnn = WaveNet_AnomalyDetection.from_file('drive/My Drive/MT/Experiments/Multivariate/NASA_Shuttle/40902.csv', None,30,9,20,0.3,[8,8,8,8],2,18, 'euclidean')\n",
        "cnn.fit()\n",
        "# cnn.plot()\n",
        "auc = cnn.get_roc_auc(verbose=False,plot=False)\n",
        "\n",
        "endTime = datetime.datetime.now()\n",
        "diff = endTime - startTime\n",
        "print('Time: ',diff.seconds)"
      ],
      "execution_count": 0,
      "outputs": [
        {
          "output_type": "stream",
          "text": [
            "AUC:  0.4756995340412094\n",
            "Time:  68\n"
          ],
          "name": "stdout"
        }
      ]
    },
    {
      "cell_type": "markdown",
      "metadata": {
        "id": "LuYUXOTxDD9h",
        "colab_type": "text"
      },
      "source": [
        "# LSTM"
      ]
    },
    {
      "cell_type": "code",
      "metadata": {
        "id": "Sx6_hBnUDFKy",
        "colab_type": "code",
        "colab": {}
      },
      "source": [
        "import scipy.linalg\n",
        "from scipy.spatial import distance\n",
        "import warnings\n",
        "from sklearn.cluster import KMeans\n",
        "from statsmodels.tsa.ar_model import AR\n",
        "from sklearn.metrics import mean_squared_error\n",
        "from math import sqrt\n",
        "from pandas import read_csv\n",
        "import pandas as pd\n",
        "from pandas import DataFrame\n",
        "from pandas import concat\n",
        "import numpy as np \n",
        "from matplotlib import pyplot\n",
        "from xgboost import XGBRegressor\n",
        "from sklearn import preprocessing\n",
        "import sys\n",
        "from tensorflow import set_random_seed\n",
        "set_random_seed(42)\n",
        "from numpy.random import seed\n",
        "import numpy\n",
        "import matplotlib.pyplot as plt\n",
        "import pandas\n",
        "import math\n",
        "from keras.models import Sequential\n",
        "from keras.layers import Dense\n",
        "from keras.layers import LSTM\n",
        "from sklearn.preprocessing import MinMaxScaler\n",
        "from sklearn.metrics import mean_squared_error\n",
        "import numpy as np\n",
        "from keras.layers import Conv1D,MaxPooling1D,Flatten\n",
        "seed(42)\n",
        "from keras import regularizers\n",
        "\n",
        "def warn(*args, **kwargs):\n",
        "    pass\n",
        "    \n",
        "class LSTM_AnomalyDetection_ML:\n",
        "    @classmethod\n",
        "    def from_DataFrame(cls,dataframe,window_width, dimension, n_epochs, train_rate, n_filters, distance_function) -> 'LSTM_AnomalyDetection_ML':\n",
        "    \treturn cls(dataframe, window_width, dimension, n_epochs, train_rate, n_filters, distance_function)\n",
        "\n",
        "    @classmethod\n",
        "    def from_file(cls, path, index_col, window_width, dimension,n_epochs, train_rate, n_filters, distance_function) -> 'LSTM_AnomalyDetection_ML':\n",
        "    \tdf = read_csv(path, header=0, index_col=index_col, parse_dates=True,squeeze=True)\n",
        "    \treturn cls(df, window_width, dimension, n_epochs, train_rate, n_filters, distance_function)\n",
        "     \n",
        "    def __init__(self,df, window_width, dimension, n_epochs, train_rate, n_filters, distance_function):\n",
        "\n",
        "        self.dimension = dimension\n",
        "        self.n_epochs = n_epochs\n",
        "        self.window_width = window_width\n",
        "        self.distance_function = distance_function\n",
        "\n",
        "        self.n_filters = n_filters\n",
        "\n",
        "        self.df = df\n",
        "        self.df = self.df.reset_index(drop=True)\n",
        "        self.df.rename(columns={'Target':'is_anomaly'}, inplace=True)\n",
        "        self.df.loc[self.df.is_anomaly == \"'Anomaly'\", 'is_anomaly'] = 1\n",
        "        self.df.loc[self.df.is_anomaly == \"'Normal'\", 'is_anomaly'] = 0\n",
        "\n",
        "        df_sensors = pd.DataFrame(self.df.iloc[:,:dimension].values)  \n",
        "        self.values = df_sensors\n",
        "        self.dataframe = concat([self.df.iloc[:,:-1].shift(1), self.df.iloc[:,:-1], self.df.iloc[:,-1]], axis=1)\n",
        "        self.dataframe.columns = np.r_[np.array(['V'+str(i)+'_t' for i in range(1,self.dimension+1)]),np.array(['V'+str(i)+'_t+1' for i in range(1,self.dimension+1)]),['is_anomaly']]\n",
        "\n",
        "        # self.dataframe = concat([self.values.shift(1), self.values], axis=1)\n",
        "        # self.dataframe.columns = ['t', 't+1']\n",
        "\n",
        "        self.train_size = int(len(self.values) * train_rate)  \n",
        "\n",
        "\n",
        "    def create_XY_lookback_dataset(self,dataset, look_back=1):\n",
        "        dataX, dataY = [], []\n",
        "        for i in range(len(dataset)-look_back-1):\n",
        "            a = dataset[i:(i+look_back),:self.dimension]\n",
        "            dataX.append(a)\n",
        "            dataY.append(dataset[i + look_back,:self.dimension].reshape(-1))\n",
        "        return numpy.array(dataX), numpy.array(dataY)\n",
        "    \n",
        "    def getWindowedVectors(self, X):\n",
        "        vectors = np.zeros((len(X) - self.window_width+1,self.window_width))\n",
        "        for i,_ in enumerate(X[:-self.window_width+1]):\n",
        "            vectors[i] = X[i:i+self.window_width]\n",
        "        return vectors\n",
        "\n",
        "    def __build_sets(self):\n",
        "\n",
        "        X = self.dataframe.iloc[:,:-1].values\n",
        "        self.train, self.test = X[1:self.train_size], X[self.train_size:]    \n",
        "        # print('Train.len:',len(self.train),' - Test.len:', len(self.test))\n",
        "\n",
        "        self.train_X, self.train_y = self.create_XY_lookback_dataset(self.train, self.window_width)\n",
        "        self.test_X, self.test_y = self.create_XY_lookback_dataset(self.test, self.window_width)\n",
        "        # print('TrainX.shape:',self.train_X.shape,' - TestX.shape:', self.test_X.shape,' - TrainY.shape:', self.train_y.shape,' - TestY.shape:', self.test_y.shape)\n",
        "\n",
        "        self.validationsize = int(self.train_X.shape[0] * 0.1)\n",
        "        self.val, self.test = self.test[:self.validationsize], self.test[self.validationsize:]\n",
        "        self.val_X, self.val_y= self.test_X[:self.validationsize], self.test_y[:self.validationsize]\n",
        "        self.test_X, self.test_y = self.test_X[self.validationsize:], self.test_y[self.validationsize:]\n",
        "\n",
        "    def standardize_dataframe(self):\n",
        "        X = self.dataframe.values\n",
        "        self.scalar = preprocessing.StandardScaler().fit(X)\n",
        "        X = self.scalar.transform(X)\n",
        "        self.dataframe = pd.DataFrame(X)\n",
        "\n",
        "    def inverse_standardize_dataframe(self):\n",
        "        X = self.dataframe.values\n",
        "        X = self.scalar.inverse_transform(X)\n",
        "        self.dataframe = pd.DataFrame(X)\n",
        "\n",
        "\n",
        "\n",
        "    def model_persistence(self, x):\n",
        "        return x\n",
        "        \n",
        "    def create_persistence(self):\n",
        "        rmse = sqrt(mean_squared_error(self.dataframe.iloc[self.train_size:,:self.dimension], self.dataframe.iloc[self.train_size:,self.dimension:-1]))\n",
        "        # print('Persistent Model RMSE: %.3f' % rmse)   \n",
        "\n",
        "    def fit(self):\n",
        "        self.create_persistence()\n",
        "        self.standardize_dataframe()\n",
        "        self.__build_sets()\n",
        "                \n",
        "        self.compute_anomalyScores()\n",
        "        self.inverse_standardize_dataframe()\n",
        "\n",
        "\n",
        "    def plotTraining(self):\n",
        "        history_dict = self.history.history\n",
        "        loss_values = history_dict['loss'][1:]\n",
        "        val_loss_values = history_dict['val_loss'][1:]\n",
        "        self.n_epochs = range(2, self.n_epochs + 1)\n",
        "        plt.plot(self.n_epochs, loss_values, 'bo', label='Training loss')\n",
        "        plt.plot(self.n_epochs, val_loss_values, 'b', label='Validation loss')\n",
        "        plt.title('Training and validation loss')\n",
        "        plt.xlabel('Epochs')\n",
        "        plt.ylabel('Loss')\n",
        "        plt.legend()\n",
        "        plt.show()\n",
        "\n",
        "    def compute_anomalyScores(self):\n",
        "\n",
        "        # self.train_X = numpy.reshape(self.train_X, (self.train_X.shape[0],self.dimension,self.train_X.shape[1]))\n",
        "        # self.test_X = numpy.reshape(self.test_X, (self.test_X.shape[0],self.dimension, self.test_X.shape[1]))\n",
        "\n",
        "        from keras.layers import Conv1D,MaxPooling1D,Flatten\n",
        "        self.model = Sequential()\n",
        "\n",
        "        import datetime\n",
        "        startTime = datetime.datetime.now()\n",
        "\n",
        "        self.train_X = numpy.reshape(self.train_X, (-1, self.window_width, self.dimension))\n",
        "        self.test_X = numpy.reshape(self.test_X, (-1, self.window_width, self.dimension))\n",
        "\n",
        "        self.model = Sequential()\n",
        "        self.model.add(LSTM(self.n_filters[0], batch_input_shape=(1, self.window_width, self.dimension), stateful=True, return_sequences=True))\n",
        "        self.model.add(LSTM(self.n_filters[1], batch_input_shape=(1, self.window_width, self.dimension), stateful=True))\n",
        "        self.model.add(Dense(self.dimension))\n",
        "        self.model.compile(optimizer='adam', loss='mse')\n",
        "        for i in range(self.n_epochs):\n",
        "            print('Epoch',i, '/',self.n_epochs)\n",
        "            self.model.fit(self.train_X, self.train_y, epochs=self.n_epochs, batch_size=1, verbose=1, shuffle=False)\n",
        "            self.model.reset_states()\n",
        "        # self.history =self.model.fit(self.train_X, self.train_y, epochs=self.n_epochs, verbose=2)\n",
        "        \n",
        "        # self.plotTraining()\n",
        "        self.predictions = self.model.predict(self.test_X, batch_size = 1)\n",
        "\n",
        "        endTime = datetime.datetime.now()\n",
        "        diff = endTime - startTime\n",
        "        print('Train and Test time: ',diff.seconds)\n",
        "\n",
        "        self.error_vect = (self.test_y.reshape(self.predictions.shape) - self.predictions).reshape(self.test_y.shape[0],-1)\n",
        "        self.compute_errors(self.distance_function)\n",
        "\n",
        "    def compute_Errors_RMSE(self):\n",
        "\n",
        "        rmse = sqrt(mean_squared_error(self.test_y.reshape(self.predictions.shape), self.predictions))\n",
        "        self.errors = np.absolute(self.test_y.reshape(self.predictions.shape) - np.array(self.predictions))\n",
        "        # print('Prediction Test RMS        E: %.3f' % rmse)       \n",
        "   \n",
        "    def compute_errors(self, distance_function):\n",
        "        if distance_function == 'mahalanobis':\n",
        "            inv_cov = scipy.linalg.inv(np.cov(self.error_vect.T))\n",
        "            mean = np.mean(self.error_vect,axis=0)\n",
        "            self.errors = np.zeros((len(self.error_vect),1))\n",
        "            for i,error in enumerate(self.error_vect):\n",
        "                self.errors[i] = distance.mahalanobis(error,mean,inv_cov)\n",
        "        elif distance_function == 'euclidean':\n",
        "            inv_cov = scipy.linalg.inv(np.cov(self.error_vect.T))\n",
        "            mean = np.mean(self.error_vect,axis=0)\n",
        "            self.errors = np.zeros((len(self.error_vect),1))\n",
        "            for i,error in enumerate(self.error_vect):\n",
        "                self.errors[i] = distance.euclidean(error,mean)\n",
        "\n",
        "    def plot(self):\n",
        "        fig, axes = plt.subplots(nrows=3, ncols=3, dpi=120, figsize=(50,5))\n",
        "        for i, ax in enumerate(axes.flatten()):\n",
        "            data = self.df[self.df.columns[i]].iloc[:200]\n",
        "            ax.plot(self.test_y[:,i], color='green',  linewidth=0.5,label='True Values')\n",
        "            ax.plot(self.predictions[:,i], color='blue',  linewidth=0.5,label='Predictions')\n",
        "            ax.plot(self.errors[:,i], color = 'red',  linewidth=0.5, label='Errors')\n",
        "            ax.legend()\n",
        "            \n",
        "        plt.show()\n",
        "\n",
        "    def get_roc_auc(self, plot=True, verbose=True):\n",
        "\n",
        "        # get the predicted errors of the anomaly points\n",
        "        indices = self.df[self.df['is_anomaly']==1].index >self.train_size + self.validationsize\n",
        "        # get the predicted errors of the anomaly points\n",
        "        indices = self.df[self.df['is_anomaly']==1].index >self.train_size + self.validationsize\n",
        "        true_anomaly_predicted_errors = self.errors[self.df[self.df['is_anomaly']==1].index[indices] - self.train_size - self.validationsize - self.window_width -1]\n",
        "        if len(true_anomaly_predicted_errors) == 0:\n",
        "            return np.nan\n",
        "        # sort them \n",
        "        true_anomaly_predicted_errors = np.sort(true_anomaly_predicted_errors,axis=0).reshape(-1)\n",
        "        true_anomaly_predicted_errors_extended = np.r_[np.linspace(0,true_anomaly_predicted_errors[0],40)[:-1],true_anomaly_predicted_errors]\n",
        "        true_anomaly_predicted_errors_extended = np.r_[true_anomaly_predicted_errors_extended, true_anomaly_predicted_errors_extended[-1] + np.mean(true_anomaly_predicted_errors_extended)]\n",
        "                # now iterate thru the predicted errors from small to big\n",
        "        # for each value look how much other points have equal or bigger error\n",
        "        FPR = [] # fp/n  https://en.wikipedia.org/wiki/Sensitivity_and_specificity\n",
        "        TPR = [] # tp/p\n",
        "        p = len(true_anomaly_predicted_errors)\n",
        "        Thresholds = []\n",
        "        for predictederror in true_anomaly_predicted_errors_extended:\n",
        "            threshold = predictederror\n",
        "            tp = len(true_anomaly_predicted_errors[true_anomaly_predicted_errors>= threshold])\n",
        "            fp = len(self.errors[self.errors>=threshold])-len(true_anomaly_predicted_errors[true_anomaly_predicted_errors>=threshold])\n",
        "            \n",
        "            fpr =fp/len(self.errors)\n",
        "            FPR.append(fpr)\n",
        "            TPR.append(tp/p)\n",
        "            if verbose:\n",
        "                print(\"Threshold: {0:25}  - FP: {1:4} - TP: {2:4} - FPR: {3:21} - TPR: {4:4}\".format(threshold,fp, tp, fpr, tp/p))\n",
        "\n",
        "        import matplotlib.pyplot as plt\n",
        "        if plot:\n",
        "            plt.figure()\n",
        "            plt.axis([0, 1, 0, 1])\n",
        "            plt.plot(FPR,TPR)\n",
        "            plt.show() \n",
        "\n",
        "        # This is the AUC\n",
        "        from sklearn.metrics import auc\n",
        "        print('AUC: ' ,auc(FPR,TPR)        )\n",
        "        return auc(FPR,TPR)\n",
        "\n",
        "# filters = [[8,8,8,8], [4,4,4,4], [4,8,16], [4,8,12], [16,32,48], [128,128,128],[64,64,64],[256,256,256],[128,256,512]]\n",
        "# kernelsizes = [2,3,4,6,8,16]\n",
        "# dense = [18,36,72,144]\n",
        "\n",
        "# best_auc = [0,0]\n",
        "# histories = []\n",
        "# for f in filters:\n",
        "#     for k in kernelsizes:\n",
        "#         for d in dense:\n",
        "\n",
        "#             cnn = LSTM_AnomalyDetection_ML.from_DataFrame(df_synthetic,30,5,1,0.3,f)\n",
        "#             cnn.fit()\n",
        "#             # cnn.plot()\n",
        "#             auc = cnn.get_roc_auc(verbose=False,plot=False)\n",
        "#             print(' auc:', auc, ' - f:', f, ' - k:', k, ' - d:', d)\n",
        "#             if best_auc[1] < auc:\n",
        "#                 print('New best auc:', auc, ' - f:', f, ' - k:', k, ' - d:', d)\n",
        "#                 best_auc = [(f,k,d),auc]\n",
        "#             break\n",
        "#         break\n",
        "#     break\n",
        "\n",
        "# print(best_auc)"
      ],
      "execution_count": 0,
      "outputs": []
    },
    {
      "cell_type": "markdown",
      "metadata": {
        "id": "TAo7V5sypBzq",
        "colab_type": "text"
      },
      "source": [
        "## Evaluation"
      ]
    },
    {
      "cell_type": "markdown",
      "metadata": {
        "id": "X9MpTT1JpDNm",
        "colab_type": "text"
      },
      "source": [
        "### Mahalanobis"
      ]
    },
    {
      "cell_type": "code",
      "metadata": {
        "id": "ujhYTewnpFMN",
        "colab_type": "code",
        "outputId": "de23c657-1189-46db-be16-01579d0e0b60",
        "colab": {
          "base_uri": "https://localhost:8080/",
          "height": 173
        }
      },
      "source": [
        "import datetime\n",
        "startTime = datetime.datetime.now()\n",
        "import glob\n",
        "\n",
        "cnn = LSTM_AnomalyDetection_ML.from_DataFrame(df_synthetic,30,5,1,0.3,[8,8,8,8], 'mahalanobis')\n",
        "cnn.fit()\n",
        "# cnn.plot()\n",
        "auc = cnn.get_roc_auc(verbose=False,plot=False)\n",
        "\n",
        "endTime = datetime.datetime.now()\n",
        "diff = endTime - startTime\n",
        "print('Time: ',diff.seconds)"
      ],
      "execution_count": 0,
      "outputs": [
        {
          "output_type": "stream",
          "text": [
            "/usr/local/lib/python3.6/dist-packages/pandas/core/ops/__init__.py:1115: FutureWarning: elementwise comparison failed; returning scalar instead, but in the future will perform elementwise comparison\n",
            "  result = method(y)\n"
          ],
          "name": "stderr"
        },
        {
          "output_type": "stream",
          "text": [
            "Epoch 0 / 1\n",
            "Epoch 1/1\n",
            "868/868 [==============================] - 105s 121ms/step - loss: 0.9666\n",
            "Train and Test time:  230\n",
            "AUC:  0.936467113320366\n",
            "Time:  230\n"
          ],
          "name": "stdout"
        }
      ]
    },
    {
      "cell_type": "code",
      "metadata": {
        "id": "dDX6Z4QNGWFI",
        "colab_type": "code",
        "outputId": "268101ae-3a08-456f-d1af-3c51c7a435a9",
        "colab": {
          "base_uri": "https://localhost:8080/",
          "height": 176
        }
      },
      "source": [
        "import datetime\n",
        "startTime = datetime.datetime.now()\n",
        "import glob\n",
        "\n",
        "cnn = LSTM_AnomalyDetection_ML.from_file('drive/My Drive/MT/Experiments/Multivariate/NASA_Shuttle/40902.csv', None,30,9,1,0.3,[8,8,8,8], 'mahalanobis')\n",
        "cnn.fit()\n",
        "# cnn.plot()\n",
        "auc = cnn.get_roc_auc(verbose=False,plot=False)\n",
        "\n",
        "endTime = datetime.datetime.now()\n",
        "diff = endTime - startTime\n",
        "print('Time: ',diff.seconds)"
      ],
      "execution_count": 0,
      "outputs": [
        {
          "output_type": "stream",
          "text": [
            "Epoch 0 / 1\n",
            "WARNING:tensorflow:From /usr/local/lib/python3.6/dist-packages/tensorflow_core/python/ops/math_grad.py:1424: where (from tensorflow.python.ops.array_ops) is deprecated and will be removed in a future version.\n",
            "Instructions for updating:\n",
            "Use tf.where in 2.0, which has the same broadcast rule as np.where\n",
            "Epoch 1/1\n",
            "14697/14697 [==============================] - 1442s 98ms/step - loss: 1.1207\n",
            "Train and Test time:  2999\n",
            "AUC:  0.47035573795432223\n",
            "Time:  3001\n"
          ],
          "name": "stdout"
        }
      ]
    },
    {
      "cell_type": "markdown",
      "metadata": {
        "id": "FddjuzQJpF5K",
        "colab_type": "text"
      },
      "source": [
        "### Euclidean"
      ]
    },
    {
      "cell_type": "code",
      "metadata": {
        "id": "Ti-La97vpG9U",
        "colab_type": "code",
        "outputId": "a719c669-919b-47df-abea-264d4627ffcc",
        "colab": {
          "base_uri": "https://localhost:8080/",
          "height": 173
        }
      },
      "source": [
        "import datetime\n",
        "startTime = datetime.datetime.now()\n",
        "import glob\n",
        "\n",
        "cnn = LSTM_AnomalyDetection_ML.from_DataFrame(df_synthetic,30,5,1,0.3,[8,8,8,8], 'euclidean')\n",
        "cnn.fit()\n",
        "# cnn.plot()\n",
        "auc = cnn.get_roc_auc(verbose=False,plot=False)\n",
        "\n",
        "endTime = datetime.datetime.now()\n",
        "diff = endTime - startTime\n",
        "print('Time: ',diff.seconds)"
      ],
      "execution_count": 0,
      "outputs": [
        {
          "output_type": "stream",
          "text": [
            "/usr/local/lib/python3.6/dist-packages/pandas/core/ops/__init__.py:1115: FutureWarning: elementwise comparison failed; returning scalar instead, but in the future will perform elementwise comparison\n",
            "  result = method(y)\n"
          ],
          "name": "stderr"
        },
        {
          "output_type": "stream",
          "text": [
            "Epoch 0 / 1\n",
            "Epoch 1/1\n",
            "868/868 [==============================] - 105s 121ms/step - loss: 0.9675\n",
            "Train and Test time:  229\n",
            "AUC:  0.7589186658021757\n",
            "Time:  229\n"
          ],
          "name": "stdout"
        }
      ]
    },
    {
      "cell_type": "code",
      "metadata": {
        "id": "HGpQmmBvGfQd",
        "colab_type": "code",
        "outputId": "a5fc13fa-284b-4d6d-e57c-61dea29df2e3",
        "colab": {
          "base_uri": "https://localhost:8080/",
          "height": 123
        }
      },
      "source": [
        "import datetime\n",
        "startTime = datetime.datetime.now()\n",
        "import glob\n",
        "\n",
        "cnn = LSTM_AnomalyDetection_ML.from_file('drive/My Drive/MT/Experiments/Multivariate/NASA_Shuttle/40902.csv', None,30,9,1,0.3,[8,8,8,8], 'euclidean')\n",
        "cnn.fit()\n",
        "# cnn.plot()\n",
        "auc = cnn.get_roc_auc(verbose=False,plot=False)\n",
        "\n",
        "endTime = datetime.datetime.now()\n",
        "diff = endTime - startTime\n",
        "print('Time: ',diff.seconds)"
      ],
      "execution_count": 0,
      "outputs": [
        {
          "output_type": "stream",
          "text": [
            "Epoch 0 / 1\n",
            "Epoch 1/1\n",
            "14697/14697 [==============================] - 1464s 100ms/step - loss: 1.1207\n",
            "Train and Test time:  3046\n",
            "AUC:  0.4751280805006092\n",
            "Time:  3048\n"
          ],
          "name": "stdout"
        }
      ]
    },
    {
      "cell_type": "markdown",
      "metadata": {
        "id": "E4muiAAUdp1w",
        "colab_type": "text"
      },
      "source": [
        "# GRU"
      ]
    },
    {
      "cell_type": "code",
      "metadata": {
        "id": "-EPaetWYdqxB",
        "colab_type": "code",
        "colab": {}
      },
      "source": [
        "import scipy.linalg\n",
        "from scipy.spatial import distance\n",
        "import warnings\n",
        "from sklearn.cluster import KMeans\n",
        "from statsmodels.tsa.ar_model import AR\n",
        "from sklearn.metrics import mean_squared_error\n",
        "from math import sqrt\n",
        "from pandas import read_csv\n",
        "import pandas as pd\n",
        "from pandas import DataFrame\n",
        "from pandas import concat\n",
        "import numpy as np \n",
        "from matplotlib import pyplot\n",
        "from xgboost import XGBRegressor\n",
        "from sklearn import preprocessing\n",
        "import sys\n",
        "from tensorflow import set_random_seed\n",
        "set_random_seed(42)\n",
        "from numpy.random import seed\n",
        "import numpy\n",
        "import matplotlib.pyplot as plt\n",
        "import pandas\n",
        "import math\n",
        "from keras.models import Sequential\n",
        "from keras.layers import Dense\n",
        "from keras.layers import LSTM, GRU\n",
        "from sklearn.preprocessing import MinMaxScaler\n",
        "from sklearn.metrics import mean_squared_error\n",
        "import numpy as np\n",
        "from keras.layers import Conv1D,MaxPooling1D,Flatten\n",
        "seed(42)\n",
        "from keras import regularizers\n",
        "\n",
        "def warn(*args, **kwargs):\n",
        "    pass\n",
        "    \n",
        "class GRU_AnomalyDetection_ML:\n",
        "    @classmethod\n",
        "    def from_DataFrame(cls,dataframe,window_width, dimension, n_epochs, train_rate, n_filters, distance_function) -> 'LSTM_AnomalyDetection_ML':\n",
        "    \treturn cls(dataframe, window_width, dimension, n_epochs, train_rate, n_filters, distance_function)\n",
        "\n",
        "    @classmethod\n",
        "    def from_file(cls, path, index_col, window_width, dimension,n_epochs, train_rate, n_filters, distance_function) -> 'LSTM_AnomalyDetection_ML':\n",
        "    \tdf = read_csv(path, header=0, index_col=index_col, parse_dates=True,squeeze=True)\n",
        "    \treturn cls(df, window_width, dimension, n_epochs, train_rate, n_filters, distance_function)\n",
        "     \n",
        "    def __init__(self,df, window_width, dimension, n_epochs, train_rate, n_filters, distance_function):\n",
        "\n",
        "        self.dimension = dimension\n",
        "        self.n_epochs = n_epochs\n",
        "        self.window_width = window_width\n",
        "        self.distance_function = distance_function\n",
        "        self.n_filters = n_filters\n",
        "\n",
        "        self.df = df\n",
        "        self.df = self.df.reset_index(drop=True)\n",
        "        self.df.rename(columns={'Target':'is_anomaly'}, inplace=True)\n",
        "        self.df.loc[self.df.is_anomaly == \"'Anomaly'\", 'is_anomaly'] = 1\n",
        "        self.df.loc[self.df.is_anomaly == \"'Normal'\", 'is_anomaly'] = 0\n",
        "\n",
        "        df_sensors = pd.DataFrame(self.df.iloc[:,:dimension].values)  \n",
        "        self.values = df_sensors\n",
        "        self.dataframe = concat([self.df.iloc[:,:-1].shift(1), self.df.iloc[:,:-1], self.df.iloc[:,-1]], axis=1)\n",
        "        self.dataframe.columns = np.r_[np.array(['V'+str(i)+'_t' for i in range(1,self.dimension+1)]),np.array(['V'+str(i)+'_t+1' for i in range(1,self.dimension+1)]),['is_anomaly']]\n",
        "\n",
        "        # self.dataframe = concat([self.values.shift(1), self.values], axis=1)\n",
        "        # self.dataframe.columns = ['t', 't+1']\n",
        "\n",
        "        self.train_size = int(len(self.values) * train_rate)  \n",
        "\n",
        "\n",
        "    def create_XY_lookback_dataset(self,dataset, look_back=1):\n",
        "        dataX, dataY = [], []\n",
        "        for i in range(len(dataset)-look_back-1):\n",
        "            a = dataset[i:(i+look_back),:self.dimension]\n",
        "            dataX.append(a)\n",
        "            dataY.append(dataset[i + look_back,:self.dimension].reshape(-1))\n",
        "        return numpy.array(dataX), numpy.array(dataY)\n",
        "    \n",
        "    def getWindowedVectors(self, X):\n",
        "        vectors = np.zeros((len(X) - self.window_width+1,self.window_width))\n",
        "        for i,_ in enumerate(X[:-self.window_width+1]):\n",
        "            vectors[i] = X[i:i+self.window_width]\n",
        "        return vectors\n",
        "\n",
        "    def __build_sets(self):\n",
        "\n",
        "        X = self.dataframe.iloc[:,:-1].values\n",
        "        self.train, self.test = X[1:self.train_size], X[self.train_size:]    \n",
        "        # print('Train.len:',len(self.train),' - Test.len:', len(self.test))\n",
        "\n",
        "        self.train_X, self.train_y = self.create_XY_lookback_dataset(self.train, self.window_width)\n",
        "        self.test_X, self.test_y = self.create_XY_lookback_dataset(self.test, self.window_width)\n",
        "        # print('TrainX.shape:',self.train_X.shape,' - TestX.shape:', self.test_X.shape,' - TrainY.shape:', self.train_y.shape,' - TestY.shape:', self.test_y.shape)\n",
        "\n",
        "        self.validationsize = int(self.train_X.shape[0] * 0.1)\n",
        "        self.val, self.test = self.test[:self.validationsize], self.test[self.validationsize:]\n",
        "        self.val_X, self.val_y= self.test_X[:self.validationsize], self.test_y[:self.validationsize]\n",
        "        self.test_X, self.test_y = self.test_X[self.validationsize:], self.test_y[self.validationsize:]\n",
        "\n",
        "    def standardize_dataframe(self):\n",
        "        X = self.dataframe.values\n",
        "        self.scalar = preprocessing.StandardScaler().fit(X)\n",
        "        X = self.scalar.transform(X)\n",
        "        self.dataframe = pd.DataFrame(X)\n",
        "\n",
        "    def inverse_standardize_dataframe(self):\n",
        "        X = self.dataframe.values\n",
        "        X = self.scalar.inverse_transform(X)\n",
        "        self.dataframe = pd.DataFrame(X)\n",
        "\n",
        "\n",
        "\n",
        "    def model_persistence(self, x):\n",
        "        return x\n",
        "        \n",
        "    def create_persistence(self):\n",
        "        rmse = sqrt(mean_squared_error(self.dataframe.iloc[self.train_size:,:self.dimension], self.dataframe.iloc[self.train_size:,self.dimension:-1]))\n",
        "        # print('Persistent Model RMSE: %.3f' % rmse)   \n",
        "\n",
        "    def fit(self):\n",
        "        self.create_persistence()\n",
        "        self.standardize_dataframe()\n",
        "        self.__build_sets()\n",
        "                \n",
        "        self.compute_anomalyScores()\n",
        "        self.inverse_standardize_dataframe()\n",
        "        # self.compute_Errors_RMSE()\n",
        "\n",
        "\n",
        "    def plotTraining(self):\n",
        "        history_dict = self.history.history\n",
        "        loss_values = history_dict['loss'][1:]\n",
        "        val_loss_values = history_dict['val_loss'][1:]\n",
        "        self.n_epochs = range(2, self.n_epochs + 1)\n",
        "        plt.plot(self.n_epochs, loss_values, 'bo', label='Training loss')\n",
        "        plt.plot(self.n_epochs, val_loss_values, 'b', label='Validation loss')\n",
        "        plt.title('Training and validation loss')\n",
        "        plt.xlabel('Epochs')\n",
        "        plt.ylabel('Loss')\n",
        "        plt.legend()\n",
        "        plt.show()\n",
        "\n",
        "    def compute_anomalyScores(self):\n",
        "\n",
        "        # self.train_X = numpy.reshape(self.train_X, (self.train_X.shape[0],self.dimension,self.train_X.shape[1]))\n",
        "        # self.test_X = numpy.reshape(self.test_X, (self.test_X.shape[0],self.dimension, self.test_X.shape[1]))\n",
        "\n",
        "        from keras.layers import Conv1D,MaxPooling1D,Flatten\n",
        "        self.model = Sequential()\n",
        "\n",
        "        # self.model.add(Conv1D(filters=self.n_filters[0], kernel_size=self.kernel_size, activation='relu', input_shape=(self.window_width,self.dimension ),data_format='channels_first', padding='same', dilation_rate=1))\n",
        "        # self.model.add(MaxPooling1D(pool_size=2))\n",
        "        # self.model.add(Conv1D(filters=self.n_filters[1], kernel_size=self.kernel_size, activation='relu',data_format='channels_first', padding='same', dilation_rate=2))\n",
        "        # self.model.add(MaxPooling1D(pool_size=2))\n",
        "        # self.model.add(Conv1D(filters=self.n_filters[2], kernel_size=self.kernel_size, activation='relu',data_format='channels_first', padding='same', dilation_rate = 4))\n",
        "        # self.model.add(MaxPooling1D(pool_size=2))\n",
        "        # self.model.add(Conv1D(filters=self.n_filters[3], kernel_size=self.kernel_size, activation='relu',data_format='channels_first', padding='same', dilation_rate = 8))\n",
        "        # self.model.add(MaxPooling1D(pool_size=2))\n",
        "\n",
        "        # self.model.add(Flatten())\n",
        "        # self.model.add(Dense(self.n_dense, activation='relu'))\n",
        "        # self.model.add(Dense(self.dimension))\n",
        "        # self.model.compile(optimizer='adam', loss='mse')\n",
        "        # self.history = self.model.fit(self.train_X, self.train_y,validation_data=(self.val_X,self.val_y), epochs=self.n_epochs, verbose=0)\n",
        "        import datetime\n",
        "        startTime = datetime.datetime.now()\n",
        "\n",
        "        self.train_X = numpy.reshape(self.train_X, (-1, self.window_width, self.dimension))\n",
        "        self.test_X = numpy.reshape(self.test_X, (-1, self.window_width, self.dimension))\n",
        "\n",
        "        self.model = Sequential()\n",
        "        self.model.add(GRU(self.n_filters[0], batch_input_shape=(1, self.window_width, self.dimension), stateful=True, return_sequences=True))\n",
        "        self.model.add(GRU(self.n_filters[1], batch_input_shape=(1, self.window_width, self.dimension), stateful=True))\n",
        "        self.model.add(Dense(self.dimension))\n",
        "        self.model.compile(optimizer='adam', loss='mse')\n",
        "        for i in range(self.n_epochs):\n",
        "            print('Epoch',i, '/',self.n_epochs)\n",
        "            self.model.fit(self.train_X, self.train_y, epochs=self.n_epochs, batch_size=1, verbose=1, shuffle=False)\n",
        "            self.model.reset_states()\n",
        "        # self.history =self.model.fit(self.train_X, self.train_y, epochs=self.n_epochs, verbose=2)\n",
        "        \n",
        "        # self.plotTraining()\n",
        "        self.predictions = self.model.predict(self.test_X, batch_size = 1)\n",
        "\n",
        "        endTime = datetime.datetime.now()\n",
        "        diff = endTime - startTime\n",
        "        print('Train and Test time: ',diff.seconds)\n",
        "\n",
        "        self.error_vect = (self.test_y.reshape(self.predictions.shape) - self.predictions).reshape(self.test_y.shape[0],-1)\n",
        "        self.compute_errors(self.distance_function)\n",
        "\n",
        "    def compute_Errors_RMSE(self):\n",
        "\n",
        "        rmse = sqrt(mean_squared_error(self.test_y.reshape(self.predictions.shape), self.predictions))\n",
        "        self.errors = np.absolute(self.test_y.reshape(self.predictions.shape) - np.array(self.predictions))\n",
        "        # print('Prediction Test RMS        E: %.3f' % rmse)       \n",
        "   \n",
        "    def compute_errors(self, distance_function):\n",
        "        if distance_function == 'mahalanobis':\n",
        "            inv_cov = scipy.linalg.inv(np.cov(self.error_vect.T))\n",
        "            mean = np.mean(self.error_vect,axis=0)\n",
        "            self.errors = np.zeros((len(self.error_vect),1))\n",
        "            for i,error in enumerate(self.error_vect):\n",
        "                self.errors[i] = distance.mahalanobis(error,mean,inv_cov)\n",
        "        elif distance_function == 'euclidean':\n",
        "            inv_cov = scipy.linalg.inv(np.cov(self.error_vect.T))\n",
        "            mean = np.mean(self.error_vect,axis=0)\n",
        "            self.errors = np.zeros((len(self.error_vect),1))\n",
        "            for i,error in enumerate(self.error_vect):\n",
        "                self.errors[i] = distance.euclidean(error,mean)\n",
        "\n",
        "    def plot(self):\n",
        "        fig, axes = plt.subplots(nrows=3, ncols=3, dpi=120, figsize=(50,5))\n",
        "        for i, ax in enumerate(axes.flatten()):\n",
        "            data = self.df[self.df.columns[i]].iloc[:200]\n",
        "            ax.plot(self.test_y[:,i], color='green',  linewidth=0.5,label='True Values')\n",
        "            ax.plot(self.predictions[:,i], color='blue',  linewidth=0.5,label='Predictions')\n",
        "            ax.plot(self.errors[:,i], color = 'red',  linewidth=0.5, label='Errors')\n",
        "            ax.legend()\n",
        "            \n",
        "        plt.show()\n",
        "\n",
        "    def get_roc_auc(self, plot=True, verbose=True):\n",
        "\n",
        "        # get the predicted errors of the anomaly points\n",
        "        indices = self.df[self.df['is_anomaly']==1].index >self.train_size + self.validationsize\n",
        "        true_anomaly_predicted_errors = self.errors[self.df[self.df['is_anomaly']==1].index[indices] - self.train_size - self.validationsize - self.window_width -1]\n",
        "        if len(true_anomaly_predicted_errors) == 0:\n",
        "            return np.nan\n",
        "        # sort them \n",
        "        true_anomaly_predicted_errors = np.sort(true_anomaly_predicted_errors,axis=0).reshape(-1)\n",
        "        true_anomaly_predicted_errors_extended = np.r_[np.linspace(0,true_anomaly_predicted_errors[0],40)[:-1],true_anomaly_predicted_errors]\n",
        "        true_anomaly_predicted_errors_extended = np.r_[true_anomaly_predicted_errors_extended, true_anomaly_predicted_errors_extended[-1] + np.mean(true_anomaly_predicted_errors_extended)]\n",
        "                # now iterate thru the predicted errors from small to big\n",
        "        # for each value look how much other points have equal or bigger error\n",
        "        FPR = [] # fp/n  https://en.wikipedia.org/wiki/Sensitivity_and_specificity\n",
        "        TPR = [] # tp/p\n",
        "        p = len(true_anomaly_predicted_errors)\n",
        "        Thresholds = []\n",
        "        for predictederror in true_anomaly_predicted_errors_extended:\n",
        "            threshold = predictederror\n",
        "            tp = len(true_anomaly_predicted_errors[true_anomaly_predicted_errors>= threshold])\n",
        "            fp = len(self.errors[self.errors>=threshold])-len(true_anomaly_predicted_errors[true_anomaly_predicted_errors>=threshold])\n",
        "            \n",
        "            fpr =fp/len(self.errors)\n",
        "            FPR.append(fpr)\n",
        "            TPR.append(tp/p)\n",
        "            if verbose:\n",
        "                print(\"Threshold: {0:25}  - FP: {1:4} - TP: {2:4} - FPR: {3:21} - TPR: {4:4}\".format(threshold,fp, tp, fpr, tp/p))\n",
        "\n",
        "        import matplotlib.pyplot as plt\n",
        "        if plot:\n",
        "            plt.figure()\n",
        "            plt.axis([0, 1, 0, 1])\n",
        "            plt.plot(FPR,TPR)\n",
        "            plt.show() \n",
        "\n",
        "        # This is the AUC\n",
        "        from sklearn.metrics import auc\n",
        "        print('AUC: ' ,auc(FPR,TPR)        )\n",
        "        return auc(FPR,TPR)\n",
        "\n",
        "# filters = [[8,8,8,8], [4,4,4,4], [4,8,16], [4,8,12], [16,32,48], [128,128,128],[64,64,64],[256,256,256],[128,256,512]]\n",
        "# kernelsizes = [2,3,4,6,8,16]\n",
        "# dense = [18,36,72,144]\n",
        "\n",
        "# best_auc = [0,0]\n",
        "# histories = []\n",
        "# for f in filters:\n",
        "#     for k in kernelsizes:\n",
        "#         for d in dense:\n",
        "\n",
        "#             cnn = LSTM_AnomalyDetection_ML.from_DataFrame(df_synthetic,30,5,1,0.3,f)\n",
        "#             cnn.fit()\n",
        "#             # cnn.plot()\n",
        "#             auc = cnn.get_roc_auc(verbose=False,plot=False)\n",
        "#             print(' auc:', auc, ' - f:', f, ' - k:', k, ' - d:', d)\n",
        "#             if best_auc[1] < auc:\n",
        "#                 print('New best auc:', auc, ' - f:', f, ' - k:', k, ' - d:', d)\n",
        "#                 best_auc = [(f,k,d),auc]\n",
        "#             break\n",
        "#         break\n",
        "#     break\n",
        "\n",
        "# print(best_auc)"
      ],
      "execution_count": 0,
      "outputs": []
    },
    {
      "cell_type": "markdown",
      "metadata": {
        "id": "IbbFQY-FntLl",
        "colab_type": "text"
      },
      "source": [
        "## Evaluation"
      ]
    },
    {
      "cell_type": "markdown",
      "metadata": {
        "id": "gVfGqbxjnun8",
        "colab_type": "text"
      },
      "source": [
        "### Mahalanobis"
      ]
    },
    {
      "cell_type": "code",
      "metadata": {
        "id": "OYXhN080nwpC",
        "colab_type": "code",
        "outputId": "81105d2f-9283-4aa8-9ae2-fdd543cf4951",
        "colab": {
          "base_uri": "https://localhost:8080/",
          "height": 173
        }
      },
      "source": [
        "import datetime\n",
        "startTime = datetime.datetime.now()\n",
        "\n",
        "cnn = GRU_AnomalyDetection_ML.from_DataFrame(df_synthetic,30,5,1,0.3,[8,8,8,8], 'mahalanobis')\n",
        "cnn.fit()\n",
        "# cnn.plot()\n",
        "auc = cnn.get_roc_auc(verbose=False,plot=False)\n",
        "\n",
        "endTime = datetime.datetime.now()\n",
        "diff = endTime - startTime\n",
        "print('Time: ',diff.seconds)"
      ],
      "execution_count": 0,
      "outputs": [
        {
          "output_type": "stream",
          "text": [
            "/usr/local/lib/python3.6/dist-packages/pandas/core/ops/__init__.py:1115: FutureWarning: elementwise comparison failed; returning scalar instead, but in the future will perform elementwise comparison\n",
            "  result = method(y)\n"
          ],
          "name": "stderr"
        },
        {
          "output_type": "stream",
          "text": [
            "Epoch 0 / 1\n",
            "Epoch 1/1\n",
            "868/868 [==============================] - 89s 103ms/step - loss: 0.9777\n",
            "Train and Test time:  191\n",
            "AUC:  0.9299257978531805\n",
            "Time:  191\n"
          ],
          "name": "stdout"
        }
      ]
    },
    {
      "cell_type": "code",
      "metadata": {
        "id": "EW5aA6e_Gj9_",
        "colab_type": "code",
        "colab": {}
      },
      "source": [
        "import datetime\n",
        "startTime = datetime.datetime.now()\n",
        "\n",
        "cnn = GRU_AnomalyDetection_ML.from_file('drive/My Drive/MT/Experiments/Multivariate/NASA_Shuttle/40903.csv', None,30,3,1,0.3,[8,8,8,8], 'mahalanobis')\n",
        "cnn.fit()\n",
        "# cnn.plot()\n",
        "auc = cnn.get_roc_auc(verbose=False,plot=False)\n",
        "\n",
        "endTime = datetime.datetime.now()\n",
        "diff = endTime - startTime\n",
        "print('Time: ',diff.seconds)"
      ],
      "execution_count": 0,
      "outputs": []
    },
    {
      "cell_type": "markdown",
      "metadata": {
        "id": "7cwC-0roo5na",
        "colab_type": "text"
      },
      "source": [
        "### Euclidean"
      ]
    },
    {
      "cell_type": "code",
      "metadata": {
        "id": "7pZu3QWZo6nk",
        "colab_type": "code",
        "outputId": "63128b99-760c-4478-c3c0-0f816006d041",
        "colab": {
          "base_uri": "https://localhost:8080/",
          "height": 173
        }
      },
      "source": [
        "import datetime\n",
        "startTime = datetime.datetime.now()\n",
        "\n",
        "cnn = GRU_AnomalyDetection_ML.from_DataFrame(df_synthetic,30,5,1,0.3,[8,8,8,8], 'euclidean')\n",
        "cnn.fit()\n",
        "# cnn.plot()\n",
        "auc = cnn.get_roc_auc(verbose=False,plot=False)\n",
        "\n",
        "endTime = datetime.datetime.now()\n",
        "diff = endTime - startTime\n",
        "print('Time: ',diff.seconds)"
      ],
      "execution_count": 0,
      "outputs": [
        {
          "output_type": "stream",
          "text": [
            "/usr/local/lib/python3.6/dist-packages/pandas/core/ops/__init__.py:1115: FutureWarning: elementwise comparison failed; returning scalar instead, but in the future will perform elementwise comparison\n",
            "  result = method(y)\n"
          ],
          "name": "stderr"
        },
        {
          "output_type": "stream",
          "text": [
            "Epoch 0 / 1\n",
            "Epoch 1/1\n",
            "868/868 [==============================] - 91s 105ms/step - loss: 0.9725\n",
            "Train and Test time:  193\n",
            "AUC:  0.7479036092500541\n",
            "Time:  193\n"
          ],
          "name": "stdout"
        }
      ]
    },
    {
      "cell_type": "code",
      "metadata": {
        "id": "v4s7LhygGxnu",
        "colab_type": "code",
        "colab": {}
      },
      "source": [
        "import datetime\n",
        "startTime = datetime.datetime.now()\n",
        "\n",
        "cnn = GRU_AnomalyDetection_ML.from_file('drive/My Drive/MT/Experiments/Multivariate/NASA_Shuttle/40903.csv', None,30,3,1,0.3,[8,8,8,8], 'euclidean')\n",
        "cnn.fit()\n",
        "# cnn.plot()\n",
        "auc = cnn.get_roc_auc(verbose=False,plot=False)\n",
        "\n",
        "endTime = datetime.datetime.now()\n",
        "diff = endTime - startTime\n",
        "print('Time: ',diff.seconds)"
      ],
      "execution_count": 0,
      "outputs": []
    },
    {
      "cell_type": "markdown",
      "metadata": {
        "id": "Iy3Xx__Hfj2e",
        "colab_type": "text"
      },
      "source": [
        "# Autoencoder"
      ]
    },
    {
      "cell_type": "code",
      "metadata": {
        "id": "av9K33PlflOR",
        "colab_type": "code",
        "outputId": "30230755-4ac8-469a-834a-874218419db9",
        "colab": {
          "base_uri": "https://localhost:8080/",
          "height": 173
        }
      },
      "source": [
        "import scipy.linalg\n",
        "from scipy.spatial import distance\n",
        "import warnings\n",
        "from sklearn.cluster import KMeans\n",
        "from statsmodels.tsa.ar_model import AR\n",
        "from sklearn.metrics import mean_squared_error\n",
        "from math import sqrt\n",
        "from pandas import read_csv\n",
        "import pandas as pd\n",
        "from pandas import DataFrame\n",
        "from pandas import concat\n",
        "import numpy as np \n",
        "from matplotlib import pyplot\n",
        "from xgboost import XGBRegressor\n",
        "from sklearn import preprocessing\n",
        "import sys\n",
        "from tensorflow import set_random_seed\n",
        "set_random_seed(42)\n",
        "from numpy.random import seed\n",
        "import numpy\n",
        "import matplotlib.pyplot as plt\n",
        "import pandas\n",
        "import math\n",
        "from keras.models import Sequential\n",
        "from keras.layers import Dense\n",
        "from keras.layers import LSTM, GRU\n",
        "from sklearn.preprocessing import MinMaxScaler\n",
        "from sklearn.metrics import mean_squared_error\n",
        "import numpy as np\n",
        "from keras.layers import Conv1D,MaxPooling1D,Flatten\n",
        "seed(42)\n",
        "from keras import regularizers, Model\n",
        "\n",
        "def warn(*args, **kwargs):\n",
        "    pass\n",
        "    \n",
        "class AutoEncoder_AnomalyDetection_ML:\n",
        "    @classmethod\n",
        "    def from_DataFrame(cls,dataframe,window_width, dimension, n_epochs, train_rate, distance_function) -> 'AutoEncoder_AnomalyDetection_ML':\n",
        "    \treturn cls(dataframe, window_width, dimension, n_epochs, train_rate, distance_function)\n",
        "\n",
        "    @classmethod\n",
        "    def from_file(cls, path, index_col, window_width, dimension,n_epochs, train_rate, distance_function) -> 'AutoEncoder_AnomalyDetection_ML':\n",
        "    \tdf = read_csv(path, header=0, index_col=index_col, parse_dates=True,squeeze=True)\n",
        "    \treturn cls(df, window_width, dimension, n_epochs, train_rate, distance_function)\n",
        "     \n",
        "    def __init__(self,df, window_width, dimension, n_epochs, train_rate, distance_function):\n",
        "\n",
        "        self.distance_function = distance_function\n",
        "        self.dimension = dimension\n",
        "        self.n_epochs = n_epochs\n",
        "        self.window_width = window_width\n",
        "        \n",
        "        self.df = df\n",
        "        self.df = self.df.reset_index(drop=True)\n",
        "        self.df.rename(columns={'Target':'is_anomaly'}, inplace=True)\n",
        "        self.df.loc[self.df.is_anomaly == \"'Anomaly'\", 'is_anomaly'] = 1\n",
        "        self.df.loc[self.df.is_anomaly == \"'Normal'\", 'is_anomaly'] = 0\n",
        "\n",
        "        df_sensors = pd.DataFrame(self.df.iloc[:,:dimension].values)  \n",
        "        self.values = df_sensors\n",
        "        self.dataframe = concat([self.df.iloc[:,:-1].shift(1), self.df.iloc[:,:-1], self.df.iloc[:,-1]], axis=1)\n",
        "        self.dataframe.columns = np.r_[np.array(['V'+str(i)+'_t' for i in range(1,self.dimension+1)]),np.array(['V'+str(i)+'_t+1' for i in range(1,self.dimension+1)]),['is_anomaly']]\n",
        "\n",
        "        # self.dataframe = concat([self.values.shift(1), self.values], axis=1)\n",
        "        # self.dataframe.columns = ['t', 't+1']\n",
        "\n",
        "        self.train_size = int(len(self.values) * train_rate)  \n",
        "\n",
        "\n",
        "    def create_XY_lookback_dataset(self,dataset, look_back=1):\n",
        "        dataX, dataY = [], []\n",
        "        for i in range(len(dataset)-look_back-1):\n",
        "            a = dataset[i:(i+look_back),:self.dimension]\n",
        "            dataX.append(a)\n",
        "            dataY.append(dataset[i + look_back,:self.dimension].reshape(-1))\n",
        "        return numpy.array(dataX), numpy.array(dataY)\n",
        "    \n",
        "    def getWindowedVectors(self, X):\n",
        "        vectors = np.zeros((len(X) - self.window_width+1,self.window_width))\n",
        "        for i,_ in enumerate(X[:-self.window_width+1]):\n",
        "            vectors[i] = X[i:i+self.window_width]\n",
        "        return vectors\n",
        "\n",
        "    def __build_sets(self):\n",
        "\n",
        "        X = self.dataframe.iloc[:,:-1].values\n",
        "        self.train, self.test = X[1:self.train_size], X[self.train_size:]    \n",
        "        # print('Train.len:',len(self.train),' - Test.len:', len(self.test))\n",
        "\n",
        "        self.train_X, self.train_y = self.create_XY_lookback_dataset(self.train, self.window_width)\n",
        "        self.test_X, self.test_y = self.create_XY_lookback_dataset(self.test, self.window_width)\n",
        "        # print('TrainX.shape:',self.train_X.shape,' - TestX.shape:', self.test_X.shape,' - TrainY.shape:', self.train_y.shape,' - TestY.shape:', self.test_y.shape)\n",
        "\n",
        "        self.validationsize = int(self.train_X.shape[0] * 0.1)\n",
        "        self.val, self.test = self.test[:self.validationsize], self.test[self.validationsize:]\n",
        "        self.val_X, self.val_y= self.test_X[:self.validationsize], self.test_y[:self.validationsize]\n",
        "        self.test_X, self.test_y = self.test_X[self.validationsize:], self.test_y[self.validationsize:]\n",
        "\n",
        "    def standardize_dataframe(self):\n",
        "        X = self.dataframe.values\n",
        "        self.scalar = preprocessing.StandardScaler().fit(X)\n",
        "        X = self.scalar.transform(X)\n",
        "        self.dataframe = pd.DataFrame(X)\n",
        "\n",
        "    def inverse_standardize_dataframe(self):\n",
        "        X = self.dataframe.values\n",
        "        X = self.scalar.inverse_transform(X)\n",
        "        self.dataframe = pd.DataFrame(X)\n",
        "\n",
        "\n",
        "\n",
        "    def model_persistence(self, x):\n",
        "        return x\n",
        "        \n",
        "    def create_persistence(self):\n",
        "        rmse = sqrt(mean_squared_error(self.dataframe.iloc[self.train_size:,:self.dimension], self.dataframe.iloc[self.train_size:,self.dimension:-1]))\n",
        "        # print('Persistent Model RMSE: %.3f' % rmse)   \n",
        "\n",
        "    def fit(self):\n",
        "        self.create_persistence()\n",
        "        self.standardize_dataframe()\n",
        "        self.__build_sets()\n",
        "                \n",
        "        self.compute_anomalyScores()\n",
        "        self.inverse_standardize_dataframe()\n",
        "        # self.compute_Errors_RMSE()\n",
        "\n",
        "\n",
        "    def plotTraining(self):\n",
        "        history_dict = self.history.history\n",
        "        loss_values = history_dict['loss'][1:]\n",
        "        val_loss_values = history_dict['val_loss'][1:]\n",
        "        self.n_epochs = range(2, self.n_epochs + 1)\n",
        "        plt.plot(self.n_epochs, loss_values, 'bo', label='Training loss')\n",
        "        plt.plot(self.n_epochs, val_loss_values, 'b', label='Validation loss')\n",
        "        plt.title('Training and validation loss')\n",
        "        plt.xlabel('Epochs')\n",
        "        plt.ylabel('Loss')\n",
        "        plt.legend()\n",
        "        plt.show()\n",
        "\n",
        "    def compute_anomalyScores(self):\n",
        "\n",
        "        # self.train_X = numpy.reshape(self.train_X, (self.train_X.shape[0],self.dimension,self.train_X.shape[1]))\n",
        "        # self.test_X = numpy.reshape(self.test_X, (self.test_X.shape[0],self.dimension, self.test_X.shape[1]))\n",
        "\n",
        "        from keras.layers import Conv1D,MaxPooling1D,Flatten\n",
        "        self.model = Sequential()\n",
        "\n",
        "\n",
        "        self.train_X = numpy.reshape(self.train_X, (-1, self.window_width, self.dimension))\n",
        "        self.test_X = numpy.reshape(self.test_X, (-1, self.window_width, self.dimension))\n",
        "\n",
        "        input_layer = Input(shape=( self.window_width, self.dimension))\n",
        "        encoder = Dense(32, activation=\"relu\")(input_layer)\n",
        "        encoder = Dense(16, activation=\"relu\")(encoder)\n",
        "        decoder = Dense(16, activation=\"relu\")(encoder)\n",
        "        decoder = Dense(32, activation=\"relu\")(decoder)\n",
        "        decoder = Dense(self.dimension, activation=\"linear\")(decoder)\n",
        "        self.model = Model(inputs=input_layer, outputs=decoder)\n",
        "        \n",
        "        self.model.compile(metrics=['accuracy'],\n",
        "                            loss='mean_squared_error',\n",
        "                            optimizer='adam')\n",
        "        channel_pos = 'channels_first'\n",
        "\n",
        "\n",
        "        history = self.model.fit(self.train_X, self.train_X, epochs=self.n_epochs, verbose=2)\n",
        "\n",
        "        # self.plotTraining()\n",
        "        self.predictions = self.model.predict(self.test_X, batch_size = 1)\n",
        "        self.error_vect = (self.test_X.reshape(self.predictions.shape) - self.predictions).reshape(self.test_X.shape[0],-1)\n",
        "        self.compute_errors(self.distance_function)\n",
        "\n",
        "    def compute_Errors_RMSE(self):\n",
        "\n",
        "        rmse = sqrt(mean_squared_error(self.test_y.reshape(self.predictions.shape), self.predictions))\n",
        "        self.errors = np.absolute(self.test_y.reshape(self.predictions.shape) - np.array(self.predictions))\n",
        "        # print('Prediction Test RMS        E: %.3f' % rmse)       \n",
        "   \n",
        "\n",
        "    def plot(self):\n",
        "        fig, axes = plt.subplots(nrows=3, ncols=3, dpi=120, figsize=(50,5))\n",
        "        for i, ax in enumerate(axes.flatten()):\n",
        "            data = self.df[self.df.columns[i]].iloc[:200]\n",
        "            ax.plot(self.test_y[:,i], color='green',  linewidth=0.5,label='True Values')\n",
        "            ax.plot(self.predictions[:,i], color='blue',  linewidth=0.5,label='Predictions')\n",
        "            ax.plot(self.errors[:,i], color = 'red',  linewidth=0.5, label='Errors')\n",
        "            ax.legend()\n",
        "            \n",
        "        plt.show()\n",
        "\n",
        "    def compute_errors(self, distance_function):\n",
        "        if distance_function == 'mahalanobis':\n",
        "            inv_cov = scipy.linalg.inv(np.cov(self.error_vect.T))\n",
        "            mean = np.mean(self.error_vect,axis=0)\n",
        "            self.errors = np.zeros((len(self.error_vect),1))\n",
        "            for i,error in enumerate(self.error_vect):\n",
        "                self.errors[i] = distance.mahalanobis(error,mean,inv_cov)\n",
        "        elif distance_function == 'euclidean':\n",
        "            inv_cov = scipy.linalg.inv(np.cov(self.error_vect.T))\n",
        "            mean = np.mean(self.error_vect,axis=0)\n",
        "            self.errors = np.zeros((len(self.error_vect),1))\n",
        "            for i,error in enumerate(self.error_vect):\n",
        "                self.errors[i] = distance.euclidean(error,mean)\n",
        "                \n",
        "    def get_roc_auc(self, plot=True, verbose=True):\n",
        "        # self.euclidean_errors = numpy.linalg.norm((self.test_X.reshape(self.predictions.shape) - self.predictions).reshape(self.test_X.shape[0],-1), axis=1)\n",
        "        # get the predicted errors of the anomaly points\n",
        "        indices = self.df[self.df['is_anomaly']==1].index >self.train_size + self.validationsize\n",
        "        true_anomaly_predicted_errors = self.errors[self.df[self.df['is_anomaly']==1].index[indices] - self.train_size - self.validationsize - self.window_width -1]\n",
        "        if len(true_anomaly_predicted_errors) == 0:\n",
        "            return np.nan\n",
        "        # sort them \n",
        "        true_anomaly_predicted_errors = np.sort(true_anomaly_predicted_errors,axis=0).reshape(-1)\n",
        "        true_anomaly_predicted_errors_extended = np.r_[np.linspace(0,true_anomaly_predicted_errors[0],40)[:-1],true_anomaly_predicted_errors]\n",
        "        true_anomaly_predicted_errors_extended = np.r_[true_anomaly_predicted_errors_extended, true_anomaly_predicted_errors_extended[-1] + np.mean(true_anomaly_predicted_errors_extended)]\n",
        "                # now iterate thru the predicted errors from small to big\n",
        "        # for each value look how much other points have equal or bigger error\n",
        "        FPR = [] # fp/n  https://en.wikipedia.org/wiki/Sensitivity_and_specificity\n",
        "        TPR = [] # tp/p\n",
        "        p = len(true_anomaly_predicted_errors)\n",
        "        Thresholds = []\n",
        "        for predictederror in true_anomaly_predicted_errors_extended:\n",
        "            threshold = predictederror\n",
        "            tp = len(true_anomaly_predicted_errors[true_anomaly_predicted_errors>= threshold])\n",
        "            fp = len(self.errors[self.errors>=threshold])-len(true_anomaly_predicted_errors[true_anomaly_predicted_errors>=threshold])\n",
        "            \n",
        "            fpr =fp/len(self.errors)\n",
        "            FPR.append(fpr)\n",
        "            TPR.append(tp/p)\n",
        "            if verbose:\n",
        "                print(\"Threshold: {0:25}  - FP: {1:4} - TP: {2:4} - FPR: {3:21} - TPR: {4:4}\".format(threshold,fp, tp, fpr, tp/p))\n",
        "\n",
        "        import matplotlib.pyplot as plt\n",
        "        if plot:\n",
        "            plt.figure()\n",
        "            plt.axis([0, 1, 0, 1])\n",
        "            plt.plot(FPR,TPR)\n",
        "            plt.show() \n",
        "\n",
        "        # This is the AUC\n",
        "        from sklearn.metrics import auc\n",
        "        print('AUC: ' ,auc(FPR,TPR)        )\n",
        "        return auc(FPR,TPR)\n",
        "\n",
        "filters = [[8,8,8,8], [4,4,4,4], [4,8,16], [4,8,12], [16,32,48], [128,128,128],[64,64,64],[256,256,256],[128,256,512]]\n",
        "kernelsizes = [2,3,4,6,8,16]\n",
        "dense = [18,36,72,144]\n",
        "\n",
        "best_auc = [0,0]\n",
        "histories = []\n",
        "for f in filters:\n",
        "    for k in kernelsizes:\n",
        "        for d in dense:\n",
        "\n",
        "            cnn = AutoEncoder_AnomalyDetection_ML.from_DataFrame(df_synthetic,30,5,1,0.3, 'euclidean')\n",
        "            cnn.fit()\n",
        "            # cnn.plot()\n",
        "            auc = cnn.get_roc_auc(verbose=False,plot=False)\n",
        "            print(' auc:', auc, ' - f:', f, ' - k:', k, ' - d:', d)\n",
        "            if best_auc[1] < auc:\n",
        "                print('New best auc:', auc, ' - f:', f, ' - k:', k, ' - d:', d)\n",
        "                best_auc = [(f,k,d),auc]\n",
        "            break\n",
        "        break\n",
        "    break\n",
        "\n",
        "print(best_auc)"
      ],
      "execution_count": 0,
      "outputs": [
        {
          "output_type": "stream",
          "text": [
            "/usr/local/lib/python3.6/dist-packages/pandas/core/ops/__init__.py:1115: FutureWarning: elementwise comparison failed; returning scalar instead, but in the future will perform elementwise comparison\n",
            "  result = method(y)\n"
          ],
          "name": "stderr"
        },
        {
          "output_type": "stream",
          "text": [
            "Epoch 1/1\n",
            " - 11s - loss: 0.8430 - acc: 0.3319\n",
            "AUC:  0.8780023053094158\n",
            " auc: 0.8780023053094158  - f: [8, 8, 8, 8]  - k: 2  - d: 18\n",
            "New best auc: 0.8780023053094158  - f: [8, 8, 8, 8]  - k: 2  - d: 18\n",
            "[([8, 8, 8, 8], 2, 18), 0.8780023053094158]\n"
          ],
          "name": "stdout"
        }
      ]
    },
    {
      "cell_type": "markdown",
      "metadata": {
        "id": "RIoZnpfmnQv9",
        "colab_type": "text"
      },
      "source": [
        "## Evaluation"
      ]
    },
    {
      "cell_type": "markdown",
      "metadata": {
        "id": "ub1g_OkQnSuO",
        "colab_type": "text"
      },
      "source": [
        "### Mahalanobis\n"
      ]
    },
    {
      "cell_type": "code",
      "metadata": {
        "id": "wEjE8jnhnUlD",
        "colab_type": "code",
        "outputId": "403ba32a-0ab5-4b12-d61f-2c3fe6934617",
        "colab": {
          "base_uri": "https://localhost:8080/",
          "height": 139
        }
      },
      "source": [
        "import datetime\n",
        "startTime = datetime.datetime.now()\n",
        "\n",
        "cnn = AutoEncoder_AnomalyDetection_ML.from_DataFrame(df_synthetic,30,5,1,0.3, 'mahalanobis')\n",
        "cnn.fit()\n",
        "auc = cnn.get_roc_auc(verbose=False,plot=False)\n",
        "\n",
        "endTime = datetime.datetime.now()\n",
        "diff = endTime - startTime\n",
        "print('Time: ',diff.seconds)"
      ],
      "execution_count": 0,
      "outputs": [
        {
          "output_type": "stream",
          "text": [
            "/usr/local/lib/python3.6/dist-packages/pandas/core/ops/__init__.py:1115: FutureWarning: elementwise comparison failed; returning scalar instead, but in the future will perform elementwise comparison\n",
            "  result = method(y)\n"
          ],
          "name": "stderr"
        },
        {
          "output_type": "stream",
          "text": [
            "Epoch 1/1\n",
            " - 20s - loss: 0.8559 - acc: 0.2854\n",
            "AUC:  0.892623009869606\n",
            "Time:  34\n"
          ],
          "name": "stdout"
        }
      ]
    },
    {
      "cell_type": "code",
      "metadata": {
        "id": "N2GeeyCAG1kx",
        "colab_type": "code",
        "outputId": "1739761c-042d-484b-ce8f-0d50d5294a1e",
        "colab": {
          "base_uri": "https://localhost:8080/",
          "height": 391
        }
      },
      "source": [
        "import datetime\n",
        "startTime = datetime.datetime.now()\n",
        "\n",
        "cnn = AutoEncoder_AnomalyDetection_ML.from_file('drive/My Drive/MT/Experiments/Multivariate/NASA_Shuttle/40903.csv', None,30,3,1,0.3, 'mahalanobis')\n",
        "cnn.fit()\n",
        "auc = cnn.get_roc_auc(verbose=False,plot=False)\n",
        "\n",
        "endTime = datetime.datetime.now()\n",
        "diff = endTime - startTime\n",
        "print('Time: ',diff.seconds)"
      ],
      "execution_count": 0,
      "outputs": [
        {
          "output_type": "stream",
          "text": [
            "Epoch 1/1\n"
          ],
          "name": "stdout"
        },
        {
          "output_type": "error",
          "ename": "KeyboardInterrupt",
          "evalue": "ignored",
          "traceback": [
            "\u001b[0;31m---------------------------------------------------------------------------\u001b[0m",
            "\u001b[0;31mKeyboardInterrupt\u001b[0m                         Traceback (most recent call last)",
            "\u001b[0;32m<ipython-input-166-38d4ef6dd4d7>\u001b[0m in \u001b[0;36m<module>\u001b[0;34m()\u001b[0m\n\u001b[1;32m      3\u001b[0m \u001b[0;34m\u001b[0m\u001b[0m\n\u001b[1;32m      4\u001b[0m \u001b[0mcnn\u001b[0m \u001b[0;34m=\u001b[0m \u001b[0mAutoEncoder_AnomalyDetection_ML\u001b[0m\u001b[0;34m.\u001b[0m\u001b[0mfrom_file\u001b[0m\u001b[0;34m(\u001b[0m\u001b[0;34m'drive/My Drive/MT/Experiments/Multivariate/NASA_Shuttle/40903.csv'\u001b[0m\u001b[0;34m,\u001b[0m \u001b[0;32mNone\u001b[0m\u001b[0;34m,\u001b[0m\u001b[0;36m30\u001b[0m\u001b[0;34m,\u001b[0m\u001b[0;36m3\u001b[0m\u001b[0;34m,\u001b[0m\u001b[0;36m1\u001b[0m\u001b[0;34m,\u001b[0m\u001b[0;36m0.3\u001b[0m\u001b[0;34m,\u001b[0m \u001b[0;34m'mahalanobis'\u001b[0m\u001b[0;34m)\u001b[0m\u001b[0;34m\u001b[0m\u001b[0;34m\u001b[0m\u001b[0m\n\u001b[0;32m----> 5\u001b[0;31m \u001b[0mcnn\u001b[0m\u001b[0;34m.\u001b[0m\u001b[0mfit\u001b[0m\u001b[0;34m(\u001b[0m\u001b[0;34m)\u001b[0m\u001b[0;34m\u001b[0m\u001b[0;34m\u001b[0m\u001b[0m\n\u001b[0m\u001b[1;32m      6\u001b[0m \u001b[0mauc\u001b[0m \u001b[0;34m=\u001b[0m \u001b[0mcnn\u001b[0m\u001b[0;34m.\u001b[0m\u001b[0mget_roc_auc\u001b[0m\u001b[0;34m(\u001b[0m\u001b[0mverbose\u001b[0m\u001b[0;34m=\u001b[0m\u001b[0;32mFalse\u001b[0m\u001b[0;34m,\u001b[0m\u001b[0mplot\u001b[0m\u001b[0;34m=\u001b[0m\u001b[0;32mFalse\u001b[0m\u001b[0;34m)\u001b[0m\u001b[0;34m\u001b[0m\u001b[0;34m\u001b[0m\u001b[0m\n\u001b[1;32m      7\u001b[0m \u001b[0;34m\u001b[0m\u001b[0m\n",
            "\u001b[0;32m<ipython-input-75-57b8676e9ad2>\u001b[0m in \u001b[0;36mfit\u001b[0;34m(self)\u001b[0m\n\u001b[1;32m    123\u001b[0m         \u001b[0mself\u001b[0m\u001b[0;34m.\u001b[0m\u001b[0m__build_sets\u001b[0m\u001b[0;34m(\u001b[0m\u001b[0;34m)\u001b[0m\u001b[0;34m\u001b[0m\u001b[0;34m\u001b[0m\u001b[0m\n\u001b[1;32m    124\u001b[0m \u001b[0;34m\u001b[0m\u001b[0m\n\u001b[0;32m--> 125\u001b[0;31m         \u001b[0mself\u001b[0m\u001b[0;34m.\u001b[0m\u001b[0mcompute_anomalyScores\u001b[0m\u001b[0;34m(\u001b[0m\u001b[0;34m)\u001b[0m\u001b[0;34m\u001b[0m\u001b[0;34m\u001b[0m\u001b[0m\n\u001b[0m\u001b[1;32m    126\u001b[0m         \u001b[0mself\u001b[0m\u001b[0;34m.\u001b[0m\u001b[0minverse_standardize_dataframe\u001b[0m\u001b[0;34m(\u001b[0m\u001b[0;34m)\u001b[0m\u001b[0;34m\u001b[0m\u001b[0;34m\u001b[0m\u001b[0m\n\u001b[1;32m    127\u001b[0m         \u001b[0;31m# self.compute_Errors_RMSE()\u001b[0m\u001b[0;34m\u001b[0m\u001b[0;34m\u001b[0m\u001b[0;34m\u001b[0m\u001b[0m\n",
            "\u001b[0;32m<ipython-input-75-57b8676e9ad2>\u001b[0m in \u001b[0;36mcompute_anomalyScores\u001b[0;34m(self)\u001b[0m\n\u001b[1;32m    167\u001b[0m \u001b[0;34m\u001b[0m\u001b[0m\n\u001b[1;32m    168\u001b[0m \u001b[0;34m\u001b[0m\u001b[0m\n\u001b[0;32m--> 169\u001b[0;31m         \u001b[0mhistory\u001b[0m \u001b[0;34m=\u001b[0m \u001b[0mself\u001b[0m\u001b[0;34m.\u001b[0m\u001b[0mmodel\u001b[0m\u001b[0;34m.\u001b[0m\u001b[0mfit\u001b[0m\u001b[0;34m(\u001b[0m\u001b[0mself\u001b[0m\u001b[0;34m.\u001b[0m\u001b[0mtrain_X\u001b[0m\u001b[0;34m,\u001b[0m \u001b[0mself\u001b[0m\u001b[0;34m.\u001b[0m\u001b[0mtrain_X\u001b[0m\u001b[0;34m,\u001b[0m \u001b[0mepochs\u001b[0m\u001b[0;34m=\u001b[0m\u001b[0mself\u001b[0m\u001b[0;34m.\u001b[0m\u001b[0mn_epochs\u001b[0m\u001b[0;34m,\u001b[0m \u001b[0mverbose\u001b[0m\u001b[0;34m=\u001b[0m\u001b[0;36m2\u001b[0m\u001b[0;34m)\u001b[0m\u001b[0;34m\u001b[0m\u001b[0;34m\u001b[0m\u001b[0m\n\u001b[0m\u001b[1;32m    170\u001b[0m \u001b[0;34m\u001b[0m\u001b[0m\n\u001b[1;32m    171\u001b[0m         \u001b[0;31m# self.plotTraining()\u001b[0m\u001b[0;34m\u001b[0m\u001b[0;34m\u001b[0m\u001b[0;34m\u001b[0m\u001b[0m\n",
            "\u001b[0;32m/usr/local/lib/python3.6/dist-packages/keras/engine/training.py\u001b[0m in \u001b[0;36mfit\u001b[0;34m(self, x, y, batch_size, epochs, verbose, callbacks, validation_split, validation_data, shuffle, class_weight, sample_weight, initial_epoch, steps_per_epoch, validation_steps, validation_freq, max_queue_size, workers, use_multiprocessing, **kwargs)\u001b[0m\n\u001b[1;32m   1176\u001b[0m                                         \u001b[0msteps_per_epoch\u001b[0m\u001b[0;34m=\u001b[0m\u001b[0msteps_per_epoch\u001b[0m\u001b[0;34m,\u001b[0m\u001b[0;34m\u001b[0m\u001b[0;34m\u001b[0m\u001b[0m\n\u001b[1;32m   1177\u001b[0m                                         \u001b[0mvalidation_steps\u001b[0m\u001b[0;34m=\u001b[0m\u001b[0mvalidation_steps\u001b[0m\u001b[0;34m,\u001b[0m\u001b[0;34m\u001b[0m\u001b[0;34m\u001b[0m\u001b[0m\n\u001b[0;32m-> 1178\u001b[0;31m                                         validation_freq=validation_freq)\n\u001b[0m\u001b[1;32m   1179\u001b[0m \u001b[0;34m\u001b[0m\u001b[0m\n\u001b[1;32m   1180\u001b[0m     def evaluate(self,\n",
            "\u001b[0;32m/usr/local/lib/python3.6/dist-packages/keras/engine/training_arrays.py\u001b[0m in \u001b[0;36mfit_loop\u001b[0;34m(model, fit_function, fit_inputs, out_labels, batch_size, epochs, verbose, callbacks, val_function, val_inputs, shuffle, callback_metrics, initial_epoch, steps_per_epoch, validation_steps, validation_freq)\u001b[0m\n\u001b[1;32m    202\u001b[0m                     \u001b[0mins_batch\u001b[0m\u001b[0;34m[\u001b[0m\u001b[0mi\u001b[0m\u001b[0;34m]\u001b[0m \u001b[0;34m=\u001b[0m \u001b[0mins_batch\u001b[0m\u001b[0;34m[\u001b[0m\u001b[0mi\u001b[0m\u001b[0;34m]\u001b[0m\u001b[0;34m.\u001b[0m\u001b[0mtoarray\u001b[0m\u001b[0;34m(\u001b[0m\u001b[0;34m)\u001b[0m\u001b[0;34m\u001b[0m\u001b[0;34m\u001b[0m\u001b[0m\n\u001b[1;32m    203\u001b[0m \u001b[0;34m\u001b[0m\u001b[0m\n\u001b[0;32m--> 204\u001b[0;31m                 \u001b[0mouts\u001b[0m \u001b[0;34m=\u001b[0m \u001b[0mfit_function\u001b[0m\u001b[0;34m(\u001b[0m\u001b[0mins_batch\u001b[0m\u001b[0;34m)\u001b[0m\u001b[0;34m\u001b[0m\u001b[0;34m\u001b[0m\u001b[0m\n\u001b[0m\u001b[1;32m    205\u001b[0m                 \u001b[0mouts\u001b[0m \u001b[0;34m=\u001b[0m \u001b[0mto_list\u001b[0m\u001b[0;34m(\u001b[0m\u001b[0mouts\u001b[0m\u001b[0;34m)\u001b[0m\u001b[0;34m\u001b[0m\u001b[0;34m\u001b[0m\u001b[0m\n\u001b[1;32m    206\u001b[0m                 \u001b[0;32mfor\u001b[0m \u001b[0ml\u001b[0m\u001b[0;34m,\u001b[0m \u001b[0mo\u001b[0m \u001b[0;32min\u001b[0m \u001b[0mzip\u001b[0m\u001b[0;34m(\u001b[0m\u001b[0mout_labels\u001b[0m\u001b[0;34m,\u001b[0m \u001b[0mouts\u001b[0m\u001b[0;34m)\u001b[0m\u001b[0;34m:\u001b[0m\u001b[0;34m\u001b[0m\u001b[0;34m\u001b[0m\u001b[0m\n",
            "\u001b[0;32m/usr/local/lib/python3.6/dist-packages/keras/backend/tensorflow_backend.py\u001b[0m in \u001b[0;36m__call__\u001b[0;34m(self, inputs)\u001b[0m\n\u001b[1;32m   2957\u001b[0m \u001b[0;34m\u001b[0m\u001b[0m\n\u001b[1;32m   2958\u001b[0m     \u001b[0;32mdef\u001b[0m \u001b[0m__call__\u001b[0m\u001b[0;34m(\u001b[0m\u001b[0mself\u001b[0m\u001b[0;34m,\u001b[0m \u001b[0minputs\u001b[0m\u001b[0;34m)\u001b[0m\u001b[0;34m:\u001b[0m\u001b[0;34m\u001b[0m\u001b[0;34m\u001b[0m\u001b[0m\n\u001b[0;32m-> 2959\u001b[0;31m         \u001b[0;32mif\u001b[0m \u001b[0mhasattr\u001b[0m\u001b[0;34m(\u001b[0m\u001b[0mget_session\u001b[0m\u001b[0;34m(\u001b[0m\u001b[0;34m)\u001b[0m\u001b[0;34m,\u001b[0m \u001b[0;34m'_make_callable_from_options'\u001b[0m\u001b[0;34m)\u001b[0m\u001b[0;34m:\u001b[0m\u001b[0;34m\u001b[0m\u001b[0;34m\u001b[0m\u001b[0m\n\u001b[0m\u001b[1;32m   2960\u001b[0m             \u001b[0;32mif\u001b[0m \u001b[0mpy_any\u001b[0m\u001b[0;34m(\u001b[0m\u001b[0mis_sparse\u001b[0m\u001b[0;34m(\u001b[0m\u001b[0mx\u001b[0m\u001b[0;34m)\u001b[0m \u001b[0;32mfor\u001b[0m \u001b[0mx\u001b[0m \u001b[0;32min\u001b[0m \u001b[0mself\u001b[0m\u001b[0;34m.\u001b[0m\u001b[0minputs\u001b[0m\u001b[0;34m)\u001b[0m\u001b[0;34m:\u001b[0m\u001b[0;34m\u001b[0m\u001b[0;34m\u001b[0m\u001b[0m\n\u001b[1;32m   2961\u001b[0m                 \u001b[0;32mif\u001b[0m \u001b[0mpy_any\u001b[0m\u001b[0;34m(\u001b[0m\u001b[0mis_tensor\u001b[0m\u001b[0;34m(\u001b[0m\u001b[0mx\u001b[0m\u001b[0;34m)\u001b[0m \u001b[0;32mfor\u001b[0m \u001b[0mx\u001b[0m \u001b[0;32min\u001b[0m \u001b[0minputs\u001b[0m\u001b[0;34m)\u001b[0m\u001b[0;34m:\u001b[0m\u001b[0;34m\u001b[0m\u001b[0;34m\u001b[0m\u001b[0m\n",
            "\u001b[0;32m/usr/local/lib/python3.6/dist-packages/keras/backend/tensorflow_backend.py\u001b[0m in \u001b[0;36mget_session\u001b[0;34m()\u001b[0m\n\u001b[1;32m    214\u001b[0m                 \u001b[0;31m# not already marked as initialized.\u001b[0m\u001b[0;34m\u001b[0m\u001b[0;34m\u001b[0m\u001b[0;34m\u001b[0m\u001b[0m\n\u001b[1;32m    215\u001b[0m                 is_initialized = session.run(\n\u001b[0;32m--> 216\u001b[0;31m                     [tf.is_variable_initialized(v) for v in candidate_vars])\n\u001b[0m\u001b[1;32m    217\u001b[0m                 \u001b[0muninitialized_vars\u001b[0m \u001b[0;34m=\u001b[0m \u001b[0;34m[\u001b[0m\u001b[0;34m]\u001b[0m\u001b[0;34m\u001b[0m\u001b[0;34m\u001b[0m\u001b[0m\n\u001b[1;32m    218\u001b[0m                 \u001b[0;32mfor\u001b[0m \u001b[0mflag\u001b[0m\u001b[0;34m,\u001b[0m \u001b[0mv\u001b[0m \u001b[0;32min\u001b[0m \u001b[0mzip\u001b[0m\u001b[0;34m(\u001b[0m\u001b[0mis_initialized\u001b[0m\u001b[0;34m,\u001b[0m \u001b[0mcandidate_vars\u001b[0m\u001b[0;34m)\u001b[0m\u001b[0;34m:\u001b[0m\u001b[0;34m\u001b[0m\u001b[0;34m\u001b[0m\u001b[0m\n",
            "\u001b[0;32m/usr/local/lib/python3.6/dist-packages/tensorflow_core/python/client/session.py\u001b[0m in \u001b[0;36mrun\u001b[0;34m(self, fetches, feed_dict, options, run_metadata)\u001b[0m\n\u001b[1;32m    954\u001b[0m     \u001b[0;32mtry\u001b[0m\u001b[0;34m:\u001b[0m\u001b[0;34m\u001b[0m\u001b[0;34m\u001b[0m\u001b[0m\n\u001b[1;32m    955\u001b[0m       result = self._run(None, fetches, feed_dict, options_ptr,\n\u001b[0;32m--> 956\u001b[0;31m                          run_metadata_ptr)\n\u001b[0m\u001b[1;32m    957\u001b[0m       \u001b[0;32mif\u001b[0m \u001b[0mrun_metadata\u001b[0m\u001b[0;34m:\u001b[0m\u001b[0;34m\u001b[0m\u001b[0;34m\u001b[0m\u001b[0m\n\u001b[1;32m    958\u001b[0m         \u001b[0mproto_data\u001b[0m \u001b[0;34m=\u001b[0m \u001b[0mtf_session\u001b[0m\u001b[0;34m.\u001b[0m\u001b[0mTF_GetBuffer\u001b[0m\u001b[0;34m(\u001b[0m\u001b[0mrun_metadata_ptr\u001b[0m\u001b[0;34m)\u001b[0m\u001b[0;34m\u001b[0m\u001b[0;34m\u001b[0m\u001b[0m\n",
            "\u001b[0;32m/usr/local/lib/python3.6/dist-packages/tensorflow_core/python/client/session.py\u001b[0m in \u001b[0;36m_run\u001b[0;34m(self, handle, fetches, feed_dict, options, run_metadata)\u001b[0m\n\u001b[1;32m   1178\u001b[0m     \u001b[0;32mif\u001b[0m \u001b[0mfinal_fetches\u001b[0m \u001b[0;32mor\u001b[0m \u001b[0mfinal_targets\u001b[0m \u001b[0;32mor\u001b[0m \u001b[0;34m(\u001b[0m\u001b[0mhandle\u001b[0m \u001b[0;32mand\u001b[0m \u001b[0mfeed_dict_tensor\u001b[0m\u001b[0;34m)\u001b[0m\u001b[0;34m:\u001b[0m\u001b[0;34m\u001b[0m\u001b[0;34m\u001b[0m\u001b[0m\n\u001b[1;32m   1179\u001b[0m       results = self._do_run(handle, final_targets, final_fetches,\n\u001b[0;32m-> 1180\u001b[0;31m                              feed_dict_tensor, options, run_metadata)\n\u001b[0m\u001b[1;32m   1181\u001b[0m     \u001b[0;32melse\u001b[0m\u001b[0;34m:\u001b[0m\u001b[0;34m\u001b[0m\u001b[0;34m\u001b[0m\u001b[0m\n\u001b[1;32m   1182\u001b[0m       \u001b[0mresults\u001b[0m \u001b[0;34m=\u001b[0m \u001b[0;34m[\u001b[0m\u001b[0;34m]\u001b[0m\u001b[0;34m\u001b[0m\u001b[0;34m\u001b[0m\u001b[0m\n",
            "\u001b[0;32m/usr/local/lib/python3.6/dist-packages/tensorflow_core/python/client/session.py\u001b[0m in \u001b[0;36m_do_run\u001b[0;34m(self, handle, target_list, fetch_list, feed_dict, options, run_metadata)\u001b[0m\n\u001b[1;32m   1357\u001b[0m     \u001b[0;32mif\u001b[0m \u001b[0mhandle\u001b[0m \u001b[0;32mis\u001b[0m \u001b[0;32mNone\u001b[0m\u001b[0;34m:\u001b[0m\u001b[0;34m\u001b[0m\u001b[0;34m\u001b[0m\u001b[0m\n\u001b[1;32m   1358\u001b[0m       return self._do_call(_run_fn, feeds, fetches, targets, options,\n\u001b[0;32m-> 1359\u001b[0;31m                            run_metadata)\n\u001b[0m\u001b[1;32m   1360\u001b[0m     \u001b[0;32melse\u001b[0m\u001b[0;34m:\u001b[0m\u001b[0;34m\u001b[0m\u001b[0;34m\u001b[0m\u001b[0m\n\u001b[1;32m   1361\u001b[0m       \u001b[0;32mreturn\u001b[0m \u001b[0mself\u001b[0m\u001b[0;34m.\u001b[0m\u001b[0m_do_call\u001b[0m\u001b[0;34m(\u001b[0m\u001b[0m_prun_fn\u001b[0m\u001b[0;34m,\u001b[0m \u001b[0mhandle\u001b[0m\u001b[0;34m,\u001b[0m \u001b[0mfeeds\u001b[0m\u001b[0;34m,\u001b[0m \u001b[0mfetches\u001b[0m\u001b[0;34m)\u001b[0m\u001b[0;34m\u001b[0m\u001b[0;34m\u001b[0m\u001b[0m\n",
            "\u001b[0;32m/usr/local/lib/python3.6/dist-packages/tensorflow_core/python/client/session.py\u001b[0m in \u001b[0;36m_do_call\u001b[0;34m(self, fn, *args)\u001b[0m\n\u001b[1;32m   1363\u001b[0m   \u001b[0;32mdef\u001b[0m \u001b[0m_do_call\u001b[0m\u001b[0;34m(\u001b[0m\u001b[0mself\u001b[0m\u001b[0;34m,\u001b[0m \u001b[0mfn\u001b[0m\u001b[0;34m,\u001b[0m \u001b[0;34m*\u001b[0m\u001b[0margs\u001b[0m\u001b[0;34m)\u001b[0m\u001b[0;34m:\u001b[0m\u001b[0;34m\u001b[0m\u001b[0;34m\u001b[0m\u001b[0m\n\u001b[1;32m   1364\u001b[0m     \u001b[0;32mtry\u001b[0m\u001b[0;34m:\u001b[0m\u001b[0;34m\u001b[0m\u001b[0;34m\u001b[0m\u001b[0m\n\u001b[0;32m-> 1365\u001b[0;31m       \u001b[0;32mreturn\u001b[0m \u001b[0mfn\u001b[0m\u001b[0;34m(\u001b[0m\u001b[0;34m*\u001b[0m\u001b[0margs\u001b[0m\u001b[0;34m)\u001b[0m\u001b[0;34m\u001b[0m\u001b[0;34m\u001b[0m\u001b[0m\n\u001b[0m\u001b[1;32m   1366\u001b[0m     \u001b[0;32mexcept\u001b[0m \u001b[0merrors\u001b[0m\u001b[0;34m.\u001b[0m\u001b[0mOpError\u001b[0m \u001b[0;32mas\u001b[0m \u001b[0me\u001b[0m\u001b[0;34m:\u001b[0m\u001b[0;34m\u001b[0m\u001b[0;34m\u001b[0m\u001b[0m\n\u001b[1;32m   1367\u001b[0m       \u001b[0mmessage\u001b[0m \u001b[0;34m=\u001b[0m \u001b[0mcompat\u001b[0m\u001b[0;34m.\u001b[0m\u001b[0mas_text\u001b[0m\u001b[0;34m(\u001b[0m\u001b[0me\u001b[0m\u001b[0;34m.\u001b[0m\u001b[0mmessage\u001b[0m\u001b[0;34m)\u001b[0m\u001b[0;34m\u001b[0m\u001b[0;34m\u001b[0m\u001b[0m\n",
            "\u001b[0;32m/usr/local/lib/python3.6/dist-packages/tensorflow_core/python/client/session.py\u001b[0m in \u001b[0;36m_run_fn\u001b[0;34m(feed_dict, fetch_list, target_list, options, run_metadata)\u001b[0m\n\u001b[1;32m   1346\u001b[0m     \u001b[0;32mdef\u001b[0m \u001b[0m_run_fn\u001b[0m\u001b[0;34m(\u001b[0m\u001b[0mfeed_dict\u001b[0m\u001b[0;34m,\u001b[0m \u001b[0mfetch_list\u001b[0m\u001b[0;34m,\u001b[0m \u001b[0mtarget_list\u001b[0m\u001b[0;34m,\u001b[0m \u001b[0moptions\u001b[0m\u001b[0;34m,\u001b[0m \u001b[0mrun_metadata\u001b[0m\u001b[0;34m)\u001b[0m\u001b[0;34m:\u001b[0m\u001b[0;34m\u001b[0m\u001b[0;34m\u001b[0m\u001b[0m\n\u001b[1;32m   1347\u001b[0m       \u001b[0;31m# Ensure any changes to the graph are reflected in the runtime.\u001b[0m\u001b[0;34m\u001b[0m\u001b[0;34m\u001b[0m\u001b[0;34m\u001b[0m\u001b[0m\n\u001b[0;32m-> 1348\u001b[0;31m       \u001b[0mself\u001b[0m\u001b[0;34m.\u001b[0m\u001b[0m_extend_graph\u001b[0m\u001b[0;34m(\u001b[0m\u001b[0;34m)\u001b[0m\u001b[0;34m\u001b[0m\u001b[0;34m\u001b[0m\u001b[0m\n\u001b[0m\u001b[1;32m   1349\u001b[0m       return self._call_tf_sessionrun(options, feed_dict, fetch_list,\n\u001b[1;32m   1350\u001b[0m                                       target_list, run_metadata)\n",
            "\u001b[0;32m/usr/local/lib/python3.6/dist-packages/tensorflow_core/python/client/session.py\u001b[0m in \u001b[0;36m_extend_graph\u001b[0;34m(self)\u001b[0m\n\u001b[1;32m   1386\u001b[0m   \u001b[0;32mdef\u001b[0m \u001b[0m_extend_graph\u001b[0m\u001b[0;34m(\u001b[0m\u001b[0mself\u001b[0m\u001b[0;34m)\u001b[0m\u001b[0;34m:\u001b[0m\u001b[0;34m\u001b[0m\u001b[0;34m\u001b[0m\u001b[0m\n\u001b[1;32m   1387\u001b[0m     \u001b[0;32mwith\u001b[0m \u001b[0mself\u001b[0m\u001b[0;34m.\u001b[0m\u001b[0m_graph\u001b[0m\u001b[0;34m.\u001b[0m\u001b[0m_session_run_lock\u001b[0m\u001b[0;34m(\u001b[0m\u001b[0;34m)\u001b[0m\u001b[0;34m:\u001b[0m  \u001b[0;31m# pylint: disable=protected-access\u001b[0m\u001b[0;34m\u001b[0m\u001b[0;34m\u001b[0m\u001b[0m\n\u001b[0;32m-> 1388\u001b[0;31m       \u001b[0mtf_session\u001b[0m\u001b[0;34m.\u001b[0m\u001b[0mExtendSession\u001b[0m\u001b[0;34m(\u001b[0m\u001b[0mself\u001b[0m\u001b[0;34m.\u001b[0m\u001b[0m_session\u001b[0m\u001b[0;34m)\u001b[0m\u001b[0;34m\u001b[0m\u001b[0;34m\u001b[0m\u001b[0m\n\u001b[0m\u001b[1;32m   1389\u001b[0m \u001b[0;34m\u001b[0m\u001b[0m\n\u001b[1;32m   1390\u001b[0m   \u001b[0;31m# The threshold to run garbage collection to delete dead tensors.\u001b[0m\u001b[0;34m\u001b[0m\u001b[0;34m\u001b[0m\u001b[0;34m\u001b[0m\u001b[0m\n",
            "\u001b[0;31mKeyboardInterrupt\u001b[0m: "
          ]
        }
      ]
    },
    {
      "cell_type": "markdown",
      "metadata": {
        "id": "qNAAc9oNndlW",
        "colab_type": "text"
      },
      "source": [
        "### Euclidean"
      ]
    },
    {
      "cell_type": "code",
      "metadata": {
        "id": "5k2hm3fFnfGE",
        "colab_type": "code",
        "outputId": "e1925815-1fe7-4c20-b3f1-bdbf263cf17c",
        "colab": {
          "base_uri": "https://localhost:8080/",
          "height": 139
        }
      },
      "source": [
        "import datetime\n",
        "startTime = datetime.datetime.now()\n",
        "\n",
        "cnn = AutoEncoder_AnomalyDetection_ML.from_DataFrame(df_synthetic,30,5,1,0.3, 'euclidean')\n",
        "cnn.fit()\n",
        "# cnn.plot()\n",
        "auc = cnn.get_roc_auc(verbose=False,plot=False)\n",
        "\n",
        "endTime = datetime.datetime.now()\n",
        "diff = endTime - startTime\n",
        "print('Time: ',diff.seconds)"
      ],
      "execution_count": 0,
      "outputs": [
        {
          "output_type": "stream",
          "text": [
            "/usr/local/lib/python3.6/dist-packages/pandas/core/ops/__init__.py:1115: FutureWarning: elementwise comparison failed; returning scalar instead, but in the future will perform elementwise comparison\n",
            "  result = method(y)\n"
          ],
          "name": "stderr"
        },
        {
          "output_type": "stream",
          "text": [
            "Epoch 1/1\n",
            " - 20s - loss: 0.8983 - acc: 0.3422\n",
            "AUC:  0.8726028384122181\n",
            "Time:  34\n"
          ],
          "name": "stdout"
        }
      ]
    },
    {
      "cell_type": "code",
      "metadata": {
        "id": "6LCAuGN0HETp",
        "colab_type": "code",
        "colab": {}
      },
      "source": [
        "import datetime\n",
        "startTime = datetime.datetime.now()\n",
        "\n",
        "cnn = AutoEncoder_AnomalyDetection_ML.from_file('drive/My Drive/MT/Experiments/Multivariate/NASA_Shuttle/40903.csv', None,30,3,1,0.3, 'euclidean')\n",
        "cnn.fit()\n",
        "auc = cnn.get_roc_auc(verbose=False,plot=False)\n",
        "\n",
        "endTime = datetime.datetime.now()\n",
        "diff = endTime - startTime\n",
        "print('Time: ',diff.seconds)"
      ],
      "execution_count": 0,
      "outputs": []
    }
  ]
}